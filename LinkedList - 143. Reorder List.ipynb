{
  "metadata": {
    "kernelspec": {
      "name": "python",
      "display_name": "Python (Pyodide)",
      "language": "python"
    },
    "language_info": {
      "codemirror_mode": {
        "name": "python",
        "version": 3
      },
      "file_extension": ".py",
      "mimetype": "text/x-python",
      "name": "python",
      "nbconvert_exporter": "python",
      "pygments_lexer": "ipython3",
      "version": "3.8"
    }
  },
  "nbformat_minor": 5,
  "nbformat": 4,
  "cells": [
    {
      "cell_type": "markdown",
      "source": "## 143. Reorder List\n\n**Difficulty:** Medium\n\n**Link to Problem:** [To see the Reorder List problem on LeetCode, click here!](https://leetcode.com/problems/reorder-list/)\n\n---\n\nYou are given the head of a singly linked-list. The list can be represented as:\n\n$L_0 → L_1 → … → L_{n - 1} → L_n$\n\nReorder the list to be on the following form:\n\n$L_0 → L_n → L_1 → L_{n - 1} → L_2 → L_{n - 2} → …$\n\nYou may not modify the values in the list's nodes. Only nodes themselves may be changed.\n \n\n#### Constraints:\n\n- The number of nodes in the list is in the range $[1, 5 * 10^4]$.\n- `1 <= Node.val <= 1000`",
      "metadata": {},
      "id": "d6161252-e815-48d5-a2a3-5444c12e3b49"
    },
    {
      "cell_type": "code",
      "source": "class ListNode:\n    def __init__(self, val=0, next=None):\n        self.val = val\n        self.next = next\n\ndef reorderList(head):\n    if not head or not head.next:\n        return head\n\n    # Step 1: Find the middle of the linked list\n    slow, fast = head, head\n    while fast.next and fast.next.next:\n        slow = slow.next\n        fast = fast.next.next\n\n    # Split the list into two halves\n    first_half = head\n    second_half = slow.next\n    slow.next = None\n\n    # Step 2: Reverse the second half of the linked list\n    prev = None\n    current = second_half\n    while current:\n        next_node = current.next\n        current.next = prev\n        prev = current\n        current = next_node\n    second_half = prev\n\n    # Step 3: Merge the first and reversed second halves alternately\n    p1, p2 = first_half, second_half\n    while p2:\n        next_p1 = p1.next\n        next_p2 = p2.next\n        p1.next = p2\n        p2.next = next_p1\n        p1 = next_p1\n        p2 = next_p2\n\n    return head",
      "metadata": {
        "trusted": true
      },
      "execution_count": 28,
      "outputs": [],
      "id": "aabf7095-07dc-4ab7-876c-ec7213ed0de5"
    },
    {
      "cell_type": "markdown",
      "source": "### Explanation:\n\nThe `reorderList` function is designed to reorder a singly linked list following the specific pattern described in the problem statement. Here's a detailed explanation of how the function works:\n\n1. **Base Cases Handling**:\n   - The function first checks if the input linked list is empty (`not head`) or contains only one element (`not head.next`). If either of these conditions is met, the list cannot be reordered, so the function returns the original list as-is.\n\n2. **Finding the Middle of the Linked List**:\n   - To reorder the list, we first need to find the middle point so that we can split the list into two halves. This is done using two pointers, `slow` and `fast`, initialized to the head of the list.\n   - `slow` moves one step at a time while `fast` moves two steps at a time. When `fast` reaches the end of the list or the second-to-last node, `slow` will be at the middle node.\n\n3. **Splitting the List**:\n   - After finding the middle node, we split the list into two halves:\n     - The first half, `first_half`, contains nodes from the beginning up to the middle.\n     - The second half, `second_half`, contains nodes from the middle to the end.\n   - To split the list, we set the `next` pointer of the node before the middle node to `None`.\n\n4. **Reversing the Second Half**:\n   - We reverse the second half of the linked list using the `prev`, `current`, and `next_node` pointers.\n   - `prev` is initially `None`, and we iterate through the second half. For each node, we:\n     - Set the `next` of the current node to `prev`, effectively reversing the next pointer direction.\n     - Update `prev` to the current node.\n     - Move to the next node using the `next_node`.\n\n5. **Merging the Two Halves Alternately**:\n   - We now have two linked lists: `first_half` and the reversed `second_half`.\n   - We merge these two lists alternately by adjusting the `next` pointers of the nodes.\n   - `p1` and `p2` are pointers to the current nodes in `first_half` and `second_half`, respectively.\n   - We iterate through both lists while reordering nodes:\n     - Set the `next` of `p1` to `p2` to link a node from the first half to a node from the reversed second half.\n     - Update `p1` and `p2` to their respective next nodes.\n     - Repeat this process until we have processed all nodes in both halves.\n\n6. **Returning the Reordered List**:\n   - After the merging process is complete, the linked list is reordered as specified.\n   - The function returns the `head` of the reordered list.\n\nThe overall result is a singly linked list that has been reordered according to the given pattern. The time complexity of this algorithm is O(N), where N is the number of nodes in the linked list, as we traverse the list once to find the middle, once to reverse the second half, and once to merge the two halves.",
      "metadata": {},
      "id": "ece39324-cd9e-47d7-8677-a001878494d9"
    },
    {
      "cell_type": "code",
      "source": "# Helper function to print the linked list\ndef printLinkedList(head):\n    result = []\n    while head:\n        result.append(head.val)\n        head = head.next\n    return result",
      "metadata": {
        "trusted": true
      },
      "execution_count": 29,
      "outputs": [],
      "id": "01849ced-1bbf-4956-8e54-451b358cb4fe"
    },
    {
      "cell_type": "markdown",
      "source": "Let's explain the helper functions:\n**printLinkedList Function**:\n   - The `printLinkedList` function takes the `head` of a linked list as input and returns a list of values representing the nodes in the linked list.\n   - Inside the function, a `result` list is initialized to store the values of the linked list nodes.\n   - The function then iterates through the linked list starting from the `head` node and appends the `val` attribute of each node to the `result` list.\n   - As it iterates through the list, it moves to the next node using the `next` attribute of each node.\n   - Finally, the function returns the `result` list containing the values of the linked list nodes in the order they appear in the linked list.\n\n   This function is useful for debugging and displaying the contents of a linked list. It allows you to easily convert a linked list into a regular Python list for visualization and testing purposes.",
      "metadata": {},
      "id": "f7490d01-d64e-4f20-b178-e14490d6dd6f"
    },
    {
      "cell_type": "markdown",
      "source": "## Test cases",
      "metadata": {},
      "id": "a54ea5b7-c53f-46c0-a44f-ef769ac68244"
    },
    {
      "cell_type": "code",
      "source": "# Example 1\nhead1 = ListNode(1, ListNode(2, ListNode(3, ListNode(4))))\nreorderList(head1)\nprint(printLinkedList(head1))",
      "metadata": {
        "trusted": true
      },
      "execution_count": 30,
      "outputs": [
        {
          "name": "stdout",
          "text": "[1, 4, 2, 3]\n",
          "output_type": "stream"
        }
      ],
      "id": "355f5bfd-94e1-4c5b-9914-cc20775f4160"
    },
    {
      "cell_type": "code",
      "source": "# Example 2\nhead2 = ListNode(1, ListNode(2, ListNode(3, ListNode(4, ListNode(5)))))\nreorderList(head2)\nprint(printLinkedList(head2))",
      "metadata": {
        "trusted": true
      },
      "execution_count": 31,
      "outputs": [
        {
          "name": "stdout",
          "text": "[1, 5, 2, 4, 3]\n",
          "output_type": "stream"
        }
      ],
      "id": "192912fb-9d12-4911-9a4f-bfd37043e11d"
    },
    {
      "cell_type": "markdown",
      "source": "Let's analyze the time and space complexity of the `reorderList` function:\n\n**Time Complexity**:\n1. **Finding the Middle of the Linked List**: In this step, we use two pointers, one moving one step at a time (`slow`) and the other moving two steps at a time (`fast`). This process takes $O(N/2)$ time, where $N$ is the number of nodes in the linked list.\n\n2. **Splitting the List**: After finding the middle, we split the list into two halves by setting the `next` pointer of the node before the middle node to `None`. This step takes $O(1)$ time.\n\n3. **Reversing the Second Half**: We reverse the second half of the linked list using a while loop that iterates through the second half of the list once. Therefore, this step also takes $O(N/2)$ time.\n\n4. **Merging the Two Halves Alternately**: In this step, we merge the two halves alternately by adjusting the `next` pointers of the nodes. We iterate through both halves once, so this step takes $O(N/2)$ time.\n\nOverall, the time complexity of the `reorderList` function is dominated by the steps involving reversing and merging the two halves, both of which take $O(N/2)$ time. Therefore, the total time complexity is $O(N)$.\n\n**Space Complexity**:\nThe space complexity of the `reorderList` function is primarily determined by the variables and data structures used within the function. Let's break down the space complexity components:\n\n1. **Constant Space Variables**: The variables `slow`, `fast`, `prev`, `current`, `next_node`, `p1`, and `p2` are used to traverse and manipulate the linked list. These variables occupy constant space, regardless of the input size. Therefore, they contribute $O(1)$ to the space complexity.\n\n2. **Split Linked Lists**: In the splitting step, we create two new linked list segments (`first_half` and `second_half`) that store references to nodes from the original linked list. These segments occupy space proportional to half of the input list, $O(N/2)$. \n\n3. **Reversed Second Half**: During the reversal step, we reverse the second half of the linked list in-place without creating any additional data structures. Therefore, it doesn't contribute to additional space complexity.\n\n4. **Overall**: Combining the above components, the total space complexity is $O(N/2)$, which simplifies to $O(N)$ in terms of space complexity.\n\n**In summary**, the `reorderList` function has a time complexity of $O(N)$ and a space complexity of $O(N)$ due to the creation of two new linked list segments while splitting the list. The constant space variables used for traversal do not significantly impact the overall space complexity.",
      "metadata": {},
      "id": "7d9dd448-c5f5-4192-8aa5-7c70ec7f42e2"
    }
  ]
}