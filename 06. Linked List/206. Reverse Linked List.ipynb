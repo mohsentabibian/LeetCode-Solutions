{
  "metadata": {
    "kernelspec": {
      "name": "python",
      "display_name": "Python (Pyodide)",
      "language": "python"
    },
    "language_info": {
      "codemirror_mode": {
        "name": "python",
        "version": 3
      },
      "file_extension": ".py",
      "mimetype": "text/x-python",
      "name": "python",
      "nbconvert_exporter": "python",
      "pygments_lexer": "ipython3",
      "version": "3.8"
    }
  },
  "nbformat_minor": 5,
  "nbformat": 4,
  "cells": [
    {
      "cell_type": "markdown",
      "source": "## 206. Reverse Linked List\n\n**Difficulty:** Easy\n\n**Link to Problem:** [To see the Reverse Linked List problem on LeetCode, click here!](https://leetcode.com/problems/reverse-linked-list/)\n\n---\n\nGiven the `head` of a singly linked list, reverse the list, and return the reversed list.\n \n\n#### Constraints:\n\n- The number of nodes in the list is the range `[0, 5000]`.\n- `-5000 <= Node.val <= 5000`\n\n**Follow up:** A linked list can be reversed either iteratively or recursively. Could you implement both?",
      "metadata": {},
      "id": "d6161252-e815-48d5-a2a3-5444c12e3b49"
    },
    {
      "cell_type": "code",
      "source": "# Definition for singly-linked list.\nclass ListNode:\n    def __init__(self, val=0, next=None):\n        self.val = val\n        self.next = next\n\n# Function to reverse a linked list iteratively\ndef reverseListIterative(head):\n    prev = None\n    current = head\n    \n    while current:\n        next_node = current.next\n        current.next = prev\n        prev = current\n        current = next_node\n    \n    return prev\n\n# Function to reverse a linked list recursively\ndef reverseListRecursive(head):\n    if not head or not head.next:\n        return head\n\n    new_head = reverseListRecursive(head.next)\n    head.next.next = head\n    head.next = None\n\n    return new_head",
      "metadata": {
        "trusted": true
      },
      "execution_count": 33,
      "outputs": [],
      "id": "aabf7095-07dc-4ab7-876c-ec7213ed0de5"
    },
    {
      "cell_type": "markdown",
      "source": "### Explanation:\n\n1. `reverseListIterative(head)`: This function reverses a linked list iteratively using a loop. Here's a step-by-step explanation:\n\n   - It takes the `head` of the input linked list as a parameter.\n   - It initializes two pointers, `prev` and `current`, initially set to `None` and the `head` of the list, respectively.\n   - It enters a `while` loop that continues until `current` reaches the end of the list (i.e., becomes `None`).\n   - Inside the loop:\n     - It stores the `next_node` which is the next node after `current`.\n     - It updates the `next` pointer of `current` to point to the `prev` node. This effectively reverses the link direction.\n     - It moves `prev` to `current` and `current` to `next_node`, advancing the pointers one step further in the list.\n   - Once the loop completes, `prev` will be pointing to the new head of the reversed list (which was the last node of the original list), so it returns `prev`.\n\n2. `reverseListRecursive(head)`: This function reverses a linked list recursively. Here's how it works:\n\n   - It takes the `head` of the input linked list as a parameter.\n   - The base case is checked: if `head` is `None` or `head.next` is `None`, meaning the list is empty or has only one node, it returns `head` as there's no need to reverse a list with zero or one element.\n   - In the recursive case:\n     - It calls itself with `head.next`, effectively moving down the list until it reaches the end.\n     - Once it reaches the end, it starts reversing the links:\n       - `head.next.next` is set to `head`, reversing the link between `head` and the next node.\n       - `head.next` is set to `None` to avoid cycles.\n   - Finally, it returns the new head of the reversed list, which will be the last node of the original list.\n\n**In summary,** `reverseListIterative` reverses the linked list by iterating through it and changing the next pointers, while `reverseListRecursive` reverses the linked list by recursively reaching the end and then reversing the links on the way back up the recursion stack. Both functions achieve the same result: reversing the linked list.",
      "metadata": {},
      "id": "ece39324-cd9e-47d7-8677-a001878494d9"
    },
    {
      "cell_type": "code",
      "source": "# Helper function to create a linked list from a list of values\ndef createLinkedList(values):\n    if not values:\n        return None\n    head = ListNode(values[0])\n    current = head\n    for val in values[1:]:\n        current.next = ListNode(val)\n        current = current.next\n    return head\n\n# Helper function to convert a linked list to a list for testing\ndef linkedListToList(head):\n    result = []\n    current = head\n    while current:\n        result.append(current.val)\n        current = current.next\n    return result\n\n",
      "metadata": {
        "trusted": true
      },
      "execution_count": 36,
      "outputs": [],
      "id": "01849ced-1bbf-4956-8e54-451b358cb4fe"
    },
    {
      "cell_type": "markdown",
      "source": "Let's explain the two helper functions used in the provided code:\n\n1. `createLinkedList(values)`:\n\n   - Purpose: This function is used to create a linked list from a list of values. It takes a list of values as input and returns the head of the linked list.\n\n   - How it works:\n     - It first checks if the input list `values` is empty. If it's empty, it returns `None` to indicate an empty linked list.\n     - If `values` is not empty, it initializes a `head` node with the value of the first element in `values`.\n     - It then iterates through the remaining values in `values`, creating new nodes for each value and linking them together to form a linked list.\n     - Finally, it returns the `head` node of the newly created linked list.\n\n2. `linkedListToList(head)`:\n\n   - Purpose: This function is used to convert a linked list back into a Python list for testing and output purposes.\n\n   - How it works:\n     - It takes the `head` of the linked list as input.\n     - It initializes an empty list called `result`.\n     - It then iterates through the linked list, starting from `head`, and appends each node's `val` (value) to the `result` list.\n     - This process continues until the end of the linked list is reached.\n     - Finally, it returns the `result` list, which contains the values from the linked list in the same order.\n\nThese helper functions are used to simplify the process of creating linked lists from lists of values and converting linked lists back into lists, making it easier to work with linked lists in the provided examples and test cases.",
      "metadata": {},
      "id": "f7490d01-d64e-4f20-b178-e14490d6dd6f"
    },
    {
      "cell_type": "markdown",
      "source": "## Test cases",
      "metadata": {},
      "id": "a54ea5b7-c53f-46c0-a44f-ef769ac68244"
    },
    {
      "cell_type": "code",
      "source": "# Example 1: Iterative\nhead1 = [1,2,3,4,5]\nhead1 = createLinkedList(head1)\nreversed_head1 = reverseListIterative(head1)\nprint(linkedListToList(reversed_head1))",
      "metadata": {
        "trusted": true
      },
      "execution_count": 35,
      "outputs": [
        {
          "execution_count": 35,
          "output_type": "execute_result",
          "data": {
            "text/plain": "[1, 1, 2, 3, 4, 4]"
          },
          "metadata": {}
        }
      ],
      "id": "355f5bfd-94e1-4c5b-9914-cc20775f4160"
    },
    {
      "cell_type": "code",
      "source": "# Example 2: Recursive\nhead2 = [1,2]\nhead2 = createLinkedList(head2)\nreversed_head2 = reverseListRecursive(head2)\nprint(linkedListToList(reversed_head2))",
      "metadata": {
        "trusted": true
      },
      "execution_count": 31,
      "outputs": [
        {
          "execution_count": 37,
          "output_type": "execute_result",
          "data": {
            "text/plain": "[]"
          },
          "metadata": {}
        }
      ],
      "id": "192912fb-9d12-4911-9a4f-bfd37043e11d"
    },
    {
      "cell_type": "code",
      "source": "# Example 3: Empty list\nhead3 = []\nhead3 = createLinkedList(head3)\nreversed_head3 = reverseListIterative(head3)\nprint(linkedListToList(reversed_head3))",
      "metadata": {
        "trusted": true
      },
      "execution_count": 38,
      "outputs": [
        {
          "execution_count": 38,
          "output_type": "execute_result",
          "data": {
            "text/plain": "[0]"
          },
          "metadata": {}
        }
      ],
      "id": "6c69a707-02af-4212-b2e7-1881d62a62d2"
    },
    {
      "cell_type": "markdown",
      "source": "Let's analyze the time and space complexity of the two functions:\n\n1. `reverseListIterative(head)`:\n\n   - Time Complexity: $O(n)$\n     - The iterative function visits each node in the linked list exactly once in a single pass, where \"$n$\" is the number of nodes in the list. Therefore, the time complexity is linear in the number of nodes.\n\n   - Space Complexity: $O(1)$\n     - This function uses a constant amount of extra space for the `prev`, `current`, and `next_node` pointers. Regardless of the size of the input list, the amount of additional memory used remains the same, so the space complexity is constant.\n\n2. `reverseListRecursive(head)`:\n\n   - Time Complexity: $O(n)$\n     - The recursive function also visits each node in the linked list exactly once. It recursively traverses the list from the head to the tail, reversing the links on the way back. Therefore, like the iterative approach, the time complexity is $O(n)$, where \"$n$\" is the number of nodes.\n\n   - Space Complexity: $O(n)$\n     - The recursive function uses space on the call stack for each recursive call. In the worst case, when the list has \"$n$\" nodes, it will create \"$n$\" recursive function calls on the stack, resulting in a space complexity of $O(n)$. This is because each function call stores information about its state, including the `head` pointer, until it reaches the base case and starts returning.\n\n**In summary:**\n\n- The time complexity of both functions is $O(n)$ because they both visit each node once.\n- The space complexity of `reverseListIterative` is $O(1)$ because it uses a constant amount of extra space.\n- The space complexity of `reverseListRecursive` is $O(n)$ due to the recursive function calls and the associated call stack space.\n\nBoth functions are efficient in terms of time complexity, but `reverseListIterative` is more memory-efficient because it uses a constant amount of additional space, while `reverseListRecursive` uses space on the call stack proportional to the number of nodes in the list.",
      "metadata": {},
      "id": "7d9dd448-c5f5-4192-8aa5-7c70ec7f42e2"
    },
    {
      "cell_type": "markdown",
      "source": "### Challenging Exercises:\n\n1. **K-Group Reverse:** Modify the reverseListIterative function to reverse the linked list in groups of $K$ elements. For example, if the input linked list is [1, 2, 3, 4, 5, 6], and $K$ is 3, the output should be [3, 2, 1, 6, 5, 4].\n\n2. **Rotate Linked List:** Write a function to rotate a linked list to the right by $K$ places. For example, if the input is [1, 2, 3, 4, 5] and $K$ is 2, the output should be [4, 5, 1, 2, 3].",
      "metadata": {},
      "id": "037b210a-555b-4da3-8130-b74d1e4f33f6"
    }
  ]
}