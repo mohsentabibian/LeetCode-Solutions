{
  "cells": [
    {
      "cell_type": "markdown",
      "id": "d6161252-e815-48d5-a2a3-5444c12e3b49",
      "metadata": {},
      "source": [
        "# 23. Merge k Sorted Lists\n",
        "\n",
        "**Difficulty:** Hard\n",
        "\n",
        "**Link to Problem:** [To see the Merge k Sorted Lists problem on LeetCode, click here!](https://leetcode.com/problems/merge-k-sorted-lists/)\n",
        "\n",
        "---\n",
        "\n",
        "You are given an array of $k$ linked-lists lists, each linked-list is sorted in ascending order.\n",
        "\n",
        "Merge all the linked-lists into one sorted linked-list and return it.\n",
        "\n",
        "**Constraints:**\n",
        "\n",
        "- `k == lists.length`\n",
        "- 0 <= k <= $10^4$\n",
        "- `0 <= lists[i].length <= 500`\n",
        "- $-10^4$ <= lists[i][j] <= $10^4$\n",
        "- `lists[i]` is sorted in ascending order.\n",
        "- The sum of `lists[i].length` will not exceed $10^4$.\n",
        "\n"
      ]
    },
    {
      "cell_type": "code",
      "execution_count": 2,
      "id": "aabf7095-07dc-4ab7-876c-ec7213ed0de5",
      "metadata": {
        "trusted": true
      },
      "outputs": [],
      "source": [
        "# Definition for singly-linked list.\n",
        "class ListNode:\n",
        "     def __init__(self, val=0, next=None):\n",
        "         self.val = val\n",
        "         self.next = next\n",
        "\n",
        "class Solution:\n",
        "    def mergeKLists(self, lists: [[ListNode]]) -> ListNode:\n",
        "        # Check if the input list of linked lists is empty\n",
        "        if not lists or len(lists) == 0:\n",
        "            return None\n",
        "\n",
        "        # Loop until there is only one merged list left\n",
        "        while len(lists) > 1:\n",
        "            mergedLists = []\n",
        "\n",
        "            # Merge pairs of lists\n",
        "            for i in range(0, len(lists), 2):\n",
        "                l1 = lists[i]\n",
        "                l2 = lists[i + 1] if (i + 1) < len(lists) else None\n",
        "                mergedLists.append(self.mergeList(l1, l2))\n",
        "\n",
        "            # Update the list of lists with merged results\n",
        "            lists = mergedLists\n",
        "        \n",
        "        # Return the final merged list\n",
        "        return lists[0]\n",
        "\n",
        "    def mergeList(self, l1, l2):\n",
        "        # Create a dummy node to simplify merging\n",
        "        dummy = ListNode()\n",
        "        tail = dummy\n",
        "\n",
        "        # Merge the two sorted lists\n",
        "        while l1 and l2:\n",
        "            if l1.val < l2.val:\n",
        "                tail.next = l1\n",
        "                l1 = l1.next\n",
        "            else:\n",
        "                tail.next = l2\n",
        "                l2 = l2.next\n",
        "            tail = tail.next\n",
        "\n",
        "        # Append any remaining elements from l1 or l2 (if any)\n",
        "        if l1:\n",
        "            tail.next = l1\n",
        "        if l2:\n",
        "            tail.next = l2\n",
        "\n",
        "        # Return the merged result starting from the next of the dummy node\n",
        "        return dummy.next\n"
      ]
    },
    {
      "cell_type": "markdown",
      "id": "ece39324-cd9e-47d7-8677-a001878494d9",
      "metadata": {},
      "source": [
        "## Explanation:\n",
        "\n",
        "The provided code defines a Python class `Solution` with two methods for merging k sorted linked lists:\n",
        "\n",
        "1. `mergeKLists(self, lists: List[ListNode]) -> ListNode`: This method takes a list of k sorted linked lists as input and returns a single merged sorted linked list. It uses a divide-and-conquer approach to repeatedly merge pairs of lists until only one merged list remains.\n",
        "\n",
        "2. `mergeList(self, l1, l2)`: This method takes two sorted linked lists, `l1` and `l2`, as input and merges them into a single sorted linked list. It uses a dummy node to simplify the merging process.\n",
        "\n",
        "Here's a high-level overview of how the code works:\n",
        "\n",
        "- The `mergeKLists` method checks if the input list of linked lists is empty or contains no lists. If there are no lists, it returns `None`.\n",
        "\n",
        "- Inside a `while` loop, the code repeatedly merges pairs of linked lists until only one merged list remains in the `lists` array. It does this by iterating through the input lists in pairs and calling the `mergeList` method to merge each pair.\n",
        "\n",
        "- The `mergeList` method takes two sorted linked lists, `l1` and `l2`, and merges them into a single sorted linked list. It uses a dummy node (`dummy`) and a `tail` pointer to keep track of the merged list while comparing and merging elements from `l1` and `l2`.\n",
        "\n",
        "- After merging all pairs of lists and updating the `lists` array with the merged results, the loop continues until only one merged list remains in the `lists` array.\n",
        "\n",
        "- Finally, the `mergeKLists` method returns the merged list.\n",
        "\n",
        "Overall, this code efficiently merges k sorted linked lists using a divide-and-conquer strategy, resulting in a single merged sorted linked list as the output."
      ]
    },
    {
      "cell_type": "markdown",
      "id": "a54ea5b7-c53f-46c0-a44f-ef769ac68244",
      "metadata": {},
      "source": [
        "## Test cases"
      ]
    },
    {
      "cell_type": "code",
      "execution_count": 11,
      "id": "355f5bfd-94e1-4c5b-9914-cc20775f4160",
      "metadata": {
        "trusted": true
      },
      "outputs": [
        {
          "name": "stdout",
          "output_type": "stream",
          "text": [
            "1 -> 1 -> 2 -> 3 -> 4 -> 4 -> 5 -> 6 -> "
          ]
        }
      ],
      "source": [
        "### Example 1\n",
        "# Input: lists = [[1,4,5],[1,3,4],[2,6]]\n",
        "\n",
        "lists1 = [\n",
        "    ListNode(1, ListNode(4, ListNode(5))),\n",
        "    ListNode(1, ListNode(3, ListNode(4))),\n",
        "    ListNode(2, ListNode(6))\n",
        "]\n",
        "solution = Solution()\n",
        "result1 = solution.mergeKLists(lists1)\n",
        "\n",
        "# Print the result\n",
        "if result1:\n",
        "    current = result1\n",
        "    while current:\n",
        "        print(current.val, end=\" -> \")\n",
        "        current = current.next\n",
        "else:\n",
        "    print(\"None\")  # Print \"None\" for input with a single None element"
      ]
    },
    {
      "cell_type": "code",
      "execution_count": 12,
      "id": "192912fb-9d12-4911-9a4f-bfd37043e11d",
      "metadata": {
        "trusted": true
      },
      "outputs": [
        {
          "name": "stdout",
          "output_type": "stream",
          "text": [
            "None\n"
          ]
        }
      ],
      "source": [
        "### Example 2\n",
        "# Input: lists = []\n",
        "\n",
        "lists2 = []\n",
        "solution = Solution()\n",
        "result2 = solution.mergeKLists(lists2)\n",
        "\n",
        "# Print the result\n",
        "if result2:\n",
        "    current = result2\n",
        "    while current:\n",
        "        print(current.val, end=\" -> \")\n",
        "        current = current.next\n",
        "else:\n",
        "    print(\"None\")  # Print \"None\" for input with a single None element"
      ]
    },
    {
      "cell_type": "code",
      "execution_count": 13,
      "id": "e140b956-7b3d-40d5-b6b0-9615860af67e",
      "metadata": {
        "trusted": true
      },
      "outputs": [
        {
          "name": "stdout",
          "output_type": "stream",
          "text": [
            "None\n"
          ]
        }
      ],
      "source": [
        "### Example 3\n",
        "# Input: lists = [[]]\n",
        "\n",
        "lists3 = [None]\n",
        "solution = Solution()\n",
        "result3 = solution.mergeKLists(lists3)\n",
        "\n",
        "# Print the result\n",
        "if result3:\n",
        "    current = result3\n",
        "    while current:\n",
        "        print(current.val, end=\" -> \")\n",
        "        current = current.next\n",
        "else:\n",
        "    print(\"None\")  # Print \"None\" for input with a single None element"
      ]
    },
    {
      "cell_type": "markdown",
      "id": "7d9dd448-c5f5-4192-8aa5-7c70ec7f42e2",
      "metadata": {},
      "source": [
        "Let's analyze the time and space complexity of the provided code:\n",
        "\n",
        "**Time Complexity:**\n",
        "\n",
        "1. **Heap Initialization:** The code does not use a heap. Instead, it uses a divide-and-conquer approach. The initial check for empty input lists takes $O(1)$ time.\n",
        "\n",
        "2. **Merging:** The merging operation is performed in a divide-and-conquer fashion. In each iteration of the `while` loop, we merge pairs of linked lists, and the number of comparisons made is proportional to the total number of nodes across all the linked lists ($n$). In each merge step, we effectively process each node once. The number of iterations required to reduce k lists to 1 is $O(log\\ k)$.\n",
        "\n",
        "   Therefore, the overall time complexity of the code is $O(n * log\\ k)$, where n is the total number of nodes across all lists, and $k$ is the number of linked lists.\n",
        "\n",
        "**Space Complexity:**\n",
        "\n",
        "1. **Heap Space:** The code doesn't use a heap data structure, so there's no additional space complexity due to a heap.\n",
        "\n",
        "2. **Merged Lists:** In the `mergeList` method, we create a new merged list. However, this list is not stored in memory for all lists; it's replaced with each merged pair. The space used for these merged lists is proportional to the size of the largest merged list, which is $O(n)$ in the worst case.\n",
        "\n",
        "3. **Additional Variables:** The code uses a few additional variables, such as `dummy` and `tail`, but these occupy a constant amount of space and don't depend on the input size.\n",
        "\n",
        "   Therefore, the overall space complexity of the code is $O(n)$, where n is the total number of nodes across all lists.\n",
        "\n",
        "In summary, the code's time complexity is $O(n * log(k))$, and its space complexity is $O(n)$. This code efficiently merges $k$ sorted linked lists using a divide-and-conquer approach with a relatively low space overhead."
      ]
    }
  ],
  "metadata": {
    "kernelspec": {
      "display_name": "Python (Pyodide)",
      "language": "python",
      "name": "python"
    },
    "language_info": {
      "codemirror_mode": {
        "name": "python",
        "version": 3
      },
      "file_extension": ".py",
      "mimetype": "text/x-python",
      "name": "python",
      "nbconvert_exporter": "python",
      "pygments_lexer": "ipython3",
      "version": "3.8"
    }
  },
  "nbformat": 4,
  "nbformat_minor": 5
}
