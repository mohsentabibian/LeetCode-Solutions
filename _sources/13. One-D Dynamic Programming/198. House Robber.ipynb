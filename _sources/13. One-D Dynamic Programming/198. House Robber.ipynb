{
  "metadata": {
    "kernelspec": {
      "name": "python",
      "display_name": "Python (Pyodide)",
      "language": "python"
    },
    "language_info": {
      "codemirror_mode": {
        "name": "python",
        "version": 3
      },
      "file_extension": ".py",
      "mimetype": "text/x-python",
      "name": "python",
      "nbconvert_exporter": "python",
      "pygments_lexer": "ipython3",
      "version": "3.8"
    }
  },
  "nbformat_minor": 5,
  "nbformat": 4,
  "cells": [
    {
      "cell_type": "markdown",
      "source": "# House Robber\n**Difficulty:** Medium\n\n---\nYou are a professional robber planning to rob houses along a street. Each house has a certain amount of money stashed, the only constraint stopping you from robbing each of them is that adjacent houses have security systems connected and **it will automatically contact the police if two adjacent houses were broken into on the same night.**\n\nGiven an integer array `nums` representing the amount of money of each house, return *the maximum amount of money you can rob tonight **without alerting the police**.*\n\n**Constraints:**\n- `1 <= nums.length <= 100`\n- `0 <= nums[i] <= 400`",
      "metadata": {},
      "id": "d6161252-e815-48d5-a2a3-5444c12e3b49"
    },
    {
      "cell_type": "markdown",
      "source": "## Probelm Explanation:\n\nThe problem is a classic dynamic programming challenge known as the \"House Robber\" problem. The scenario is that you are a professional robber planning to rob houses along a street. Each house has a certain amount of money stashed, but the constraint is that adjacent houses have security systems connected. If two adjacent houses are broken into on the same night, the security systems will automatically contact the police.\n\nThe goal is to determine the maximum amount of money you can rob tonight without alerting the police. You need to find a strategy to maximize your earnings while avoiding robbing two adjacent houses.\n\nThe input to the problem is an array `nums`, where `nums[i]` represents the amount of money in the `i`-th house. The task is to return the maximum amount of money that can be robbed without triggering the security system.\n\nFor example:\n```\nInput: nums = [1,2,3,1]\nOutput: 4\nExplanation: Rob house 1 (money = 1) and then rob house 3 (money = 3).\nTotal amount you can rob = 1 + 3 = 4.\n\nInput: nums = [2,7,9,3,1]\nOutput: 12\nExplanation: Rob house 1 (money = 2), rob house 3 (money = 9), and rob house 5 (money = 1).\nTotal amount you can rob = 2 + 9 + 1 = 12.\n```\n\nThe challenge involves designing an algorithm to efficiently solve this problem and find the optimal strategy for robbing houses to maximize the stolen money while adhering to the constraint of not robbing adjacent houses. The provided solution utilizes dynamic programming to achieve this.\n\n## Solution:\nHere's a Python function to implement this algorithm:",
      "metadata": {},
      "id": "fe9e71ae-2099-4eb9-b7a1-ec795ce92c76"
    },
    {
      "cell_type": "code",
      "source": "from typing import List\n\nclass Solution:\n    def rob(self, nums: List[int]) -> int:\n        # Initialize variables to keep track of the maximum amount of money robbed at the previous and current houses\n        prev, curr = 0, 0\n\n        # Iterate through the houses\n        for n in nums:\n            # Calculate the maximum amount of money that can be robbed at the current house\n            # It is the maximum of either robbing the current house and the money robbed at the house before the previous one (prev),\n            # or skipping the current house and taking the maximum amount from the previous house (curr)\n            temp = max(n + prev, curr)\n\n            # Update the variables for the next iteration\n            prev, curr = curr, temp\n\n        # The final result is the maximum amount of money that can be robbed at the last house\n        return curr",
      "metadata": {
        "trusted": true
      },
      "execution_count": 4,
      "outputs": [],
      "id": "aabf7095-07dc-4ab7-876c-ec7213ed0de5"
    },
    {
      "cell_type": "markdown",
      "source": "## Explanation:\n\nThe provided code is a Python implementation of the \"House Robber\" problem using a dynamic programming approach. It's part of a class `Solution` and includes a method `rob` that takes a list of integers `nums` as input and returns the maximum amount of money that can be robbed without alerting the police.\n\nThe key idea of the algorithm is to maintain two variables, `prev` and `curr`, which represent the maximum amount of money that can be robbed up to the previous house and the current house, respectively. The algorithm iterates through the houses, updating these variables based on the maximum amount that can be robbed at the current house, considering the constraint of not robbing adjacent houses.\n\nThe loop calculates a temporary variable `temp` that represents the maximum amount of money that can be robbed at the current house. It considers two scenarios: either robbing the current house and adding the money robbed at the house before the previous one (`n + prev`), or skipping the current house and taking the maximum amount from the previous house (`curr`). The maximum of these two scenarios is assigned to `temp`.\n\nThe `prev` and `curr` variables are then updated for the next iteration. `prev` is set to the previous value of `curr`, and `curr` is set to the calculated `temp`.\n\nThe final result is the value stored in the `curr` variable, representing the maximum amount of money that can be robbed at the last house. This value is returned as the result of the `rob` method.\n\nThe provided test cases at the end demonstrate the usage of the `rob` method with different input arrays.",
      "metadata": {},
      "id": "ece39324-cd9e-47d7-8677-a001878494d9"
    },
    {
      "cell_type": "markdown",
      "source": "## Test cases:\n\nHere's how you can use this solution:",
      "metadata": {},
      "id": "a54ea5b7-c53f-46c0-a44f-ef769ac68244"
    },
    {
      "cell_type": "code",
      "source": "# Example 1:\nsol = Solution()\n\nnums1 = [1, 2, 3, 1]\nprint(sol.rob(nums1))  # Output: 4",
      "metadata": {
        "trusted": true
      },
      "execution_count": 5,
      "outputs": [
        {
          "name": "stdout",
          "text": "4\n",
          "output_type": "stream"
        }
      ],
      "id": "f12c5a63-b811-4be7-83c2-34ee396b546c"
    },
    {
      "cell_type": "code",
      "source": "# Example 2:\nnums2 = [2, 7, 9, 3, 1]\nprint(sol.rob(nums2))  # Output: 12",
      "metadata": {
        "trusted": true
      },
      "execution_count": 6,
      "outputs": [
        {
          "name": "stdout",
          "text": "12\n",
          "output_type": "stream"
        }
      ],
      "id": "364aa061-a452-45eb-96db-36f7dbdbdcb3"
    },
    {
      "cell_type": "markdown",
      "source": "## Time and Space Complexity Analysis\n\nLet's analyze the time and space complexity of the provided code.\n\n### Time Complexity:\n\nThe time complexity of the code is O(n), where n is the number of houses. The algorithm iterates through the array once, and in each iteration, it performs constant time operations. The loop runs for each house, and the number of operations inside the loop is independent of the input size. Therefore, the overall time complexity is linear, O(n).\n\n### Space Complexity:\n\nThe space complexity is O(1), constant space. The algorithm uses only a constant amount of extra space regardless of the input size. The variables `prev`, `curr`, and `temp` are the only additional variables used, and they do not depend on the size of the input array. Thus, the space complexity is constant, O(1).\n\nIn summary:\n- Time Complexity: O(n)\n- Space Complexity: O(1)",
      "metadata": {},
      "id": "7d9dd448-c5f5-4192-8aa5-7c70ec7f42e2"
    },
    {
      "cell_type": "markdown",
      "source": "## Challenging Exercises:\n\n1. **Variation with Maximum Number of Houses to Rob:** Modify the problem to include an additional constraint: you are allowed to rob at most 'k' houses without triggering the alarm. Find the maximum amount you can rob under this new constraint.\n\n2. **Robbing in a Circular Street:** Extend the problem to a circular street where the first and last houses are adjacent. You cannot rob both the first and last houses simultaneously. Find the maximum amount you can rob in this circular setting.\n\n\n**Link to Problem:** [To see the House Robber problem on LeetCode, click here!](https://leetcode.com/problems/house-robber/description/)\n",
      "metadata": {},
      "id": "037b210a-555b-4da3-8130-b74d1e4f33f6"
    }
  ]
}