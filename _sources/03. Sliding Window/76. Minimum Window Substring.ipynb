{
  "cells": [
    {
      "cell_type": "markdown",
      "id": "d6161252-e815-48d5-a2a3-5444c12e3b49",
      "metadata": {},
      "source": [
        "# 76. Minimum Window Substring\n",
        "\n",
        "**Difficulty:** Hard\n",
        "\n",
        "**Link to Problem:** [To see the Minimum Window Substring problem on LeetCode, click here!](https://leetcode.com/problems/minimum-window-substring/)\n",
        "\n",
        "---\n",
        "Given two strings `s` and `t` of lengths `m` and `n` respectively, return *the **minimum window substring** of `s` such that every character in `t` (**including duplicates**) is included in the window. If there is no such substring, return the empty string `\"\"`.*\n",
        "\n",
        "The testcases will be generated such that the answer is **unique**.\n",
        "\n",
        "**Constraints:**\n",
        "\n",
        "- `m == s.length`\n",
        "- `n == t.length`\n",
        "- 1 <= `m, n` <= $10^5$\n",
        "- `s` and `t` consist of uppercase and lowercase English letters.\n",
        "\n",
        "**Follow up**: Could you find an algorithm that runs in $O(m + n)$ time?"
      ]
    },
    {
      "cell_type": "code",
      "execution_count": 54,
      "id": "aabf7095-07dc-4ab7-876c-ec7213ed0de5",
      "metadata": {
        "trusted": true
      },
      "outputs": [],
      "source": [
        "def min_window_substring(s, t):\n",
        "    if not s or not t:\n",
        "        return \"\"\n",
        "\n",
        "    # Initialize dictionaries to keep track of character counts for t and the current window in s.\n",
        "    t_dict = {}\n",
        "    current_window_dict = {}\n",
        "    \n",
        "    # Populate t_dict with character counts for string t.\n",
        "    for char in t:\n",
        "        t_dict[char] = t_dict.get(char, 0) + 1\n",
        "\n",
        "    # Initialize pointers for the sliding window.\n",
        "    left = 0\n",
        "    min_len = float('inf')\n",
        "    min_window = \"\"\n",
        "    required_chars = len(t_dict)\n",
        "\n",
        "    # Initialize a variable to keep track of how many required characters have been found in the current window.\n",
        "    found_chars = 0\n",
        "\n",
        "    # Iterate over the string s using the right pointer.\n",
        "    for right in range(len(s)):\n",
        "        char = s[right]\n",
        "\n",
        "        # Update the current_window_dict.\n",
        "        current_window_dict[char] = current_window_dict.get(char, 0) + 1\n",
        "\n",
        "        # Check if the current character is a required character and if its count matches the required count.\n",
        "        if char in t_dict and current_window_dict[char] == t_dict[char]:\n",
        "            found_chars += 1\n",
        "\n",
        "        # Try to minimize the window by moving the left pointer.\n",
        "        while left <= right and found_chars == required_chars:\n",
        "            # Calculate the current window size.\n",
        "            window_size = right - left + 1\n",
        "\n",
        "            # If the current window is smaller than the minimum found so far, update min_len and min_window.\n",
        "            if window_size < min_len:\n",
        "                min_len = window_size\n",
        "                min_window = s[left:right+1]\n",
        "\n",
        "            # Move the left pointer to the right to shrink the window.\n",
        "            left_char = s[left]\n",
        "            current_window_dict[left_char] -= 1\n",
        "\n",
        "            # Check if the character removed from the window was a required character.\n",
        "            if left_char in t_dict and current_window_dict[left_char] < t_dict[left_char]:\n",
        "                found_chars -= 1\n",
        "\n",
        "            # Move the left pointer further to continue shrinking the window.\n",
        "            left += 1\n",
        "\n",
        "    return min_window"
      ]
    },
    {
      "cell_type": "markdown",
      "id": "ece39324-cd9e-47d7-8677-a001878494d9",
      "metadata": {},
      "source": [
        "## Explanation:\n",
        "\n",
        "1. We start by checking if either of the input strings `s` or `t` is empty. If either of them is empty, we return an empty string since there can't be any valid substring in this case.\n",
        "\n",
        "2. We initialize two dictionaries: `t_dict` and `current_window_dict`. These dictionaries will be used to keep track of character counts in the string `t` and the current window in string `s`, respectively.\n",
        "\n",
        "3. We populate the `t_dict` dictionary by iterating through string `t`. For each character, we increment its count in the dictionary using `t_dict.get(char, 0) + 1`. This allows us to count the occurrences of each character in `t`.\n",
        "\n",
        "4. We initialize two pointers: `left` and `right`. The `left` pointer will represent the start of the current window, and the `right` pointer will represent the end of the current window. We also initialize `min_len` to store the length of the minimum window found so far, and `min_window` to store the actual minimum window substring.\n",
        "\n",
        "5. We determine the number of required characters in `t` (i.e., the number of distinct characters in `t`) and store it in the variable `required_chars`.\n",
        "\n",
        "6. We initialize a variable `found_chars` to keep track of how many required characters have been found in the current window. Initially, it is set to 0.\n",
        "\n",
        "7. We iterate over the string `s` using the `right` pointer. In each iteration, we do the following:\n",
        "\n",
        "   - Update the `current_window_dict` by incrementing the count of the current character.\n",
        "   \n",
        "   - Check if the current character is a required character (present in `t_dict`) and if its count in the `current_window_dict` matches the required count from `t_dict`. If so, we increment `found_chars`.\n",
        "\n",
        "8. After updating the window, we attempt to minimize the window size by moving the `left` pointer to the right. In this step, we:\n",
        "\n",
        "   - Calculate the size of the current window.\n",
        "   \n",
        "   - If the current window size is smaller than the minimum found so far (`min_len`), we update `min_len` and `min_window` to store the current window substring.\n",
        "   \n",
        "   - Move the `left` pointer to the right to shrink the window.\n",
        "   \n",
        "   - Check if the character being removed from the window was a required character. If it was, we decrement `found_chars`.\n",
        "   \n",
        "   - Continue moving the `left` pointer further to continue shrinking the window if the window still contains all required characters.\n",
        "\n",
        "9. Finally, we return `min_window`, which will contain the minimum window substring that contains all characters from `t`."
      ]
    },
    {
      "cell_type": "markdown",
      "id": "a54ea5b7-c53f-46c0-a44f-ef769ac68244",
      "metadata": {},
      "source": [
        "## Test cases"
      ]
    },
    {
      "cell_type": "code",
      "execution_count": 55,
      "id": "355f5bfd-94e1-4c5b-9914-cc20775f4160",
      "metadata": {
        "trusted": true
      },
      "outputs": [
        {
          "name": "stdout",
          "output_type": "stream",
          "text": [
            "BANC\n"
          ]
        }
      ],
      "source": [
        "# Example 1:\n",
        "print(min_window_substring(\"ADOBECODEBANC\", \"ABC\"))"
      ]
    },
    {
      "cell_type": "code",
      "execution_count": 56,
      "id": "192912fb-9d12-4911-9a4f-bfd37043e11d",
      "metadata": {
        "trusted": true
      },
      "outputs": [
        {
          "name": "stdout",
          "output_type": "stream",
          "text": [
            "a\n"
          ]
        }
      ],
      "source": [
        "# Example 2:\n",
        "print(min_window_substring(\"a\", \"a\")) "
      ]
    },
    {
      "cell_type": "code",
      "execution_count": 57,
      "id": "6c69a707-02af-4212-b2e7-1881d62a62d2",
      "metadata": {
        "trusted": true
      },
      "outputs": [
        {
          "name": "stdout",
          "output_type": "stream",
          "text": []
        },
        {
          "name": "stdout",
          "output_type": "stream",
          "text": [
            "\n"
          ]
        }
      ],
      "source": [
        "# Example 3:\n",
        "print(min_window_substring(\"a\", \"aa\")) "
      ]
    },
    {
      "cell_type": "markdown",
      "id": "7d9dd448-c5f5-4192-8aa5-7c70ec7f42e2",
      "metadata": {},
      "source": [
        "Let's analyze the time and space complexity of the `min_window_substring` function:\n",
        "\n",
        "**Time Complexity:**\n",
        "- The main loop iterates through the string `s` from left to right using the `right` pointer. This loop runs in O(m) time, where 'm' is the length of string `s`.\n",
        "\n",
        "- Inside the loop, we have a while loop that moves the `left` pointer to the right to shrink the window as needed. In the worst case, this while loop can also run in O(m) time because in the worst case, we may have to move the `left` pointer all the way to the end of the string.\n",
        "\n",
        "- Within each iteration of the while loop, we perform constant time operations, such as updating dictionaries and comparing character counts.\n",
        "\n",
        "- The initialization of the `t_dict` dictionary takes O(n) time, where 'n' is the length of string `t`.\n",
        "\n",
        "Therefore, the overall time complexity of the function is O(m + n) because the dominant factor is the length of string `s`, and the length of string `t` has a smaller impact.\n",
        "\n",
        "**Space Complexity:**\n",
        "- The space complexity is determined by the space used by the `t_dict` dictionary, the `current_window_dict` dictionary, and a few variables.\n",
        "\n",
        "- The `t_dict` dictionary stores character counts for string `t`. In the worst case, when all characters in `t` are distinct, this dictionary can have a maximum of 'n' key-value pairs. So, the space complexity for `t_dict` is O(n).\n",
        "\n",
        "- The `current_window_dict` dictionary stores character counts for the current window. In the worst case, it can have a maximum of 'm' key-value pairs. So, the space complexity for `current_window_dict` is also O(m).\n",
        "\n",
        "- Other variables used in the function, such as `left`, `right`, `min_len`, `min_window`, `required_chars`, and `found_chars`, are all of constant size and do not depend on the input sizes.\n",
        "\n",
        "**In summary**, the overall space complexity of the function is O(max(m, n)), which means it is determined by the larger of the two input strings' lengths. This is because the space used for `t_dict` and `current_window_dict` dominates the space complexity."
      ]
    },
    {
      "cell_type": "markdown",
      "id": "037b210a-555b-4da3-8130-b74d1e4f33f6",
      "metadata": {},
      "source": [
        "## Challenging Exercises:\n",
        "\n",
        "1. **Smallest Distinct Substring:** Instead of finding the minimum window substring containing all characters, find the smallest distinct (unique) substring of s that contains all characters from t. This variation adds complexity because you must find a substring with distinct characters.\n",
        "2. **No Extra Space:** Solve the problem without using any extra space, such as dictionaries or arrays, other than a constant amount of space. This is a significant optimization challenge."
      ]
    }
  ],
  "metadata": {
    "kernelspec": {
      "display_name": "Python (Pyodide)",
      "language": "python",
      "name": "python"
    },
    "language_info": {
      "codemirror_mode": {
        "name": "python",
        "version": 3
      },
      "file_extension": ".py",
      "mimetype": "text/x-python",
      "name": "python",
      "nbconvert_exporter": "python",
      "pygments_lexer": "ipython3",
      "version": "3.8"
    }
  },
  "nbformat": 4,
  "nbformat_minor": 5
}
