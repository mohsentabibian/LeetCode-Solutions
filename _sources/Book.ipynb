{
 "cells": [
  {
   "cell_type": "code",
   "execution_count": null,
   "metadata": {},
   "outputs": [],
   "source": [
    "!python -m pip install --upgrade pip\n",
    "%pip install jupyter-book"
   ]
  },
  {
   "cell_type": "code",
   "execution_count": 34,
   "metadata": {},
   "outputs": [
    {
     "name": "stdout",
     "output_type": "stream",
     "text": [
      "/workspaces/LeetCode-Solutions\n"
     ]
    }
   ],
   "source": [
    "%cd /workspaces/LeetCode-Solutions"
   ]
  },
  {
   "cell_type": "code",
   "execution_count": null,
   "metadata": {},
   "outputs": [],
   "source": [
    "!jupyter-book toc migrate /workspaces/LeetCode-Solutions/_toc.yml -o /workspaces/LeetCode-Solutions/_toc.yml"
   ]
  },
  {
   "cell_type": "code",
   "execution_count": 3,
   "metadata": {},
   "outputs": [
    {
     "name": "stdout",
     "output_type": "stream",
     "text": [
      "\u001b[32m\u001b[1mRunning Jupyter-Book v0.15.1\u001b[0m\n",
      "\u001b[34m\u001b[1mSource Folder: \u001b[0m/workspaces/LeetCode-Solutions\n",
      "\u001b[34m\u001b[1mConfig Path: \u001b[0m/workspaces/LeetCode-Solutions/_config.yml\n",
      "\u001b[34m\u001b[1mOutput Path: \u001b[0m/workspaces/LeetCode-Solutions/_build/html\n",
      "\u001b[01mRunning Sphinx v5.0.2\u001b[39;49;00m\n",
      "\u001b[01mmaking output directory... \u001b[39;49;00mdone\n",
      "[etoc] Changing master_doc to 'README'\n",
      "\u001b[01mmyst v0.18.1:\u001b[39;49;00m MdParserConfig(commonmark_only=False, gfm_only=False, enable_extensions=['colon_fence', 'dollarmath', 'linkify', 'substitution', 'tasklist'], disable_syntax=[], all_links_external=False, url_schemes=['mailto', 'http', 'https'], ref_domains=None, highlight_code_blocks=True, number_code_blocks=[], title_to_header=False, heading_anchors=None, heading_slug_func=None, footnote_transition=True, words_per_minute=200, sub_delimiters=('{', '}'), linkify_fuzzy_links=True, dmath_allow_labels=True, dmath_allow_space=True, dmath_allow_digits=True, dmath_double_inline=False, update_mathjax=True, mathjax_classes='tex2jax_process|mathjax_process|math|output_area')\n",
      "\u001b[01mmyst-nb v0.17.2:\u001b[39;49;00m NbParserConfig(custom_formats={}, metadata_key='mystnb', cell_metadata_key='mystnb', kernel_rgx_aliases={}, execution_mode='auto', execution_cache_path='', execution_excludepatterns=[], execution_timeout=30, execution_in_temp=False, execution_allow_errors=False, execution_raise_on_error=False, execution_show_tb=False, merge_streams=False, render_plugin='default', remove_code_source=False, remove_code_outputs=False, code_prompt_show='Show code cell {type}', code_prompt_hide='Hide code cell {type}', number_source_lines=False, output_stderr='show', render_text_lexer='myst-ansi', render_error_lexer='ipythontb', render_image_options={}, render_figure_options={}, render_markdown_format='commonmark', output_folder='build', append_css=True, metadata_to_fm=False)\n",
      "Using jupyter-cache at: /workspaces/LeetCode-Solutions/_build/.jupyter_cache\n",
      "\u001b[01mbuilding [mo]: \u001b[39;49;00mtargets for 0 po files that are out of date\n",
      "\u001b[01mbuilding [html]: \u001b[39;49;00mtargets for 77 source files that are out of date\n",
      "\u001b[01mupdating environment: \u001b[39;49;00m[new config] 77 added, 0 changed, 0 removed\n",
      "/workspaces/LeetCode-Solutions/01. Array Hashing/1. Two Sum.ipynb: Executing notebook using local CWD [mystnb]  \n",
      "/workspaces/LeetCode-Solutions/01. Array Hashing/1. Two Sum.ipynb: Executed notebook in 1.26 seconds [mystnb]\n",
      "/workspaces/LeetCode-Solutions/01. Array Hashing/128. Longest Consecutive Sequence.ipynb: Executing notebook using local CWD [mystnb]\n",
      "/workspaces/LeetCode-Solutions/01. Array Hashing/128. Longest Consecutive Sequence.ipynb: Executed notebook in 1.07 seconds [mystnb]\n",
      "/workspaces/LeetCode-Solutions/01. Array Hashing/217. Contains Duplicate.ipynb: Executing notebook using local CWD [mystnb]\n",
      "/workspaces/LeetCode-Solutions/01. Array Hashing/217. Contains Duplicate.ipynb: Executed notebook in 1.05 seconds [mystnb]\n",
      "/workspaces/LeetCode-Solutions/01. Array Hashing/238. Product of Array Except Self.ipynb: Executing notebook using local CWD [mystnb]\n",
      "/workspaces/LeetCode-Solutions/01. Array Hashing/238. Product of Array Except Self.ipynb: Executed notebook in 0.98 seconds [mystnb]\n",
      "/workspaces/LeetCode-Solutions/01. Array Hashing/242. Valid Anagram.ipynb: Executing notebook using local CWD [mystnb]\n",
      "/workspaces/LeetCode-Solutions/01. Array Hashing/242. Valid Anagram.ipynb: Executed notebook in 0.96 seconds [mystnb]\n",
      "/workspaces/LeetCode-Solutions/01. Array Hashing/347. Top K Frequent Elements.ipynb: Executing notebook using local CWD [mystnb]\n",
      "/workspaces/LeetCode-Solutions/01. Array Hashing/347. Top K Frequent Elements.ipynb: Executed notebook in 1.00 seconds [mystnb]\n",
      "/workspaces/LeetCode-Solutions/01. Array Hashing/49. Group Anagrams.ipynb: Executing notebook using local CWD [mystnb]\n",
      "/workspaces/LeetCode-Solutions/01. Array Hashing/49. Group Anagrams.ipynb: Executed notebook in 1.07 seconds [mystnb]\n",
      "/workspaces/LeetCode-Solutions/01. Array Hashing/659. Encode and Decode Strings.ipynb: Executing notebook using local CWD [mystnb]\n",
      "/workspaces/LeetCode-Solutions/01. Array Hashing/659. Encode and Decode Strings.ipynb: Executed notebook in 0.93 seconds [mystnb]\n",
      "/workspaces/LeetCode-Solutions/02. Two Pointers/11. Container With Most Water.ipynb: Executing notebook using local CWD [mystnb]\n",
      "/workspaces/LeetCode-Solutions/02. Two Pointers/11. Container With Most Water.ipynb: Executed notebook in 0.88 seconds [mystnb]\n",
      "/workspaces/LeetCode-Solutions/02. Two Pointers/125. Valid Palindrome.ipynb: Executing notebook using local CWD [mystnb]\n",
      "/workspaces/LeetCode-Solutions/02. Two Pointers/125. Valid Palindrome.ipynb: Executed notebook in 0.98 seconds [mystnb]\n",
      "/workspaces/LeetCode-Solutions/02. Two Pointers/15. 3Sum.ipynb: Executing notebook using local CWD [mystnb]     \n",
      "/workspaces/LeetCode-Solutions/02. Two Pointers/15. 3Sum.ipynb: Executed notebook in 1.08 seconds [mystnb]\n",
      "/workspaces/LeetCode-Solutions/03. Sliding Window/121. Best Time to Buy and Sell Stock.ipynb: Executing notebook using local CWD [mystnb]\n",
      "/workspaces/LeetCode-Solutions/03. Sliding Window/121. Best Time to Buy and Sell Stock.ipynb: Executed notebook in 0.92 seconds [mystnb]\n",
      "/workspaces/LeetCode-Solutions/03. Sliding Window/3. Longest Substring Without Repeating Characters.ipynb: Executing notebook using local CWD [mystnb]\n",
      "/workspaces/LeetCode-Solutions/03. Sliding Window/3. Longest Substring Without Repeating Characters.ipynb: Executed notebook in 0.90 seconds [mystnb]\n",
      "/workspaces/LeetCode-Solutions/03. Sliding Window/424. Longest Repeating Character Replacement.ipynb: Executing notebook using local CWD [mystnb]\n",
      "/workspaces/LeetCode-Solutions/03. Sliding Window/424. Longest Repeating Character Replacement.ipynb: Executed notebook in 1.09 seconds [mystnb]\n",
      "/workspaces/LeetCode-Solutions/03. Sliding Window/76. Minimum Window Substring.ipynb: Executing notebook using local CWD [mystnb]\n",
      "/workspaces/LeetCode-Solutions/03. Sliding Window/76. Minimum Window Substring.ipynb: Executed notebook in 1.09 seconds [mystnb]\n",
      "/workspaces/LeetCode-Solutions/04. Stack/20. Valid Parentheses.ipynb: Executing notebook using local CWD [mystnb]\n",
      "/workspaces/LeetCode-Solutions/04. Stack/20. Valid Parentheses.ipynb: Executed notebook in 0.98 seconds [mystnb]\n",
      "/workspaces/LeetCode-Solutions/05. Binary Search/153. Find Minimum in Rotated Sorted Array.ipynb: Executing notebook using local CWD [mystnb]\n",
      "/workspaces/LeetCode-Solutions/05. Binary Search/153. Find Minimum in Rotated Sorted Array.ipynb: Executed notebook in 1.15 seconds [mystnb]\n",
      "/workspaces/LeetCode-Solutions/05. Binary Search/33. Search in Rotated Sorted Array.ipynb: Executing notebook using local CWD [mystnb]\n",
      "/workspaces/LeetCode-Solutions/05. Binary Search/33. Search in Rotated Sorted Array.ipynb: Executed notebook in 1.08 seconds [mystnb]\n",
      "/workspaces/LeetCode-Solutions/06. Linked List/141. Linked List Cycle.ipynb: Executing notebook using local CWD [mystnb]\n",
      "/workspaces/LeetCode-Solutions/06. Linked List/141. Linked List Cycle.ipynb: Executed notebook in 1.28 seconds [mystnb]\n",
      "/workspaces/LeetCode-Solutions/06. Linked List/143. Reorder List.ipynb: Executing notebook using local CWD [mystnb]\n",
      "/workspaces/LeetCode-Solutions/06. Linked List/143. Reorder List.ipynb: Executed notebook in 1.01 seconds [mystnb]\n",
      "/workspaces/LeetCode-Solutions/06. Linked List/19. Remove Nth Node From End of List.ipynb: Executing notebook using local CWD [mystnb]\n",
      "/workspaces/LeetCode-Solutions/06. Linked List/19. Remove Nth Node From End of List.ipynb: Executed notebook in 1.10 seconds [mystnb]\n",
      "/workspaces/LeetCode-Solutions/06. Linked List/206. Reverse Linked List.ipynb: Executing notebook using local CWD [mystnb]\n",
      "/workspaces/LeetCode-Solutions/06. Linked List/206. Reverse Linked List.ipynb: Executed notebook in 1.14 seconds [mystnb]\n",
      "/workspaces/LeetCode-Solutions/06. Linked List/21. Merge Two Sorted Lists.ipynb: Executing notebook using local CWD [mystnb]\n",
      "/workspaces/LeetCode-Solutions/06. Linked List/21. Merge Two Sorted Lists.ipynb: Executed notebook in 0.91 seconds [mystnb]\n",
      "/workspaces/LeetCode-Solutions/06. Linked List/23. Merge k Sorted Lists.ipynb: Executing notebook using local CWD [mystnb]\n",
      "/workspaces/LeetCode-Solutions/06. Linked List/23. Merge k Sorted Lists.ipynb: Executed notebook in 1.13 seconds [mystnb]\n",
      "/workspaces/LeetCode-Solutions/07. Trees/100. Same Tree.ipynb: Executing notebook using local CWD [mystnb]      \n",
      "/workspaces/LeetCode-Solutions/07. Trees/100. Same Tree.ipynb: Executed notebook in 1.07 seconds [mystnb]\n",
      "/workspaces/LeetCode-Solutions/07. Trees/102. Binary Tree Level Order Traversal.ipynb: Executing notebook using local CWD [mystnb]\n",
      "/workspaces/LeetCode-Solutions/07. Trees/102. Binary Tree Level Order Traversal.ipynb: Executed notebook in 0.99 seconds [mystnb]\n",
      "/workspaces/LeetCode-Solutions/07. Trees/104. Maximum Depth of Binary Tree.ipynb: Executing notebook using local CWD [mystnb]\n",
      "/workspaces/LeetCode-Solutions/07. Trees/104. Maximum Depth of Binary Tree.ipynb: Executed notebook in 0.91 seconds [mystnb]\n",
      "/workspaces/LeetCode-Solutions/07. Trees/105. Construct Binary Tree from Preorder and Inorder Traversal.ipynb: Executing notebook using local CWD [mystnb]\n",
      "/workspaces/LeetCode-Solutions/07. Trees/105. Construct Binary Tree from Preorder and Inorder Traversal.ipynb: Executed notebook in 1.17 seconds [mystnb]\n",
      "/workspaces/LeetCode-Solutions/07. Trees/124. Binary Tree Maximum Path Sum.ipynb: Executing notebook using local CWD [mystnb]\n",
      "/workspaces/LeetCode-Solutions/07. Trees/124. Binary Tree Maximum Path Sum.ipynb: Executed notebook in 0.99 seconds [mystnb]\n",
      "/workspaces/LeetCode-Solutions/07. Trees/199. Binary Tree Right Side View.ipynb: Executing notebook using local CWD [mystnb]\n",
      "/workspaces/LeetCode-Solutions/07. Trees/199. Binary Tree Right Side View.ipynb: Executed notebook in 1.07 seconds [mystnb]\n",
      "/workspaces/LeetCode-Solutions/07. Trees/226. Invert Binary Tree.ipynb: Executing notebook using local CWD [mystnb]\n",
      "/workspaces/LeetCode-Solutions/07. Trees/226. Invert Binary Tree.ipynb: Executed notebook in 0.96 seconds [mystnb]\n",
      "/workspaces/LeetCode-Solutions/07. Trees/230. Kth Smallest Element in a BST.ipynb: Executing notebook using local CWD [mystnb]\n",
      "/workspaces/LeetCode-Solutions/07. Trees/230. Kth Smallest Element in a BST.ipynb: Executed notebook in 0.98 seconds [mystnb]\n",
      "/workspaces/LeetCode-Solutions/07. Trees/235. Lowest Common Ancestor of a Binary Search Tree.ipynb: Executing notebook using local CWD [mystnb]\n",
      "/workspaces/LeetCode-Solutions/07. Trees/235. Lowest Common Ancestor of a Binary Search Tree.ipynb: Executed notebook in 1.11 seconds [mystnb]\n",
      "/workspaces/LeetCode-Solutions/07. Trees/297. Serialize and Deserialize Binary Tree.ipynb: Executing notebook using local CWD [mystnb]\n",
      "/workspaces/LeetCode-Solutions/07. Trees/297. Serialize and Deserialize Binary Tree.ipynb: Executed notebook in 0.98 seconds [mystnb]\n",
      "/workspaces/LeetCode-Solutions/07. Trees/572. Subtree of Another Tree.ipynb: Executing notebook using local CWD [mystnb]\n",
      "/workspaces/LeetCode-Solutions/07. Trees/572. Subtree of Another Tree.ipynb: Executed notebook in 1.16 seconds [mystnb]\n",
      "/workspaces/LeetCode-Solutions/07. Trees/98. Validate Binary Search Tree.ipynb: Executing notebook using local CWD [mystnb]\n",
      "/workspaces/LeetCode-Solutions/07. Trees/98. Validate Binary Search Tree.ipynb: Executed notebook in 1.15 seconds [mystnb]\n",
      "/workspaces/LeetCode-Solutions/08. Tries/208. Implement Trie (Prefix Tree).ipynb: Executing notebook using local CWD [mystnb]\n",
      "/workspaces/LeetCode-Solutions/08. Tries/208. Implement Trie (Prefix Tree).ipynb: Executed notebook in 0.98 seconds [mystnb]\n",
      "/workspaces/LeetCode-Solutions/08. Tries/211. Design Add and Search Words Data Structure.ipynb: Executing notebook using local CWD [mystnb]\n",
      "/workspaces/LeetCode-Solutions/08. Tries/211. Design Add and Search Words Data Structure.ipynb: Executed notebook in 1.05 seconds [mystnb]\n",
      "/workspaces/LeetCode-Solutions/08. Tries/212. Word Search II.ipynb: Executing notebook using local CWD [mystnb] \n",
      "/workspaces/LeetCode-Solutions/08. Tries/212. Word Search II.ipynb: Executed notebook in 1.27 seconds [mystnb]\n",
      "/workspaces/LeetCode-Solutions/09. Heap - Priority Queue/1046. Last Stone Weight.ipynb: Executing notebook using local CWD [mystnb]\n",
      "/workspaces/LeetCode-Solutions/09. Heap - Priority Queue/1046. Last Stone Weight.ipynb: Executed notebook in 0.93 seconds [mystnb]\n",
      "/workspaces/LeetCode-Solutions/09. Heap - Priority Queue/295. Find Median from Data Stream.ipynb: Executing notebook using local CWD [mystnb]\n",
      "/workspaces/LeetCode-Solutions/09. Heap - Priority Queue/295. Find Median from Data Stream.ipynb: Executed notebook in 1.06 seconds [mystnb]\n",
      "/workspaces/LeetCode-Solutions/09. Heap - Priority Queue/703. Kth Largest Element in a Stream.ipynb: Executing notebook using local CWD [mystnb]\n",
      "/workspaces/LeetCode-Solutions/09. Heap - Priority Queue/703. Kth Largest Element in a Stream.ipynb: Executed notebook in 0.87 seconds [mystnb]\n",
      "/workspaces/LeetCode-Solutions/10. Backtracking/39. Combination Sum.ipynb: Executing notebook using local CWD [mystnb]\n",
      "/workspaces/LeetCode-Solutions/10. Backtracking/39. Combination Sum.ipynb: Executed notebook in 1.24 seconds [mystnb]\n",
      "/workspaces/LeetCode-Solutions/10. Backtracking/79. Word Search.ipynb: Executing notebook using local CWD [mystnb]\n",
      "/workspaces/LeetCode-Solutions/10. Backtracking/79. Word Search.ipynb: Executed notebook in 4.03 seconds [mystnb]\n",
      "/workspaces/LeetCode-Solutions/11. Graphs/133. Clone Graph.ipynb: Executing notebook using local CWD [mystnb]   \n",
      "/workspaces/LeetCode-Solutions/11. Graphs/133. Clone Graph.ipynb: Executed notebook in 1.08 seconds [mystnb]\n",
      "/workspaces/LeetCode-Solutions/11. Graphs/178. Graph Valid Tree.ipynb: Executing notebook using local CWD [mystnb]\n",
      "/workspaces/LeetCode-Solutions/11. Graphs/178. Graph Valid Tree.ipynb: Executed notebook in 1.12 seconds [mystnb]\n",
      "/workspaces/LeetCode-Solutions/11. Graphs/200. Number of Islands.ipynb: Executing notebook using local CWD [mystnb]\n",
      "/workspaces/LeetCode-Solutions/11. Graphs/200. Number of Islands.ipynb: Executed notebook in 1.08 seconds [mystnb]\n",
      "/workspaces/LeetCode-Solutions/11. Graphs/207. Course Schedule.ipynb: Executing notebook using local CWD [mystnb]\n",
      "/workspaces/LeetCode-Solutions/11. Graphs/207. Course Schedule.ipynb: Executed notebook in 1.09 seconds [mystnb]\n",
      "/workspaces/LeetCode-Solutions/11. Graphs/3651. Number of Connected Components in an Undirected Graph.ipynb: Executing notebook using local CWD [mystnb]\n",
      "/workspaces/LeetCode-Solutions/11. Graphs/3651. Number of Connected Components in an Undirected Graph.ipynb: Executed notebook in 4.02 seconds [mystnb]\n",
      "/workspaces/LeetCode-Solutions/11. Graphs/417. Pacific Atlantic Water Flow.ipynb: Executing notebook using local CWD [mystnb]\n",
      "/workspaces/LeetCode-Solutions/11. Graphs/417. Pacific Atlantic Water Flow.ipynb: Executed notebook in 0.87 seconds [mystnb]\n",
      "/workspaces/LeetCode-Solutions/12. Advanced Graphs/892. Alien Dictionary.ipynb: Executing notebook using local CWD [mystnb]\n",
      "/workspaces/LeetCode-Solutions/12. Advanced Graphs/892. Alien Dictionary.ipynb: Executed notebook in 1.12 seconds [mystnb]\n",
      "/workspaces/LeetCode-Solutions/13. One-D Dynamic Programming/198. House Robber.ipynb: Executing notebook using local CWD [mystnb]\n",
      "/workspaces/LeetCode-Solutions/13. One-D Dynamic Programming/198. House Robber.ipynb: Executed notebook in 0.99 seconds [mystnb]\n",
      "/workspaces/LeetCode-Solutions/13. One-D Dynamic Programming/213. House Robber II.ipynb: Executing notebook using local CWD [mystnb]\n",
      "/workspaces/LeetCode-Solutions/13. One-D Dynamic Programming/213. House Robber II.ipynb: Executed notebook in 1.08 seconds [mystnb]\n",
      "/workspaces/LeetCode-Solutions/13. One-D Dynamic Programming/70. Climbing Stairs.ipynb: Executing notebook using local CWD [mystnb]\n",
      "/workspaces/LeetCode-Solutions/13. One-D Dynamic Programming/70. Climbing Stairs.ipynb: Executed notebook in 1.06 seconds [mystnb]\n",
      "/workspaces/LeetCode-Solutions/Book.ipynb: Executing notebook using local CWD [mystnb]                          \n",
      "\u001b[01mreading sources... \u001b[39;49;00m[100%] \u001b[35mSECURITY\u001b[39;49;00m                                              \n",
      "\u001b[91m/workspaces/LeetCode-Solutions/07. Trees/572. Subtree of Another Tree.ipynb:30008: WARNING: Non-consecutive header level increase; H1 to H3 [myst.header]\u001b[39;49;00m\n",
      "\u001b[91m/workspaces/LeetCode-Solutions/Book.ipynb: WARNING: Executing notebook failed: CellTimeoutError [mystnb.exec]\u001b[39;49;00m\n",
      "\u001b[91m/workspaces/LeetCode-Solutions/Book.ipynb: WARNING: Notebook exception traceback saved in: /workspaces/LeetCode-Solutions/_build/html/reports/Book.err.log [mystnb.exec]\u001b[39;49;00m\n",
      "\u001b[01mlooking for now-outdated files... \u001b[39;49;00mnone found\n",
      "\u001b[01mpickling environment... \u001b[39;49;00mdone\n",
      "\u001b[01mchecking consistency... \u001b[39;49;00m\u001b[91m/workspaces/LeetCode-Solutions/Book.ipynb: WARNING: document isn't included in any toctree\u001b[39;49;00m\n",
      "\u001b[91m/workspaces/LeetCode-Solutions/CODE_OF_CONDUCT.md: WARNING: document isn't included in any toctree\u001b[39;49;00m\n",
      "\u001b[91m/workspaces/LeetCode-Solutions/CONTRIBUTING.md: WARNING: document isn't included in any toctree\u001b[39;49;00m\n",
      "\u001b[91m/workspaces/LeetCode-Solutions/SECURITY.md: WARNING: document isn't included in any toctree\u001b[39;49;00m\n",
      "done\n",
      "\u001b[01mpreparing documents... \u001b[39;49;00mdone\n",
      "\u001b[01mwriting output... \u001b[39;49;00m[ 94%] \u001b[32mBook\u001b[39;49;00m                                                   raph\u001b[39;49;00m0m\r"
     ]
    }
   ],
   "source": [
    "!jupyter-book build ."
   ]
  },
  {
   "cell_type": "code",
   "execution_count": null,
   "metadata": {},
   "outputs": [],
   "source": [
    "!jupyter-book build /workspaces/LeetCode-Solutions/ --builder pdfhtml"
   ]
  },
  {
   "cell_type": "code",
   "execution_count": 5,
   "metadata": {},
   "outputs": [
    {
     "data": {
      "text/html": [
       "<a href=\"_build/html/index.html\" target=\"_blank\">Click here to view your Jupyter Book</a>"
      ],
      "text/plain": [
       "<IPython.core.display.HTML object>"
      ]
     },
     "execution_count": 5,
     "metadata": {},
     "output_type": "execute_result"
    }
   ],
   "source": [
    "from IPython.display import HTML\n",
    "HTML('<a href=\"_build/html/index.html\" target=\"_blank\">Click here to view your Jupyter Book</a>')\n"
   ]
  },
  {
   "cell_type": "code",
   "execution_count": 40,
   "metadata": {},
   "outputs": [
    {
     "name": "stdout",
     "output_type": "stream",
     "text": [
      "\n",
      "\u001b[92m===============================================================================\u001b[0m\n",
      "\n",
      "Your book template can be found at\n",
      "\n",
      "    mybook/\n",
      "\n",
      "\u001b[92m===============================================================================\u001b[0m\n",
      "\n"
     ]
    }
   ],
   "source": [
    "!jupyter-book create mybook"
   ]
  },
  {
   "cell_type": "code",
   "execution_count": 45,
   "metadata": {},
   "outputs": [
    {
     "name": "stdout",
     "output_type": "stream",
     "text": [
      "\u001b[32m\u001b[1mRunning Jupyter-Book v0.15.1\u001b[0m\n",
      "\u001b[34m\u001b[1mSource Folder: \u001b[0m/workspaces/LeetCode-Solutions/mybook\n",
      "\u001b[34m\u001b[1mConfig Path: \u001b[0m/workspaces/LeetCode-Solutions/mybook/_config.yml\n",
      "\u001b[34m\u001b[1mOutput Path: \u001b[0m/workspaces/LeetCode-Solutions/mybook/_build/html\n",
      "[sphinxcontrib-bibtex] Beware that docutils versions 0.18 and 0.19 (you are running 0.18.1) are known to generate invalid html for citations. If this issue affects you, please use docutils<0.18 (or >=0.20 once released) instead. For more details, see https://sourceforge.net/p/docutils/patches/195/\n",
      "\u001b[01mRunning Sphinx v5.0.2\u001b[39;49;00m\n",
      "[etoc] Changing master_doc to 'intro'\n",
      "checking bibtex cache... out of date\n",
      "parsing bibtex file /workspaces/LeetCode-Solutions/mybook/references.bib... parsed 5 entries\n",
      "\u001b[01mmyst v0.18.1:\u001b[39;49;00m MdParserConfig(commonmark_only=False, gfm_only=False, enable_extensions=['colon_fence', 'dollarmath', 'linkify', 'substitution', 'tasklist'], disable_syntax=[], all_links_external=False, url_schemes=['mailto', 'http', 'https'], ref_domains=None, highlight_code_blocks=True, number_code_blocks=[], title_to_header=False, heading_anchors=None, heading_slug_func=None, footnote_transition=True, words_per_minute=200, sub_delimiters=('{', '}'), linkify_fuzzy_links=True, dmath_allow_labels=True, dmath_allow_space=True, dmath_allow_digits=True, dmath_double_inline=False, update_mathjax=True, mathjax_classes='tex2jax_process|mathjax_process|math|output_area')\n",
      "\u001b[01mmyst-nb v0.17.2:\u001b[39;49;00m NbParserConfig(custom_formats={}, metadata_key='mystnb', cell_metadata_key='mystnb', kernel_rgx_aliases={}, execution_mode='force', execution_cache_path='', execution_excludepatterns=[], execution_timeout=30, execution_in_temp=False, execution_allow_errors=False, execution_raise_on_error=False, execution_show_tb=False, merge_streams=False, render_plugin='default', remove_code_source=False, remove_code_outputs=False, code_prompt_show='Show code cell {type}', code_prompt_hide='Hide code cell {type}', number_source_lines=False, output_stderr='show', render_text_lexer='myst-ansi', render_error_lexer='ipythontb', render_image_options={}, render_figure_options={}, render_markdown_format='commonmark', output_folder='build', append_css=True, metadata_to_fm=False)\n",
      "Using jupyter-cache at: /workspaces/LeetCode-Solutions/mybook/_build/.jupyter_cache\n",
      "\u001b[01mbuilding [mo]: \u001b[39;49;00mtargets for 0 po files that are out of date\n",
      "\u001b[01mbuilding [html]: \u001b[39;49;00mtargets for 14 source files that are out of date\n",
      "\u001b[01mupdating environment: \u001b[39;49;00m[new config] 14 added, 0 changed, 0 removed\n",
      "/workspaces/LeetCode-Solutions/mybook/01. Array Hashing/1. Two Sum.ipynb: Executing notebook using local CWD [mystnb]\n",
      "/workspaces/LeetCode-Solutions/mybook/01. Array Hashing/1. Two Sum.ipynb: Executed notebook in 1.35 seconds [mystnb]\n",
      "/workspaces/LeetCode-Solutions/mybook/01. Array Hashing/128. Longest Consecutive Sequence.ipynb: Executing notebook using local CWD [mystnb]\n",
      "/workspaces/LeetCode-Solutions/mybook/01. Array Hashing/128. Longest Consecutive Sequence.ipynb: Executed notebook in 1.09 seconds [mystnb]\n",
      "/workspaces/LeetCode-Solutions/mybook/01. Array Hashing/217. Contains Duplicate.ipynb: Executing notebook using local CWD [mystnb]\n",
      "/workspaces/LeetCode-Solutions/mybook/01. Array Hashing/217. Contains Duplicate.ipynb: Executed notebook in 1.04 seconds [mystnb]\n",
      "/workspaces/LeetCode-Solutions/mybook/01. Array Hashing/238. Product of Array Except Self.ipynb: Executing notebook using local CWD [mystnb]\n",
      "/workspaces/LeetCode-Solutions/mybook/01. Array Hashing/238. Product of Array Except Self.ipynb: Executed notebook in 4.02 seconds [mystnb]\n",
      "/workspaces/LeetCode-Solutions/mybook/01. Array Hashing/242. Valid Anagram.ipynb: Executing notebook using local CWD [mystnb]\n",
      "/workspaces/LeetCode-Solutions/mybook/01. Array Hashing/242. Valid Anagram.ipynb: Executed notebook in 0.97 seconds [mystnb]\n",
      "/workspaces/LeetCode-Solutions/mybook/01. Array Hashing/347. Top K Frequent Elements.ipynb: Executing notebook using local CWD [mystnb]\n",
      "/workspaces/LeetCode-Solutions/mybook/01. Array Hashing/347. Top K Frequent Elements.ipynb: Executed notebook in 1.14 seconds [mystnb]\n",
      "/workspaces/LeetCode-Solutions/mybook/01. Array Hashing/49. Group Anagrams.ipynb: Executing notebook using local CWD [mystnb]\n",
      "/workspaces/LeetCode-Solutions/mybook/01. Array Hashing/49. Group Anagrams.ipynb: Executed notebook in 0.88 seconds [mystnb]\n",
      "/workspaces/LeetCode-Solutions/mybook/01. Array Hashing/659. Encode and Decode Strings.ipynb: Executing notebook using local CWD [mystnb]\n",
      "/workspaces/LeetCode-Solutions/mybook/01. Array Hashing/659. Encode and Decode Strings.ipynb: Executed notebook in 1.10 seconds [mystnb]\n",
      "/workspaces/LeetCode-Solutions/mybook/02. Two Pointers/11. Container With Most Water.ipynb: Executing notebook using local CWD [mystnb]\n",
      "/workspaces/LeetCode-Solutions/mybook/02. Two Pointers/11. Container With Most Water.ipynb: Executed notebook in 1.12 seconds [mystnb]\n",
      "/workspaces/LeetCode-Solutions/mybook/02. Two Pointers/125. Valid Palindrome.ipynb: Executing notebook using local CWD [mystnb]\n",
      "/workspaces/LeetCode-Solutions/mybook/02. Two Pointers/125. Valid Palindrome.ipynb: Executed notebook in 0.98 seconds [mystnb]\n",
      "/workspaces/LeetCode-Solutions/mybook/02. Two Pointers/15. 3Sum.ipynb: Executing notebook using local CWD [mystnb]\n",
      "/workspaces/LeetCode-Solutions/mybook/02. Two Pointers/15. 3Sum.ipynb: Executed notebook in 0.83 seconds [mystnb]\n",
      "\u001b[01mreading sources... \u001b[39;49;00m[100%] \u001b[35mintro\u001b[39;49;00m                                                 \n",
      "\u001b[01mlooking for now-outdated files... \u001b[39;49;00mnone found\n",
      "\u001b[01mpickling environment... \u001b[39;49;00mdone\n",
      "\u001b[01mchecking consistency... \u001b[39;49;00m\u001b[91m/workspaces/LeetCode-Solutions/mybook/01. Array Hashing/README.md: WARNING: document isn't included in any toctree\u001b[39;49;00m\n",
      "\u001b[91m/workspaces/LeetCode-Solutions/mybook/02. Two Pointers/README.md: WARNING: document isn't included in any toctree\u001b[39;49;00m\n",
      "done\n",
      "\u001b[01mpreparing documents... \u001b[39;49;00mdone\n",
      "\u001b[01mwriting output... \u001b[39;49;00m[100%] \u001b[32mintro\u001b[39;49;00m                                                  \n",
      "\u001b[01mgenerating indices... \u001b[39;49;00mgenindex done\n",
      "\u001b[01mwriting additional pages... \u001b[39;49;00msearch done\n",
      "\u001b[01mcopying static files... \u001b[39;49;00mdone\n",
      "\u001b[01mcopying extra files... \u001b[39;49;00mdone\n",
      "\u001b[01mdumping search index in English (code: en)... \u001b[39;49;00mdone\n",
      "\u001b[01mdumping object inventory... \u001b[39;49;00mdone\n",
      "[etoc] missing index.html written as redirect to 'intro.html'\n",
      "\u001b[01mbuild succeeded, 2 warnings.\u001b[39;49;00m\n",
      "\n",
      "The HTML pages are in mybook/_build/html.\n",
      "\n",
      "\u001b[92m===============================================================================\u001b[0m\n",
      "\n",
      "Finished generating HTML for book.\n",
      "Your book's HTML pages are here:\n",
      "    mybook/_build/html/\n",
      "You can look at your book by opening this file in a browser:\n",
      "    mybook/_build/html/index.html\n",
      "Or paste this line directly into your browser bar:\n",
      "    file:///workspaces/LeetCode-Solutions/mybook/_build/html/index.html            \n",
      "\n",
      "\u001b[92m===============================================================================\u001b[0m\n",
      "\n"
     ]
    }
   ],
   "source": [
    "!jupyter-book build mybook"
   ]
  },
  {
   "cell_type": "code",
   "execution_count": 31,
   "metadata": {},
   "outputs": [
    {
     "name": "stdout",
     "output_type": "stream",
     "text": [
      "format: jb-book\n",
      "root: intro\n",
      "\n"
     ]
    }
   ],
   "source": [
    "!jupyter-book toc from-project /workspaces/LeetCode-Solutions/mybook/ -f jb-book"
   ]
  }
 ],
 "metadata": {
  "kernelspec": {
   "display_name": "Python 3",
   "language": "python",
   "name": "python3"
  },
  "language_info": {
   "codemirror_mode": {
    "name": "ipython",
    "version": 3
   },
   "file_extension": ".py",
   "mimetype": "text/x-python",
   "name": "python",
   "nbconvert_exporter": "python",
   "pygments_lexer": "ipython3",
   "version": "3.10.8"
  }
 },
 "nbformat": 4,
 "nbformat_minor": 2
}
