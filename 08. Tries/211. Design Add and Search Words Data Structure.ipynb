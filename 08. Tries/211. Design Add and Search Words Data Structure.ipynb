{
  "metadata": {
    "kernelspec": {
      "name": "python",
      "display_name": "Python (Pyodide)",
      "language": "python"
    },
    "language_info": {
      "codemirror_mode": {
        "name": "python",
        "version": 3
      },
      "file_extension": ".py",
      "mimetype": "text/x-python",
      "name": "python",
      "nbconvert_exporter": "python",
      "pygments_lexer": "ipython3",
      "version": "3.8"
    }
  },
  "nbformat_minor": 5,
  "nbformat": 4,
  "cells": [
    {
      "cell_type": "markdown",
      "source": "## 211. Design Add and Search Words Data Structure\n\n**Difficulty:** Medium\n\n**Link to Problem:** [To see the Design Add and Search Words Data Structure problem on LeetCode, click here!](https://leetcode.com/problems/design-add-and-search-words-data-structure/)\n\n---\nDesign a data structure that supports adding new words and finding if a string matches any previously added string.\n\nImplement the `WordDictionary` class:\n\n- `WordDictionary()` Initializes the object.\n- `void addWord(word)` Adds `word` to the data structure, it can be matched later.\n- `bool search(word)` Returns `true` if there is any string in the data structure that matches `word` or `false` otherwise. `word` may contain dots `'.'` where dots can be matched with any letter.\n\n**Constraints:**\n- `1 <= word.length <= 25`\n- `word` in `addWord` consists of lowercase English letters.\n- `word` in `search` consist of `'.'` or lowercase English letters.\n- There will be at most `2` dots in `word` for `search` queries.\n- At most $10^4$ calls will be made to `addWord` and `search`.",
      "metadata": {
        "jp-MarkdownHeadingCollapsed": true
      },
      "id": "d6161252-e815-48d5-a2a3-5444c12e3b49"
    },
    {
      "cell_type": "markdown",
      "source": "## Probelm Explanation:\n\nThe problem is to design a data structure called `WordDictionary` that allows you to add words and search for words efficiently. The key feature of this data structure is that it should support wildcard search, where a dot ('.') can match any letter.\n\nHere are the specific requirements and explanations for the problem:\n\n1. Initialize the `WordDictionary` object using the constructor `WordDictionary()`.\n\n2. The `addWord(word)` method allows you to add a word to the data structure. Once added, you should be able to search for this word later. The words consist of lowercase English letters, and each word has a length between 1 and 25 characters.\n\n3. The `search(word)` method allows you to search for a word in the data structure. This method returns `True` if there is any string in the data structure that matches the given word or `False` otherwise. The word you are searching for may contain dots ('.'), where each dot can match any letter.\n\n4. The wildcard character ('.') in the `search` method allows for partial or fuzzy searching. For example, if the word dictionary contains the words \"bad,\" \"dad,\" and \"mad,\" then:\n   - Searching for \"pad\" should return `False` because there is no exact match.\n   - Searching for \"bad\" should return `True` because \"bad\" is in the dictionary.\n   - Searching for \".ad\" should return `True` because it can match \"bad,\" \"dad,\" or \"mad.\"\n   - Searching for \"b..\" should return `True` because it can match \"bad,\" \"bed,\" \"bet,\" etc.\n\n5. The problem specifies that there will be at most two dots ('.') in search queries, and there will be at most 10^4 calls to both `addWord` and `search`.\n\nIn summary, you need to implement the `WordDictionary` class that efficiently supports adding words and searching for words, where the search can include wildcard characters ('.') that match any letter.\n\n## Solution:\nHere's a Python function to implement this algorithm:",
      "metadata": {},
      "id": "fe9e71ae-2099-4eb9-b7a1-ec795ce92c76"
    },
    {
      "cell_type": "code",
      "source": "class TrieNode:\n    def __init__(self):\n        # Initialize a TrieNode with children and a flag to indicate the end of a word.\n        self.children = {}\n        self.is_end_of_word = False\n\nclass WordDictionary:\n\n    def __init__(self):\n        # Initialize the WordDictionary with a root node.\n        self.root = TrieNode()\n\n    def addWord(self, word: str) -> None:\n        node = self.root\n        # Iterate through the characters in the word.\n        for char in word:\n            if char not in node.children:\n                # Create a new node for the character if it doesn't exist.\n                node.children[char] = TrieNode()\n            # Move to the next node.\n            node = node.children[char]\n        # Mark the end of the word by setting the flag to True.\n        node.is_end_of_word = True\n\n    def search_helper(self, node: TrieNode, word: str) -> bool:\n        if not word:\n            # If there are no characters left in the word, check if we reached the end of a word in the trie.\n            return node.is_end_of_word\n        \n        char = word[0]\n        if char == '.':\n            # If the character is a dot, explore all possible child nodes.\n            for child in node.children.values():\n                if self.search_helper(child, word[1:]):\n                    return True\n        elif char in node.children:\n            # If the character is in the children of the current node, move to the next node.\n            return self.search_helper(node.children[char], word[1:])\n        \n        # If the character is not found and is not a dot, the word is not in the trie.\n        return False\n\n    def search(self, word: str) -> bool:\n        # Start the search from the root of the trie.\n        return self.search_helper(self.root, word)",
      "metadata": {
        "trusted": true
      },
      "execution_count": 3,
      "outputs": [],
      "id": "aabf7095-07dc-4ab7-876c-ec7213ed0de5"
    },
    {
      "cell_type": "markdown",
      "source": "### Explanation:\n\nThis code defines a `WordDictionary` class that uses a Trie data structure to efficiently store and search for words. Here's a step-by-step explanation:\n\n1. `TrieNode` class: This class represents nodes in the Trie data structure. Each node has two attributes: `children` (a dictionary to store child nodes) and `is_end_of_word` (a flag to indicate whether the node marks the end of a word).\n\n2. `WordDictionary` class: This class initializes with an empty Trie by creating a root node.\n\n3. `addWord` method: This method adds a word to the Trie. It iterates through each character in the word and creates Trie nodes as necessary. It sets the `is_end_of_word` flag to `True` for the final character of the word to mark the end of the word.\n\n4. `search_helper` method: This is a recursive helper function for searching words in the Trie. It takes a Trie node (`node`) and a word to search (`word`) as input. If there are no characters left in the word (`not word`), it checks if the current node marks the end of a word. If it does, it returns `True`.\n\n5. If the first character of the word is a dot ('.'), the function explores all possible child nodes by iterating through `node.children.values()` and recursively calls `search_helper` for each child with the remaining part of the word (`word[1:]`).\n\n6. If the first character of the word is not a dot and is found in the children of the current node, the function recursively moves to the next node by calling `search_helper` on the child node and the remaining part of the word.\n\n7. If the character is not found in the children and is not a dot, the word is not in the Trie, so the function returns `False`.\n\n8. `search` method: This is the public method for searching words. It initiates the search process by calling `search_helper` starting from the root node of the Trie.\n\nOverall, this code efficiently implements a Trie-based data structure that allows adding and searching for words, including support for wildcard characters represented by dots ('.').",
      "metadata": {},
      "id": "ece39324-cd9e-47d7-8677-a001878494d9"
    },
    {
      "cell_type": "markdown",
      "source": "## Test cases:\n\nHere's how you can use this solution:",
      "metadata": {},
      "id": "a54ea5b7-c53f-46c0-a44f-ef769ac68244"
    },
    {
      "cell_type": "code",
      "source": "# Example 1: \n\n# Example usage:\n\nwordDictionary = WordDictionary()\nwordDictionary.addWord(\"bad\")\nwordDictionary.addWord(\"dad\")\nwordDictionary.addWord(\"mad\")\nprint(wordDictionary.search(\"pad\"))  # Output: False\nprint(wordDictionary.search(\"bad\"))  # Output: True\nprint(wordDictionary.search(\".ad\"))  # Output: True\nprint(wordDictionary.search(\"b..\"))  # Output: True",
      "metadata": {
        "trusted": true
      },
      "execution_count": 4,
      "outputs": [
        {
          "name": "stdout",
          "text": "False\nTrue\nTrue\nTrue\n",
          "output_type": "stream"
        }
      ],
      "id": "355f5bfd-94e1-4c5b-9914-cc20775f4160"
    },
    {
      "cell_type": "markdown",
      "source": "## Time and Space Complexity Analysis\n\nLet's analyze the time and space complexity of the `WordDictionary` class methods:\n\n1. `addWord` Method:\n\n   - Time Complexity: O(L)\n     - L is the length of the word being added.\n     - In the worst case, we need to iterate through each character in the word and create nodes in the Trie. This takes O(L) time.\n\n   - Space Complexity: O(L)\n     - The space complexity for storing the word in the Trie is also O(L) because we create nodes for each character in the word.\n\n2. `search_helper` Method (called by `search`):\n\n   - Time Complexity: O(2^M * L)\n     - M is the maximum number of dots ('.') in the search word.\n     - In the worst case, when there are M dots in the search word, we may explore all possible child nodes at each dot. This results in a branching factor of 26 (for lowercase letters) at each dot.\n     - So, the time complexity is exponential in the number of dots and linear in the length of the word being searched (L).\n\n   - Space Complexity: O(L)\n     - The space complexity for the recursive call stack is O(L) in the worst case because we may have to recurse to a depth equal to the length of the search word.\n\n3. `search` Method:\n\n   - Time Complexity: O(2^M * L)\n     - The `search` method calls the `search_helper` method, which has the same time complexity explained above.\n\n   - Space Complexity: O(L)\n     - The space complexity for the recursive call stack is O(L) in the worst case, as explained earlier.\n\nOverall, the time complexity of the `search` method is mainly affected by the number of dots ('.') in the search word. In the worst case, when there are multiple dots and many possibilities to explore at each dot, the time complexity can be exponential. However, for most practical cases, it performs reasonably well.\n\nThe space complexity primarily depends on the space required to store the words in the Trie. It is proportional to the total number of characters in all added words and is linear with respect to the length of the words added.\n\nIn summary:\n\n- Time Complexity for `addWord`: O(L)\n- Time Complexity for `search`: O(2^M * L)\n- Space Complexity: O(L) for storing words in the Trie, O(L) for the recursive call stack during search.\n\nNote: The space complexity analysis assumes that the dictionary contains a reasonable number of words and does not account for the overhead of Python objects or system-level memory allocation.",
      "metadata": {},
      "id": "7d9dd448-c5f5-4192-8aa5-7c70ec7f42e2"
    },
    {
      "cell_type": "markdown",
      "source": "### Challenging Exercises:\n\n1. **Dictionary Auto-Completion**: Extend the `WordDictionary` class to provide auto-completion suggestions based on the prefix of a word. Implement a method that returns a list of words that match the given prefix.\n\n2. **Support Word Deletion**: Extend the `WordDictionary` class to support word deletion. Add a method `deleteWord(word)` that removes a word from the data structure. Ensure that the search operation still works correctly after deletion.",
      "metadata": {},
      "id": "037b210a-555b-4da3-8130-b74d1e4f33f6"
    }
  ]
}