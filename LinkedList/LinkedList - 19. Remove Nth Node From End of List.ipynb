{
  "metadata": {
    "kernelspec": {
      "name": "python",
      "display_name": "Python (Pyodide)",
      "language": "python"
    },
    "language_info": {
      "codemirror_mode": {
        "name": "python",
        "version": 3
      },
      "file_extension": ".py",
      "mimetype": "text/x-python",
      "name": "python",
      "nbconvert_exporter": "python",
      "pygments_lexer": "ipython3",
      "version": "3.8"
    }
  },
  "nbformat_minor": 5,
  "nbformat": 4,
  "cells": [
    {
      "cell_type": "markdown",
      "source": "## 19. Remove Nth Node From End of List\n\n**Difficulty:** Medium\n\n**Link to Problem:** [To see the Remove Nth Node From End of List problem on LeetCode, click here!](https://leetcode.com/problems/remove-nth-node-from-end-of-list/)\n\n---\n\nGiven the head of a linked list, remove the $n^{th}$ node from the end of the list and return its head.\n \n\n#### Constraints:\n\n- The number of nodes in the list is `sz`.\n- `1 <= sz <= 30`\n- `0 <= Node.val <= 100`\n- `1 <= n <= sz`\n\n**Follow up:** Could you do this in one pass?",
      "metadata": {},
      "id": "d6161252-e815-48d5-a2a3-5444c12e3b49"
    },
    {
      "cell_type": "code",
      "source": "class ListNode:\n    def __init__(self, val=0, next=None):\n        self.val = val\n        self.next = next\n\ndef removeNthFromEnd(head, n):\n    # Create a dummy node to handle the case of removing the head node.\n    dummy = ListNode(0)\n    dummy.next = head\n    first = dummy\n    second = dummy\n    \n    # Advance the first pointer by n+1 nodes.\n    for _ in range(n + 1):\n        first = first.next\n    \n    # Move both pointers simultaneously until first reaches the end.\n    while first is not None:\n        first = first.next\n        second = second.next\n    \n    # Remove the nth node by updating the next pointer of the previous node.\n    second.next = second.next.next\n    \n    return dummy.next  # Return the modified head of the linked list",
      "metadata": {
        "trusted": true
      },
      "execution_count": 23,
      "outputs": [],
      "id": "aabf7095-07dc-4ab7-876c-ec7213ed0de5"
    },
    {
      "cell_type": "markdown",
      "source": "### Explanation:\n\n1. We start by defining a `ListNode` class to represent individual nodes in a linked list. Each node has two attributes: `val` (the value of the node) and `next` (a reference to the next node in the list).\n\n2. The `removeNthFromEnd` function takes the head of a linked list (`head`) and the value `n`, which represents the position from the end of the list of the node to be removed. It returns the modified head of the linked list after the removal.\n\n3. We create a dummy node (`dummy`) at the beginning of the list. This dummy node simplifies the code by handling cases where the head of the list needs to be removed.\n\n4. We initialize two pointers, `first` and `second`, both initially pointing to the dummy node.\n\n5. To advance the `first` pointer by `n+1` nodes, we use a `for` loop. This positions the `first` pointer `n` nodes ahead of the `second` pointer.\n\n6. We then move both `first` and `second` pointers simultaneously until `first` reaches the end of the list. This ensures that the `second` pointer ends up pointing to the node that needs to be removed.\n\n7. To remove the nth node from the end, we update the `next` pointer of the node pointed to by the `second` pointer to skip over the node to be removed.\n\n8. Finally, we return `dummy.next`, which is the modified head of the linked list without the removed node.\n\n9. Additionally, there are two helper functions:\n   - `createLinkedList(values)` creates a linked list from a list of values.\n   - `convertToList(head)` converts a linked list back into a list of values.",
      "metadata": {},
      "id": "ece39324-cd9e-47d7-8677-a001878494d9"
    },
    {
      "cell_type": "code",
      "source": "# Helper function to create a linked list from a list of values.\ndef createLinkedList(values):\n    if not values:\n        return None\n    head = ListNode(values[0])\n    current = head\n    for val in values[1:]:\n        current.next = ListNode(val)\n        current = current.next\n    return head\n\n# Helper function to convert a linked list to a list of values.\ndef convertToList(head):\n    result = []\n    current = head\n    while current:\n        result.append(current.val)\n        current = current.next\n    return result",
      "metadata": {
        "trusted": true
      },
      "execution_count": 24,
      "outputs": [],
      "id": "01849ced-1bbf-4956-8e54-451b358cb4fe"
    },
    {
      "cell_type": "markdown",
      "source": "Let's explain the two helper functions:\n\n1. `createLinkedList(values)`: This function creates a linked list from a list of values.\n\n   - Input: `values` is a list containing values that you want to insert into the linked list.\n   - Output: The function returns the head of the created linked list.\n\n   Explanation:\n   - The function starts by checking if the `values` list is empty. If it is, it returns `None` to indicate an empty linked list.\n   - If the `values` list is not empty, it creates the first node of the linked list with the value from the first element of `values`.\n   - It then iterates through the remaining elements of `values` and creates new nodes for each value, connecting them together using the `next` attribute to form a linked list.\n   - Finally, it returns the head of the linked list, which is the first node created.\n   \n\n2. `convertToList(head)`: This function converts a linked list into a list of values.\n\n   - Input: `head` is the head node of the linked list that you want to convert.\n   - Output: The function returns a list containing the values of the nodes in the linked list in order.\n\n   Explanation:\n   - The function starts by initializing an empty list, `result`, to store the values of the linked list nodes.\n   - It then iterates through the linked list starting from the `head` node and appends the `val` attribute of each node to the `result` list.\n   - The iteration continues until it reaches the end of the linked list (i.e., the `next` attribute of the current node becomes `None`).\n   - After the iteration is complete, the function returns the `result` list, which now contains the values of all the nodes in the linked list in the same order as they appear in the linked list.\n\nThese helper functions are useful for creating linked lists from lists of values and converting linked lists back into lists of values, making it easier to work with linked list examples and test cases in a more familiar list format.",
      "metadata": {},
      "id": "f7490d01-d64e-4f20-b178-e14490d6dd6f"
    },
    {
      "cell_type": "markdown",
      "source": "## Test cases",
      "metadata": {},
      "id": "a54ea5b7-c53f-46c0-a44f-ef769ac68244"
    },
    {
      "cell_type": "code",
      "source": "# Example 1\nhead1 = createLinkedList([1, 2, 3, 4, 5])\nn1 = 2\nnew_head1 = removeNthFromEnd(head1, n1)\nprint(convertToList(new_head1))",
      "metadata": {
        "trusted": true
      },
      "execution_count": 25,
      "outputs": [
        {
          "name": "stdout",
          "text": "[1, 2, 3, 5]\n",
          "output_type": "stream"
        }
      ],
      "id": "355f5bfd-94e1-4c5b-9914-cc20775f4160"
    },
    {
      "cell_type": "code",
      "source": "# Example 2\nhead2 = createLinkedList([1])\nn2 = 1\nnew_head2 = removeNthFromEnd(head2, n2)\nprint(convertToList(new_head2))",
      "metadata": {
        "trusted": true
      },
      "execution_count": 26,
      "outputs": [
        {
          "name": "stdout",
          "text": "[]\n",
          "output_type": "stream"
        }
      ],
      "id": "192912fb-9d12-4911-9a4f-bfd37043e11d"
    },
    {
      "cell_type": "code",
      "source": "# Example 3\nhead3 = createLinkedList([1, 2])\nn3 = 1\nnew_head3 = removeNthFromEnd(head3, n3)\nprint(convertToList(new_head3))",
      "metadata": {
        "trusted": true
      },
      "execution_count": 27,
      "outputs": [
        {
          "name": "stdout",
          "text": "[1]\n",
          "output_type": "stream"
        }
      ],
      "id": "e140b956-7b3d-40d5-b6b0-9615860af67e"
    },
    {
      "cell_type": "markdown",
      "source": "Certainly! Let's analyze the time and space complexity of the `removeNthFromEnd` function in isolation:\n\n**Time Complexity:**\n- The `removeNthFromEnd` function performs two passes through the linked list. In the worst case, it needs to traverse the entire linked list of length $N$.\n- The first pass positions the `first` pointer $n$ nodes ahead of the `second` pointer. This pass takes $O(N)$ time because it involves iterating through all N nodes.\n- The second pass moves both `first` and `second` pointers simultaneously until `first` reaches the end of the list. This also takes $O(N)$ time in the worst case.\n- Therefore, the overall time complexity of the `removeNthFromEnd` function is $O(N)$.\n\n**Space Complexity:**\n- The `removeNthFromEnd` function uses a constant amount of extra space for its variables (e.g., `first`, `second`, and `dummy`). This space usage does not depend on the size of the linked list.\n- The space complexity is $O(1)$, indicating that the space used by the function is constant and independent of the size of the input linked list.\n\n**In summary**, the `removeNthFromEnd` function has a time complexity of $O(N)$ and a space complexity of $O(1)$. It efficiently removes the nth node from the end of the linked list with a single pass through the list and constant extra space usage.",
      "metadata": {},
      "id": "7d9dd448-c5f5-4192-8aa5-7c70ec7f42e2"
    }
  ]
}