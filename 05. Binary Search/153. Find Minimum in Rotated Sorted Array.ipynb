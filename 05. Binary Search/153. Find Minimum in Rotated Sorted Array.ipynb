{
  "cells": [
    {
      "cell_type": "markdown",
      "id": "d6161252-e815-48d5-a2a3-5444c12e3b49",
      "metadata": {},
      "source": [
        "# 153. Find Minimum in Rotated Sorted Array\n",
        "\n",
        "**Difficulty:** Medium\n",
        "\n",
        "**Link to Problem:** [To see the Find Minimum in Rotated Sorted Array problem on LeetCode, click here!](https://leetcode.com/problems/find-minimum-in-rotated-sorted-array/)\n",
        "\n",
        "---\n",
        "\n",
        "Suppose an array of length `n` sorted in ascending order is **rotated** between `1` and `n` times. For example, the array `nums = [0,1,2,4,5,6,7]` might become:\n",
        "\n",
        "- `[4,5,6,7,0,1,2]` if it was rotated `4` times.\n",
        "- `[0,1,2,4,5,6,7]` if it was rotated `7` times.\n",
        "\n",
        "Notice that **rotating** an array `[a[0], a[1], a[2], ..., a[n-1]]` 1 time results in the array `[a[n-1], a[0], a[1], a[2], ..., a[n-2]]`.\n",
        "\n",
        "Given the sorted rotated array `nums` of **unique** elements, return *the minimum element of this array.*\n",
        "\n",
        "You must write an algorithm that runs in $O(log\\ n)$ time.\n",
        " \n",
        "\n",
        "**Constraints:**\n",
        "\n",
        "- `n == nums.length`\n",
        "- `1 <= n <= 5000`\n",
        "- `-5000 <= nums[i] <= 5000`\n",
        "- All the integers of `nums` are **unique**.\n",
        "- `nums` is sorted and rotated between `1` and `n` times."
      ]
    },
    {
      "cell_type": "code",
      "execution_count": 39,
      "id": "aabf7095-07dc-4ab7-876c-ec7213ed0de5",
      "metadata": {
        "trusted": true
      },
      "outputs": [],
      "source": [
        "def findMin(nums):\n",
        "    left, right = 0, len(nums) - 1\n",
        "    \n",
        "    while left < right:\n",
        "        mid = left + (right - left) // 2\n",
        "        \n",
        "        # If the mid element is greater than the rightmost element,\n",
        "        # it means the minimum element is in the right half.\n",
        "        if nums[mid] > nums[right]:\n",
        "            left = mid + 1\n",
        "        # If the mid element is less than or equal to the rightmost element,\n",
        "        # it means the minimum element is in the left half or at the mid itself.\n",
        "        else:\n",
        "            right = mid\n",
        "    \n",
        "    # The loop will break when left and right converge to the minimum element.\n",
        "    # At this point, left (or right) will be pointing to the minimum element.\n",
        "    return nums[left]"
      ]
    },
    {
      "cell_type": "markdown",
      "id": "ece39324-cd9e-47d7-8677-a001878494d9",
      "metadata": {},
      "source": [
        "## Explanation:\n",
        "\n",
        "1. The function `findMin(nums)` takes an input list `nums`, which represents the rotated sorted array.\n",
        "\n",
        "2. Initialize two pointers `left` and `right` to track the current search range. Initially, `left` is set to 0 (the beginning of the array), and `right` is set to `len(nums) - 1` (the end of the array).\n",
        "\n",
        "3. Enter a `while` loop with the condition `left < right`. This loop continues until `left` and `right` converge to a single element, which will be the minimum element in the rotated array.\n",
        "\n",
        "4. Inside the loop, calculate the middle index `mid` using integer division. This helps in finding the middle element of the current search range.\n",
        "\n",
        "5. Check if the element at the middle index (`nums[mid]`) is greater than the element at the rightmost index (`nums[right]`). If this condition is true, it means that the minimum element must be in the right half of the current search range. So, update `left` to `mid + 1`, effectively eliminating the left half of the search range.\n",
        "\n",
        "6. If the condition from step 5 is not met, it implies that the minimum element can be in the left half of the current search range or could be the element at the `mid` index itself. In this case, update `right` to `mid`, effectively eliminating the right half of the search range.\n",
        "\n",
        "7. Repeat steps 4-6 until `left` and `right` converge to the minimum element.\n",
        "\n",
        "8. When the loop exits, it means that `left` (or `right`) points to the minimum element in the array.\n",
        "\n",
        "9. Return `nums[left]` (or `nums[right]`) as the result, which is the minimum element in the rotated sorted array."
      ]
    },
    {
      "cell_type": "markdown",
      "id": "a54ea5b7-c53f-46c0-a44f-ef769ac68244",
      "metadata": {},
      "source": [
        "## Test cases"
      ]
    },
    {
      "cell_type": "code",
      "execution_count": 43,
      "id": "355f5bfd-94e1-4c5b-9914-cc20775f4160",
      "metadata": {
        "trusted": true
      },
      "outputs": [
        {
          "name": "stdout",
          "output_type": "stream",
          "text": [
            "1\n"
          ]
        }
      ],
      "source": [
        "### Example 1:\n",
        "nums1 = [3, 4, 5, 1, 2]\n",
        "print(findMin(nums1))"
      ]
    },
    {
      "cell_type": "code",
      "execution_count": 41,
      "id": "192912fb-9d12-4911-9a4f-bfd37043e11d",
      "metadata": {
        "trusted": true
      },
      "outputs": [
        {
          "name": "stdout",
          "output_type": "stream",
          "text": [
            "0\n"
          ]
        }
      ],
      "source": [
        "# Example 2:\n",
        "nums2 = [4, 5, 6, 7, 0, 1, 2]\n",
        "print(findMin(nums2))"
      ]
    },
    {
      "cell_type": "code",
      "execution_count": 42,
      "id": "6c69a707-02af-4212-b2e7-1881d62a62d2",
      "metadata": {
        "trusted": true
      },
      "outputs": [
        {
          "name": "stdout",
          "output_type": "stream",
          "text": [
            "11\n"
          ]
        }
      ],
      "source": [
        "# Example 3:\n",
        "nums3 = [11, 13, 15, 17]\n",
        "print(findMin(nums3))"
      ]
    },
    {
      "cell_type": "markdown",
      "id": "7d9dd448-c5f5-4192-8aa5-7c70ec7f42e2",
      "metadata": {},
      "source": [
        "Let's analyze the time and space complexity of the provided code:\n",
        "\n",
        "**Time Complexity:**\n",
        "The time complexity of this code is $O(log\\ n)$, where '$n$' is the length of the input array `nums`. This is because the binary search algorithm is employed, which continually divides the search range in half with each iteration.\n",
        "\n",
        "In each iteration of the `while` loop, the search range is halved, and this process continues until the `left` and `right` pointers converge to the minimum element. In the worst case, it will take logarithmic time to reduce the search range to a single element.\n",
        "\n",
        "Therefore, the binary search used in this code runs in $O(log\\ n)$ time complexity.\n",
        "\n",
        "**Space Complexity:**\n",
        "The space complexity of this code is $O(1)$, which means it uses a constant amount of additional space that does not depend on the size of the input array.\n",
        "\n",
        "The algorithm uses a fixed number of variables (`left`, `right`, `mid`) to keep track of the search range and indices, but the number of these variables does not grow with the size of the input array. Hence, the space complexity is constant.\n",
        "\n",
        "**In summary:**\n",
        "- Time Complexity: $O(log\\ n)$\n",
        "- Space Complexity: $O(1)$"
      ]
    },
    {
      "cell_type": "markdown",
      "id": "037b210a-555b-4da3-8130-b74d1e4f33f6",
      "metadata": {},
      "source": [
        "## Challenging Exercises:\n",
        "\n",
        "1. Solve the problem with a variation where the input array may contain duplicates.\n",
        "\n",
        "2. Modify the problem to return the index of the minimum element in the rotated sorted array, rather than the element itself. The algorithm should still run in $O(log\\ n)$ time.\n",
        "\n",
        "3. Implement a function that finds the maximum element in a rotated sorted array. How would you adapt the binary search algorithm to solve this problem efficiently in $O(log\\ n)$ time?\n",
        "\n",
        "4. Implement a function that can find the kth smallest element in a rotated sorted array. This is an extension of the original problem, and the algorithm should still run in $O(log\\ n)$ time."
      ]
    }
  ],
  "metadata": {
    "kernelspec": {
      "display_name": "Python (Pyodide)",
      "language": "python",
      "name": "python"
    },
    "language_info": {
      "codemirror_mode": {
        "name": "python",
        "version": 3
      },
      "file_extension": ".py",
      "mimetype": "text/x-python",
      "name": "python",
      "nbconvert_exporter": "python",
      "pygments_lexer": "ipython3",
      "version": "3.8"
    }
  },
  "nbformat": 4,
  "nbformat_minor": 5
}
