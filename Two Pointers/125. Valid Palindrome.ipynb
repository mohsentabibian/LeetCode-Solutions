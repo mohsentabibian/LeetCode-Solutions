{
  "metadata": {
    "kernelspec": {
      "name": "python",
      "display_name": "Python (Pyodide)",
      "language": "python"
    },
    "language_info": {
      "codemirror_mode": {
        "name": "python",
        "version": 3
      },
      "file_extension": ".py",
      "mimetype": "text/x-python",
      "name": "python",
      "nbconvert_exporter": "python",
      "pygments_lexer": "ipython3",
      "version": "3.8"
    }
  },
  "nbformat_minor": 5,
  "nbformat": 4,
  "cells": [
    {
      "cell_type": "markdown",
      "source": "## 125. Valid Palindrome\n\n**Difficulty:** Easy\n\n**Link to Problem:** [To see the Valid Palindrome problem on LeetCode, click here!](https://leetcode.com/problems/valid-palindrome/)\n\n---\n\nA phrase is a **palindrome** if, after converting all uppercase letters into lowercase letters and removing all non-alphanumeric characters, it reads the same forward and backward. Alphanumeric characters include letters and numbers.\n\nGiven a string `s`, *return `true` if it is a **palindrome**, or `false` otherwise.*\n\n#### Constraints:\n\n- 1 <= `s.length` <= $2*10^5$\n- `s` consists only of printable ASCII characters.\n\n## Solution:\nHere's a Python function to solve this problem:",
      "metadata": {},
      "id": "d6161252-e815-48d5-a2a3-5444c12e3b49"
    },
    {
      "cell_type": "code",
      "source": "def isPalindrome(s):\n    # Step 1: Convert the input string to lowercase\n    s = s.lower()\n    \n    # Step 2: Remove all non-alphanumeric characters from the string\n    cleaned_s = ''.join(c for c in s if c.isalnum())\n    \n    # Step 3: Initialize two pointers, one at the beginning and one at the end of the cleaned string\n    left, right = 0, len(cleaned_s) - 1\n    \n    # Step 4: Compare characters using the two pointers while moving them towards each other\n    while left < right:\n        if cleaned_s[left] != cleaned_s[right]:\n            return False  # If characters don't match, it's not a palindrome\n        left += 1\n        right -= 1\n    \n    # Step 5: If the loop completes without returning False, it's a palindrome\n    return True",
      "metadata": {
        "trusted": true
      },
      "execution_count": 14,
      "outputs": [],
      "id": "aabf7095-07dc-4ab7-876c-ec7213ed0de5"
    },
    {
      "cell_type": "markdown",
      "source": "### Explanation:\n\n1. The `isPalindrome` function takes an input string `s`.\n\n2. It starts by converting the input string to lowercase using `s.lower()`. This step ensures that the function is case-insensitive when checking for palindromes.\n\n3. Next, it removes all non-alphanumeric characters from the string and stores the result in the `cleaned_s` variable. It does this by iterating through each character in the input string and only keeping characters that are alphanumeric (letters and digits). This step removes spaces, punctuation, and other non-alphanumeric characters.\n\n4. The function then initializes two pointers, `left` and `right`, which will be used to compare characters from the beginning and end of the cleaned string.\n\n5. In a while loop, it compares characters using the two pointers while moving them towards each other. The loop continues until the `left` pointer is less than the `right` pointer. This is done to check all characters in the cleaned string.\n\n6. Inside the loop, it checks if the characters at the `left` and `right` pointers don't match. If they don't match, it means the input is not a palindrome, so the function returns `False`.\n\n7. If the characters at the `left` and `right` pointers match, the pointers are moved closer to each other by incrementing `left` and decrementing `right`.\n\n8. The loop continues to compare characters until it either finds a mismatch (returning `False`) or until the `left` pointer is greater than or equal to the `right` pointer. If the loop completes without finding a mismatch, it means the input is a palindrome, so the function returns `True`.\n\nIn summary, the code converts the input string to lowercase, removes non-alphanumeric characters, and then uses two pointers to compare characters from the cleaned string's beginning and end. If all characters match during the comparison, the function returns `True`, indicating that the input is a palindrome. If any characters do not match, it returns `False`.",
      "metadata": {},
      "id": "ece39324-cd9e-47d7-8677-a001878494d9"
    },
    {
      "cell_type": "markdown",
      "source": "## Test cases",
      "metadata": {},
      "id": "a54ea5b7-c53f-46c0-a44f-ef769ac68244"
    },
    {
      "cell_type": "code",
      "source": "# Example 1:\ninput1 = \"A man, a plan, a canal: Panama\"\noutput1 = isPalindrome(input1)\nprint(output1)",
      "metadata": {
        "trusted": true
      },
      "execution_count": 16,
      "outputs": [
        {
          "name": "stdout",
          "text": "True\n",
          "output_type": "stream"
        }
      ],
      "id": "355f5bfd-94e1-4c5b-9914-cc20775f4160"
    },
    {
      "cell_type": "code",
      "source": "# Example 2\ninput2 = \"race a car\"\noutput2 = isPalindrome(input2)\nprint(output2)",
      "metadata": {
        "trusted": true
      },
      "execution_count": 17,
      "outputs": [
        {
          "name": "stdout",
          "text": "False\n",
          "output_type": "stream"
        }
      ],
      "id": "192912fb-9d12-4911-9a4f-bfd37043e11d"
    },
    {
      "cell_type": "code",
      "source": "# Example 3\ninput3 = \"\"\noutput3 = isPalindrome(input3)\nprint(output3)",
      "metadata": {
        "trusted": true
      },
      "execution_count": 18,
      "outputs": [
        {
          "name": "stdout",
          "text": "True\n",
          "output_type": "stream"
        }
      ],
      "id": "e191cf7e-95f9-4e5c-a99b-146c2a779c0b"
    },
    {
      "cell_type": "markdown",
      "source": "## Time and Space Complexity Analysis\n\nLet's analyze the time and space complexity of the `isPalindrome` function that uses two pointers:\n\n1. **Time Complexity:**\n   - Converting the input string to lowercase using `s.lower()` takes O(n) time, where 'n' is the length of the input string.\n   - Removing non-alphanumeric characters using the list comprehension `''.join(c for c in s if c.isalnum())` also takes O(n) time because it iterates through each character in the string once.\n   - The comparison of characters using the two pointers (`left` and `right`) is done in a loop that runs until `left` is less than `right`. In the worst case, the loop iterates through half of the string, so it takes O(n/2) time, which is still considered O(n).\n\n   Therefore, the overall time complexity of the `isPalindrome` function is O(n), where 'n' is the length of the input string.\n\n2. **Space Complexity:**\n   - The space complexity is primarily determined by the additional string `cleaned_s` created to store the cleaned version of the input string. In the worst case, if all characters in the input string are alphanumeric, this cleaned string can be as large as the original input string.\n   - Additionally, the function uses two pointers, `left` and `right`, which consume constant space and do not depend on the size of the input.\n\n**In summary,** the overall space complexity of the `isPalindrome` function is O(n) in the worst case, where 'n' is the length of the input string. The space complexity is dominated by the space required for `cleaned_s`.",
      "metadata": {},
      "id": "7d9dd448-c5f5-4192-8aa5-7c70ec7f42e2"
    },
    {
      "cell_type": "markdown",
      "source": "### Challenging Exercises:\n\n1. **Longest Palindromic Substring:** Given a string `s`, find and return the longest palindromic substring within `s`. For example, if `s = \"babad\"`, the function should return `\"bab\"` or `\"aba\"`.\n2. **Palindrome with Limited Characters:** Given a string `s` and a list of characters `allowed_chars`, check if `s` is a palindrome considering only the characters from `allowed_chars`. Ignore all other characters. For example, if `s = \"A man, a plan, a canal: Panama\"` and `allowed_chars = ['a', 'm', 'n', 'p']`, the function should return `True`.",
      "metadata": {},
      "id": "037b210a-555b-4da3-8130-b74d1e4f33f6"
    }
  ]
}