{
  "cells": [
    {
      "cell_type": "markdown",
      "id": "d6161252-e815-48d5-a2a3-5444c12e3b49",
      "metadata": {},
      "source": [
        "# 199. Binary Tree Right Side View\n",
        "\n",
        "**Difficulty:** Medium\n",
        "\n",
        "**Link to Problem:** [To see the Binary Tree Right Side View problem on LeetCode, click here!](https://leetcode.com/problems/binary-tree-right-side-view/)\n",
        "\n",
        "---\n",
        "Given the `root` of a binary tree, imagine yourself standing on the **right side** of it, return *the values of the nodes you can see ordered from top to bottom*.\n",
        "\n",
        " \n",
        "\n",
        "**Constraints:**\n",
        "- The number of nodes in the tree is in the range `[0, 2000]`.\n",
        "- `-100 <= Node.val <= 100`\n",
        "\n",
        "\n",
        "## Solution:\n",
        "Here's a Python function to solve this problem:"
      ]
    },
    {
      "cell_type": "code",
      "execution_count": 9,
      "id": "aabf7095-07dc-4ab7-876c-ec7213ed0de5",
      "metadata": {
        "trusted": true
      },
      "outputs": [],
      "source": [
        "class TreeNode:\n",
        "    def __init__(self, val=0, left=None, right=None):\n",
        "        self.val = val\n",
        "        self.left = left\n",
        "        self.right = right\n",
        "\n",
        "def rightSideView(root):\n",
        "    if not root:\n",
        "        return []  # If the tree is empty, return an empty list.\n",
        "\n",
        "    result = []  # Initialize a list to store the right side view values.\n",
        "    queue = [root]  # Initialize a queue for level-order traversal with the root node.\n",
        "\n",
        "    while queue:\n",
        "        # Get the number of nodes at the current level.\n",
        "        level_size = len(queue)\n",
        "\n",
        "        # Traverse all nodes at the current level and add the rightmost node to the result.\n",
        "        for i in range(level_size):\n",
        "            node = queue.pop(0)  # Dequeue the first node from the queue.\n",
        "\n",
        "            # If it's the rightmost node at this level, add its value to the result.\n",
        "            if i == level_size - 1:\n",
        "                result.append(node.val)\n",
        "\n",
        "            # Add the children of the current node to the queue.\n",
        "            if node.left:\n",
        "                queue.append(node.left)\n",
        "            if node.right:\n",
        "                queue.append(node.right)\n",
        "\n",
        "    return result  # Return the list of right side view values.\n"
      ]
    },
    {
      "cell_type": "markdown",
      "id": "ece39324-cd9e-47d7-8677-a001878494d9",
      "metadata": {},
      "source": [
        "## Explanation:\n",
        "\n",
        "1. We start with a binary tree represented using a TreeNode class. Each node has a value (`val`) and can have a left child (`left`) and a right child (`right`).\n",
        "\n",
        "2. The `rightSideView` function takes the root node of the binary tree as input and returns a list of values representing the nodes you can see when standing on the right side of the tree.\n",
        "\n",
        "3. We check if the `root` is `None`, which means the tree is empty. If it's empty, we return an empty list because there are no nodes to see.\n",
        "\n",
        "4. We initialize an empty list called `result` to store the right side view values.\n",
        "\n",
        "5. We initialize a queue called `queue` with the root node. This queue is used for a level-order traversal of the tree.\n",
        "\n",
        "6. We enter a while loop that continues until the `queue` is empty. Inside this loop, we perform the following steps for each level of the tree:\n",
        "\n",
        "   a. We determine the number of nodes at the current level by getting the length of the `queue`. This is important for processing nodes at the same level together.\n",
        "\n",
        "   b. We then iterate through the nodes at the current level using a for loop. For each node in the level, we dequeue it from the `queue` using `queue.pop(0)`.\n",
        "\n",
        "   c. If the node we dequeue is the rightmost node at the current level (determined by `i == level_size - 1`), we add its `val` to the `result` list. This is because, when standing on the right side of the tree, you can see the rightmost node at each level.\n",
        "\n",
        "   d. We enqueue the left and right children of the current node (if they exist) to the `queue`. This ensures that we process the next level in the subsequent iterations of the while loop.\n",
        "\n",
        "7. After processing all levels of the tree, the `result` list contains the values of the rightmost nodes in each level, ordered from top to bottom.\n",
        "\n",
        "8. Finally, we return the `result` list as the output of the function, which represents the right side view of the binary tree.\n",
        "\n",
        "The code effectively performs a level-order traversal of the binary tree while keeping track of the rightmost nodes at each level and adding them to the result list. This ensures that we obtain the correct order of nodes visible from the right side of the tree."
      ]
    },
    {
      "cell_type": "markdown",
      "id": "a54ea5b7-c53f-46c0-a44f-ef769ac68244",
      "metadata": {},
      "source": [
        "## Test cases"
      ]
    },
    {
      "cell_type": "code",
      "execution_count": 10,
      "id": "355f5bfd-94e1-4c5b-9914-cc20775f4160",
      "metadata": {
        "trusted": true
      },
      "outputs": [
        {
          "name": "stdout",
          "output_type": "stream",
          "text": [
            "[1, 3, 4]\n"
          ]
        }
      ],
      "source": [
        "# Example 1: \n",
        "\n",
        "# Construct the tree\n",
        "root1 = TreeNode(1)\n",
        "root1.left = TreeNode(2)\n",
        "root1.right = TreeNode(3)\n",
        "root1.left.right = TreeNode(5)\n",
        "root1.right.right = TreeNode(4)\n",
        "print(rightSideView(root1))"
      ]
    },
    {
      "cell_type": "code",
      "execution_count": 11,
      "id": "192912fb-9d12-4911-9a4f-bfd37043e11d",
      "metadata": {
        "trusted": true
      },
      "outputs": [
        {
          "name": "stdout",
          "output_type": "stream",
          "text": [
            "[1, 3]\n"
          ]
        }
      ],
      "source": [
        "# Example 2:\n",
        "\n",
        "root2 = TreeNode(1)\n",
        "root2.right = TreeNode(3)\n",
        "print(rightSideView(root2))"
      ]
    },
    {
      "cell_type": "code",
      "execution_count": 12,
      "id": "7fc71180-e586-4c37-9fcf-2f574cb2b9d6",
      "metadata": {
        "trusted": true
      },
      "outputs": [
        {
          "name": "stdout",
          "output_type": "stream",
          "text": [
            "[]\n"
          ]
        }
      ],
      "source": [
        "# Example 3:\n",
        "# Creating a new tree for this example\n",
        "root = None\n",
        "result = rightSideView(root)\n",
        "print(result)"
      ]
    },
    {
      "cell_type": "markdown",
      "id": "7d9dd448-c5f5-4192-8aa5-7c70ec7f42e2",
      "metadata": {},
      "source": [
        "## Time and Space Complexity Analysis\n",
        "\n",
        "Let's analyze the time and space complexity of the given code:\n",
        "\n",
        "**Time Complexity:**\n",
        "\n",
        "The time complexity of the code is O(N), where N is the number of nodes in the binary tree. Here's why:\n",
        "\n",
        "1. We perform a level-order traversal of the tree using a queue. In the worst case, we visit all nodes once, which takes O(N) time since we visit each node exactly once.\n",
        "\n",
        "2. For each node, we perform constant-time operations like dequeuing it from the queue, checking if it's the rightmost node at the current level, and enqueuing its children (if they exist). These operations do not depend on the size of the tree, so they do not contribute to the overall time complexity.\n",
        "\n",
        "Therefore, the dominant factor in the time complexity is the level-order traversal, making it O(N).\n",
        "\n",
        "**Space Complexity:**\n",
        "\n",
        "The space complexity of the code is also O(N). Here's why:\n",
        "\n",
        "1. We use a queue to perform level-order traversal. In the worst case, the queue can contain all nodes at the maximum width of the tree, which can be up to N/2 nodes for a completely unbalanced tree. Therefore, the space required for the queue is O(N).\n",
        "\n",
        "2. The `result` list stores the values of the rightmost nodes. In the worst case, when the binary tree is a complete binary tree, it can have roughly N/2 rightmost nodes. Therefore, the space required for the `result` list is also O(N).\n",
        "\n",
        "3. Other auxiliary variables like `level_size`, `i`, and `node` require only constant space and do not depend on the size of the tree.\n",
        "\n",
        "Combining the space used by the queue and the `result` list, we get a space complexity of O(N).\n",
        "\n",
        "In summary, the code has a time complexity of O(N) and a space complexity of O(N), where N is the number of nodes in the binary tree. These complexities are efficient and scale linearly with the size of the input tree."
      ]
    },
    {
      "cell_type": "markdown",
      "id": "037b210a-555b-4da3-8130-b74d1e4f33f6",
      "metadata": {},
      "source": [
        "## Challenging Exercises:\n",
        "\n",
        "1. **Variant with Left Side View**: Modify the code to find and return the values of nodes visible from the left side of the binary tree instead of the right side.\n",
        "\n",
        "2. **Zigzag Right Side View**: Extend the code to return the right side view values in a zigzag order. In a zigzag order, you alternate between starting from the rightmost node at level 0, then the leftmost at level 1, rightmost at level 2, and so on."
      ]
    }
  ],
  "metadata": {
    "kernelspec": {
      "display_name": "Python (Pyodide)",
      "language": "python",
      "name": "python"
    },
    "language_info": {
      "codemirror_mode": {
        "name": "python",
        "version": 3
      },
      "file_extension": ".py",
      "mimetype": "text/x-python",
      "name": "python",
      "nbconvert_exporter": "python",
      "pygments_lexer": "ipython3",
      "version": "3.8"
    }
  },
  "nbformat": 4,
  "nbformat_minor": 5
}
