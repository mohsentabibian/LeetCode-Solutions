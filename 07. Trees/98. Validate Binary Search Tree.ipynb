{
  "cells": [
    {
      "cell_type": "markdown",
      "id": "d6161252-e815-48d5-a2a3-5444c12e3b49",
      "metadata": {},
      "source": [
        "# 98. Validate Binary Search Tree\n",
        "\n",
        "**Difficulty:** Medium\n",
        "\n",
        "**Link to Problem:** [To see the Validate Binary Search Tree problem on LeetCode, click here!](https://leetcode.com/problems/validate-binary-search-tree/)\n",
        "\n",
        "---\n",
        "Given the `root` of a binary tree, *determine if it is a valid binary search tree (BST)*.\n",
        "\n",
        "A **valid BST** is defined as follows:\n",
        "\n",
        "- The left subtree of a node contains only nodes with keys **less than** the node's key.\n",
        "- The right subtree of a node contains only nodes with keys **greater than** the node's key.\n",
        "- Both the left and right subtrees must also be binary search trees. \n",
        "\n",
        "**Constraints:**\n",
        "- The number of nodes in the tree is in the range $[1, 10^4]$.\n",
        "- $-2^{31}$ <= `Node.val` <= $2^{31} - 1$\n",
        "\n",
        "\n",
        "## Solution:\n",
        "Here's a Python function to solve this problem:"
      ]
    },
    {
      "cell_type": "code",
      "execution_count": 1,
      "id": "aabf7095-07dc-4ab7-876c-ec7213ed0de5",
      "metadata": {
        "trusted": true
      },
      "outputs": [],
      "source": [
        "class TreeNode:\n",
        "    def __init__(self, val=0, left=None, right=None):\n",
        "        self.val = val\n",
        "        self.left = left\n",
        "        self.right = right\n",
        "\n",
        "def is_valid_BST(root):\n",
        "    def is_valid(node, min_val, max_val):\n",
        "        # Base case: If the node is None, it's a valid BST.\n",
        "        if node is None:\n",
        "            return True\n",
        "        \n",
        "        # Check if the current node's value is within the valid range.\n",
        "        if not (min_val < node.val < max_val):\n",
        "            return False\n",
        "        \n",
        "        # Recursively check the left and right subtrees with updated ranges.\n",
        "        return (is_valid(node.left, min_val, node.val) and\n",
        "                is_valid(node.right, node.val, max_val))\n",
        "    \n",
        "    # Call the helper function starting with a wide range for root node.\n",
        "    return is_valid(root, float('-inf'), float('inf'))"
      ]
    },
    {
      "cell_type": "markdown",
      "id": "ece39324-cd9e-47d7-8677-a001878494d9",
      "metadata": {},
      "source": [
        "## Explanation:\n",
        "\n",
        "- It defines a `TreeNode` class to represent nodes in the binary tree.\n",
        "\n",
        "- The `is_valid_BST` function takes the root node of the binary tree as input and returns `True` if the tree is a valid BST, and `False` otherwise.\n",
        "\n",
        "- Inside the `is_valid_BST` function, there is a helper function called `is_valid` that performs the actual validation using a recursive approach.\n",
        "\n",
        "- The `is_valid` function checks each node in the tree to ensure that it satisfies the properties of a BST:\n",
        "  - The value of the current node must be within a valid range defined by `min_val` and `max_val`.\n",
        "  - The left subtree of the current node should contain values less than the current node's value.\n",
        "  - The right subtree of the current node should contain values greater than the current node's value.\n",
        "\n",
        "- If any of these conditions are violated, the function returns `False`, indicating that the tree is not a valid BST.\n",
        "\n",
        "- If all nodes satisfy these conditions, the function returns `True`, indicating that the tree is a valid BST.\n",
        "\n",
        "- The code calls the `is_valid` function with the root node and initial range values of negative infinity to positive infinity to start the validation.\n",
        "\n",
        "- The time complexity of the code is O(N), where N is the number of nodes in the tree, as it traverses each node once.\n",
        "\n",
        "- The space complexity depends on the height of the tree. In the average case for a balanced BST, the space complexity is O(log N), but in the worst case (skewed tree), it can be O(N) due to the recursive call stack.\n",
        "\n",
        "In summary, this code checks whether a given binary tree is a valid BST by recursively validating each node's value and its left and right subtrees while maintaining valid value ranges. If all nodes satisfy the BST properties, the tree is considered a valid BST."
      ]
    },
    {
      "cell_type": "markdown",
      "id": "a54ea5b7-c53f-46c0-a44f-ef769ac68244",
      "metadata": {},
      "source": [
        "## Test cases"
      ]
    },
    {
      "cell_type": "code",
      "execution_count": 2,
      "id": "355f5bfd-94e1-4c5b-9914-cc20775f4160",
      "metadata": {
        "trusted": true
      },
      "outputs": [
        {
          "name": "stdout",
          "output_type": "stream",
          "text": [
            "True\n"
          ]
        }
      ],
      "source": [
        "# Example 1: \n",
        "\n",
        "# Example usage:\n",
        "# Create the tree for the first example: [2, 1, 3]\n",
        "root1 = TreeNode(2)\n",
        "root1.left = TreeNode(1)\n",
        "root1.right = TreeNode(3)\n",
        "print(is_valid_BST(root1))"
      ]
    },
    {
      "cell_type": "code",
      "execution_count": 3,
      "id": "192912fb-9d12-4911-9a4f-bfd37043e11d",
      "metadata": {
        "trusted": true
      },
      "outputs": [
        {
          "name": "stdout",
          "output_type": "stream",
          "text": [
            "False\n"
          ]
        }
      ],
      "source": [
        "# Example 2:\n",
        "\n",
        "# Create the tree for the second example: [5, 1, 4, None, None, 3, 6]\n",
        "root2 = TreeNode(5)\n",
        "root2.left = TreeNode(1)\n",
        "root2.right = TreeNode(4)\n",
        "root2.right.left = TreeNode(3)\n",
        "root2.right.right = TreeNode(6)\n",
        "print(is_valid_BST(root2))"
      ]
    },
    {
      "cell_type": "markdown",
      "id": "7d9dd448-c5f5-4192-8aa5-7c70ec7f42e2",
      "metadata": {},
      "source": [
        "## Time and Space Complexity Analysis\n",
        "\n",
        "Let's analyze the time and space complexity of the `is_valid_BST` function:\n",
        "\n",
        "**Time Complexity:**\n",
        "- The time complexity of the function primarily depends on the number of nodes in the binary tree.\n",
        "- In the worst case, we may have to visit every node in the tree once to validate whether it's part of a valid BST.\n",
        "- Since we are performing a depth-first search (DFS) traversal of the tree, the time complexity is O(N), where N is the number of nodes in the tree.\n",
        "\n",
        "**Space Complexity:**\n",
        "- The space complexity is determined by the space used by the recursive call stack during the DFS traversal.\n",
        "- In the worst case, if the tree is completely unbalanced (a skewed tree), the maximum depth of the call stack would be equal to the height of the tree.\n",
        "- In a balanced BST, the height is approximately log2(N), where N is the number of nodes.\n",
        "- Therefore, the space complexity of the call stack is O(log N) for a balanced BST.\n",
        "- In the worst case (skewed tree), the space complexity can be O(N) as the height of the tree can be equal to N.\n",
        "\n",
        "**Overall:**\n",
        "- Time Complexity: O(N)\n",
        "- Space Complexity: O(log N) on average for a balanced BST, and O(N) in the worst case for a skewed tree.\n",
        "\n",
        "The space complexity is typically dominated by the recursive call stack, and it varies depending on the shape of the binary tree. In practice, for balanced binary trees, the space complexity is often close to O(log N), which is quite efficient."
      ]
    },
    {
      "cell_type": "markdown",
      "id": "037b210a-555b-4da3-8130-b74d1e4f33f6",
      "metadata": {},
      "source": [
        "## Challenging Exercises:\n",
        "\n",
        "1. **Complex Constraints**: Modify the problem to have more complex constraints on the tree. For example, consider a binary tree with constraints like \"The left subtree of a node contains only nodes with keys less than or equal to the node's key,\" and \"The right subtree of a node contains only nodes with keys greater than or equal to the node's key.\" How would you adapt the code to handle these constraints?\n",
        "\n",
        "2. **Handling Duplicates**: Modify the code to handle binary search trees that allow duplicate values. In a standard BST, each value is unique, but in this case, multiple nodes can have the same value. The tree should still be considered valid if it follows the BST property."
      ]
    }
  ],
  "metadata": {
    "kernelspec": {
      "display_name": "Python (Pyodide)",
      "language": "python",
      "name": "python"
    },
    "language_info": {
      "codemirror_mode": {
        "name": "python",
        "version": 3
      },
      "file_extension": ".py",
      "mimetype": "text/x-python",
      "name": "python",
      "nbconvert_exporter": "python",
      "pygments_lexer": "ipython3",
      "version": "3.8"
    }
  },
  "nbformat": 4,
  "nbformat_minor": 5
}
