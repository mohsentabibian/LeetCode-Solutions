{
  "metadata": {
    "kernelspec": {
      "name": "python",
      "display_name": "Python (Pyodide)",
      "language": "python"
    },
    "language_info": {
      "codemirror_mode": {
        "name": "python",
        "version": 3
      },
      "file_extension": ".py",
      "mimetype": "text/x-python",
      "name": "python",
      "nbconvert_exporter": "python",
      "pygments_lexer": "ipython3",
      "version": "3.8"
    }
  },
  "nbformat_minor": 5,
  "nbformat": 4,
  "cells": [
    {
      "cell_type": "markdown",
      "source": "## 212. Word Search II\n\n**Difficulty:** Hard\n\n**Link to Problem:** [To see the Word Search II problem on LeetCode, click here!](https://leetcode.com/problems/word-search-ii/)\n\n---\nGiven an `m x n` `board` of characters and a list of strings `words`, the task is to return *all words on the board*.\n\nEach word must be constructed from letters of sequentially **adjacent cells**, where adjacent cells are horizontally or vertically neighboring. The same letter cell may not be used more than once in a word.\n\n\n**Constraints:**\n- `m == board.length`\n- `n == board[i].length`\n- `1 <= m, n <= 12`\n- `board[i][j]` is a lowercase English letter.\n- 1 <= `words.length` <= $3 * 10^4$\n- `1 <= words[i].length <= 10`\n- `words[i]` consists of lowercase English letters.\n- All the strings of `words` are unique.",
      "metadata": {
        "jp-MarkdownHeadingCollapsed": true
      },
      "id": "d6161252-e815-48d5-a2a3-5444c12e3b49"
    },
    {
      "cell_type": "markdown",
      "source": "## Probelm Explanation:\n\nTo solve the \"Word Search II\" problem, you can use a Trie data structure and perform a depth-first search (DFS) on the board. Here's a step-by-step approach to solve the problem:\n\n1. Build a Trie from the given list of words:\n   - Create a Trie data structure to store all the words from the input list.\n   - For each word in the input list, insert it into the Trie, character by character. Make sure to mark the end of each word in the Trie.\n\n2. Perform DFS on the board:\n   - Iterate through each cell (i, j) on the board.\n   - For each cell, start a DFS traversal from that cell to search for words.\n   - During the DFS traversal, maintain a current path string.\n   - At each cell, check if the current path string, concatenated with the character in the cell, matches any word prefix in the Trie. If it does, continue the DFS.\n   - If the current path string matches a word in the Trie, add it to the result.\n\n3. Implement DFS with backtracking:\n   - During the DFS traversal, you will explore neighboring cells (horizontally and vertically) if they are within bounds and haven't been visited before.\n   - To prevent revisiting the same cell within the same word, mark the cell as visited (e.g., change its character to a special character like '#') before exploring it and restore its original character after the DFS traversal.\n\n4. Return the result:\n   - After completing the DFS traversal for all cells on the board, you will have collected all the valid words in the result set.\n   - Convert the result set to a list and return it as the final output.\n\nThis approach efficiently finds all words on the board by utilizing the Trie data structure to prune unnecessary DFS paths and avoiding duplicate visits to the same cell within the same word. It ensures that each word is constructed from letters of sequentially adjacent cells without using the same letter cell more than once in a word.\n\n## Solution:\nHere's a Python function to implement this algorithm:",
      "metadata": {},
      "id": "fe9e71ae-2099-4eb9-b7a1-ec795ce92c76"
    },
    {
      "cell_type": "code",
      "source": "# Define a TrieNode class to represent nodes in the Trie.\nclass TrieNode:\n    def __init__(self):\n        self.children = {}  # Dictionary to store child nodes.\n        self.is_end_of_word = False  # Flag to mark the end of a word.\n\n# Main function to find words on the board.\ndef findWords(board, words):\n    # DFS function to search for words starting from a given cell.\n    def dfs(node, i, j, path):\n        char = board[i][j]  # Get the character at the current cell.\n        curr_node = node.children.get(char)  # Find the corresponding Trie node.\n\n        if not curr_node:\n            return  # If no matching Trie node, stop the search.\n\n        path += char  # Add the character to the current path.\n\n        if curr_node.is_end_of_word:\n            result.add(path)  # If the path matches a word, add it to the result.\n\n        temp, board[i][j] = board[i][j], \"#\"  # Mark the cell as visited.\n\n        # Explore neighboring cells (up, down, left, right).\n        if i > 0:\n            dfs(curr_node, i - 1, j, path)\n        if i < m - 1:\n            dfs(curr_node, i + 1, j, path)\n        if j > 0:\n            dfs(curr_node, i, j - 1, path)\n        if j < n - 1:\n            dfs(curr_node, i, j + 1, path)\n\n        board[i][j] = temp  # Restore the cell's original character.\n\n    # Function to build a Trie from the list of words.\n    def buildTrie():\n        root = TrieNode()  # Create a root node.\n        for word in words:\n            node = root\n            for char in word:\n                if char not in node.children:\n                    node.children[char] = TrieNode()  # Create a new node if needed.\n                node = node.children[char]\n            node.is_end_of_word = True  # Mark the end of the word.\n        return root\n\n    m, n = len(board), len(board[0])  # Get the dimensions of the board.\n    root = buildTrie()  # Build the Trie from the list of words.\n    result = set()  # Use a set to store unique words found on the board.\n\n    # Iterate through each cell on the board and start DFS from there.\n    for i in range(m):\n        for j in range(n):\n            dfs(root, i, j, \"\")  # Start DFS from each cell on the board.\n\n    return list(result)  # Convert the set to a list and return the result.",
      "metadata": {
        "trusted": true
      },
      "execution_count": 5,
      "outputs": [],
      "id": "aabf7095-07dc-4ab7-876c-ec7213ed0de5"
    },
    {
      "cell_type": "markdown",
      "source": "### Explanation:\n\nThe code solves the \"Word Search II\" problem, where you have a grid of characters and a list of words. The goal is to find all words from the list that can be constructed by traversing adjacent cells (horizontally or vertically) in the grid, without using the same cell more than once for a single word.\n\nThe code does the following:\n\n1. Defines a `TrieNode` class to represent nodes in a Trie data structure. Each node has children (other characters in the word) and a flag to mark the end of a word.\n\n2. Defines the `findWords` function, which takes the grid (`board`) and a list of words (`words`) as input.\n\n3. Inside the `findWords` function, there is a `dfs` (depth-first search) function. This function is used to explore the grid starting from a specific cell. It checks if the current path matches any word in the Trie and adds it to the result if found.\n\n4. The code also includes a `buildTrie` function that constructs a Trie data structure from the list of words. It iterates through each word, creating nodes for each character in the Trie and marking the end of words.\n\n5. The dimensions of the grid are obtained (m x n).\n\n6. A Trie is built using the `buildTrie` function.\n\n7. A set called `result` is used to store unique words found in the grid.\n\n8. The code iterates through each cell on the grid (using nested loops) and starts a DFS search from each cell.\n\n9. During the DFS, it explores neighboring cells (up, down, left, right) if they haven't been visited before and if the current path matches a prefix in the Trie.\n\n10. When a word is found during the DFS traversal, it is added to the `result` set.\n\n11. The grid cell is marked as visited during the DFS by changing its character to \"#\", and it is restored to its original character after the DFS traversal.\n\n12. Finally, the set of unique words found is converted to a list and returned as the output.\n\nThe code effectively uses a Trie data structure to optimize the search and ensures that each word is constructed from adjacent cells without reusing the same cell for the same word.",
      "metadata": {},
      "id": "ece39324-cd9e-47d7-8677-a001878494d9"
    },
    {
      "cell_type": "markdown",
      "source": "## Test cases:\n\nHere's how you can use this solution:",
      "metadata": {},
      "id": "a54ea5b7-c53f-46c0-a44f-ef769ac68244"
    },
    {
      "cell_type": "code",
      "source": "# Example 1: \n\nboard1 = [[\"o\",\"a\",\"a\",\"n\"],[\"e\",\"t\",\"a\",\"e\"],[\"i\",\"h\",\"k\",\"r\"],[\"i\",\"f\",\"l\",\"v\"]]\nwords1 = [\"oath\",\"pea\",\"eat\",\"rain\"]\nprint(findWords(board1, words1))  # Output: [\"eat\", \"oath\"]",
      "metadata": {
        "trusted": true
      },
      "execution_count": 7,
      "outputs": [
        {
          "name": "stdout",
          "text": "['eat', 'oath']\n",
          "output_type": "stream"
        }
      ],
      "id": "355f5bfd-94e1-4c5b-9914-cc20775f4160"
    },
    {
      "cell_type": "code",
      "source": "# Example 2\n\nboard2 = [[\"a\",\"b\"],[\"c\",\"d\"]]\nwords2 = [\"abcb\"]\nprint(findWords(board2, words2))  # Output: []",
      "metadata": {
        "trusted": true
      },
      "execution_count": 8,
      "outputs": [
        {
          "name": "stdout",
          "text": "[]\n",
          "output_type": "stream"
        }
      ],
      "id": "c748b879-a2d8-4298-a42c-c7f61f9c7fc6"
    },
    {
      "cell_type": "markdown",
      "source": "## Time and Space Complexity Analysis\n\nLet's analyze the time and space complexity of the provided code:\n\n**Time Complexity:**\n\n1. **Building the Trie (`buildTrie` function):** \n   - Suppose there are `N` words in the input list, and the average length of a word is `L`.\n   - Building the Trie takes O(N * L) time, as we iterate through each word and insert each character into the Trie.\n\n2. **DFS Traversal (`dfs` function):** \n   - In the worst case, the DFS function explores all possible paths in the grid.\n   - The maximum number of recursive calls for each cell is 4 (up, down, left, right).\n   - The maximum depth of the DFS is limited by the length of the longest word in the Trie, which is at most `L`.\n   - Therefore, the DFS traversal for each cell takes $O(4^L)$ time.\n\n3. **Iterating Through the Grid (`findWords` function):**\n   - In the worst case, we iterate through all `m` rows and `n` columns in the grid.\n   - For each cell, we start a DFS traversal.\n   - Therefore, iterating through the entire grid takes $O(m * n * 4^L)$ time.\n\nOverall, the time complexity of the code is $O(N * L + m * n * 4^L)$.\n\n**Space Complexity:**\n\n1. **Trie Data Structure:**\n   - The space required to store the Trie depends on the number of unique characters in all the words.\n   - In the worst case, where all words are unique and have no common prefixes, the space complexity of the Trie is O(N * L).\n   - In practice, it may be less if there are common prefixes among words.\n\n2. **DFS Stack (Recursive Calls):**\n   - The depth of the recursive call stack during DFS is at most `L`, where `L` is the length of the longest word in the Trie.\n   - Therefore, the space complexity for the recursive call stack is O(L).\n\n3. **Result Set (`result` set):**\n   - The space used to store the result set depends on the number of valid words found in the grid.\n   - In the worst case, when all words are found, the space complexity of the result set is O(N * L).\n\nOverall, the space complexity of the code is O(N * L) for the Trie and O(L) for the recursive call stack.\n\nIn summary, the time complexity is dominated by the DFS traversal and is influenced by the number of words, their lengths, and the size of the grid. The space complexity is mainly determined by the Trie structure and the recursive call stack depth during DFS.",
      "metadata": {},
      "id": "7d9dd448-c5f5-4192-8aa5-7c70ec7f42e2"
    },
    {
      "cell_type": "markdown",
      "source": "### Challenging Exercises:\n\n1. **Word Search Paths:**\n   Extend the basic word search exercise to find all possible paths (sequences of cells) that spell out a given word on the board. Return a list of paths if the word can be formed, otherwise an empty list.\n\n\n2. **Reverse Word Search:**\n   Modify the code to search for words in reverse order on the board. Given a 2D grid of characters and a list of words, find all words from the list that can be formed by traversing the board in reverse (right to left, bottom to top, etc.).\nCertainly, here are some simpler exercises related to the \"Word Search II\" problem that can help you practice the basics of solving the problem:",
      "metadata": {},
      "id": "037b210a-555b-4da3-8130-b74d1e4f33f6"
    }
  ]
}