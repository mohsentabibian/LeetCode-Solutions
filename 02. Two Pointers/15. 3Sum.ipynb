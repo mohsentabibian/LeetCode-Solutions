{
  "cells": [
    {
      "cell_type": "markdown",
      "id": "d6161252-e815-48d5-a2a3-5444c12e3b49",
      "metadata": {},
      "source": [
        "# 15. 3Sum\n",
        "\n",
        "**Difficulty:** Medium\n",
        "\n",
        "**Link to Problem:** [To see the 3Sum problem on LeetCode, click here!](https://leetcode.com/problems/3sum/)\n",
        "\n",
        "---\n",
        "Given an integer array nums, *return all the triplets `[nums[i], nums[j], nums[k]]` such that `i != j`, `i != k`, and `j != k`, and `nums[i] + nums[j] + nums[k] == 0`.*\n",
        "\n",
        "**Notice** that the solution set must not contain duplicate triplets.\n",
        "\n",
        "**Constraints:**\n",
        "\n",
        "- `3 <= nums.length <= 3000`\n",
        "- $-10^5$ <= `nums[i]` <= $10^5$\n",
        "\n",
        "## Solution:\n",
        "Here's a Python function to solve this problem:"
      ]
    },
    {
      "cell_type": "code",
      "execution_count": 10,
      "id": "aabf7095-07dc-4ab7-876c-ec7213ed0de5",
      "metadata": {
        "trusted": true
      },
      "outputs": [],
      "source": [
        "def threeSum(nums):\n",
        "    # Sort the input array in ascending order\n",
        "    nums.sort()\n",
        "    triplets = []\n",
        "    \n",
        "    for i in range(len(nums) - 2):\n",
        "        # Skip duplicates to avoid duplicate triplets\n",
        "        if i > 0 and nums[i] == nums[i - 1]:\n",
        "            continue\n",
        "        \n",
        "        left, right = i + 1, len(nums) - 1\n",
        "        \n",
        "        while left < right:\n",
        "            # Calculate the total sum of the current triplet\n",
        "            total = nums[i] + nums[left] + nums[right]\n",
        "            \n",
        "            if total == 0:\n",
        "                # If the total is zero, we found a valid triplet\n",
        "                triplets.append([nums[i], nums[left], nums[right]])\n",
        "                \n",
        "                # Skip duplicates of left and right pointers\n",
        "                while left < right and nums[left] == nums[left + 1]:\n",
        "                    left += 1\n",
        "                while left < right and nums[right] == nums[right - 1]:\n",
        "                    right -= 1\n",
        "                \n",
        "                # Move the pointers to the next unique elements\n",
        "                left += 1\n",
        "                right -= 1\n",
        "            elif total < 0:\n",
        "                # If the total is negative, we need to increase the sum by moving the left pointer to the right\n",
        "                left += 1\n",
        "            else:\n",
        "                # If the total is positive, we need to decrease the sum by moving the right pointer to the left\n",
        "                right -= 1\n",
        "    \n",
        "    return triplets"
      ]
    },
    {
      "cell_type": "markdown",
      "id": "ece39324-cd9e-47d7-8677-a001878494d9",
      "metadata": {},
      "source": [
        "## Explanation:\n",
        "\n",
        "1. It starts by sorting the input array `nums` in ascending order. Sorting helps in efficiently finding triplets that sum up to zero.\n",
        "\n",
        "2. It initializes an empty list `triplets` to store the unique triplets that meet the given conditions.\n",
        "\n",
        "3. The code then iterates through the `nums` array using a loop with index `i`. This loop will consider each element of the array as a potential starting point for a triplet.\n",
        "\n",
        "4. Inside the loop, it checks for duplicates and skips them. This is done to ensure that the solution set does not contain duplicate triplets. If `nums[i]` is the same as the previous element `nums[i-1]`, it continues to the next iteration of the loop.\n",
        "\n",
        "5. Two pointers, `left` and `right`, are initialized. `left` starts just after the current element `nums[i]`, and `right` starts at the end of the array.\n",
        "\n",
        "6. The code enters another loop with `left` and `right` pointers, trying to find a triplet that sums up to zero.\n",
        "\n",
        "7. It calculates the `total` sum of the current triplet as `nums[i] + nums[left] + nums[right]`.\n",
        "\n",
        "8. If `total` is zero, it means a valid triplet is found, so it appends `[nums[i], nums[left], nums[right]]` to the `triplets` list. Then, it moves both the `left` and `right` pointers to their next unique elements while skipping duplicates.\n",
        "\n",
        "9. If `total` is less than zero, it means the sum is negative, so it increments the `left` pointer to move towards a larger sum.\n",
        "\n",
        "10. If `total` is greater than zero, it means the sum is positive, so it decrements the `right` pointer to move towards a smaller sum.\n",
        "\n",
        "11. This process continues until all possible triplets have been considered.\n",
        "\n",
        "12. Finally, the function returns the `triplets` list, which contains all the unique triplets that sum up to zero in the sorted `nums` array."
      ]
    },
    {
      "cell_type": "markdown",
      "id": "a54ea5b7-c53f-46c0-a44f-ef769ac68244",
      "metadata": {},
      "source": [
        "## Test cases"
      ]
    },
    {
      "cell_type": "code",
      "execution_count": 11,
      "id": "355f5bfd-94e1-4c5b-9914-cc20775f4160",
      "metadata": {
        "trusted": true
      },
      "outputs": [
        {
          "name": "stdout",
          "output_type": "stream",
          "text": [
            "[[-1, -1, 2], [-1, 0, 1]]\n"
          ]
        }
      ],
      "source": [
        "# Example 1:\n",
        "nums = [-1, 0, 1, 2, -1, -4]\n",
        "result = threeSum(nums)\n",
        "print(result)"
      ]
    },
    {
      "cell_type": "code",
      "execution_count": 12,
      "id": "192912fb-9d12-4911-9a4f-bfd37043e11d",
      "metadata": {
        "trusted": true
      },
      "outputs": [
        {
          "name": "stdout",
          "output_type": "stream",
          "text": [
            "[]\n"
          ]
        }
      ],
      "source": [
        "# Example 2\n",
        "nums = [0, 1, 1]\n",
        "result = threeSum(nums)\n",
        "print(result)"
      ]
    },
    {
      "cell_type": "code",
      "execution_count": 13,
      "id": "e191cf7e-95f9-4e5c-a99b-146c2a779c0b",
      "metadata": {
        "trusted": true
      },
      "outputs": [
        {
          "name": "stdout",
          "output_type": "stream",
          "text": [
            "[[0, 0, 0]]\n"
          ]
        }
      ],
      "source": [
        "# Example 3\n",
        "nums = [0, 0, 0]\n",
        "result = threeSum(nums)\n",
        "print(result)"
      ]
    },
    {
      "cell_type": "markdown",
      "id": "7d9dd448-c5f5-4192-8aa5-7c70ec7f42e2",
      "metadata": {},
      "source": [
        "## Time and Space Complexity Analysis\n",
        "\n",
        "Let's analyze the time and space complexity of the `threeSum` function:\n",
        "\n",
        "**Time Complexity:**\n",
        "1. Sorting the input array `nums` takes O(n log n) time, where n is the length of the array.\n",
        "\n",
        "2. The outer loop runs for each element of the array, so it iterates O(n) times.\n",
        "\n",
        "3. Inside the outer loop, we have a while loop with two pointers (`left` and `right`). In the worst case, the while loop can iterate O(n) times (when all elements are unique).\n",
        "\n",
        "4. Inside the while loop, we have constant time operations (additions, comparisons, and list appends).\n",
        "\n",
        "Overall, the time complexity of the `threeSum` function is dominated by the sorting step, so it is O(n log n) due to the sorting. The other operations inside the loops contribute linearly but are dominated by the sorting step.\n",
        "\n",
        "**Space Complexity:**\n",
        "1. The space used by the `triplets` list to store the output triplets is O(k), where k is the number of unique triplets that sum up to zero. In the worst case, this can be O(n^2/3) because there can be roughly O(n^2) possible triplets, and many of them may sum up to zero.\n",
        "\n",
        "2. Other than the `triplets` list, the function uses only a constant amount of additional space for variables like `i`, `left`, `right`, and `total`.\n",
        "\n",
        "Overall, the space complexity of the `threeSum` function is O(k), where k is the number of unique triplets that meet the criteria. It's important to note that the space complexity does not depend on the size of the input array but rather on the number of valid triplets found.\n",
        "\n",
        "**In summary:**\n",
        "- Time Complexity: O(n log n) due to sorting (dominant factor) and O(n^2) in the worst case for the nested loops.\n",
        "- Space Complexity: O(k) for storing the output triplets, where k is the number of unique triplets that meet the criteria."
      ]
    },
    {
      "cell_type": "markdown",
      "id": "037b210a-555b-4da3-8130-b74d1e4f33f6",
      "metadata": {},
      "source": [
        "## Challenging Exercises:\n",
        "\n",
        "1. **K-Sum Problem:** Generalize the problem to the K-Sum problem, where instead of finding triplets that sum to zero, you need to find K elements that sum to a target value. Implement a function for this generalization.\n",
        "2. **Count the Number of Unique Triplets:** Modify the algorithm to count the number of unique triplets that satisfy the conditions instead of returning the triplets themselves. This will require some modifications to handle duplicates efficiently."
      ]
    }
  ],
  "metadata": {
    "kernelspec": {
      "display_name": "Python (Pyodide)",
      "language": "python",
      "name": "python"
    },
    "language_info": {
      "codemirror_mode": {
        "name": "python",
        "version": 3
      },
      "file_extension": ".py",
      "mimetype": "text/x-python",
      "name": "python",
      "nbconvert_exporter": "python",
      "pygments_lexer": "ipython3",
      "version": "3.8"
    }
  },
  "nbformat": 4,
  "nbformat_minor": 5
}
