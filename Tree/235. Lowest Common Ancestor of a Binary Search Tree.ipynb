{
  "metadata": {
    "kernelspec": {
      "name": "python",
      "display_name": "Python (Pyodide)",
      "language": "python"
    },
    "language_info": {
      "codemirror_mode": {
        "name": "python",
        "version": 3
      },
      "file_extension": ".py",
      "mimetype": "text/x-python",
      "name": "python",
      "nbconvert_exporter": "python",
      "pygments_lexer": "ipython3",
      "version": "3.8"
    }
  },
  "nbformat_minor": 5,
  "nbformat": 4,
  "cells": [
    {
      "cell_type": "markdown",
      "source": "## 235. Lowest Common Ancestor of a Binary Search Tree\n\n**Difficulty:** Medium\n\n**Link to Problem:** [To see the Lowest Common Ancestor of a Binary Search Tree problem on LeetCode, click here!](https://leetcode.com/problems/lowest-common-ancestor-of-a-binary-search-tree/)\n\n---\nGiven a binary search tree (BST), find the lowest common ancestor (LCA) node of two given nodes in the BST.\n\nAccording to the definition of LCA on Wikipedia: “The lowest common ancestor is defined between two nodes `p` and `q` as the lowest node in `T` that has both `p` and `q` as descendants (where we allow **a node to be a descendant of itself**).”\n\n**Constraints:**\n- The number of nodes in the tree is in the range $[2, 10^5]$.\n- $-10^9$ <= `Node.val` <= $10^9$\n- All `Node.val` are **unique**.\n- `p != q`\n- `p` and `q` will exist in the BST.\n\n\n## Solution:\nHere's a Python function to solve this problem:",
      "metadata": {},
      "id": "d6161252-e815-48d5-a2a3-5444c12e3b49"
    },
    {
      "cell_type": "code",
      "source": "class TreeNode:\n    def __init__(self, val=0, left=None, right=None):\n        self.val = val\n        self.left = left\n        self.right = right\n\ndef lowestCommonAncestor(root, p, q):\n    # Ensure p is less than q\n    if p.val > q.val:\n        p, q = q, p\n\n    while root:\n        # If the current node value is greater than both p and q, move left\n        if root.val > q.val:\n            root = root.left\n        # If the current node value is less than both p and q, move right\n        elif root.val < p.val:\n            root = root.right\n        # If the current node value is between p and q (inclusive), or it matches either p or q, it's the LCA\n        else:\n            return root",
      "metadata": {
        "trusted": true
      },
      "execution_count": 1,
      "outputs": [],
      "id": "aabf7095-07dc-4ab7-876c-ec7213ed0de5"
    },
    {
      "cell_type": "markdown",
      "source": "### Explanation:\n\n1. `class TreeNode:` defines a simple class for representing nodes in a binary tree. Each `TreeNode` has three attributes:\n   - `val`: The value of the node.\n   - `left`: A reference to the left child node.\n   - `right`: A reference to the right child node.\n\n2. `def lowestCommonAncestor(root, p, q):` is a function that takes three arguments:\n   - `root`: The root node of the BST.\n   - `p`: A TreeNode representing one of the nodes for which we want to find the LCA.\n   - `q`: A TreeNode representing the other node for which we want to find the LCA.\n\n3. `if p.val > q.val:` checks if the value of `p` is greater than the value of `q`. In a BST, it's essential to ensure that `p` represents the smaller value, and `q` represents the larger value. If `p` is greater than `q`, the code swaps their values.\n\n4. The main logic is inside the `while` loop, which runs until `root` becomes `None`. It performs the following steps to find the LCA:\n   - If the current `root` node's value is greater than the value of `q`, it means both `p` and `q` are on the left subtree of the current node. So, we move to the left child of the current node by setting `root = root.left`.\n   - If the current `root` node's value is less than the value of `p`, it means both `p` and `q` are on the right subtree of the current node. So, we move to the right child of the current node by setting `root = root.right`.\n   - If neither of the above conditions is met, it means the current `root` node's value is between `p` and `q`, or it matches either `p` or `q`. In this case, the current node is the lowest common ancestor (LCA), so we return `root`.\n\nThe algorithm is efficient because it takes advantage of the properties of a BST. It eliminates subtrees that cannot contain the LCA by comparing the values of `p`, `q`, and the current `root` node. Eventually, it reaches the LCA node, and that node is returned as the result.",
      "metadata": {},
      "id": "ece39324-cd9e-47d7-8677-a001878494d9"
    },
    {
      "cell_type": "markdown",
      "source": "## Test cases",
      "metadata": {},
      "id": "a54ea5b7-c53f-46c0-a44f-ef769ac68244"
    },
    {
      "cell_type": "code",
      "source": "# Example 1: \n\n# Construct the tree\nroot = TreeNode(6)\nroot.left = TreeNode(2)\nroot.right = TreeNode(8)\nroot.left.left = TreeNode(0)\nroot.left.right = TreeNode(4)\nroot.right.left = TreeNode(7)\nroot.right.right = TreeNode(9)\nroot.left.right.left = TreeNode(3)\nroot.left.right.right = TreeNode(5)\n\np = root.left  # Node 2\nq = root.right  # Node 8\n\nresult = lowestCommonAncestor(root, p, q)\nprint(result.val)",
      "metadata": {
        "trusted": true
      },
      "execution_count": 2,
      "outputs": [
        {
          "name": "stdout",
          "text": "6\n",
          "output_type": "stream"
        }
      ],
      "id": "355f5bfd-94e1-4c5b-9914-cc20775f4160"
    },
    {
      "cell_type": "code",
      "source": "# Example 2:\n\n# Using the same tree as before\np = root.left  # Node 2\nq = root.left.right  # Node 4\n\nresult = lowestCommonAncestor(root, p, q)\nprint(result.val) ",
      "metadata": {
        "trusted": true
      },
      "execution_count": 3,
      "outputs": [
        {
          "name": "stdout",
          "text": "2\n",
          "output_type": "stream"
        }
      ],
      "id": "192912fb-9d12-4911-9a4f-bfd37043e11d"
    },
    {
      "cell_type": "code",
      "source": "# Example 3:\n# Creating a new tree for this example\nroot2 = TreeNode(2)\nroot2.left = TreeNode(1)\n\np = root2  # Node 2\nq = root2.left  # Node 1\n\nresult = lowestCommonAncestor(root2, p, q)\nprint(result.val)",
      "metadata": {
        "trusted": true
      },
      "execution_count": 4,
      "outputs": [
        {
          "name": "stdout",
          "text": "2\n",
          "output_type": "stream"
        }
      ],
      "id": "7fc71180-e586-4c37-9fcf-2f574cb2b9d6"
    },
    {
      "cell_type": "markdown",
      "source": "## Time and Space Complexity Analysis\n\nLet's analyze the time and space complexity of the provided algorithm for finding the lowest common ancestor (LCA) in a Binary Search Tree (BST).\n\n**Time Complexity:**\nThe time complexity of this algorithm is O(h), where \"h\" is the height of the BST. In the worst case, where the tree is completely unbalanced (essentially a linked list), the height of the tree is O(n), where \"n\" is the number of nodes in the tree. However, in a well-balanced BST, the height is logarithmic, which is O(log n).\n\nThe reason for this time complexity is that the algorithm efficiently narrows down the search space by traversing either left or right subtrees based on the values of the target nodes `p` and `q`. It eliminates entire subtrees that cannot contain the LCA, leading to a relatively quick search.\n\n**Space Complexity:**\nThe space complexity of the algorithm is O(1). This is because it uses a constant amount of extra space, regardless of the size of the input BST. The only variables used are `root`, `p`, and `q`, and there are no data structures like stacks or queues used for additional space. The algorithm performs a simple traversal without recursion, so it does not consume extra memory as the tree depth increases.\n\n**In summary**, the provided algorithm for finding the LCA in a BST is both time and space-efficient. Its time complexity is O(h), where \"h\" is the height of the tree, and its space complexity is O(1), making it suitable for practical use even in large BSTs.",
      "metadata": {},
      "id": "7d9dd448-c5f5-4192-8aa5-7c70ec7f42e2"
    },
    {
      "cell_type": "markdown",
      "source": "### Challenging Exercises:\n\n1. **Multiple LCAs:** Extend the algorithm to find all the lowest common ancestors of two given nodes `p` and `q` in a BST. In some cases, there can be multiple LCAs.\n\n2. **LCA with k Nodes:** Given a BST and k nodes, find the lowest common ancestor of these k nodes. This is an extension of the problem where you must find the LCA of more than two nodes.",
      "metadata": {},
      "id": "037b210a-555b-4da3-8130-b74d1e4f33f6"
    }
  ]
}