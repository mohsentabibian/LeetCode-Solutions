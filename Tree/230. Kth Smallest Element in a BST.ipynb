{
  "metadata": {
    "kernelspec": {
      "name": "python",
      "display_name": "Python (Pyodide)",
      "language": "python"
    },
    "language_info": {
      "codemirror_mode": {
        "name": "python",
        "version": 3
      },
      "file_extension": ".py",
      "mimetype": "text/x-python",
      "name": "python",
      "nbconvert_exporter": "python",
      "pygments_lexer": "ipython3",
      "version": "3.8"
    }
  },
  "nbformat_minor": 5,
  "nbformat": 4,
  "cells": [
    {
      "cell_type": "markdown",
      "source": "## 230. Kth Smallest Element in a BST\n\n**Difficulty:** Medium\n\n**Link to Problem:** [To see the Kth Smallest Element in a BST problem on LeetCode, click here!](https://leetcode.com/problems/kth-smallest-element-in-a-bst/)\n\n---\nGiven the `root` of a binary search tree, and an integer `k`, return *the $k^{th}$ smallest value (**1-indexed**) of all the values of the nodes in the tree.*\n\n**Constraints:**\n- The number of nodes in the tree is `n`.\n- 1 <= `k <= n` <= $10^4$\n- 0 <= `Node.val` <= $10^4$\n\n**Follow up**: If the BST is modified often (i.e., we can do insert and delete operations) and you need to find the kth smallest frequently, how would you optimize?\n\n## Solution:\nHere's a Python function to solve this problem:",
      "metadata": {},
      "id": "d6161252-e815-48d5-a2a3-5444c12e3b49"
    },
    {
      "cell_type": "code",
      "source": "class TreeNode:\n    def __init__(self, val=0, left=None, right=None):\n        self.val = val\n        self.left = left\n        self.right = right\n\ndef kthSmallest(root, k):\n    stack = []  # Initialize an empty stack to simulate the traversal\n    while root or stack:\n        while root:\n            stack.append(root)  # Push the current node onto the stack\n            root = root.left  # Move to the left child\n        root = stack.pop()  # Pop a node from the stack\n        k -= 1  # Decrement k since we've visited a node\n        if k == 0:\n            return root.val  # If k becomes 0, return the current node's value as the kth smallest\n        root = root.right  # Move to the right child to continue the traversal",
      "metadata": {
        "trusted": true
      },
      "execution_count": 4,
      "outputs": [],
      "id": "aabf7095-07dc-4ab7-876c-ec7213ed0de5"
    },
    {
      "cell_type": "markdown",
      "source": "### Explanation:\n\n1. We start by defining a `TreeNode` class, which represents a node in the binary search tree (BST). Each node has a value (`val`), a left child (`left`), and a right child (`right`).\n\n2. The `kthSmallest` function takes two parameters: `root`, which is the root of the BST, and `k`, which represents the kth smallest element we want to find.\n\n3. We initialize an empty stack (`stack`) to simulate the traversal of the BST. The stack will be used to keep track of nodes as we traverse the tree in an iterative manner.\n\n4. We enter a while loop that continues until either `root` becomes `None` (indicating we have traversed the entire tree) or the `stack` is empty.\n\n5. Within the loop, we start another while loop to traverse as far left as possible in the BST. We repeatedly push nodes onto the `stack` and move to their left children until we reach the leftmost leaf node. This is the smallest node in the BST.\n\n6. Once we have reached the leftmost leaf node (the smallest node), we pop nodes from the `stack` one by one. As we pop each node, we decrement `k` by 1 to keep track of the number of nodes we have visited.\n\n7. If `k` becomes 0 after decrementing, it means we have found the kth smallest element. In this case, we return the `val` of the current node as the result.\n\n8. If `k` is still greater than 0, it means we haven't found the kth smallest element yet. In this case, we move to the right child of the current node to continue the traversal, as the kth smallest element, if it exists, will be in the right subtree of the current node.\n\n9. The process continues until we find the kth smallest element or traverse the entire tree.\n\n10. Finally, we return the kth smallest element found.\n\nThe key idea in this code is to perform an in-order traversal of the BST while keeping track of the kth smallest element. By visiting nodes in ascending order, we can efficiently find the kth smallest element in O(h + k) time, where h is the height of the BST and k is the desired kth element. This approach is both concise and efficient for this problem.",
      "metadata": {},
      "id": "ece39324-cd9e-47d7-8677-a001878494d9"
    },
    {
      "cell_type": "markdown",
      "source": "## Test cases",
      "metadata": {},
      "id": "a54ea5b7-c53f-46c0-a44f-ef769ac68244"
    },
    {
      "cell_type": "code",
      "source": "# Example 1: \n\n# Example usage:\n# Create the tree for the first example: root = [3,1,4,null,2], k = 1\nroot1 = TreeNode(3)\nroot1.left = TreeNode(1)\nroot1.right = TreeNode(4)\nroot1.left.right = TreeNode(2)\nk1 = 1\nprint(kthSmallest(root1, k1)) ",
      "metadata": {
        "trusted": true
      },
      "execution_count": 5,
      "outputs": [
        {
          "name": "stdout",
          "text": "1\n",
          "output_type": "stream"
        }
      ],
      "id": "355f5bfd-94e1-4c5b-9914-cc20775f4160"
    },
    {
      "cell_type": "code",
      "source": "# Example 2:\n\n# Create the tree for the second example: root = [5,3,6,2,4,null,null,1], k = 3\nroot2 = TreeNode(5)\nroot2.left = TreeNode(3)\nroot2.right = TreeNode(6)\nroot2.left.left = TreeNode(2)\nroot2.left.right = TreeNode(4)\nroot2.left.left.left = TreeNode(1)\nk2 = 3\nprint(kthSmallest(root2, k2))",
      "metadata": {
        "trusted": true
      },
      "execution_count": 6,
      "outputs": [
        {
          "name": "stdout",
          "text": "3\n",
          "output_type": "stream"
        }
      ],
      "id": "192912fb-9d12-4911-9a4f-bfd37043e11d"
    },
    {
      "cell_type": "markdown",
      "source": "## Time and Space Complexity Analysis\n\nLet's analyze the time and space complexity of the given code:\n\n**Time Complexity:**\n\nThe time complexity of this code is O(h + k), where:\n- h is the height of the binary search tree (BST).\n- k is the desired kth smallest element we want to find.\n\n1. In the worst case, where the BST is highly unbalanced and resembles a linked list, the height (h) of the tree can be equal to the number of nodes (n) in the tree. In this case, the time complexity is O(n + k).\n\n2. In the best case, where the BST is perfectly balanced, the height (h) is log(n), where n is the number of nodes in the tree. In this case, the time complexity is O(log(n) + k).\n\nSo, the time complexity can vary from O(log(n) + k) in the best-case scenario to O(n + k) in the worst-case scenario. Typically, for balanced BSTs, the time complexity is closer to O(log(n) + k).\n\n**Space Complexity:**\n\nThe space complexity of this code is O(h) due to the stack used for the iterative in-order traversal, where h is the height of the BST.\n\n1. In the worst case, when the BST is highly unbalanced and resembles a linked list, the height (h) of the tree can be equal to the number of nodes (n) in the tree. In this case, the space complexity is O(n) because the stack can potentially store all n nodes.\n\n2. In the best case, when the BST is perfectly balanced, the height (h) is log(n), where n is the number of nodes in the tree. In this case, the space complexity is O(log(n)) because the stack will have at most log(n) nodes.\n\nSo, the space complexity depends on the height of the BST and can vary from O(log(n)) in the best-case scenario to O(n) in the worst-case scenario.\n\nIn practical terms, for balanced BSTs or moderately unbalanced BSTs, the space complexity is usually close to O(log(n)), and the code is efficient in terms of space usage.",
      "metadata": {},
      "id": "7d9dd448-c5f5-4192-8aa5-7c70ec7f42e2"
    },
    {
      "cell_type": "markdown",
      "source": "### Challenging Exercises:\n\n1. **Kth Largest Element**: Modify the code to find the kth largest element in the BST instead of the kth smallest element.\n\n2. **Kth Smallest Element in Two BSTs**: Given two BSTs, find the kth smallest element when considering both BSTs as a single sorted list. This involves merging the two BSTs while finding the kth element efficiently.",
      "metadata": {},
      "id": "037b210a-555b-4da3-8130-b74d1e4f33f6"
    }
  ]
}