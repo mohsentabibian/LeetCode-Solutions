{
  "metadata": {
    "kernelspec": {
      "name": "python",
      "display_name": "Python (Pyodide)",
      "language": "python"
    },
    "language_info": {
      "codemirror_mode": {
        "name": "python",
        "version": 3
      },
      "file_extension": ".py",
      "mimetype": "text/x-python",
      "name": "python",
      "nbconvert_exporter": "python",
      "pygments_lexer": "ipython3",
      "version": "3.8"
    }
  },
  "nbformat_minor": 5,
  "nbformat": 4,
  "cells": [
    {
      "cell_type": "markdown",
      "source": "## 102. Binary Tree Level Order Traversal\n\n**Difficulty:** Medium\n\n**Link to Problem:** [To see the Binary Tree Level Order Traversal problem on LeetCode, click here!](https://leetcode.com/problems/binary-tree-level-order-traversal/)\n\n---\nGiven the `root` of a binary tree, return *the level order traversal of its nodes' values*. (i.e., from left to right, level by level).\n\n**Constraints:**\n- The number of nodes in the tree is in the range `[0, 2000]`.\n- `-1000 <= Node.val <= 1000`\n\n\n## Solution:\nHere's a Python function to solve this problem:",
      "metadata": {},
      "id": "d6161252-e815-48d5-a2a3-5444c12e3b49"
    },
    {
      "cell_type": "code",
      "source": "class TreeNode:\n    def __init__(self, val=0, left=None, right=None):\n        self.val = val\n        self.left = left\n        self.right = right\n\ndef levelOrder(root):\n    # Check if the tree is empty, if so, return an empty list.\n    if not root:\n        return []\n\n    # Initialize an empty list to store the result.\n    result = []\n    \n    # Initialize a queue with the root node to perform BFS.\n    queue = [root]\n\n    while queue:\n        # Initialize an empty list to store the values of nodes at the current level.\n        level_values = []\n        \n        # Get the number of nodes at the current level.\n        level_size = len(queue)\n\n        # Iterate through the nodes at the current level.\n        for _ in range(level_size):\n            # Dequeue the front node from the queue.\n            node = queue.pop(0)\n            \n            # Append the value of the current node to the level_values list.\n            level_values.append(node.val)\n\n            # Enqueue the left and right children of the current node if they exist.\n            if node.left:\n                queue.append(node.left)\n            if node.right:\n                queue.append(node.right)\n\n        # Append the level_values list (values at the current level) to the result list.\n        result.append(level_values)\n\n    # Return the final result, which is a list of lists representing level order traversal.\n    return result",
      "metadata": {
        "trusted": true
      },
      "execution_count": 5,
      "outputs": [],
      "id": "aabf7095-07dc-4ab7-876c-ec7213ed0de5"
    },
    {
      "cell_type": "markdown",
      "source": "### Explanation:\n\n1. We define a `TreeNode` class that represents a node in the binary tree. Each `TreeNode` object has a value (`val`) and two child nodes: `left` and `right`.\n\n2. The `levelOrder` function takes the root of the binary tree as its input and returns the level order traversal of the tree as a list of lists.\n\n3. We start by checking if the input `root` is `None`, which indicates an empty tree. If the tree is empty, we return an empty list because there are no nodes to traverse.\n\n4. We initialize an empty list called `result` to store the final result, which will be a list of lists containing node values at each level.\n\n5. We initialize a queue called `queue` with the root node. This queue will be used for breadth-first traversal of the tree.\n\n6. We enter a while loop that continues until the `queue` is empty. Inside the loop, we perform the following steps:\n\n   - We initialize an empty list called `level_values` to store the values of nodes at the current level.\n\n   - We determine the number of nodes at the current level by getting the length of the `queue`. This is done to process nodes level by level.\n\n   - We iterate through the nodes at the current level using a for loop. For each node in the current level:\n\n     - We dequeue (remove) the front node from the `queue`.\n\n     - We append the value of the dequeued node to the `level_values` list, effectively collecting the values of nodes at the current level.\n\n     - If the dequeued node has a left child, we enqueue the left child to the `queue`.\n\n     - If the dequeued node has a right child, we enqueue the right child to the `queue`.\n\n   - After processing all nodes at the current level, we append the `level_values` list to the `result` list. This represents the values at the current level.\n\n7. The loop continues until all levels have been traversed, and the `queue` becomes empty.\n\n8. Finally, we return the `result` list, which contains lists of node values at each level, representing the level order traversal of the binary tree.\n\nThe code effectively performs a breadth-first traversal of the binary tree, processing nodes level by level, and constructs the result list that represents the level order traversal.",
      "metadata": {},
      "id": "ece39324-cd9e-47d7-8677-a001878494d9"
    },
    {
      "cell_type": "markdown",
      "source": "## Test cases",
      "metadata": {},
      "id": "a54ea5b7-c53f-46c0-a44f-ef769ac68244"
    },
    {
      "cell_type": "code",
      "source": "# Example 1: \n\n# Construct the tree\nroot = TreeNode(3)\nroot.left = TreeNode(9)\nroot.right = TreeNode(20)\nroot.right.left = TreeNode(15)\nroot.right.right = TreeNode(7)\n\nresult = levelOrder(root)\nprint(result)",
      "metadata": {
        "trusted": true
      },
      "execution_count": 6,
      "outputs": [
        {
          "name": "stdout",
          "text": "[[3], [9, 20], [15, 7]]\n",
          "output_type": "stream"
        }
      ],
      "id": "355f5bfd-94e1-4c5b-9914-cc20775f4160"
    },
    {
      "cell_type": "code",
      "source": "# Example 2:\n\n# Using the same tree as before\nroot = TreeNode(1)\nresult = levelOrder(root)\nprint(result)",
      "metadata": {
        "trusted": true
      },
      "execution_count": 7,
      "outputs": [
        {
          "name": "stdout",
          "text": "[[1]]\n",
          "output_type": "stream"
        }
      ],
      "id": "192912fb-9d12-4911-9a4f-bfd37043e11d"
    },
    {
      "cell_type": "code",
      "source": "# Example 3:\n# Creating a new tree for this example\nroot = None\nresult = levelOrder(root)\nprint(result)",
      "metadata": {
        "trusted": true
      },
      "execution_count": 8,
      "outputs": [
        {
          "name": "stdout",
          "text": "[]\n",
          "output_type": "stream"
        }
      ],
      "id": "7fc71180-e586-4c37-9fcf-2f574cb2b9d6"
    },
    {
      "cell_type": "markdown",
      "source": "## Time and Space Complexity Analysis\n\nLet's analyze the time and space complexity of the `levelOrder` function:\n\n**Time Complexity:**\n\nThe time complexity of this function is O(N), where N is the number of nodes in the binary tree. This is because we visit each node exactly once during the breadth-first traversal.\n\nIn the worst case, we have to enqueue and dequeue all nodes in the binary tree, which is proportional to the number of nodes (N). In each level, we process all nodes in that level, and since there are a total of log(N) levels in a balanced binary tree, the time complexity can also be approximated as O(N) for unbalanced trees.\n\n**Space Complexity:**\n\nThe space complexity of this function is O(N), where N is the number of nodes in the binary tree. Here's how the space complexity breaks down:\n\n1. The `result` list stores the level order traversal, and in the worst case, it contains N/2 levels (for a completely unbalanced binary tree). So, the space used by `result` is O(N).\n\n2. The `queue` data structure is used for BFS traversal. In the worst case, it can store all nodes at the last level of the tree. In a balanced binary tree, the maximum number of nodes at any level is 2^(log(N)), which is still O(N). In the case of an unbalanced tree, it can be even worse. So, the space used by `queue` is O(N).\n\nOverall, the dominant factor in terms of space complexity is the `queue`, and the space complexity is O(N).\n\nIn summary, the function's time complexity is O(N), and its space complexity is also O(N). It is an efficient and optimal solution for performing a level order traversal of a binary tree.",
      "metadata": {},
      "id": "7d9dd448-c5f5-4192-8aa5-7c70ec7f42e2"
    },
    {
      "cell_type": "markdown",
      "source": "### Challenging Exercises:\n\n1. **Reverse Level Order Traversal:** Modify the `levelOrder` function to return the level order traversal in reverse order (from bottom to top). For example, if the input tree is `[3, 9, 20, null, null, 15, 7]`, the output should be `[[15, 7], [9, 20], [3]]`.\n\n2. **Zigzag Level Order Traversal:** Write a function that performs a level order traversal of a binary tree in a zigzag pattern. In a zigzag traversal, the nodes at even levels are traversed from left to right, and nodes at odd levels are traversed from right to left. For example, if the input tree is `[3, 9, 20, null, null, 15, 7]`, the output should be `[[3], [20, 9], [15, 7]]`.",
      "metadata": {},
      "id": "037b210a-555b-4da3-8130-b74d1e4f33f6"
    }
  ]
}