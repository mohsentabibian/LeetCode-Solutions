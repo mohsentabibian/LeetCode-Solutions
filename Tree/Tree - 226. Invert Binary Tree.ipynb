{
  "metadata": {
    "kernelspec": {
      "name": "python",
      "display_name": "Python (Pyodide)",
      "language": "python"
    },
    "language_info": {
      "codemirror_mode": {
        "name": "python",
        "version": 3
      },
      "file_extension": ".py",
      "mimetype": "text/x-python",
      "name": "python",
      "nbconvert_exporter": "python",
      "pygments_lexer": "ipython3",
      "version": "3.8"
    }
  },
  "nbformat_minor": 5,
  "nbformat": 4,
  "cells": [
    {
      "cell_type": "markdown",
      "source": "## 226: Invert Binary Tree\n\n**Difficulty:** Easy\n\n**Link to Problem:** [To see the Invert Binary Tree problem on LeetCode, click here!](https://leetcode.com/problems/invert-binary-tree/)\n\n---\n\nGiven the root of a binary tree, invert the tree, and return its root.\n\n#### Constraints:\n\n- The number of nodes in the tree is in the range `[0, 100]`.\n- `-100 <= Node.val <= 100`\n\n",
      "metadata": {},
      "id": "d6161252-e815-48d5-a2a3-5444c12e3b49"
    },
    {
      "cell_type": "code",
      "source": "# Definition for a binary tree node.\nclass TreeNode:\n    def __init__(self, val=0, left=None, right=None):\n        self.val = val\n        self.left = left\n        self.right = right\n\ndef invertTree(root):\n    # Base case: If the root is None or the tree is empty, return None.\n    if not root:\n        return None\n\n    # Swap the left and right subtrees of the current node.\n    root.left, root.right = root.right, root.left\n\n    # Recursively invert the left and right subtrees.\n    invertTree(root.left)\n    invertTree(root.right)\n\n    return root",
      "metadata": {
        "trusted": true
      },
      "execution_count": 8,
      "outputs": [],
      "id": "aabf7095-07dc-4ab7-876c-ec7213ed0de5"
    },
    {
      "cell_type": "markdown",
      "source": "### Explanation:\n\n1. We start by defining a TreeNode class, which represents a node in a binary tree. Each node has a value (`val`), a left child (`left`), and a right child (`right`).\n\n2. The `invertTree` function is defined to invert the binary tree. It takes the root node of the tree as an argument.\n\n3. In the `invertTree` function, we have a base case to handle the scenario when the root is `None` (empty tree). In such cases, we return `None` because there's nothing to invert.\n\n4. For non-empty trees, we swap the left and right subtrees of the current node. This effectively inverts the tree at the current node.\n\n5. We then recursively call `invertTree` on the left and right subtrees to invert them.\n\n6. Finally, we return the root of the inverted tree.",
      "metadata": {},
      "id": "ece39324-cd9e-47d7-8677-a001878494d9"
    },
    {
      "cell_type": "markdown",
      "source": "## Test cases",
      "metadata": {},
      "id": "a54ea5b7-c53f-46c0-a44f-ef769ac68244"
    },
    {
      "cell_type": "code",
      "source": "### Example 1\n# Input: root = [4,2,7,1,3,6,9]\n\nroot1 = TreeNode(4)\nroot1.left = TreeNode(2)\nroot1.right = TreeNode(7)\nroot1.left.left = TreeNode(1)\nroot1.left.right = TreeNode(3)\nroot1.right.left = TreeNode(6)\nroot1.right.right = TreeNode(9)\n\ninverted_root1 = invertTree(root1)\nprint(\"Inverted Tree (Example 1):\", inverted_root1)",
      "metadata": {
        "trusted": true
      },
      "execution_count": 12,
      "outputs": [
        {
          "name": "stdout",
          "text": "Inverted Tree (Example 1): <__main__.TreeNode object at 0x270c9c0>\n",
          "output_type": "stream"
        }
      ],
      "id": "355f5bfd-94e1-4c5b-9914-cc20775f4160"
    },
    {
      "cell_type": "code",
      "source": "### Example 2\n# Input: root = [2,1,3]\n\nroot2 = TreeNode(2)\nroot2.left = TreeNode(1)\nroot2.right = TreeNode(3)\n\ninverted_root2 = invertTree(root2)\nprint(\"Inverted Tree (Example 2):\", inverted_root2)",
      "metadata": {
        "trusted": true
      },
      "execution_count": 15,
      "outputs": [
        {
          "name": "stdout",
          "text": "Inorder Traversal of Inverted Tree (Example 2): <__main__.TreeNode object at 0x2255fc0>\n",
          "output_type": "stream"
        }
      ],
      "id": "192912fb-9d12-4911-9a4f-bfd37043e11d"
    },
    {
      "cell_type": "code",
      "source": "### Example 3\n# Input: root = []\n\nroot3 = None  # Empty tree\n\ninverted_root3 = invertTree(root3)\nprint(\"Inverted Tree (Example 3):\", inverted_root3)",
      "metadata": {
        "trusted": true
      },
      "execution_count": 16,
      "outputs": [
        {
          "name": "stdout",
          "text": "Inverted Tree (Example 3): None\n",
          "output_type": "stream"
        }
      ],
      "id": "5897c29d-26f8-486a-878c-43c09ff25ce4"
    },
    {
      "cell_type": "markdown",
      "source": "Let's discuss the time and space complexity of the provided Python code to invert a binary tree.\n\n**Time Complexity:**\n\nThe time complexity of the `invertTree` function is $O(n)$, where $n$ is the number of nodes in the binary tree. This is because we visit each node exactly once during the traversal of the tree. In the worst case, we have to visit all nodes in the tree.\n\nThe reason for this time complexity is the depth-first traversal of the tree, where we recursively process the left and right subtrees of each node.\n\n**Space Complexity:**\n\nThe space complexity of the code is determined by the function call stack during the recursion. In the worst case, the space complexity is $O(h)$, where $h$ is the height of the binary tree. \n\nIn a completely unbalanced binary tree (essentially a linked list), the height $h$ is equal to the number of nodes $n$, resulting in a space complexity of $O(n)$. This occurs when the tree is skewed to one side.\n\nIn a balanced binary tree, such as a full binary tree, the height $h$ is $O(log\\ n)$, and the space complexity is $O(log\\ n)$.\n\nThe space complexity depends on how balanced the tree is. In practical scenarios, binary trees are often approximately balanced, so the space complexity is typically closer to $O(log\\ n)$.\n\n**In summary:**\n\n- Time Complexity: $O(n)$ where $n$ is the number of nodes.\n- Space Complexity: $O(h)$, where $h$ is the height of the binary tree. In the worst case, it can be $O(n)$, and in a balanced tree, it is $O(log\\ n)$.\n\nKeep in mind that these complexities are based on the recursive implementation provided. Iterative solutions can achieve the same task with $O(1)$ space complexity, using auxiliary data structures like stacks or queues to mimic the recursion stack.",
      "metadata": {},
      "id": "7d9dd448-c5f5-4192-8aa5-7c70ec7f42e2"
    }
  ]
}