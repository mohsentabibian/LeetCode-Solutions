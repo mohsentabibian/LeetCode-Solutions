{
  "metadata": {
    "kernelspec": {
      "name": "python",
      "display_name": "Python (Pyodide)",
      "language": "python"
    },
    "language_info": {
      "codemirror_mode": {
        "name": "python",
        "version": 3
      },
      "file_extension": ".py",
      "mimetype": "text/x-python",
      "name": "python",
      "nbconvert_exporter": "python",
      "pygments_lexer": "ipython3",
      "version": "3.8"
    }
  },
  "nbformat_minor": 5,
  "nbformat": 4,
  "cells": [
    {
      "cell_type": "markdown",
      "source": "## 124. Binary Tree Maximum Path Sum\n\n**Difficulty:** Medium\n\n**Link to Problem:** [To see the Binary Tree Maximum Path Sum problem on LeetCode, click here!](https://leetcode.com/problems/binary-tree-maximum-path-sum/)\n\n---\nA **path** in a binary tree is a sequence of nodes where each pair of adjacent nodes in the sequence has an edge connecting them. A node can only appear in the sequence **at most once**. Note that the path does not need to pass through the root.\n\nThe **path sum** of a path is the sum of the node's values in the path.\n\nGiven the `root` of a binary tree, return *the maximum **path sum** of any **non-empty** path*.\n\n**Constraints:**\n- The number of nodes in the tree is in the range $[1, 3*10^4]$.\n- `-1000 <= Node.val <= 1000`\n\n## Solution:\nHere's a Python function to solve this problem:",
      "metadata": {},
      "id": "d6161252-e815-48d5-a2a3-5444c12e3b49"
    },
    {
      "cell_type": "code",
      "source": "class TreeNode:\n    def __init__(self, val=0, left=None, right=None):\n        self.val = val\n        self.left = left\n        self.right = right\n\nclass Solution:\n    def maxPathSum(self, root):\n        def max_path_sum_helper(node):\n            if not node:\n                return 0\n            \n            # Recursively calculate the maximum path sum for left and right subtrees\n            left_max = max(0, max_path_sum_helper(node.left))\n            right_max = max(0, max_path_sum_helper(node.right))\n            \n            # Update the global maximum path sum\n            self.max_sum = max(self.max_sum, left_max + right_max + node.val)\n            \n            # Return the maximum path sum starting from the current node\n            return max(left_max, right_max) + node.val\n        \n        self.max_sum = float('-inf')  # Initialize the global maximum to negative infinity\n        max_path_sum_helper(root)  # Start the recursive traversal from the root\n        return self.max_sum",
      "metadata": {
        "trusted": true
      },
      "execution_count": 18,
      "outputs": [],
      "id": "aabf7095-07dc-4ab7-876c-ec7213ed0de5"
    },
    {
      "cell_type": "markdown",
      "source": "### Explanation:\n\n1. The code starts by defining a `TreeNode` class to represent nodes in the binary tree. Each `TreeNode` has a `val` attribute representing its value, a `left` attribute pointing to the left child, and a `right` attribute pointing to the right child.\n\n2. Next, a `Solution` class is defined to contain the `maxPathSum` method, which will be used to find the maximum path sum in the binary tree.\n\n3. Within the `maxPathSum` method, a helper function called `max_path_sum_helper` is defined. This recursive function takes a single argument, `node`, which is the current node being considered during traversal.\n\n4. Inside the `max_path_sum_helper` function:\n   - If `node` is `None` (i.e., the current node is a null node), it returns 0. This is the base case of the recursion.\n   - It calculates the maximum path sum starting from the left subtree (`left_max`) and the right subtree (`right_max`). Importantly, it uses `max(0, ...)` to ensure that negative values (which would make the path sum smaller) are not considered. If a subtree's path sum is negative, it's better to not include it in the path.\n   - The code then updates the global maximum path sum (`self.max_sum`) by checking if the sum of `left_max`, `right_max`, and the current node's value is greater than the current maximum.\n   - Finally, it returns the maximum path sum starting from the current node, which is the maximum of `left_max` and `right_max` plus the current node's value.\n\n5. Before calling the `max_path_sum_helper` function, the `max_sum` attribute of the `Solution` class is initialized to negative infinity (`float('-inf')`). This is done to ensure that any valid path sum encountered during traversal will be greater than the initial value of `max_sum`.\n\n6. The `max_path_sum_helper` function is called with the root of the binary tree, effectively starting the traversal from the root node.\n\n7. Once the traversal is complete, the method returns the value of `self.max_sum`, which contains the maximum path sum found in the binary tree.\n\n8. Example usage at the bottom of the code demonstrates how to create binary trees and use the `maxPathSum` method to find the maximum path sum for two different tree structures.\n\nIn summary, the code uses a recursive approach to explore all possible paths in the binary tree, ensuring that negative path sums are not considered. It keeps track of the maximum path sum encountered and returns that maximum value as the result.",
      "metadata": {},
      "id": "ece39324-cd9e-47d7-8677-a001878494d9"
    },
    {
      "cell_type": "markdown",
      "source": "## Test cases",
      "metadata": {},
      "id": "a54ea5b7-c53f-46c0-a44f-ef769ac68244"
    },
    {
      "cell_type": "code",
      "source": "# Example 1: \n\n# Example usage:\nroot1 = TreeNode(1)\nroot1.left = TreeNode(2)\nroot1.right = TreeNode(3)\nsolution = Solution()\nprint(solution.maxPathSum(root1))",
      "metadata": {
        "trusted": true
      },
      "execution_count": 20,
      "outputs": [
        {
          "name": "stdout",
          "text": "6\n",
          "output_type": "stream"
        }
      ],
      "id": "355f5bfd-94e1-4c5b-9914-cc20775f4160"
    },
    {
      "cell_type": "code",
      "source": "# Example 2:\n\nroot2 = TreeNode(-10)\nroot2.left = TreeNode(9)\nroot2.right = TreeNode(20)\nroot2.right.left = TreeNode(15)\nroot2.right.right = TreeNode(7)\nprint(solution.maxPathSum(root2))",
      "metadata": {
        "trusted": true
      },
      "execution_count": 21,
      "outputs": [
        {
          "name": "stdout",
          "text": "42\n",
          "output_type": "stream"
        }
      ],
      "id": "192912fb-9d12-4911-9a4f-bfd37043e11d"
    },
    {
      "cell_type": "markdown",
      "source": "## Time and Space Complexity Analysis\n\nLet's analyze the time and space complexity of the given code:\n\nTime Complexity:\n- The code uses a recursive depth-first traversal to explore each node in the binary tree exactly once.\n- During the traversal, for each node, we perform constant time operations, such as updating the `max_sum` variable and calculating the maximum path sum starting from that node.\n- Therefore, the time complexity of the code is O(N), where N is the number of nodes in the binary tree.\n\nSpace Complexity:\n- The space complexity of the code is determined by the space used in the call stack during the recursive traversal.\n- In the worst case, the depth of the call stack can be equal to the height of the binary tree. In an unbalanced tree, this could be O(N), but in a balanced binary tree, the height is O(log N).\n- Additionally, the code uses a constant amount of space for variables like `left_max`, `right_max`, and `max_sum`.\n- Therefore, the overall space complexity is O(H), where H is the height of the binary tree. In the worst case, it's O(N), and in the best case (a balanced binary tree), it's O(log N).\n\nIn summary:\n- Time Complexity: O(N)\n- Space Complexity: O(H), where H is the height of the binary tree, ranging from O(log N) to O(N) depending on the tree's balance.",
      "metadata": {},
      "id": "7d9dd448-c5f5-4192-8aa5-7c70ec7f42e2"
    },
    {
      "cell_type": "markdown",
      "source": "### Challenging Exercises:\n\n1. **Print the Maximum Path:**\n   Modify the code to not only find the maximum path sum but also print the nodes involved in the maximum path. You can print the nodes in the correct order from the root to the leaf.\n\n2. **Path Sum Count:**\n   Instead of finding the maximum path sum, find the count of unique paths that sum to a given target value. Each path can start and end anywhere in the tree.",
      "metadata": {},
      "id": "037b210a-555b-4da3-8130-b74d1e4f33f6"
    }
  ]
}