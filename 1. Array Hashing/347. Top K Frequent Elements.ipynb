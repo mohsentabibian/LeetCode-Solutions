{
  "metadata": {
    "kernelspec": {
      "name": "python",
      "display_name": "Python (Pyodide)",
      "language": "python"
    },
    "language_info": {
      "codemirror_mode": {
        "name": "python",
        "version": 3
      },
      "file_extension": ".py",
      "mimetype": "text/x-python",
      "name": "python",
      "nbconvert_exporter": "python",
      "pygments_lexer": "ipython3",
      "version": "3.8"
    }
  },
  "nbformat_minor": 5,
  "nbformat": 4,
  "cells": [
    {
      "cell_type": "markdown",
      "source": "## 347. Top K Frequent Elements\n\n**Difficulty:** Medium\n\n**Link to Problem:** [To see the Top K Frequent Elements problem on LeetCode, click here!](https://leetcode.com/problems/top-k-frequent-elements/)\n\n---\nGiven an integer array `nums` and an integer `k`, return the `k` most frequent elements. You may return the answer in **any order**.\n\nConstraints:\n- 1 <= `nums.length` <= $10^5$\n- $-10^4$ <= `nums[i]` <= $10^4$\n- `k` is in the range `[1, the number of unique elements in the array]`.\n- It is **guaranteed** that the answer is **unique**.\n\n**Follow-up:** Your algorithm's time complexity must be better than $O(n\\ log\\ n)$, where n is the array's size.\n\n## Solution:\nHere's a Python function to solve this problem:",
      "metadata": {},
      "id": "d6161252-e815-48d5-a2a3-5444c12e3b49"
    },
    {
      "cell_type": "code",
      "source": "def topKFrequent(nums, k):\n    # Create a dictionary to store the frequency of each element\n    count = {}\n    # Create a list of lists to store elements with the same frequency\n    frequency = [[] for i in range(len(nums) + 1)]\n\n    # Count the frequency of each element in nums\n    for n in nums:\n        count[n] = 1 + count.get(n, 0)\n\n    # Place elements in the freq list according to their frequency\n    for n, c in count.items():\n        frequency[c].append(n)\n\n    res = []\n    # Traverse freq list from the end (higher frequencies)\n    for i in range(len(frequency) - 1, 0, -1):\n        for n in frequency[i]:\n            res.append(n)\n            if len(res) == k:\n                return res",
      "metadata": {
        "trusted": true
      },
      "execution_count": 46,
      "outputs": [],
      "id": "aabf7095-07dc-4ab7-876c-ec7213ed0de5"
    },
    {
      "cell_type": "markdown",
      "source": "### Explanation:\n\n1. `def topKFrequent(nums, k):`: This is a function that takes two arguments: `nums`, which is the input array of integers, and `k`, which is the number of most frequent elements to return.\n\n2. `count = {}`: This dictionary `count` will be used to store the frequency of each unique element in the `nums` array. The keys are elements from the input array, and the values are their corresponding frequencies.\n\n3. `frequency = [[] for i in range(len(nums) + 1)]`: This creates a list of empty lists called `frequency`. It's used to store elements based on their frequencies, similar to the `freq` list in the previous code. The size of this list is set to be one greater than the length of the input `nums`.\n\n4. `for n in nums:`: This loop iterates through each element `n` in the input `nums` array.\n\n5. `count[n] = 1 + count.get(n, 0)`: This line counts the frequency of each element `n` in the `nums` array. It uses the `count.get(n, 0)` method to retrieve the current count of `n` from the `count` dictionary. If `n` is not in the dictionary, it defaults to 0. It then increments the count by 1.\n\n6. After the above loop, the `count` dictionary will contain counts of each unique element in the `nums` array.\n\n7. `for n, c in count.items():`: This loop iterates through the items (key-value pairs) of the `count` dictionary. `n` represents the element, and `c` represents its frequency.\n\n8. `frequency[c].append(n)`: This line places the element `n` into the bucket corresponding to its frequency `c`. Buckets are represented by the `frequency` list. For example, if an element `n` has a frequency of 3, it will be added to `frequency[3]`.\n\n9. After this loop, the `frequency` list will contain buckets of elements grouped by their frequencies.\n\n10. `res = []`: This list `res` will be used to store the k most frequent elements.\n\n11. `for i in range(len(freq) - 1, 0, -1):`: This loop iterates in reverse order through the `frequency` list, starting from the highest frequency and going down to 1. Note that there is a typo here; it should be `frequency` instead of `freq`.\n\n12. `for n in frequency[i]:`: For each element `n` in the current bucket (i.e., elements with frequency `i`), it appends `n` to the result list `res`.\n\n13. `if len(res) == k:`: Once `res` contains k elements, the code exits and returns the result.\n\nThe code efficiently finds the k most frequent elements in the input array without using sorting, similar to the previous explanation, with the only difference being the variable names (e.g., `frequency` instead of `freq`).",
      "metadata": {},
      "id": "ece39324-cd9e-47d7-8677-a001878494d9"
    },
    {
      "cell_type": "markdown",
      "source": "## Test cases",
      "metadata": {},
      "id": "a54ea5b7-c53f-46c0-a44f-ef769ac68244"
    },
    {
      "cell_type": "code",
      "source": "# Example 1: \nnums = [1,1,1,2,2,3]\nk = 2\nresult1 = topKFrequent(nums, k)\nprint(result1)",
      "metadata": {
        "trusted": true
      },
      "execution_count": 48,
      "outputs": [
        {
          "name": "stdout",
          "text": "[1, 2]\n",
          "output_type": "stream"
        }
      ],
      "id": "355f5bfd-94e1-4c5b-9914-cc20775f4160"
    },
    {
      "cell_type": "code",
      "source": "# Example 2:\nnums = [1]\nk = 1\nresult2 = topKFrequent(nums, k)\nprint(result2)",
      "metadata": {
        "trusted": true
      },
      "execution_count": 49,
      "outputs": [
        {
          "name": "stdout",
          "text": "[1]\n",
          "output_type": "stream"
        }
      ],
      "id": "192912fb-9d12-4911-9a4f-bfd37043e11d"
    },
    {
      "cell_type": "markdown",
      "source": "## Time and Space Complexity Analysis\n\nLet's analyze the time and space complexity of the provided code:\n\n**Time Complexity:**\n1. The first loop that counts the frequency of elements by iterating through `nums` has a time complexity of O(n), where n is the number of elements in the input array `nums`.\n\n2. The second loop iterates through the keys in the `count` dictionary, which has at most `k` unique elements (as per the constraints). Therefore, the second loop also has a time complexity of O(k).\n\n3. The third loop iterates through the `frequency` list, which has a length equal to the maximum frequency of elements in `nums`. In the worst case, this loop can have a time complexity of O(n), where n is the number of elements in `nums`.\n\nOverall, the dominant factor in terms of time complexity is the loop that iterates through the `count` dictionary. So, the total time complexity of the code is O(n + k).\n\n**Space Complexity:**\n1. The `count` dictionary stores the frequency of each unique element in `nums`. In the worst case, it can have at most `k` unique elements, so the space complexity for `count` is O(k).\n\n2. The `frequency` list is used to store elements grouped by their frequencies. It has a length of `len(nums) + 1`, which can be at most 105 based on the constraints. Therefore, the space complexity for `frequency` is O(105).\n\n3. The `res` list stores the k most frequent elements, which can be at most `k` elements, so the space complexity for `res` is O(k).\n\n**In summary**, the space complexity is dominated by the `count` dictionary and the `frequency` list, both of which have a space complexity of O(k + 105).",
      "metadata": {},
      "id": "7d9dd448-c5f5-4192-8aa5-7c70ec7f42e2"
    },
    {
      "cell_type": "markdown",
      "source": "### Challenging Exercises:\n\n1. **Optimized k Most Frequent Elements:** Modify the code to find the k most frequent elements in an array while ensuring that the time complexity is O(n + klogk). You can use a priority queue (heap) to achieve this.\n\n2. **Handling Duplicate Frequencies:** Extend the code to handle cases where multiple elements have the same frequency and are among the k most frequent elements. Ensure that the output contains exactly k elements.",
      "metadata": {},
      "id": "037b210a-555b-4da3-8130-b74d1e4f33f6"
    }
  ]
}