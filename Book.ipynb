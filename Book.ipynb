{
 "cells": [
  {
   "cell_type": "code",
   "execution_count": 1,
   "metadata": {},
   "outputs": [
    {
     "name": "stdout",
     "output_type": "stream",
     "text": [
      "Requirement already satisfied: pip in /usr/local/python/3.10.8/lib/python3.10/site-packages (23.3.1)\n",
      "Requirement already satisfied: jupyter-book in /usr/local/python/3.10.8/lib/python3.10/site-packages (0.15.1)\n",
      "Requirement already satisfied: click<9,>=7.1 in /usr/local/python/3.10.8/lib/python3.10/site-packages (from jupyter-book) (8.1.7)\n",
      "Requirement already satisfied: docutils<0.19,>=0.15 in /usr/local/python/3.10.8/lib/python3.10/site-packages (from jupyter-book) (0.18.1)\n",
      "Requirement already satisfied: Jinja2 in /home/codespace/.local/lib/python3.10/site-packages (from jupyter-book) (3.1.2)\n",
      "Requirement already satisfied: jsonschema<5 in /home/codespace/.local/lib/python3.10/site-packages (from jupyter-book) (4.19.1)\n",
      "Requirement already satisfied: linkify-it-py~=2.0.0 in /usr/local/python/3.10.8/lib/python3.10/site-packages (from jupyter-book) (2.0.2)\n",
      "Requirement already satisfied: myst-nb~=0.17.1 in /usr/local/python/3.10.8/lib/python3.10/site-packages (from jupyter-book) (0.17.2)\n",
      "Requirement already satisfied: pyyaml in /home/codespace/.local/lib/python3.10/site-packages (from jupyter-book) (6.0.1)\n",
      "Requirement already satisfied: sphinx<6,>=4 in /usr/local/python/3.10.8/lib/python3.10/site-packages (from jupyter-book) (5.0.2)\n",
      "Requirement already satisfied: sphinx-comments in /usr/local/python/3.10.8/lib/python3.10/site-packages (from jupyter-book) (0.0.3)\n",
      "Requirement already satisfied: sphinx-copybutton in /usr/local/python/3.10.8/lib/python3.10/site-packages (from jupyter-book) (0.5.2)\n",
      "Requirement already satisfied: sphinx-external-toc~=0.3.1 in /usr/local/python/3.10.8/lib/python3.10/site-packages (from jupyter-book) (0.3.1)\n",
      "Requirement already satisfied: sphinx-jupyterbook-latex~=0.5.2 in /usr/local/python/3.10.8/lib/python3.10/site-packages (from jupyter-book) (0.5.2)\n",
      "Requirement already satisfied: sphinx-design~=0.3.0 in /usr/local/python/3.10.8/lib/python3.10/site-packages (from jupyter-book) (0.3.0)\n",
      "Requirement already satisfied: sphinx-thebe~=0.2.0 in /usr/local/python/3.10.8/lib/python3.10/site-packages (from jupyter-book) (0.2.1)\n",
      "Requirement already satisfied: sphinx-book-theme~=1.0.0 in /usr/local/python/3.10.8/lib/python3.10/site-packages (from jupyter-book) (1.0.1)\n",
      "Requirement already satisfied: sphinx_togglebutton in /usr/local/python/3.10.8/lib/python3.10/site-packages (from jupyter-book) (0.3.2)\n",
      "Requirement already satisfied: sphinxcontrib-bibtex<=2.5.0,>=2.2.0 in /usr/local/python/3.10.8/lib/python3.10/site-packages (from jupyter-book) (2.5.0)\n",
      "Requirement already satisfied: sphinx-multitoc-numbering~=0.1.3 in /usr/local/python/3.10.8/lib/python3.10/site-packages (from jupyter-book) (0.1.3)\n",
      "Requirement already satisfied: attrs>=22.2.0 in /home/codespace/.local/lib/python3.10/site-packages (from jsonschema<5->jupyter-book) (23.1.0)\n",
      "Requirement already satisfied: jsonschema-specifications>=2023.03.6 in /home/codespace/.local/lib/python3.10/site-packages (from jsonschema<5->jupyter-book) (2023.7.1)\n",
      "Requirement already satisfied: referencing>=0.28.4 in /home/codespace/.local/lib/python3.10/site-packages (from jsonschema<5->jupyter-book) (0.30.2)\n",
      "Requirement already satisfied: rpds-py>=0.7.1 in /home/codespace/.local/lib/python3.10/site-packages (from jsonschema<5->jupyter-book) (0.10.6)\n",
      "Requirement already satisfied: uc-micro-py in /usr/local/python/3.10.8/lib/python3.10/site-packages (from linkify-it-py~=2.0.0->jupyter-book) (1.0.2)\n",
      "Requirement already satisfied: importlib_metadata in /usr/local/python/3.10.8/lib/python3.10/site-packages (from myst-nb~=0.17.1->jupyter-book) (6.8.0)\n",
      "Requirement already satisfied: ipython in /home/codespace/.local/lib/python3.10/site-packages (from myst-nb~=0.17.1->jupyter-book) (8.16.1)\n",
      "Requirement already satisfied: jupyter-cache<0.7,>=0.5 in /usr/local/python/3.10.8/lib/python3.10/site-packages (from myst-nb~=0.17.1->jupyter-book) (0.6.1)\n",
      "Requirement already satisfied: nbclient in /usr/local/python/3.10.8/lib/python3.10/site-packages (from myst-nb~=0.17.1->jupyter-book) (0.7.4)\n",
      "Requirement already satisfied: myst-parser~=0.18.0 in /usr/local/python/3.10.8/lib/python3.10/site-packages (from myst-nb~=0.17.1->jupyter-book) (0.18.1)\n",
      "Requirement already satisfied: nbformat~=5.0 in /home/codespace/.local/lib/python3.10/site-packages (from myst-nb~=0.17.1->jupyter-book) (5.9.2)\n",
      "Requirement already satisfied: typing-extensions in /home/codespace/.local/lib/python3.10/site-packages (from myst-nb~=0.17.1->jupyter-book) (4.8.0)\n",
      "Requirement already satisfied: ipykernel in /home/codespace/.local/lib/python3.10/site-packages (from myst-nb~=0.17.1->jupyter-book) (6.25.2)\n",
      "Requirement already satisfied: sphinxcontrib-applehelp in /usr/local/python/3.10.8/lib/python3.10/site-packages (from sphinx<6,>=4->jupyter-book) (1.0.7)\n",
      "Requirement already satisfied: sphinxcontrib-devhelp in /usr/local/python/3.10.8/lib/python3.10/site-packages (from sphinx<6,>=4->jupyter-book) (1.0.5)\n",
      "Requirement already satisfied: sphinxcontrib-jsmath in /usr/local/python/3.10.8/lib/python3.10/site-packages (from sphinx<6,>=4->jupyter-book) (1.0.1)\n",
      "Requirement already satisfied: sphinxcontrib-htmlhelp>=2.0.0 in /usr/local/python/3.10.8/lib/python3.10/site-packages (from sphinx<6,>=4->jupyter-book) (2.0.4)\n",
      "Requirement already satisfied: sphinxcontrib-serializinghtml>=1.1.5 in /usr/local/python/3.10.8/lib/python3.10/site-packages (from sphinx<6,>=4->jupyter-book) (1.1.9)\n",
      "Requirement already satisfied: sphinxcontrib-qthelp in /usr/local/python/3.10.8/lib/python3.10/site-packages (from sphinx<6,>=4->jupyter-book) (1.0.6)\n",
      "Requirement already satisfied: Pygments>=2.0 in /home/codespace/.local/lib/python3.10/site-packages (from sphinx<6,>=4->jupyter-book) (2.16.1)\n",
      "Requirement already satisfied: snowballstemmer>=1.1 in /usr/local/python/3.10.8/lib/python3.10/site-packages (from sphinx<6,>=4->jupyter-book) (2.2.0)\n",
      "Requirement already satisfied: babel>=1.3 in /home/codespace/.local/lib/python3.10/site-packages (from sphinx<6,>=4->jupyter-book) (2.13.0)\n",
      "Requirement already satisfied: alabaster<0.8,>=0.7 in /usr/local/python/3.10.8/lib/python3.10/site-packages (from sphinx<6,>=4->jupyter-book) (0.7.13)\n",
      "Requirement already satisfied: imagesize in /usr/local/python/3.10.8/lib/python3.10/site-packages (from sphinx<6,>=4->jupyter-book) (1.4.1)\n",
      "Requirement already satisfied: requests>=2.5.0 in /home/codespace/.local/lib/python3.10/site-packages (from sphinx<6,>=4->jupyter-book) (2.31.0)\n",
      "Requirement already satisfied: packaging in /home/codespace/.local/lib/python3.10/site-packages (from sphinx<6,>=4->jupyter-book) (23.2)\n",
      "Requirement already satisfied: MarkupSafe>=2.0 in /home/codespace/.local/lib/python3.10/site-packages (from Jinja2->jupyter-book) (2.1.3)\n",
      "Requirement already satisfied: pydata-sphinx-theme>=0.13.3 in /usr/local/python/3.10.8/lib/python3.10/site-packages (from sphinx-book-theme~=1.0.0->jupyter-book) (0.14.3)\n",
      "Requirement already satisfied: pybtex>=0.24 in /usr/local/python/3.10.8/lib/python3.10/site-packages (from sphinxcontrib-bibtex<=2.5.0,>=2.2.0->jupyter-book) (0.24.0)\n",
      "Requirement already satisfied: pybtex-docutils>=1.0.0 in /usr/local/python/3.10.8/lib/python3.10/site-packages (from sphinxcontrib-bibtex<=2.5.0,>=2.2.0->jupyter-book) (1.0.3)\n",
      "Requirement already satisfied: setuptools in /usr/local/python/3.10.8/lib/python3.10/site-packages (from sphinx_togglebutton->jupyter-book) (68.0.0)\n",
      "Requirement already satisfied: wheel in /usr/local/python/3.10.8/lib/python3.10/site-packages (from sphinx_togglebutton->jupyter-book) (0.41.3)\n",
      "Requirement already satisfied: sqlalchemy<3,>=1.3.12 in /usr/local/python/3.10.8/lib/python3.10/site-packages (from jupyter-cache<0.7,>=0.5->myst-nb~=0.17.1->jupyter-book) (2.0.23)\n",
      "Requirement already satisfied: tabulate in /usr/local/python/3.10.8/lib/python3.10/site-packages (from jupyter-cache<0.7,>=0.5->myst-nb~=0.17.1->jupyter-book) (0.9.0)\n",
      "Requirement already satisfied: markdown-it-py<3.0.0,>=1.0.0 in /usr/local/python/3.10.8/lib/python3.10/site-packages (from myst-parser~=0.18.0->myst-nb~=0.17.1->jupyter-book) (2.2.0)\n",
      "Requirement already satisfied: mdit-py-plugins~=0.3.1 in /usr/local/python/3.10.8/lib/python3.10/site-packages (from myst-parser~=0.18.0->myst-nb~=0.17.1->jupyter-book) (0.3.5)\n",
      "Requirement already satisfied: jupyter-client>=6.1.12 in /home/codespace/.local/lib/python3.10/site-packages (from nbclient->myst-nb~=0.17.1->jupyter-book) (8.4.0)\n",
      "Requirement already satisfied: jupyter-core!=5.0.*,>=4.12 in /home/codespace/.local/lib/python3.10/site-packages (from nbclient->myst-nb~=0.17.1->jupyter-book) (5.4.0)\n",
      "Requirement already satisfied: traitlets>=5.3 in /home/codespace/.local/lib/python3.10/site-packages (from nbclient->myst-nb~=0.17.1->jupyter-book) (5.11.2)\n",
      "Requirement already satisfied: fastjsonschema in /home/codespace/.local/lib/python3.10/site-packages (from nbformat~=5.0->myst-nb~=0.17.1->jupyter-book) (2.18.1)\n",
      "Requirement already satisfied: latexcodec>=1.0.4 in /usr/local/python/3.10.8/lib/python3.10/site-packages (from pybtex>=0.24->sphinxcontrib-bibtex<=2.5.0,>=2.2.0->jupyter-book) (2.0.1)\n",
      "Requirement already satisfied: six in /home/codespace/.local/lib/python3.10/site-packages (from pybtex>=0.24->sphinxcontrib-bibtex<=2.5.0,>=2.2.0->jupyter-book) (1.16.0)\n",
      "Requirement already satisfied: beautifulsoup4 in /home/codespace/.local/lib/python3.10/site-packages (from pydata-sphinx-theme>=0.13.3->sphinx-book-theme~=1.0.0->jupyter-book) (4.12.2)\n",
      "Requirement already satisfied: accessible-pygments in /usr/local/python/3.10.8/lib/python3.10/site-packages (from pydata-sphinx-theme>=0.13.3->sphinx-book-theme~=1.0.0->jupyter-book) (0.0.4)\n",
      "Requirement already satisfied: charset-normalizer<4,>=2 in /home/codespace/.local/lib/python3.10/site-packages (from requests>=2.5.0->sphinx<6,>=4->jupyter-book) (3.3.0)\n",
      "Requirement already satisfied: idna<4,>=2.5 in /home/codespace/.local/lib/python3.10/site-packages (from requests>=2.5.0->sphinx<6,>=4->jupyter-book) (3.4)\n",
      "Requirement already satisfied: urllib3<3,>=1.21.1 in /usr/local/python/3.10.8/lib/python3.10/site-packages (from requests>=2.5.0->sphinx<6,>=4->jupyter-book) (1.26.18)\n",
      "Requirement already satisfied: certifi>=2017.4.17 in /home/codespace/.local/lib/python3.10/site-packages (from requests>=2.5.0->sphinx<6,>=4->jupyter-book) (2023.7.22)\n",
      "Requirement already satisfied: zipp>=0.5 in /usr/local/python/3.10.8/lib/python3.10/site-packages (from importlib_metadata->myst-nb~=0.17.1->jupyter-book) (3.17.0)\n",
      "Requirement already satisfied: comm>=0.1.1 in /home/codespace/.local/lib/python3.10/site-packages (from ipykernel->myst-nb~=0.17.1->jupyter-book) (0.1.4)\n",
      "Requirement already satisfied: debugpy>=1.6.5 in /home/codespace/.local/lib/python3.10/site-packages (from ipykernel->myst-nb~=0.17.1->jupyter-book) (1.8.0)\n",
      "Requirement already satisfied: matplotlib-inline>=0.1 in /home/codespace/.local/lib/python3.10/site-packages (from ipykernel->myst-nb~=0.17.1->jupyter-book) (0.1.6)\n",
      "Requirement already satisfied: nest-asyncio in /home/codespace/.local/lib/python3.10/site-packages (from ipykernel->myst-nb~=0.17.1->jupyter-book) (1.5.8)\n",
      "Requirement already satisfied: psutil in /home/codespace/.local/lib/python3.10/site-packages (from ipykernel->myst-nb~=0.17.1->jupyter-book) (5.9.6)\n",
      "Requirement already satisfied: pyzmq>=20 in /home/codespace/.local/lib/python3.10/site-packages (from ipykernel->myst-nb~=0.17.1->jupyter-book) (25.1.1)\n",
      "Requirement already satisfied: tornado>=6.1 in /home/codespace/.local/lib/python3.10/site-packages (from ipykernel->myst-nb~=0.17.1->jupyter-book) (6.3.3)\n",
      "Requirement already satisfied: backcall in /home/codespace/.local/lib/python3.10/site-packages (from ipython->myst-nb~=0.17.1->jupyter-book) (0.2.0)\n",
      "Requirement already satisfied: decorator in /home/codespace/.local/lib/python3.10/site-packages (from ipython->myst-nb~=0.17.1->jupyter-book) (5.1.1)\n",
      "Requirement already satisfied: jedi>=0.16 in /home/codespace/.local/lib/python3.10/site-packages (from ipython->myst-nb~=0.17.1->jupyter-book) (0.19.1)\n",
      "Requirement already satisfied: pickleshare in /home/codespace/.local/lib/python3.10/site-packages (from ipython->myst-nb~=0.17.1->jupyter-book) (0.7.5)\n",
      "Requirement already satisfied: prompt-toolkit!=3.0.37,<3.1.0,>=3.0.30 in /home/codespace/.local/lib/python3.10/site-packages (from ipython->myst-nb~=0.17.1->jupyter-book) (3.0.39)\n",
      "Requirement already satisfied: stack-data in /home/codespace/.local/lib/python3.10/site-packages (from ipython->myst-nb~=0.17.1->jupyter-book) (0.6.3)\n",
      "Requirement already satisfied: exceptiongroup in /home/codespace/.local/lib/python3.10/site-packages (from ipython->myst-nb~=0.17.1->jupyter-book) (1.1.3)\n",
      "Requirement already satisfied: pexpect>4.3 in /home/codespace/.local/lib/python3.10/site-packages (from ipython->myst-nb~=0.17.1->jupyter-book) (4.8.0)\n",
      "Requirement already satisfied: parso<0.9.0,>=0.8.3 in /home/codespace/.local/lib/python3.10/site-packages (from jedi>=0.16->ipython->myst-nb~=0.17.1->jupyter-book) (0.8.3)\n",
      "Requirement already satisfied: python-dateutil>=2.8.2 in /home/codespace/.local/lib/python3.10/site-packages (from jupyter-client>=6.1.12->nbclient->myst-nb~=0.17.1->jupyter-book) (2.8.2)\n",
      "Requirement already satisfied: platformdirs>=2.5 in /home/codespace/.local/lib/python3.10/site-packages (from jupyter-core!=5.0.*,>=4.12->nbclient->myst-nb~=0.17.1->jupyter-book) (3.11.0)\n",
      "Requirement already satisfied: mdurl~=0.1 in /usr/local/python/3.10.8/lib/python3.10/site-packages (from markdown-it-py<3.0.0,>=1.0.0->myst-parser~=0.18.0->myst-nb~=0.17.1->jupyter-book) (0.1.2)\n",
      "Requirement already satisfied: ptyprocess>=0.5 in /home/codespace/.local/lib/python3.10/site-packages (from pexpect>4.3->ipython->myst-nb~=0.17.1->jupyter-book) (0.7.0)\n",
      "Requirement already satisfied: wcwidth in /home/codespace/.local/lib/python3.10/site-packages (from prompt-toolkit!=3.0.37,<3.1.0,>=3.0.30->ipython->myst-nb~=0.17.1->jupyter-book) (0.2.8)\n",
      "Requirement already satisfied: greenlet!=0.4.17 in /usr/local/python/3.10.8/lib/python3.10/site-packages (from sqlalchemy<3,>=1.3.12->jupyter-cache<0.7,>=0.5->myst-nb~=0.17.1->jupyter-book) (3.0.1)\n",
      "Requirement already satisfied: soupsieve>1.2 in /home/codespace/.local/lib/python3.10/site-packages (from beautifulsoup4->pydata-sphinx-theme>=0.13.3->sphinx-book-theme~=1.0.0->jupyter-book) (2.5)\n",
      "Requirement already satisfied: executing>=1.2.0 in /home/codespace/.local/lib/python3.10/site-packages (from stack-data->ipython->myst-nb~=0.17.1->jupyter-book) (2.0.0)\n",
      "Requirement already satisfied: asttokens>=2.1.0 in /home/codespace/.local/lib/python3.10/site-packages (from stack-data->ipython->myst-nb~=0.17.1->jupyter-book) (2.4.0)\n",
      "Requirement already satisfied: pure-eval in /home/codespace/.local/lib/python3.10/site-packages (from stack-data->ipython->myst-nb~=0.17.1->jupyter-book) (0.2.2)\n",
      "Note: you may need to restart the kernel to use updated packages.\n"
     ]
    }
   ],
   "source": [
    "!python -m pip install --upgrade pip\n",
    "%pip install jupyter-book"
   ]
  },
  {
   "cell_type": "code",
   "execution_count": 2,
   "metadata": {},
   "outputs": [
    {
     "name": "stdout",
     "output_type": "stream",
     "text": [
      "Requirement already satisfied: pyppeteer in /usr/local/python/3.10.8/lib/python3.10/site-packages (1.0.2)\n",
      "Requirement already satisfied: appdirs<2.0.0,>=1.4.3 in /usr/local/python/3.10.8/lib/python3.10/site-packages (from pyppeteer) (1.4.4)\n",
      "Requirement already satisfied: certifi>=2021 in /home/codespace/.local/lib/python3.10/site-packages (from pyppeteer) (2023.7.22)\n",
      "Requirement already satisfied: importlib-metadata>=1.4 in /usr/local/python/3.10.8/lib/python3.10/site-packages (from pyppeteer) (6.8.0)\n",
      "Requirement already satisfied: pyee<9.0.0,>=8.1.0 in /usr/local/python/3.10.8/lib/python3.10/site-packages (from pyppeteer) (8.2.2)\n",
      "Requirement already satisfied: tqdm<5.0.0,>=4.42.1 in /usr/local/python/3.10.8/lib/python3.10/site-packages (from pyppeteer) (4.66.1)\n",
      "Requirement already satisfied: urllib3<2.0.0,>=1.25.8 in /usr/local/python/3.10.8/lib/python3.10/site-packages (from pyppeteer) (1.26.18)\n",
      "Requirement already satisfied: websockets<11.0,>=10.0 in /usr/local/python/3.10.8/lib/python3.10/site-packages (from pyppeteer) (10.4)\n",
      "Requirement already satisfied: zipp>=0.5 in /usr/local/python/3.10.8/lib/python3.10/site-packages (from importlib-metadata>=1.4->pyppeteer) (3.17.0)\n",
      "Note: you may need to restart the kernel to use updated packages.\n",
      "Requirement already satisfied: jupyter-book in /usr/local/python/3.10.8/lib/python3.10/site-packages (0.15.1)\n",
      "Requirement already satisfied: myst-nb in /usr/local/python/3.10.8/lib/python3.10/site-packages (0.17.2)\n",
      "Collecting myst-nb\n",
      "  Downloading myst_nb-1.0.0-py3-none-any.whl.metadata (4.7 kB)\n",
      "Requirement already satisfied: click<9,>=7.1 in /usr/local/python/3.10.8/lib/python3.10/site-packages (from jupyter-book) (8.1.7)\n",
      "Requirement already satisfied: docutils<0.19,>=0.15 in /usr/local/python/3.10.8/lib/python3.10/site-packages (from jupyter-book) (0.18.1)\n",
      "Requirement already satisfied: Jinja2 in /home/codespace/.local/lib/python3.10/site-packages (from jupyter-book) (3.1.2)\n",
      "Requirement already satisfied: jsonschema<5 in /home/codespace/.local/lib/python3.10/site-packages (from jupyter-book) (4.19.1)\n",
      "Requirement already satisfied: linkify-it-py~=2.0.0 in /usr/local/python/3.10.8/lib/python3.10/site-packages (from jupyter-book) (2.0.2)\n",
      "Requirement already satisfied: pyyaml in /home/codespace/.local/lib/python3.10/site-packages (from jupyter-book) (6.0.1)\n",
      "Requirement already satisfied: sphinx<6,>=4 in /usr/local/python/3.10.8/lib/python3.10/site-packages (from jupyter-book) (5.0.2)\n",
      "Requirement already satisfied: sphinx-comments in /usr/local/python/3.10.8/lib/python3.10/site-packages (from jupyter-book) (0.0.3)\n",
      "Requirement already satisfied: sphinx-copybutton in /usr/local/python/3.10.8/lib/python3.10/site-packages (from jupyter-book) (0.5.2)\n",
      "Requirement already satisfied: sphinx-external-toc~=0.3.1 in /usr/local/python/3.10.8/lib/python3.10/site-packages (from jupyter-book) (0.3.1)\n",
      "Requirement already satisfied: sphinx-jupyterbook-latex~=0.5.2 in /usr/local/python/3.10.8/lib/python3.10/site-packages (from jupyter-book) (0.5.2)\n",
      "Requirement already satisfied: sphinx-design~=0.3.0 in /usr/local/python/3.10.8/lib/python3.10/site-packages (from jupyter-book) (0.3.0)\n",
      "Requirement already satisfied: sphinx-thebe~=0.2.0 in /usr/local/python/3.10.8/lib/python3.10/site-packages (from jupyter-book) (0.2.1)\n",
      "Requirement already satisfied: sphinx-book-theme~=1.0.0 in /usr/local/python/3.10.8/lib/python3.10/site-packages (from jupyter-book) (1.0.1)\n",
      "Requirement already satisfied: sphinx_togglebutton in /usr/local/python/3.10.8/lib/python3.10/site-packages (from jupyter-book) (0.3.2)\n",
      "Requirement already satisfied: sphinxcontrib-bibtex<=2.5.0,>=2.2.0 in /usr/local/python/3.10.8/lib/python3.10/site-packages (from jupyter-book) (2.5.0)\n",
      "Requirement already satisfied: sphinx-multitoc-numbering~=0.1.3 in /usr/local/python/3.10.8/lib/python3.10/site-packages (from jupyter-book) (0.1.3)\n",
      "Requirement already satisfied: importlib_metadata in /usr/local/python/3.10.8/lib/python3.10/site-packages (from myst-nb) (6.8.0)\n",
      "Requirement already satisfied: ipython in /home/codespace/.local/lib/python3.10/site-packages (from myst-nb) (8.16.1)\n",
      "Requirement already satisfied: jupyter-cache<0.7,>=0.5 in /usr/local/python/3.10.8/lib/python3.10/site-packages (from myst-nb) (0.6.1)\n",
      "Requirement already satisfied: nbclient in /usr/local/python/3.10.8/lib/python3.10/site-packages (from myst-nb) (0.7.4)\n",
      "Requirement already satisfied: myst-parser~=0.18.0 in /usr/local/python/3.10.8/lib/python3.10/site-packages (from myst-nb) (0.18.1)\n",
      "Requirement already satisfied: nbformat~=5.0 in /home/codespace/.local/lib/python3.10/site-packages (from myst-nb) (5.9.2)\n",
      "Requirement already satisfied: typing-extensions in /home/codespace/.local/lib/python3.10/site-packages (from myst-nb) (4.8.0)\n",
      "Requirement already satisfied: ipykernel in /home/codespace/.local/lib/python3.10/site-packages (from myst-nb) (6.25.2)\n",
      "Requirement already satisfied: attrs>=22.2.0 in /home/codespace/.local/lib/python3.10/site-packages (from jsonschema<5->jupyter-book) (23.1.0)\n",
      "Requirement already satisfied: jsonschema-specifications>=2023.03.6 in /home/codespace/.local/lib/python3.10/site-packages (from jsonschema<5->jupyter-book) (2023.7.1)\n",
      "Requirement already satisfied: referencing>=0.28.4 in /home/codespace/.local/lib/python3.10/site-packages (from jsonschema<5->jupyter-book) (0.30.2)\n",
      "Requirement already satisfied: rpds-py>=0.7.1 in /home/codespace/.local/lib/python3.10/site-packages (from jsonschema<5->jupyter-book) (0.10.6)\n",
      "Requirement already satisfied: sqlalchemy<3,>=1.3.12 in /usr/local/python/3.10.8/lib/python3.10/site-packages (from jupyter-cache<0.7,>=0.5->myst-nb) (2.0.23)\n",
      "Requirement already satisfied: tabulate in /usr/local/python/3.10.8/lib/python3.10/site-packages (from jupyter-cache<0.7,>=0.5->myst-nb) (0.9.0)\n",
      "Requirement already satisfied: uc-micro-py in /usr/local/python/3.10.8/lib/python3.10/site-packages (from linkify-it-py~=2.0.0->jupyter-book) (1.0.2)\n",
      "Requirement already satisfied: markdown-it-py<3.0.0,>=1.0.0 in /usr/local/python/3.10.8/lib/python3.10/site-packages (from myst-parser~=0.18.0->myst-nb) (2.2.0)\n",
      "Requirement already satisfied: mdit-py-plugins~=0.3.1 in /usr/local/python/3.10.8/lib/python3.10/site-packages (from myst-parser~=0.18.0->myst-nb) (0.3.5)\n",
      "Requirement already satisfied: jupyter-client>=6.1.12 in /home/codespace/.local/lib/python3.10/site-packages (from nbclient->myst-nb) (8.4.0)\n",
      "Requirement already satisfied: jupyter-core!=5.0.*,>=4.12 in /home/codespace/.local/lib/python3.10/site-packages (from nbclient->myst-nb) (5.4.0)\n",
      "Requirement already satisfied: traitlets>=5.3 in /home/codespace/.local/lib/python3.10/site-packages (from nbclient->myst-nb) (5.11.2)\n",
      "Requirement already satisfied: fastjsonschema in /home/codespace/.local/lib/python3.10/site-packages (from nbformat~=5.0->myst-nb) (2.18.1)\n",
      "Requirement already satisfied: sphinxcontrib-applehelp in /usr/local/python/3.10.8/lib/python3.10/site-packages (from sphinx<6,>=4->jupyter-book) (1.0.7)\n",
      "Requirement already satisfied: sphinxcontrib-devhelp in /usr/local/python/3.10.8/lib/python3.10/site-packages (from sphinx<6,>=4->jupyter-book) (1.0.5)\n",
      "Requirement already satisfied: sphinxcontrib-jsmath in /usr/local/python/3.10.8/lib/python3.10/site-packages (from sphinx<6,>=4->jupyter-book) (1.0.1)\n",
      "Requirement already satisfied: sphinxcontrib-htmlhelp>=2.0.0 in /usr/local/python/3.10.8/lib/python3.10/site-packages (from sphinx<6,>=4->jupyter-book) (2.0.4)\n",
      "Requirement already satisfied: sphinxcontrib-serializinghtml>=1.1.5 in /usr/local/python/3.10.8/lib/python3.10/site-packages (from sphinx<6,>=4->jupyter-book) (1.1.9)\n",
      "Requirement already satisfied: sphinxcontrib-qthelp in /usr/local/python/3.10.8/lib/python3.10/site-packages (from sphinx<6,>=4->jupyter-book) (1.0.6)\n",
      "Requirement already satisfied: Pygments>=2.0 in /home/codespace/.local/lib/python3.10/site-packages (from sphinx<6,>=4->jupyter-book) (2.16.1)\n",
      "Requirement already satisfied: snowballstemmer>=1.1 in /usr/local/python/3.10.8/lib/python3.10/site-packages (from sphinx<6,>=4->jupyter-book) (2.2.0)\n",
      "Requirement already satisfied: babel>=1.3 in /home/codespace/.local/lib/python3.10/site-packages (from sphinx<6,>=4->jupyter-book) (2.13.0)\n",
      "Requirement already satisfied: alabaster<0.8,>=0.7 in /usr/local/python/3.10.8/lib/python3.10/site-packages (from sphinx<6,>=4->jupyter-book) (0.7.13)\n",
      "Requirement already satisfied: imagesize in /usr/local/python/3.10.8/lib/python3.10/site-packages (from sphinx<6,>=4->jupyter-book) (1.4.1)\n",
      "Requirement already satisfied: requests>=2.5.0 in /home/codespace/.local/lib/python3.10/site-packages (from sphinx<6,>=4->jupyter-book) (2.31.0)\n",
      "Requirement already satisfied: packaging in /home/codespace/.local/lib/python3.10/site-packages (from sphinx<6,>=4->jupyter-book) (23.2)\n",
      "Requirement already satisfied: MarkupSafe>=2.0 in /home/codespace/.local/lib/python3.10/site-packages (from Jinja2->jupyter-book) (2.1.3)\n",
      "Requirement already satisfied: pydata-sphinx-theme>=0.13.3 in /usr/local/python/3.10.8/lib/python3.10/site-packages (from sphinx-book-theme~=1.0.0->jupyter-book) (0.14.3)\n",
      "Requirement already satisfied: pybtex>=0.24 in /usr/local/python/3.10.8/lib/python3.10/site-packages (from sphinxcontrib-bibtex<=2.5.0,>=2.2.0->jupyter-book) (0.24.0)\n",
      "Requirement already satisfied: pybtex-docutils>=1.0.0 in /usr/local/python/3.10.8/lib/python3.10/site-packages (from sphinxcontrib-bibtex<=2.5.0,>=2.2.0->jupyter-book) (1.0.3)\n",
      "Requirement already satisfied: zipp>=0.5 in /usr/local/python/3.10.8/lib/python3.10/site-packages (from importlib_metadata->myst-nb) (3.17.0)\n",
      "Requirement already satisfied: comm>=0.1.1 in /home/codespace/.local/lib/python3.10/site-packages (from ipykernel->myst-nb) (0.1.4)\n",
      "Requirement already satisfied: debugpy>=1.6.5 in /home/codespace/.local/lib/python3.10/site-packages (from ipykernel->myst-nb) (1.8.0)\n",
      "Requirement already satisfied: matplotlib-inline>=0.1 in /home/codespace/.local/lib/python3.10/site-packages (from ipykernel->myst-nb) (0.1.6)\n",
      "Requirement already satisfied: nest-asyncio in /home/codespace/.local/lib/python3.10/site-packages (from ipykernel->myst-nb) (1.5.8)\n",
      "Requirement already satisfied: psutil in /home/codespace/.local/lib/python3.10/site-packages (from ipykernel->myst-nb) (5.9.6)\n",
      "Requirement already satisfied: pyzmq>=20 in /home/codespace/.local/lib/python3.10/site-packages (from ipykernel->myst-nb) (25.1.1)\n",
      "Requirement already satisfied: tornado>=6.1 in /home/codespace/.local/lib/python3.10/site-packages (from ipykernel->myst-nb) (6.3.3)\n",
      "Requirement already satisfied: backcall in /home/codespace/.local/lib/python3.10/site-packages (from ipython->myst-nb) (0.2.0)\n",
      "Requirement already satisfied: decorator in /home/codespace/.local/lib/python3.10/site-packages (from ipython->myst-nb) (5.1.1)\n",
      "Requirement already satisfied: jedi>=0.16 in /home/codespace/.local/lib/python3.10/site-packages (from ipython->myst-nb) (0.19.1)\n",
      "Requirement already satisfied: pickleshare in /home/codespace/.local/lib/python3.10/site-packages (from ipython->myst-nb) (0.7.5)\n",
      "Requirement already satisfied: prompt-toolkit!=3.0.37,<3.1.0,>=3.0.30 in /home/codespace/.local/lib/python3.10/site-packages (from ipython->myst-nb) (3.0.39)\n",
      "Requirement already satisfied: stack-data in /home/codespace/.local/lib/python3.10/site-packages (from ipython->myst-nb) (0.6.3)\n",
      "Requirement already satisfied: exceptiongroup in /home/codespace/.local/lib/python3.10/site-packages (from ipython->myst-nb) (1.1.3)\n",
      "Requirement already satisfied: pexpect>4.3 in /home/codespace/.local/lib/python3.10/site-packages (from ipython->myst-nb) (4.8.0)\n",
      "Requirement already satisfied: setuptools in /usr/local/python/3.10.8/lib/python3.10/site-packages (from sphinx_togglebutton->jupyter-book) (68.0.0)\n",
      "Requirement already satisfied: wheel in /usr/local/python/3.10.8/lib/python3.10/site-packages (from sphinx_togglebutton->jupyter-book) (0.41.3)\n",
      "Requirement already satisfied: parso<0.9.0,>=0.8.3 in /home/codespace/.local/lib/python3.10/site-packages (from jedi>=0.16->ipython->myst-nb) (0.8.3)\n",
      "Requirement already satisfied: python-dateutil>=2.8.2 in /home/codespace/.local/lib/python3.10/site-packages (from jupyter-client>=6.1.12->nbclient->myst-nb) (2.8.2)\n",
      "Requirement already satisfied: platformdirs>=2.5 in /home/codespace/.local/lib/python3.10/site-packages (from jupyter-core!=5.0.*,>=4.12->nbclient->myst-nb) (3.11.0)\n",
      "Requirement already satisfied: mdurl~=0.1 in /usr/local/python/3.10.8/lib/python3.10/site-packages (from markdown-it-py<3.0.0,>=1.0.0->myst-parser~=0.18.0->myst-nb) (0.1.2)\n",
      "Requirement already satisfied: ptyprocess>=0.5 in /home/codespace/.local/lib/python3.10/site-packages (from pexpect>4.3->ipython->myst-nb) (0.7.0)\n",
      "Requirement already satisfied: wcwidth in /home/codespace/.local/lib/python3.10/site-packages (from prompt-toolkit!=3.0.37,<3.1.0,>=3.0.30->ipython->myst-nb) (0.2.8)\n",
      "Requirement already satisfied: latexcodec>=1.0.4 in /usr/local/python/3.10.8/lib/python3.10/site-packages (from pybtex>=0.24->sphinxcontrib-bibtex<=2.5.0,>=2.2.0->jupyter-book) (2.0.1)\n",
      "Requirement already satisfied: six in /home/codespace/.local/lib/python3.10/site-packages (from pybtex>=0.24->sphinxcontrib-bibtex<=2.5.0,>=2.2.0->jupyter-book) (1.16.0)\n",
      "Requirement already satisfied: beautifulsoup4 in /home/codespace/.local/lib/python3.10/site-packages (from pydata-sphinx-theme>=0.13.3->sphinx-book-theme~=1.0.0->jupyter-book) (4.12.2)\n",
      "Requirement already satisfied: accessible-pygments in /usr/local/python/3.10.8/lib/python3.10/site-packages (from pydata-sphinx-theme>=0.13.3->sphinx-book-theme~=1.0.0->jupyter-book) (0.0.4)\n",
      "Requirement already satisfied: charset-normalizer<4,>=2 in /home/codespace/.local/lib/python3.10/site-packages (from requests>=2.5.0->sphinx<6,>=4->jupyter-book) (3.3.0)\n",
      "Requirement already satisfied: idna<4,>=2.5 in /home/codespace/.local/lib/python3.10/site-packages (from requests>=2.5.0->sphinx<6,>=4->jupyter-book) (3.4)\n",
      "Requirement already satisfied: urllib3<3,>=1.21.1 in /usr/local/python/3.10.8/lib/python3.10/site-packages (from requests>=2.5.0->sphinx<6,>=4->jupyter-book) (1.26.18)\n",
      "Requirement already satisfied: certifi>=2017.4.17 in /home/codespace/.local/lib/python3.10/site-packages (from requests>=2.5.0->sphinx<6,>=4->jupyter-book) (2023.7.22)\n",
      "Requirement already satisfied: greenlet!=0.4.17 in /usr/local/python/3.10.8/lib/python3.10/site-packages (from sqlalchemy<3,>=1.3.12->jupyter-cache<0.7,>=0.5->myst-nb) (3.0.1)\n",
      "Requirement already satisfied: executing>=1.2.0 in /home/codespace/.local/lib/python3.10/site-packages (from stack-data->ipython->myst-nb) (2.0.0)\n",
      "Requirement already satisfied: asttokens>=2.1.0 in /home/codespace/.local/lib/python3.10/site-packages (from stack-data->ipython->myst-nb) (2.4.0)\n",
      "Requirement already satisfied: pure-eval in /home/codespace/.local/lib/python3.10/site-packages (from stack-data->ipython->myst-nb) (0.2.2)\n",
      "Requirement already satisfied: soupsieve>1.2 in /home/codespace/.local/lib/python3.10/site-packages (from beautifulsoup4->pydata-sphinx-theme>=0.13.3->sphinx-book-theme~=1.0.0->jupyter-book) (2.5)\n",
      "Note: you may need to restart the kernel to use updated packages.\n"
     ]
    }
   ],
   "source": [
    "%pip install pyppeteer \n",
    "%pip install -U jupyter-book myst-nb\n"
   ]
  },
  {
   "cell_type": "code",
   "execution_count": 34,
   "metadata": {},
   "outputs": [
    {
     "name": "stdout",
     "output_type": "stream",
     "text": [
      "/workspaces/LeetCode-Solutions\n"
     ]
    }
   ],
   "source": [
    "%cd /workspaces/LeetCode-Solutions"
   ]
  },
  {
   "cell_type": "code",
   "execution_count": 9,
   "metadata": {},
   "outputs": [
    {
     "name": "stdout",
     "output_type": "stream",
     "text": [
      "Traceback (most recent call last):\n",
      "  File \"/home/codespace/.python/current/bin/jupyter-book\", line 8, in <module>\n",
      "    sys.exit(main())\n",
      "  File \"/usr/local/python/3.10.8/lib/python3.10/site-packages/click/core.py\", line 1157, in __call__\n",
      "    return self.main(*args, **kwargs)\n",
      "  File \"/usr/local/python/3.10.8/lib/python3.10/site-packages/click/core.py\", line 1078, in main\n",
      "    rv = self.invoke(ctx)\n",
      "  File \"/usr/local/python/3.10.8/lib/python3.10/site-packages/click/core.py\", line 1688, in invoke\n",
      "    return _process_result(sub_ctx.command.invoke(sub_ctx))\n",
      "  File \"/usr/local/python/3.10.8/lib/python3.10/site-packages/click/core.py\", line 1688, in invoke\n",
      "    return _process_result(sub_ctx.command.invoke(sub_ctx))\n",
      "  File \"/usr/local/python/3.10.8/lib/python3.10/site-packages/click/core.py\", line 1434, in invoke\n",
      "    return ctx.invoke(self.callback, **ctx.params)\n",
      "  File \"/usr/local/python/3.10.8/lib/python3.10/site-packages/click/core.py\", line 783, in invoke\n",
      "    return __callback(*args, **kwargs)\n",
      "  File \"/usr/local/python/3.10.8/lib/python3.10/site-packages/sphinx_external_toc/cli.py\", line 139, in migrate_toc\n",
      "    toc = migrate_jupyter_book(Path(toc_file))\n",
      "  File \"/usr/local/python/3.10.8/lib/python3.10/site-packages/sphinx_external_toc/tools.py\", line 327, in migrate_jupyter_book\n",
      "    raise MalformedError(\"no top-level 'file' key found\")\n",
      "sphinx_external_toc.parsing.MalformedError: no top-level 'file' key found\n"
     ]
    }
   ],
   "source": [
    "!jupyter-book toc migrate /workspaces/LeetCode-Solutions/_toc.yml -o /workspaces/LeetCode-Solutions/_toc.yml"
   ]
  },
  {
   "cell_type": "code",
   "execution_count": 6,
   "metadata": {},
   "outputs": [
    {
     "name": "stdout",
     "output_type": "stream",
     "text": [
      "\u001b[32m\u001b[1mRunning Jupyter-Book v0.15.1\u001b[0m\n",
      "\u001b[34m\u001b[1mSource Folder: \u001b[0m/workspaces/LeetCode-Solutions\n",
      "\u001b[34m\u001b[1mConfig Path: \u001b[0m/workspaces/LeetCode-Solutions/_config.yml\n",
      "\u001b[34m\u001b[1mOutput Path: \u001b[0m/workspaces/LeetCode-Solutions/_build/html\n",
      "\u001b[01mRunning Sphinx v5.0.2\u001b[39;49;00m\n",
      "[etoc] Changing master_doc to 'README'\n",
      "\u001b[01mloading pickled environment... \u001b[39;49;00mdone\n",
      "\u001b[01mmyst v0.18.1:\u001b[39;49;00m MdParserConfig(commonmark_only=False, gfm_only=False, enable_extensions=['colon_fence', 'dollarmath', 'linkify', 'substitution', 'tasklist'], disable_syntax=[], all_links_external=False, url_schemes=['mailto', 'http', 'https'], ref_domains=None, highlight_code_blocks=True, number_code_blocks=[], title_to_header=False, heading_anchors=None, heading_slug_func=None, footnote_transition=True, words_per_minute=200, sub_delimiters=('{', '}'), linkify_fuzzy_links=True, dmath_allow_labels=True, dmath_allow_space=True, dmath_allow_digits=True, dmath_double_inline=False, update_mathjax=True, mathjax_classes='tex2jax_process|mathjax_process|math|output_area')\n",
      "\u001b[01mmyst-nb v0.17.2:\u001b[39;49;00m NbParserConfig(custom_formats={}, metadata_key='mystnb', cell_metadata_key='mystnb', kernel_rgx_aliases={}, execution_mode='auto', execution_cache_path='', execution_excludepatterns=[], execution_timeout=30, execution_in_temp=False, execution_allow_errors=False, execution_raise_on_error=False, execution_show_tb=False, merge_streams=False, render_plugin='default', remove_code_source=False, remove_code_outputs=False, code_prompt_show='Show code cell {type}', code_prompt_hide='Hide code cell {type}', number_source_lines=False, output_stderr='show', render_text_lexer='myst-ansi', render_error_lexer='ipythontb', render_image_options={}, render_figure_options={}, render_markdown_format='commonmark', output_folder='build', append_css=True, metadata_to_fm=False)\n",
      "Using jupyter-cache at: /workspaces/LeetCode-Solutions/_build/.jupyter_cache\n",
      "\u001b[01mbuilding [mo]: \u001b[39;49;00mtargets for 0 po files that are out of date\n",
      "\u001b[01mbuilding [html]: \u001b[39;49;00mtargets for 1 source files that are out of date\n",
      "\u001b[01mupdating environment: \u001b[39;49;00m0 added, 1 changed, 0 removed\n",
      "/workspaces/LeetCode-Solutions/Book.ipynb: Executing notebook using local CWD [mystnb]                          \n",
      "\n",
      "\u001b[91m/workspaces/LeetCode-Solutions/Book.ipynb: WARNING: Executing notebook failed: CellTimeoutError [mystnb.exec]\u001b[39;49;00m\n",
      "\u001b[91m/workspaces/LeetCode-Solutions/Book.ipynb: WARNING: Notebook exception traceback saved in: /workspaces/LeetCode-Solutions/_build/html/reports/Book.err.log [mystnb.exec]\u001b[39;49;00m\n",
      "\u001b[01mlooking for now-outdated files... \u001b[39;49;00mnone found\n",
      "\u001b[01mpickling environment... \u001b[39;49;00mdone\n",
      "\u001b[01mchecking consistency... \u001b[39;49;00m\u001b[91m/workspaces/LeetCode-Solutions/Book.ipynb: WARNING: document isn't included in any toctree\u001b[39;49;00m\n",
      "\u001b[91m/workspaces/LeetCode-Solutions/CODE_OF_CONDUCT.md: WARNING: document isn't included in any toctree\u001b[39;49;00m\n",
      "\u001b[91m/workspaces/LeetCode-Solutions/CONTRIBUTING.md: WARNING: document isn't included in any toctree\u001b[39;49;00m\n",
      "\u001b[91m/workspaces/LeetCode-Solutions/SECURITY.md: WARNING: document isn't included in any toctree\u001b[39;49;00m\n",
      "done\n",
      "\u001b[01mpreparing documents... \u001b[39;49;00mdone\n",
      "\u001b[01mwriting output... \u001b[39;49;00m[100%] \u001b[32mREADME\u001b[39;49;00m                                                 \n",
      "\u001b[01mgenerating indices... \u001b[39;49;00mgenindex done\n",
      "\u001b[01mwriting additional pages... \u001b[39;49;00msearch done\n",
      "\u001b[01mcopying static files... \u001b[39;49;00mdone\n",
      "\u001b[01mcopying extra files... \u001b[39;49;00mdone\n",
      "\u001b[01mdumping search index in English (code: en)... \u001b[39;49;00mdone\n",
      "\u001b[01mdumping object inventory... \u001b[39;49;00mdone\n",
      "\u001b[01mbuild succeeded, 6 warnings.\u001b[39;49;00m\n",
      "\n",
      "The HTML pages are in _build/html.\n",
      "\n",
      "\u001b[92m===============================================================================\u001b[0m\n",
      "\n",
      "Finished generating HTML for book.\n",
      "Your book's HTML pages are here:\n",
      "    _build/html/\n",
      "You can look at your book by opening this file in a browser:\n",
      "    _build/html/index.html\n",
      "Or paste this line directly into your browser bar:\n",
      "    file:///workspaces/LeetCode-Solutions/_build/html/index.html            \n",
      "\n",
      "\u001b[92m===============================================================================\u001b[0m\n",
      "\n"
     ]
    }
   ],
   "source": [
    "!jupyter-book build ."
   ]
  },
  {
   "cell_type": "code",
   "execution_count": null,
   "metadata": {},
   "outputs": [],
   "source": [
    "!jupyter-book build /workspaces/LeetCode-Solutions/ --builder pdfhtml"
   ]
  },
  {
   "cell_type": "code",
   "execution_count": 5,
   "metadata": {},
   "outputs": [
    {
     "data": {
      "text/html": [
       "<a href=\"_build/html/index.html\" target=\"_blank\">Click here to view your Jupyter Book</a>"
      ],
      "text/plain": [
       "<IPython.core.display.HTML object>"
      ]
     },
     "execution_count": 5,
     "metadata": {},
     "output_type": "execute_result"
    }
   ],
   "source": [
    "from IPython.display import HTML\n",
    "HTML('<a href=\"_build/html/index.html\" target=\"_blank\">Click here to view your Jupyter Book</a>')\n"
   ]
  },
  {
   "cell_type": "code",
   "execution_count": 40,
   "metadata": {},
   "outputs": [
    {
     "name": "stdout",
     "output_type": "stream",
     "text": [
      "\n",
      "\u001b[92m===============================================================================\u001b[0m\n",
      "\n",
      "Your book template can be found at\n",
      "\n",
      "    mybook/\n",
      "\n",
      "\u001b[92m===============================================================================\u001b[0m\n",
      "\n"
     ]
    }
   ],
   "source": [
    "!jupyter-book create mybook"
   ]
  },
  {
   "cell_type": "code",
   "execution_count": 45,
   "metadata": {},
   "outputs": [
    {
     "name": "stdout",
     "output_type": "stream",
     "text": [
      "\u001b[32m\u001b[1mRunning Jupyter-Book v0.15.1\u001b[0m\n",
      "\u001b[34m\u001b[1mSource Folder: \u001b[0m/workspaces/LeetCode-Solutions/mybook\n",
      "\u001b[34m\u001b[1mConfig Path: \u001b[0m/workspaces/LeetCode-Solutions/mybook/_config.yml\n",
      "\u001b[34m\u001b[1mOutput Path: \u001b[0m/workspaces/LeetCode-Solutions/mybook/_build/html\n",
      "[sphinxcontrib-bibtex] Beware that docutils versions 0.18 and 0.19 (you are running 0.18.1) are known to generate invalid html for citations. If this issue affects you, please use docutils<0.18 (or >=0.20 once released) instead. For more details, see https://sourceforge.net/p/docutils/patches/195/\n",
      "\u001b[01mRunning Sphinx v5.0.2\u001b[39;49;00m\n",
      "[etoc] Changing master_doc to 'intro'\n",
      "checking bibtex cache... out of date\n",
      "parsing bibtex file /workspaces/LeetCode-Solutions/mybook/references.bib... parsed 5 entries\n",
      "\u001b[01mmyst v0.18.1:\u001b[39;49;00m MdParserConfig(commonmark_only=False, gfm_only=False, enable_extensions=['colon_fence', 'dollarmath', 'linkify', 'substitution', 'tasklist'], disable_syntax=[], all_links_external=False, url_schemes=['mailto', 'http', 'https'], ref_domains=None, highlight_code_blocks=True, number_code_blocks=[], title_to_header=False, heading_anchors=None, heading_slug_func=None, footnote_transition=True, words_per_minute=200, sub_delimiters=('{', '}'), linkify_fuzzy_links=True, dmath_allow_labels=True, dmath_allow_space=True, dmath_allow_digits=True, dmath_double_inline=False, update_mathjax=True, mathjax_classes='tex2jax_process|mathjax_process|math|output_area')\n",
      "\u001b[01mmyst-nb v0.17.2:\u001b[39;49;00m NbParserConfig(custom_formats={}, metadata_key='mystnb', cell_metadata_key='mystnb', kernel_rgx_aliases={}, execution_mode='force', execution_cache_path='', execution_excludepatterns=[], execution_timeout=30, execution_in_temp=False, execution_allow_errors=False, execution_raise_on_error=False, execution_show_tb=False, merge_streams=False, render_plugin='default', remove_code_source=False, remove_code_outputs=False, code_prompt_show='Show code cell {type}', code_prompt_hide='Hide code cell {type}', number_source_lines=False, output_stderr='show', render_text_lexer='myst-ansi', render_error_lexer='ipythontb', render_image_options={}, render_figure_options={}, render_markdown_format='commonmark', output_folder='build', append_css=True, metadata_to_fm=False)\n",
      "Using jupyter-cache at: /workspaces/LeetCode-Solutions/mybook/_build/.jupyter_cache\n",
      "\u001b[01mbuilding [mo]: \u001b[39;49;00mtargets for 0 po files that are out of date\n",
      "\u001b[01mbuilding [html]: \u001b[39;49;00mtargets for 14 source files that are out of date\n",
      "\u001b[01mupdating environment: \u001b[39;49;00m[new config] 14 added, 0 changed, 0 removed\n",
      "/workspaces/LeetCode-Solutions/mybook/01. Array Hashing/1. Two Sum.ipynb: Executing notebook using local CWD [mystnb]\n",
      "/workspaces/LeetCode-Solutions/mybook/01. Array Hashing/1. Two Sum.ipynb: Executed notebook in 1.35 seconds [mystnb]\n",
      "/workspaces/LeetCode-Solutions/mybook/01. Array Hashing/128. Longest Consecutive Sequence.ipynb: Executing notebook using local CWD [mystnb]\n",
      "/workspaces/LeetCode-Solutions/mybook/01. Array Hashing/128. Longest Consecutive Sequence.ipynb: Executed notebook in 1.09 seconds [mystnb]\n",
      "/workspaces/LeetCode-Solutions/mybook/01. Array Hashing/217. Contains Duplicate.ipynb: Executing notebook using local CWD [mystnb]\n",
      "/workspaces/LeetCode-Solutions/mybook/01. Array Hashing/217. Contains Duplicate.ipynb: Executed notebook in 1.04 seconds [mystnb]\n",
      "/workspaces/LeetCode-Solutions/mybook/01. Array Hashing/238. Product of Array Except Self.ipynb: Executing notebook using local CWD [mystnb]\n",
      "/workspaces/LeetCode-Solutions/mybook/01. Array Hashing/238. Product of Array Except Self.ipynb: Executed notebook in 4.02 seconds [mystnb]\n",
      "/workspaces/LeetCode-Solutions/mybook/01. Array Hashing/242. Valid Anagram.ipynb: Executing notebook using local CWD [mystnb]\n",
      "/workspaces/LeetCode-Solutions/mybook/01. Array Hashing/242. Valid Anagram.ipynb: Executed notebook in 0.97 seconds [mystnb]\n",
      "/workspaces/LeetCode-Solutions/mybook/01. Array Hashing/347. Top K Frequent Elements.ipynb: Executing notebook using local CWD [mystnb]\n",
      "/workspaces/LeetCode-Solutions/mybook/01. Array Hashing/347. Top K Frequent Elements.ipynb: Executed notebook in 1.14 seconds [mystnb]\n",
      "/workspaces/LeetCode-Solutions/mybook/01. Array Hashing/49. Group Anagrams.ipynb: Executing notebook using local CWD [mystnb]\n",
      "/workspaces/LeetCode-Solutions/mybook/01. Array Hashing/49. Group Anagrams.ipynb: Executed notebook in 0.88 seconds [mystnb]\n",
      "/workspaces/LeetCode-Solutions/mybook/01. Array Hashing/659. Encode and Decode Strings.ipynb: Executing notebook using local CWD [mystnb]\n",
      "/workspaces/LeetCode-Solutions/mybook/01. Array Hashing/659. Encode and Decode Strings.ipynb: Executed notebook in 1.10 seconds [mystnb]\n",
      "/workspaces/LeetCode-Solutions/mybook/02. Two Pointers/11. Container With Most Water.ipynb: Executing notebook using local CWD [mystnb]\n",
      "/workspaces/LeetCode-Solutions/mybook/02. Two Pointers/11. Container With Most Water.ipynb: Executed notebook in 1.12 seconds [mystnb]\n",
      "/workspaces/LeetCode-Solutions/mybook/02. Two Pointers/125. Valid Palindrome.ipynb: Executing notebook using local CWD [mystnb]\n",
      "/workspaces/LeetCode-Solutions/mybook/02. Two Pointers/125. Valid Palindrome.ipynb: Executed notebook in 0.98 seconds [mystnb]\n",
      "/workspaces/LeetCode-Solutions/mybook/02. Two Pointers/15. 3Sum.ipynb: Executing notebook using local CWD [mystnb]\n",
      "/workspaces/LeetCode-Solutions/mybook/02. Two Pointers/15. 3Sum.ipynb: Executed notebook in 0.83 seconds [mystnb]\n",
      "\u001b[01mreading sources... \u001b[39;49;00m[100%] \u001b[35mintro\u001b[39;49;00m                                                 \n",
      "\u001b[01mlooking for now-outdated files... \u001b[39;49;00mnone found\n",
      "\u001b[01mpickling environment... \u001b[39;49;00mdone\n",
      "\u001b[01mchecking consistency... \u001b[39;49;00m\u001b[91m/workspaces/LeetCode-Solutions/mybook/01. Array Hashing/README.md: WARNING: document isn't included in any toctree\u001b[39;49;00m\n",
      "\u001b[91m/workspaces/LeetCode-Solutions/mybook/02. Two Pointers/README.md: WARNING: document isn't included in any toctree\u001b[39;49;00m\n",
      "done\n",
      "\u001b[01mpreparing documents... \u001b[39;49;00mdone\n",
      "\u001b[01mwriting output... \u001b[39;49;00m[100%] \u001b[32mintro\u001b[39;49;00m                                                  \n",
      "\u001b[01mgenerating indices... \u001b[39;49;00mgenindex done\n",
      "\u001b[01mwriting additional pages... \u001b[39;49;00msearch done\n",
      "\u001b[01mcopying static files... \u001b[39;49;00mdone\n",
      "\u001b[01mcopying extra files... \u001b[39;49;00mdone\n",
      "\u001b[01mdumping search index in English (code: en)... \u001b[39;49;00mdone\n",
      "\u001b[01mdumping object inventory... \u001b[39;49;00mdone\n",
      "[etoc] missing index.html written as redirect to 'intro.html'\n",
      "\u001b[01mbuild succeeded, 2 warnings.\u001b[39;49;00m\n",
      "\n",
      "The HTML pages are in mybook/_build/html.\n",
      "\n",
      "\u001b[92m===============================================================================\u001b[0m\n",
      "\n",
      "Finished generating HTML for book.\n",
      "Your book's HTML pages are here:\n",
      "    mybook/_build/html/\n",
      "You can look at your book by opening this file in a browser:\n",
      "    mybook/_build/html/index.html\n",
      "Or paste this line directly into your browser bar:\n",
      "    file:///workspaces/LeetCode-Solutions/mybook/_build/html/index.html            \n",
      "\n",
      "\u001b[92m===============================================================================\u001b[0m\n",
      "\n"
     ]
    }
   ],
   "source": [
    "!jupyter-book build mybook"
   ]
  },
  {
   "cell_type": "code",
   "execution_count": 31,
   "metadata": {},
   "outputs": [
    {
     "name": "stdout",
     "output_type": "stream",
     "text": [
      "format: jb-book\n",
      "root: intro\n",
      "\n"
     ]
    }
   ],
   "source": [
    "!jupyter-book toc from-project /workspaces/LeetCode-Solutions/mybook/ -f jb-book"
   ]
  }
 ],
 "metadata": {
  "kernelspec": {
   "display_name": "Python 3",
   "language": "python",
   "name": "python3"
  },
  "language_info": {
   "codemirror_mode": {
    "name": "ipython",
    "version": 3
   },
   "file_extension": ".py",
   "mimetype": "text/x-python",
   "name": "python",
   "nbconvert_exporter": "python",
   "pygments_lexer": "ipython3",
   "version": "3.10.8"
  }
 },
 "nbformat": 4,
 "nbformat_minor": 2
}
