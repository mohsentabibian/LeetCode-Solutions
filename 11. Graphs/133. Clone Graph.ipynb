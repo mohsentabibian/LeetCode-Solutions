{
  "metadata": {
    "kernelspec": {
      "name": "python",
      "display_name": "Python (Pyodide)",
      "language": "python"
    },
    "language_info": {
      "codemirror_mode": {
        "name": "python",
        "version": 3
      },
      "file_extension": ".py",
      "mimetype": "text/x-python",
      "name": "python",
      "nbconvert_exporter": "python",
      "pygments_lexer": "ipython3",
      "version": "3.8"
    }
  },
  "nbformat_minor": 5,
  "nbformat": 4,
  "cells": [
    {
      "cell_type": "markdown",
      "source": "## 133. Clone Graph\n\n**Difficulty:** Medium\n\n**Link to Problem:** [To see the Clone Graph problem on LeetCode, click here!](https://leetcode.com/problems/clone-graph/)\n\n---\nGiven a reference of a node in a **connected** undirected graph.\n\nReturn a **deep copy** (clone) of the graph.\n\nEach node in the graph contains a value (`int`) and a list (`List[Node]`) of its neighbors.\n\n```\nclass Node {\n    public int val;\n    public List<Node> neighbors;\n}\n```\n\n**Test case format:**\n\nFor simplicity, each node's value is the same as the node's index (1-indexed). For example, the first node with `val == 1`, the second node with `val == 2`, and so on. The graph is represented in the test case using an adjacency list.\n\n**An adjacency list** is a collection of unordered **lists** used to represent a finite graph. Each list describes the set of neighbors of a node in the graph.\n\nThe given node will always be the first node with `val = 1`. You must return the **copy of the given node** as a reference to the cloned graph.\n\n**Constraints:**\n- The number of nodes in the graph is in the range `[0, 100]`.\n- `1 <= Node.val <= 100`\n- `Node.val` is unique for each node.\n- There are no repeated edges and no self-loops in the graph.\n- The Graph is connected and all nodes can be visited starting from the given node.",
      "metadata": {},
      "id": "d6161252-e815-48d5-a2a3-5444c12e3b49"
    },
    {
      "cell_type": "markdown",
      "source": "## Probelm Explanation:\n\nThe problem at hand is to clone a connected undirected graph, which means we need to create a deep copy of the original graph while preserving its structure and relationships between nodes. The graph is represented using adjacency lists, where each node has a value (an integer) and a list of its neighbors.\n\nHere are the key aspects of the problem:\n\n1. **Input**: You are given a reference to one of the nodes in the original graph. This reference node serves as the entry point to the graph. The entire graph can be explored starting from this node.\n\n2. **Output**: The goal is to create a deep copy of the graph and return a reference to the cloned graph. The cloned graph should have the same structure and relationships as the original one but should be a separate instance in memory.\n\n3. **Graph Structure**: The graph is composed of nodes (vertices) and edges. Nodes have values (integers) and are connected to other nodes through edges (undirected connections). Each node has a list of neighbors, which are other nodes it is connected to.\n\n4. **Connected Graph**: The problem assumes that the graph is connected, meaning that you can start from the reference node provided and traverse the entire graph by following the edges. This ensures that there are no isolated components in the graph.\n\nTo solve this problem, you typically need to perform a graph traversal (e.g., depth-first search or breadth-first search) to visit all the nodes in the original graph, create corresponding nodes in the clone, and establish the same connections between nodes in the cloned graph as in the original one. To avoid duplication of nodes, you also need to keep track of visited nodes to ensure that the cloning process is efficient and that nodes are not duplicated in the clone.\n\nThe problem can be challenging because you need to create a deep copy of the graph while handling cyclic dependencies between nodes and ensuring that the structure and relationships of the original graph are preserved in the clone. The solution requires recursion or a data structure to maintain the mapping between original nodes and their clones to achieve an efficient and accurate cloning process.\n\n## Solution:\nHere's a Python function to implement this algorithm:",
      "metadata": {},
      "id": "fe9e71ae-2099-4eb9-b7a1-ec795ce92c76"
    },
    {
      "cell_type": "code",
      "source": "# Definition for a Node.\nclass Node:\n    def __init__(self, val=0, neighbors=None):\n        self.val = val\n        self.neighbors = neighbors if neighbors is not None else []\n\nclass Solution:\n    def cloneGraph(self, node: 'Node') -> 'Node':\n        if not node:\n            return None\n\n        visited = {}  # Dictionary to keep track of visited nodes\n\n        def dfs(original_node):\n            if original_node in visited:\n                return visited[original_node]\n\n            # Create a copy of the original node\n            copy_node = Node(original_node.val)\n            visited[original_node] = copy_node\n\n            # Recursively clone the neighbors of the original node\n            for neighbor in original_node.neighbors:\n                copy_node.neighbors.append(dfs(neighbor))\n\n            return copy_node\n\n        return dfs(node)",
      "metadata": {
        "trusted": true
      },
      "execution_count": 5,
      "outputs": [],
      "id": "aabf7095-07dc-4ab7-876c-ec7213ed0de5"
    },
    {
      "cell_type": "markdown",
      "source": "### Explanation:\n\nThe given code defines a Python class, `Node`, and a solution class, `Solution`, to clone a connected undirected graph represented by nodes and their neighbors. Here's an explanation of the code:\n\n1. The `Node` class defines a node in the graph. Each node has a value (`val`) which is an integer and a list of neighbors (`neighbors`) that are other nodes in the graph.\n\n2. The `Solution` class contains the method `cloneGraph`, which takes a reference to the first node of the graph (`node`) as input and returns a deep copy of the entire graph, preserving the structure and relationships between nodes.\n\n3. Inside the `cloneGraph` method:\n   - It first checks if the input `node` is `None`. If it's `None`, it means there is no graph to clone, and the method returns `None`.\n\n   - It initializes a `visited` dictionary to keep track of visited nodes. This dictionary is used to ensure that each node is cloned only once to avoid duplication.\n\n   - The `dfs` (depth-first search) function is defined within the `cloneGraph` method. It takes an original node as input and returns its corresponding clone. This function performs the actual cloning of the graph.\n\n   - Inside the `dfs` function:\n     - It checks if the original node has been visited before by looking it up in the `visited` dictionary. If it has been visited, it returns the corresponding clone from the `visited` dictionary.\n\n     - If the original node is not visited, it creates a new node, `copy_node`, with the same value as the original node. This is the first step in creating the clone of the original node.\n\n     - It then recursively clones the neighbors of the original node by iterating through the `neighbors` list of the original node and appending the corresponding cloned neighbors to the `neighbors` list of the `copy_node`. This step ensures that the relationships between nodes are preserved in the clone.\n\n     - The `copy_node` is added to the `visited` dictionary with the original node as the key and the clone as the value.\n\n     - Finally, the `copy_node` is returned as the result of the DFS for the original node.\n\n4. The `cloneGraph` method returns the result of the DFS on the input `node`, which is the clone of the entire graph with its structure and relationships intact.\n\nIn summary, the code uses depth-first search (DFS) to traverse the original graph, creating a clone for each node and its neighbors. It ensures that each node is cloned only once to avoid duplication and returns a reference to the cloned graph.",
      "metadata": {},
      "id": "ece39324-cd9e-47d7-8677-a001878494d9"
    },
    {
      "cell_type": "markdown",
      "source": "## Test cases:\n\nHere's how you can use this solution:",
      "metadata": {},
      "id": "a54ea5b7-c53f-46c0-a44f-ef769ac68244"
    },
    {
      "cell_type": "code",
      "source": "def get_adjacency_list(node):\n    visited = {}  # Dictionary to keep track of visited nodes\n\n    def dfs(node):\n        if not node:\n            return []\n\n        if node in visited:\n            return visited[node]\n\n        neighbors = [n.val for n in node.neighbors]\n        visited[node] = neighbors\n\n        for neighbor in node.neighbors:\n            dfs(neighbor)\n\n    dfs(node)\n    result = []\n\n    def get_node_and_neighbors(node):\n        result.append([node.val] + visited[node])\n\n    get_node_and_neighbors(node)\n    return result\n\n\n# Testing the code with the provided examples\nadjList1 = [[2, 4], [1, 3], [2, 4], [1, 3]]\nsolution = Solution()\n\n# Create the graph from adjList\nnodes = [Node(i) for i in range(1, len(adjList1) + 1)]\nfor i, adj in enumerate(adjList1):\n    nodes[i].neighbors = [nodes[j - 1] for j in adj]\n\n# Clone the graph and get its adjacency list\ncloned_node1 = solution.cloneGraph(nodes[0])\ncloned_adjList1 = get_adjacency_list(cloned_node1)\n\n# Print the cloned graph as an adjacency list\nprint(cloned_adjList1)\n\n# Output should match adjList1\n",
      "metadata": {
        "trusted": true
      },
      "execution_count": 7,
      "outputs": [
        {
          "name": "stdout",
          "text": "[[1, 2, 4]]\n",
          "output_type": "stream"
        }
      ],
      "id": "f12c5a63-b811-4be7-83c2-34ee396b546c"
    },
    {
      "cell_type": "code",
      "source": "# Example 2\n# Input: adjList = [[]]\n\nadjList2 = [[]]\nsolution = Solution()\n\n# Create the graph from adjList\nnode1 = Node(1)\n\n# Clone the graph and get its adjacency list\ncloned_node1 = solution.cloneGraph(node1)\ncloned_adjList2 = get_adjacency_list(cloned_node1)\n\n# Print the cloned graph as an adjacency list\nprint(cloned_adjList2)\n\n# Output should be [[]], which represents an empty graph",
      "metadata": {
        "trusted": true
      },
      "execution_count": 11,
      "outputs": [
        {
          "name": "stdout",
          "text": "[[1]]\n",
          "output_type": "stream"
        }
      ],
      "id": "364aa061-a452-45eb-96db-36f7dbdbdcb3"
    },
    {
      "cell_type": "markdown",
      "source": "## Time and Space Complexity Analysis\n\nLet's analyze the time and space complexity of the provided code for cloning a graph using depth-first search (DFS).\n\nTime Complexity:\n1. Creating the graph: The time complexity to create the original graph from `adjList` is O(V + E), where V is the number of vertices (nodes) and E is the number of edges. We iterate through each node and its neighbors in `adjList`.\n\n2. Cloning the graph (DFS): The depth-first search (DFS) is used to traverse the original graph and create a clone. The time complexity of DFS is O(V + E), as we visit each node and each edge once.\n\nOverall, the time complexity is O(V + E) for both creating the original graph and cloning it.\n\nSpace Complexity:\n1. Storage for the original graph: We need to store the original graph, which includes all nodes and their adjacency lists. In the worst case, this requires O(V + E) space, where V is the number of nodes, and E is the number of edges.\n\n2. Storage for the visited dictionary: The `visited` dictionary stores mappings from original nodes to their corresponding clones. In the worst case, this requires O(V) space because each node is visited once.\n\n3. Recursive stack for DFS: The space used for the recursive call stack during DFS can be up to O(V) in the worst case, where V is the number of nodes.\n\nOverall, the space complexity is O(V + E) for storing the original graph, and O(V) for auxiliary data structures, including the `visited` dictionary and the DFS call stack. Therefore, the overall space complexity is O(V + E).\n\nIn summary, the time and space complexities of the provided code for cloning a graph are both O(V + E), where V is the number of nodes, and E is the number of edges in the graph.",
      "metadata": {},
      "id": "7d9dd448-c5f5-4192-8aa5-7c70ec7f42e2"
    },
    {
      "cell_type": "markdown",
      "source": "### Challenging Exercises:\n\n1. **Cyclic Graph**: Design a graph with cycles (nodes connected in a cycle). Test if the code can correctly clone graphs with cycles and doesn't fall into an infinite loop during traversal.\n\n\n2. **Partial Graph Cloning**: Modify the code to clone only a subset of the graph starting from a given reference node, rather than the entire graph. Implement this as an extension to the problem.",
      "metadata": {},
      "id": "037b210a-555b-4da3-8130-b74d1e4f33f6"
    }
  ]
}