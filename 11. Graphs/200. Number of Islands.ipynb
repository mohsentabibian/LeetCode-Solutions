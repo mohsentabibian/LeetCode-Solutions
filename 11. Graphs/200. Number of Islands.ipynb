{
  "metadata": {
    "kernelspec": {
      "name": "python",
      "display_name": "Python (Pyodide)",
      "language": "python"
    },
    "language_info": {
      "codemirror_mode": {
        "name": "python",
        "version": 3
      },
      "file_extension": ".py",
      "mimetype": "text/x-python",
      "name": "python",
      "nbconvert_exporter": "python",
      "pygments_lexer": "ipython3",
      "version": "3.8"
    }
  },
  "nbformat_minor": 5,
  "nbformat": 4,
  "cells": [
    {
      "cell_type": "markdown",
      "source": "## 200. Number of Islands\n\n**Difficulty:** Medium\n\n**Link to Problem:** [To see the Number of Islands problem on LeetCode, click here!](https://leetcode.com/problems/number-of-islands/)\n\n---\n\nGiven an `m x n` 2D binary grid `grid` which represents a map of `'1'`s (land) and `'0'`s (water), return *the number of islands*. \n\nAn **island** is surrounded by water and is formed by connecting adjacent lands horizontally or vertically. You may assume all four edges of the grid are all surrounded by water.\n\n**Constraints:**\n- `m == grid.length`\n- `n == grid[i].length`\n- `1 <= m, n <= 300`\n- `grid[i][j]` is `'0'` or `'1'`.",
      "metadata": {
        "jp-MarkdownHeadingCollapsed": true
      },
      "id": "d6161252-e815-48d5-a2a3-5444c12e3b49"
    },
    {
      "cell_type": "markdown",
      "source": "## Probelm Explanation:\n\nThe problem is about counting the number of islands in a 2D binary grid. In this grid, '1' represents land, and '0' represents water. An island is defined as a group of '1' cells that are adjacent to each other either horizontally or vertically. It's important to note that diagonal connections do not count. Additionally, it's assumed that all four edges of the grid are surrounded by water, meaning the grid is finite and doesn't \"wrap around.\"\n\nThe objective is to determine how many distinct islands exist in the grid. To clarify, an island consists of connected '1' cells, and these connections can only occur horizontally or vertically. If there are no '1' cells in the grid, the number of islands would be zero.\n\nThe problem often involves using graph traversal techniques like Depth-First Search (DFS) or Breadth-First Search (BFS) to identify and count these islands. You start at one '1' cell and explore its adjacent cells to determine the extent of the island. Once you've visited all the '1' cells in an island, you move on to the next unvisited '1' cell and repeat the process until you've counted all the islands in the grid.\n\nIn essence, the problem asks you to analyze the grid to find groups of connected '1' cells and count them as individual islands. The goal is to return the total count of islands in the given grid.\n\n\n## Solution:\nHere's a Python function to implement this algorithm:",
      "metadata": {},
      "id": "fe9e71ae-2099-4eb9-b7a1-ec795ce92c76"
    },
    {
      "cell_type": "code",
      "source": "from typing import List\n\nclass Solution:\n    def numIslands(self, grid: List[List[str]]) -> int:\n        if not grid:\n            return 0\n\n        m, n = len(grid), len(grid[0])  # Get the dimensions of the grid\n        num_islands = 0  # Initialize the count of islands\n\n        def dfs(row, col):\n            if row < 0 or row >= m or col < 0 or col >= n or grid[row][col] == '0':\n                return\n\n            grid[row][col] = '0'  # Mark the current cell as visited by changing it to '0'\n            directions = [(1, 0), (-1, 0), (0, 1), (0, -1)]  # Define four possible directions to move\n\n            for dr, dc in directions:\n                # Explore adjacent cells\n                dfs(row + dr, col + dc)\n\n        for i in range(m):\n            for j in range(n):\n                if grid[i][j] == '1':\n                    num_islands += 1  # Increment the island count\n                    dfs(i, j)  # Start a DFS from the current '1' cell to explore the entire island\n\n        return num_islands\n",
      "metadata": {
        "trusted": true
      },
      "execution_count": 1,
      "outputs": [],
      "id": "aabf7095-07dc-4ab7-876c-ec7213ed0de5"
    },
    {
      "cell_type": "markdown",
      "source": "### Explanation:\n\nThe provided code defines a Python class called `Solution` with a method called `numIslands`. This class is designed to count the number of islands in a 2D binary grid.\n\nThe `numIslands` method takes a 2D grid as input, where '1' represents land, and '0' represents water. It uses a depth-first search (DFS) approach to identify and count islands. The key steps in the code include:\n\n1. Checking if the input grid is empty, and if so, returning 0 (indicating there are no islands).\n\n2. Determining the dimensions of the grid (number of rows and columns).\n\n3. Initializing a variable `num_islands` to keep track of the count of islands.\n\n4. Defining a nested function `dfs` to perform depth-first search. This function recursively explores adjacent land cells connected to the current cell and marks them as visited by changing '1' to '0'.\n\n5. In the `dfs` function, it checks for boundary conditions and whether the current cell is '0'. If these conditions are met, it returns without further exploration.\n\n6. The `dfs` function explores neighboring cells in all four directions (up, down, left, right) using a loop.\n\n7. The main loop iterates through each cell of the grid. When a '1' cell is encountered, it increments the `num_islands` count and starts a DFS from that cell to explore the entire island.\n\n8. Finally, the method returns the total count of islands found in the grid.\n\nThis code encapsulates the solution in a class, allowing you to create an instance of the `Solution` class and call the `numIslands` method on it to count the number of islands in a given grid.",
      "metadata": {},
      "id": "ece39324-cd9e-47d7-8677-a001878494d9"
    },
    {
      "cell_type": "markdown",
      "source": "## Test cases:\n\nHere's how you can use this solution:",
      "metadata": {},
      "id": "a54ea5b7-c53f-46c0-a44f-ef769ac68244"
    },
    {
      "cell_type": "code",
      "source": "grid1 = [\n  [\"1\", \"1\", \"1\", \"1\", \"0\"],\n  [\"1\", \"1\", \"0\", \"1\", \"0\"],\n  [\"1\", \"1\", \"0\", \"0\", \"0\"],\n  [\"0\", \"0\", \"0\", \"0\", \"0\"]\n]\n\nsolution = Solution()\nresult1 = solution.numIslands(grid1)\nprint(\"Example 1 Output:\", result1)  # Expected output: 1\n",
      "metadata": {
        "trusted": true
      },
      "execution_count": 5,
      "outputs": [
        {
          "name": "stdout",
          "text": "Example 1 Output: 1\n",
          "output_type": "stream"
        }
      ],
      "id": "355f5bfd-94e1-4c5b-9914-cc20775f4160"
    },
    {
      "cell_type": "code",
      "source": "grid2 = [\n  [\"1\", \"1\", \"0\", \"0\", \"0\"],\n  [\"1\", \"1\", \"0\", \"0\", \"0\"],\n  [\"0\", \"0\", \"1\", \"0\", \"0\"],\n  [\"0\", \"0\", \"0\", \"1\", \"1\"]\n]\n\nresult2 = solution.numIslands(grid2)\nprint(\"Example 2 Output:\", result2)  # Expected output: 3\n",
      "metadata": {
        "trusted": true
      },
      "execution_count": 6,
      "outputs": [
        {
          "name": "stdout",
          "text": "Example 2 Output: 3\n",
          "output_type": "stream"
        }
      ],
      "id": "364aa061-a452-45eb-96db-36f7dbdbdcb3"
    },
    {
      "cell_type": "markdown",
      "source": "## Time and Space Complexity Analysis\n\nLet's analyze the time and space complexity of the provided code:\n\nTime Complexity:\n- The code uses a depth-first search (DFS) to explore the grid and count the number of islands.\n- In the worst case, it visits every cell in the grid exactly once.\n- The DFS function explores neighboring cells in four directions (up, down, left, right), so it has a time complexity of $O(4^{max(m, n)})$, where m is the number of rows and n is the number of columns.\n- Therefore, the overall time complexity of the code is O(m * n), where m is the number of rows, and n is the number of columns.\n\nSpace Complexity:\n- The space complexity is determined by the recursive calls and the depth of the DFS stack.\n- In the worst case, when the entire grid consists of '1's, the depth of the DFS recursion can be as deep as max(m, n).\n- Therefore, the space complexity of the code is O(max(m, n)), representing the maximum depth of the DFS stack.\n\nIn practical terms, for reasonably sized grids, the time and space complexity is linear, and the code should perform well. However, it's important to keep in mind that the worst-case time complexity is O(m * n), and the space complexity can be O(max(m, n)).",
      "metadata": {},
      "id": "7d9dd448-c5f5-4192-8aa5-7c70ec7f42e2"
    },
    {
      "cell_type": "markdown",
      "source": "### Challenging Exercises:\n\n1. **Identify Largest Island:** In addition to counting the number of islands, modify the code to identify the largest island in the grid and return its size.\n\n2. **Optimize for Space:** Modify the solution to reduce its space complexity to O(1) without modifying the input grid. This is a more memory-efficient version of the problem.",
      "metadata": {},
      "id": "037b210a-555b-4da3-8130-b74d1e4f33f6"
    }
  ]
}