{
  "metadata": {
    "kernelspec": {
      "name": "python",
      "display_name": "Python (Pyodide)",
      "language": "python"
    },
    "language_info": {
      "codemirror_mode": {
        "name": "python",
        "version": 3
      },
      "file_extension": ".py",
      "mimetype": "text/x-python",
      "name": "python",
      "nbconvert_exporter": "python",
      "pygments_lexer": "ipython3",
      "version": "3.8"
    }
  },
  "nbformat_minor": 5,
  "nbformat": 4,
  "cells": [
    {
      "cell_type": "markdown",
      "source": "## 417. Pacific Atlantic Water Flow\n\n\n**Difficulty:** Medium\n\n**Link to Problem:** [To see the Pacific Atlantic Water Flow problem on LeetCode, click here!](https://leetcode.com/problems/pacific-atlantic-water-flow/)\n\n---\nThere is an `m x n` rectangular island that borders both the **Pacific Ocean** and **Atlantic Ocean**. The **Pacific Ocea**n touches the island's left and top edges, and the **Atlantic Ocean** touches the island's right and bottom edges.\n\nThe island is partitioned into a grid of square cells. You are given an `m x n` integer matrix `heights` where `heights[r][c]` represents the **height above sea level** of the cell at coordinate `(r, c)`.\n\nThe island receives a lot of rain, and the rain water can flow to neighboring cells directly north, south, east, and west if the neighboring cell's height is **less than or equal to** the current cell's height. Water can flow from any cell adjacent to an ocean into the ocean.\n\nReturn *a **2D list** of grid coordinates `result` where $result[i] = [r_i, c_i]$ denotes that rain water can flow from cell $(r_i, c_i)$ to **both** the Pacific and Atlantic oceans*.\n\n**Constraints:**\n- `m == heights.length`\n- `n == heights[r].length`\n- `1 <= m, n <= 200`\n- 0 <= `heights[r][c]` <= $10^5$",
      "metadata": {},
      "id": "d6161252-e815-48d5-a2a3-5444c12e3b49"
    },
    {
      "cell_type": "markdown",
      "source": "## Probelm Explanation:\n\nThe problem at hand involves a scenario with a rectangular island surrounded by both the Pacific Ocean and the Atlantic Ocean. The Pacific Ocean is in contact with the island's left and top edges, while the Atlantic Ocean is in contact with the island's right and bottom edges. The goal is to determine which cells on the island can allow rainwater to flow to both the Pacific and Atlantic Oceans.\n\nHere are the key details and constraints of the problem:\n\n1. The island is divided into a grid of square cells.\n\n2. Each cell is represented by an integer value in a matrix `heights`. The value at `heights[r][c]` represents the height above sea level of the cell at coordinates `(r, c)` on the island.\n\n3. Rainwater can flow from a cell to neighboring cells directly north, south, east, or west only if the neighboring cell's height is less than or equal to the current cell's height.\n\n4. Water can flow from any cell adjacent to the ocean into the ocean. This means water can flow from cells on the edge of the island to the Pacific Ocean and the Atlantic Ocean.\n\nThe task is to find and return a 2D list of grid coordinates where rainwater can flow from a cell to both the Pacific and Atlantic Oceans. In other words, you need to identify the cells that can send water to both the left and top edges (Pacific) and the right and bottom edges (Atlantic) of the island.\n\nThe problem is solved by performing a depth-first search (DFS) starting from the ocean edges and marking the cells that can flow to each ocean. Then, the algorithm identifies cells that are reachable from both oceans and returns their coordinates as the result.\n\nThe problem involves both traversal of the island and backtracking to find the solution, which makes it a classic graph traversal problem.\n\n## Solution:\nHere's a Python function to implement this algorithm:",
      "metadata": {},
      "id": "fe9e71ae-2099-4eb9-b7a1-ec795ce92c76"
    },
    {
      "cell_type": "code",
      "source": "from typing import List\n\nclass Solution:\n    def pacificAtlantic(self, heights: List[List[int]]) -> List[List[int]]:\n        # Check if the input matrix is empty\n        if not heights:\n            return []\n        \n        m, n = len(heights), len(heights[0])\n        \n        # Initialize boolean matrices to keep track of cells reachable from each ocean\n        pacific_reachable = [[False] * n for _ in range(m)]\n        atlantic_reachable = [[False] * n for _ in range(m)]\n        \n        # Depth-First Search (DFS) function to mark cells that can be reached from an ocean\n        def dfs(x, y, reachable):\n            if reachable[x][y]:\n                return\n            reachable[x][y] = True\n            for dx, dy in [(0, 1), (0, -1), (1, 0), (-1, 0)]:\n                new_x, new_y = x + dx, y + dy\n                if 0 <= new_x < m and 0 <= new_y < n and heights[new_x][new_y] >= heights[x][y]:\n                    dfs(new_x, new_y, reachable)\n        \n        # Start DFS from the Pacific Ocean (left and top edges)\n        for i in range(m):\n            dfs(i, 0, pacific_reachable)\n            dfs(i, n - 1, atlantic_reachable)\n        \n        for j in range(n):\n            dfs(0, j, pacific_reachable)\n            dfs(m - 1, j, atlantic_reachable)\n        \n        result = []\n        \n        # Find cells that can flow to both the Pacific and Atlantic oceans\n        for i in range(m):\n            for j in range(n):\n                if pacific_reachable[i][j] and atlantic_reachable[i][j]:\n                    result.append([i, j])\n        \n        return result",
      "metadata": {
        "trusted": true
      },
      "execution_count": 24,
      "outputs": [],
      "id": "aabf7095-07dc-4ab7-876c-ec7213ed0de5"
    },
    {
      "cell_type": "markdown",
      "source": "### Explanation:\n\nThe code defines a class called `Solution` with a method named `pacificAtlantic`. This method takes a 2D matrix `heights`, where each element represents the height above sea level of a cell on a rectangular island. The goal of the method is to find and return a list of grid coordinates (cells) from which rainwater can flow into both the Pacific and Atlantic Oceans.\n\nThe code uses a Depth-First Search (DFS) algorithm to traverse the island, starting from the ocean edges, and marks cells that are reachable from either the Pacific or Atlantic Ocean. It does this by creating two boolean matrices, `pacific_reachable` and `atlantic_reachable`, to keep track of cells that can be reached from each ocean.\n\nThe code iterates through the entire island, initiating DFS searches from the edges of the island. If a cell is reachable from an ocean (either Pacific or Atlantic), it is marked as reachable in the corresponding boolean matrix. The DFS function ensures that the traversal follows the rule that water can flow to a neighboring cell if the neighboring cell's height is less than or equal to the current cell's height.\n\nAfter marking all reachable cells from both oceans, the code then looks for cells that are reachable from both the Pacific and Atlantic Oceans. If a cell satisfies this condition, it is added to the `result` list.\n\nFinally, the code returns the `result` list, which contains the grid coordinates of cells from which rainwater can flow into both the Pacific and Atlantic Oceans.\n\nThe code provides a solution to the problem of finding cells on the island where water can reach both oceans, demonstrating a traversal algorithm that explores the connectivity of cells on the island.",
      "metadata": {},
      "id": "ece39324-cd9e-47d7-8677-a001878494d9"
    },
    {
      "cell_type": "markdown",
      "source": "## Test cases:\n\nHere's how you can use this solution:",
      "metadata": {},
      "id": "a54ea5b7-c53f-46c0-a44f-ef769ac68244"
    },
    {
      "cell_type": "code",
      "source": "# Example 1\nheights1 = [\n    [1,2,2,3,5],\n    [3,2,3,4,4],\n    [2,4,5,3,1],\n    [6,7,1,4,5],\n    [5,1,1,2,4]\n]\n\nsolution = Solution()\nprint(solution.pacificAtlantic(heights1)) # Expected Output: [[0, 4], [1, 3], [1, 4], [2, 2], [3, 0], [3, 1], [4, 0]]",
      "metadata": {
        "trusted": true
      },
      "execution_count": 25,
      "outputs": [
        {
          "name": "stdout",
          "text": "[[0, 4], [1, 3], [1, 4], [2, 2], [3, 0], [3, 1], [4, 0]]\n",
          "output_type": "stream"
        }
      ],
      "id": "355f5bfd-94e1-4c5b-9914-cc20775f4160"
    },
    {
      "cell_type": "code",
      "source": "# Example 2\nheights2 = [[1]]\nprint(solution.pacificAtlantic(heights2)) # Expected Output: [[0, 0]]",
      "metadata": {
        "trusted": true
      },
      "execution_count": 26,
      "outputs": [
        {
          "name": "stdout",
          "text": "[[0, 0]]\n",
          "output_type": "stream"
        }
      ],
      "id": "364aa061-a452-45eb-96db-36f7dbdbdcb3"
    },
    {
      "cell_type": "markdown",
      "source": "## Time and Space Complexity Analysis\n\nTime Complexity:\nThe time complexity of this solution is O(m * n), where 'm' is the number of rows in the input matrix and 'n' is the number of columns. Here's a breakdown of the time complexity:\n\n1. Creating the `pacific_reachable` and `atlantic_reachable` matrices with dimensions m x n takes O(m * n) time.\n\n2. Initiating Depth-First Search (DFS) from the edges of the island takes O(m * n) time because it processes each cell once.\n\n3. The DFS function visits each cell at most once, and its time complexity is O(1) for each cell. The number of cells visited by the DFS in the worst case is m * n.\n\n4. The final step of identifying and appending cells to the result list takes O(m * n) time in the worst case.\n\nOverall, the time complexity is dominated by the DFS and is O(m * n).\n\nSpace Complexity:\nThe space complexity of this solution is also O(m * n). Here's how the space is used:\n\n1. Two boolean matrices, `pacific_reachable` and `atlantic_reachable`, are created with dimensions m x n. Each matrix takes O(m * n) space, resulting in O(2 * m * n) space usage.\n\n2. The depth-first search (DFS) stack space during the recursive calls can go as deep as the diagonal of the grid, which is at most min(m, n). This additional space for the call stack is relatively small compared to the boolean matrices and can be considered O(min(m, n)).\n\n3. The `result` list stores the grid coordinates, and its size is determined by the number of cells that can flow to both oceans. In the worst case, this list can contain all m * n cells, so it takes O(m * n) space.\n\nThe overall space complexity is the sum of these components, which is O(m * n) + O(min(m, n)) + O(m * n). In big O notation, we can simplify this to O(m * n).",
      "metadata": {},
      "id": "7d9dd448-c5f5-4192-8aa5-7c70ec7f42e2"
    },
    {
      "cell_type": "markdown",
      "source": "### Challenging Exercises:\n\n1. **Optimization Challenge:** Modify the algorithm to find the maximum flow of water from any cell to both the Pacific and Atlantic Oceans. In other words, find the cell(s) that can send the most water to both oceans.\n\n2. **Efficiency Challenge:** Optimize the time and space complexity of the algorithm while maintaining correctness. Aim to reduce both time and space complexity as much as possible.",
      "metadata": {},
      "id": "037b210a-555b-4da3-8130-b74d1e4f33f6"
    }
  ]
}