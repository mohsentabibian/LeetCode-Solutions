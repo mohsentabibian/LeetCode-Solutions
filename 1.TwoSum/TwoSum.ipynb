{
  "metadata": {
    "kernelspec": {
      "name": "python",
      "display_name": "Python (Pyodide)",
      "language": "python"
    },
    "language_info": {
      "codemirror_mode": {
        "name": "python",
        "version": 3
      },
      "file_extension": ".py",
      "mimetype": "text/x-python",
      "name": "python",
      "nbconvert_exporter": "python",
      "pygments_lexer": "ipython3",
      "version": "3.8"
    }
  },
  "nbformat_minor": 5,
  "nbformat": 4,
  "cells": [
    {
      "cell_type": "markdown",
      "source": "## 1. Two Sum Problem (Easy)\n\nGiven an array of integers `nums` and an integer `target`, return indices of the two numbers that add up to the `target`.\n\nYou may assume that each input would have `exactly one solution`, and you may not use the same element twice.\n\nYou can return the answer in any order.\n\n\n[To see the Two Sum problem on LeetCode, click here!](https://leetcode.com/problems/two-sum/)\n\n**Constraints:**\n\n- `2 <= nums.length <= 104`\n- `-109 <= nums[i] <= 109`\n- `-109 <= target <= 109`\n- Only one valid answer exists.\n\n**Follow-up:** Can you come up with an algorithm that is less than $O(n^2)$ time complexity?\n",
      "metadata": {},
      "id": "d6161252-e815-48d5-a2a3-5444c12e3b49"
    },
    {
      "cell_type": "code",
      "source": "def two_sum(nums, target):\n    num_indices = {}  # Dictionary to store numbers and their indices\n    \n    for i, num in enumerate(nums):\n        complement = target - num  # Calculate the complement needed to reach the target\n        \n        # Check if the complement exists in our dictionary\n        if complement in num_indices:\n            return [num_indices[complement], i]  # Return the indices of the two numbers\n        \n        # If the complement doesn't exist, add the current number and its index to the dictionary\n        num_indices[num] = i\n    \n    # If no solution is found, return an empty list or handle it as needed\n    return []",
      "metadata": {
        "trusted": true
      },
      "execution_count": 14,
      "outputs": [],
      "id": "aabf7095-07dc-4ab7-876c-ec7213ed0de5"
    },
    {
      "cell_type": "markdown",
      "source": "This code iterates through the input array `nums` once, maintaining a dictionary `num_indices` to store the numbers encountered so far and their corresponding indices. For each number, it calculates the complement needed to reach the target and checks if that complement exists in the dictionary. If it does, the function returns the indices of the two numbers that add up to the target. If no solution is found, it returns an empty list.\n\nThis approach has a time complexity of $O(n)$ because it only iterates through the input array once.",
      "metadata": {},
      "id": "ece39324-cd9e-47d7-8677-a001878494d9"
    },
    {
      "cell_type": "markdown",
      "source": "## Test cases",
      "metadata": {},
      "id": "a54ea5b7-c53f-46c0-a44f-ef769ac68244"
    },
    {
      "cell_type": "code",
      "source": "nums1 = [2, 7, 11, 15]\ntarget1 = 9\nresult1 = two_sum(nums1, target1)\nprint(result1)",
      "metadata": {
        "trusted": true
      },
      "execution_count": 13,
      "outputs": [
        {
          "name": "stdout",
          "text": "[0, 1]\n",
          "output_type": "stream"
        }
      ],
      "id": "355f5bfd-94e1-4c5b-9914-cc20775f4160"
    },
    {
      "cell_type": "code",
      "source": "nums2 = [3, 2, 4]\ntarget2 = 6\nresult2 = two_sum(nums2, target2)\nprint(result2)",
      "metadata": {
        "trusted": true
      },
      "execution_count": 10,
      "outputs": [
        {
          "name": "stdout",
          "text": "[1, 2]\n",
          "output_type": "stream"
        }
      ],
      "id": "192912fb-9d12-4911-9a4f-bfd37043e11d"
    },
    {
      "cell_type": "code",
      "source": "nums3 = [3, 3]\ntarget3 = 6\nresult3 = two_sum(nums3, target3)\nprint(result3)",
      "metadata": {
        "trusted": true
      },
      "execution_count": 12,
      "outputs": [
        {
          "name": "stdout",
          "text": "[0, 1]\n",
          "output_type": "stream"
        }
      ],
      "id": "75a6becd-2981-4ed4-941e-0d91c394da06"
    }
  ]
}