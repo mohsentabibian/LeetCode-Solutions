{
  "metadata": {
    "kernelspec": {
      "name": "python",
      "display_name": "Python (Pyodide)",
      "language": "python"
    },
    "language_info": {
      "codemirror_mode": {
        "name": "python",
        "version": 3
      },
      "file_extension": ".py",
      "mimetype": "text/x-python",
      "name": "python",
      "nbconvert_exporter": "python",
      "pygments_lexer": "ipython3",
      "version": "3.8"
    }
  },
  "nbformat_minor": 5,
  "nbformat": 4,
  "cells": [
    {
      "cell_type": "markdown",
      "source": "## 242. Valid Anagram\n\n**Difficulty:** Easy\n\n**Link to Problem:** [To see the Valid Anagram problem on LeetCode, click here!](https://leetcode.com/problems/valid-anagram/)\n\n---\nGiven two strings `s` and `t`, return `true` if `t` is an anagram of `s`, and `false` otherwise.\n\nAn **Anagram** is a word or phrase formed by rearranging the letters of a different word or phrase, typically using all the original letters exactly once.\n\n**Constraints:**\n- 1 <= `s.length`, `t.length` <= $5 * 10^4$\n- `s` and `t` consist of lowercase English letters.\n\n**Follow-up:** What if the inputs contain Unicode characters? How would you adapt your solution to such a case?\n\n## Solution:\nHere's a Python function to solve this problem:",
      "metadata": {},
      "id": "d6161252-e815-48d5-a2a3-5444c12e3b49"
    },
    {
      "cell_type": "code",
      "source": "from collections import defaultdict\n\n\ndef groupAnagrams(strs):\n    ans = defaultdict(list)\n\n    # Iterate through the list of input strings\n    for s in strs:\n        # Initialize a list to represent character counts for each character (a-z)\n        count = [0] * 26\n\n        # Count the occurrences of each character in the current word\n        for c in s:\n            count[ord(c) - ord(\"a\")] += 1\n\n        # Use a tuple of character counts as the key and append the word to the anagram group\n        ans[tuple(count)].append(s)\n\n    # Convert the values (lists of anagrams) to a list of lists\n    return list(ans.values())",
      "metadata": {
        "trusted": true
      },
      "execution_count": 36,
      "outputs": [],
      "id": "aabf7095-07dc-4ab7-876c-ec7213ed0de5"
    },
    {
      "cell_type": "markdown",
      "source": "### Explanation:\n\n1. Inside the method, a `defaultdict` called `ans` is created to store anagram groups. This dictionary will have a list as its default value, meaning that each key in the dictionary will be associated with an empty list by default.\n\n2. The code then iterates through the list of input strings, `strs`, using a `for` loop. For each word `s` in `strs`, it performs the following steps:\n\n   - It initializes a list `count` of length 26, where each element represents the count of a specific character (a-z) in the word `s`.\n\n   - The code then iterates through the characters of `s`. For each character `c`, it increments the corresponding count in the `count` list based on its ASCII value.\n\n   - After counting the characters in `s`, it converts the `count` list into a tuple `tuple(count)` to use as a key for the `ans` dictionary.\n\n   - It appends the word `s` to the list associated with the key (tuple) in the `ans` dictionary. This groups all anagrams of the same word together under the same key.\n\n3. After processing all words in `strs`, the code converts the values of the `ans` dictionary (which are lists of anagrams) to a list of lists using the `list()` constructor.\n\n4. Finally, the code returns the list of anagram groups, which is the result of grouping the anagrams in the input list.\n\nIn summary, the code efficiently groups anagrams together by counting the characters in each word and using a dictionary to store them under the same key. The result is a list of lists, where each inner list represents a group of anagrams.",
      "metadata": {},
      "id": "ece39324-cd9e-47d7-8677-a001878494d9"
    },
    {
      "cell_type": "markdown",
      "source": "## Test cases",
      "metadata": {},
      "id": "a54ea5b7-c53f-46c0-a44f-ef769ac68244"
    },
    {
      "cell_type": "code",
      "source": "# Example 1: Group anagrams from a list of words\nstrs1 = [\"eat\", \"tea\", \"tan\", \"ate\", \"nat\", \"bat\"]\nresult1 = groupAnagrams(strs1)\nprint(result1)\n",
      "metadata": {
        "trusted": true
      },
      "execution_count": 37,
      "outputs": [
        {
          "name": "stdout",
          "text": "[['eat', 'tea', 'ate'], ['tan', 'nat'], ['bat']]\n",
          "output_type": "stream"
        }
      ],
      "id": "355f5bfd-94e1-4c5b-9914-cc20775f4160"
    },
    {
      "cell_type": "code",
      "source": "# Example 2: Group anagrams from a list with an empty string\nstrs2 = [\"\"]\nresult2 = groupAnagrams(strs2)\nprint(result2)",
      "metadata": {
        "trusted": true
      },
      "execution_count": 38,
      "outputs": [
        {
          "name": "stdout",
          "text": "[['']]\n",
          "output_type": "stream"
        }
      ],
      "id": "192912fb-9d12-4911-9a4f-bfd37043e11d"
    },
    {
      "cell_type": "code",
      "source": "# Example 3: Group anagrams from a list with a single word\nstrs3 = [\"a\"]\nresult3 = groupAnagrams(strs3)\nprint(result3)",
      "metadata": {
        "trusted": true
      },
      "execution_count": 40,
      "outputs": [
        {
          "name": "stdout",
          "text": "[['a']]\n",
          "output_type": "stream"
        }
      ],
      "id": "c8367e2a-e7d5-4e18-8235-2870e341a04b"
    },
    {
      "cell_type": "markdown",
      "source": "## Time and Space Complexity Analysis\n\nLet's analyze the time and space complexity of the `groupAnagrams` method:\n\n**Time Complexity:**\n\n1. First, we create an instance of the `Solution` class, which is an O(1) operation.\n\n2. Inside the `groupAnagrams` method, we iterate through the list of input strings `strs` once in a loop:\n   - For each word in `strs`, we perform character counting, which is done in O(K) time, where K is the maximum length of a word in the list.\n\n3. The overall time complexity of the method is O(N * K), where N is the number of words in the input list `strs`, and K is the maximum length of a word in `strs`.\n\n**Space Complexity:**\n\n1. We use a `defaultdict` called `ans` to store the anagram groups. In the worst case, each word belongs to a distinct anagram group, so the space complexity for `ans` is O(N).\n\n2. Within the loop, we create a `count` list of length 26 to store character counts for each word. This is a fixed-size list and does not depend on the input size, so it has a constant space complexity of O(26), which is effectively O(1).\n\n3. The space used for other variables is also constant and does not depend on the input size.\n\n4. The final result, `result`, is a list of lists that contains the grouped anagrams. In the worst case, each word is a distinct anagram group, so the space complexity for `result` is O(N).\n\n5. The overall space complexity of the method is O(N) due to the space used by `ans` and `result`. The space used by the `count` list and other variables is constant and does not significantly affect the overall space complexity.\n\n**In summary,** the time complexity of the `groupAnagrams` method is O(N * K), and the space complexity is O(N), where N is the number of words in the input list `strs`, and K is the maximum length of a word in `strs`.",
      "metadata": {},
      "id": "7d9dd448-c5f5-4192-8aa5-7c70ec7f42e2"
    },
    {
      "cell_type": "markdown",
      "source": "### Challenging Exercises:\n\n. **Anagramic Palindromes**: Given a list of strings, find all the groups of anagrams where each group contains words that can be rearranged into a palindrome. For example, in the list [\"bat\", \"tab\", \"act\", \"tac\", \"dog\"], there are two groups: [\"bat\", \"tab\", \"act\", \"tac\"] and [\"dog\"].\n\n2. **Largest Anagram Group**: Given a list of strings, find the largest group of anagrams. Return the list of anagrams in that group. If there are multiple largest groups, return all of them.",
      "metadata": {},
      "id": "037b210a-555b-4da3-8130-b74d1e4f33f6"
    }
  ]
}