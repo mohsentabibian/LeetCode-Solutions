{
  "metadata": {
    "kernelspec": {
      "name": "python",
      "display_name": "Python (Pyodide)",
      "language": "python"
    },
    "language_info": {
      "codemirror_mode": {
        "name": "python",
        "version": 3
      },
      "file_extension": ".py",
      "mimetype": "text/x-python",
      "name": "python",
      "nbconvert_exporter": "python",
      "pygments_lexer": "ipython3",
      "version": "3.8"
    }
  },
  "nbformat_minor": 5,
  "nbformat": 4,
  "cells": [
    {
      "cell_type": "markdown",
      "source": "## 128. Longest Consecutive Sequence\n\n**Difficulty:** Medium\n\n**Link to Problem:** [To see the Longest Consecutive Sequence problem on LeetCode, click here!](https://leetcode.com/problems/longest-consecutive-sequence/)\n\n---\n\nGiven an unsorted array of integers `nums`, return *the length of the longest consecutive elements sequence.*\n\nYou must write an algorithm that runs in `O(n)` time.\n\n*Constraints:**\n- 0 <= `nums.length` <= $10^5$\n- $-10^9$ <= `nums[i]` <= $10^9$\n\n\n## Solution:\nHere's a Python function to solve this problem:",
      "metadata": {},
      "id": "d6161252-e815-48d5-a2a3-5444c12e3b49"
    },
    {
      "cell_type": "code",
      "source": "def longestConsecutive(nums):\n    if not nums:\n        return 0\n\n    num_set = set(nums)\n    max_length = 0\n\n    for num in num_set:\n        if num - 1 not in num_set:\n            current_num = num\n            current_length = 1\n\n            while current_num + 1 in num_set:\n                current_num += 1\n                current_length += 1\n\n            max_length = max(max_length, current_length)\n\n    return max_length",
      "metadata": {
        "trusted": true
      },
      "execution_count": 58,
      "outputs": [],
      "id": "aabf7095-07dc-4ab7-876c-ec7213ed0de5"
    },
    {
      "cell_type": "markdown",
      "source": "### Explanation:\n\n1. We start by defining the `longestConsecutive` function that takes the `nums` array as input.\n\n2. We check if the `nums` array is empty. If it's empty, there are no consecutive elements, so we return 0.\n\n3. We create a Python set called `num_set` and insert all elements from the `nums` array into it. Using a set allows us to efficiently check for the existence of elements in O(1) time.\n\n4. We initialize a variable `max_length` to 0. This variable will keep track of the maximum length of consecutive elements sequence found.\n\n5. We iterate through the elements of the `num_set`. For each element `num`, we check if `num - 1` exists in the `num_set`. If it doesn't exist, it means `num` is the starting element of a potential consecutive sequence.\n\n6. Inside the loop, we initialize two variables: `current_num` to the current element `num` and `current_length` to 1. We start with a length of 1 because `num` itself is part of the sequence.\n\n7. We then enter a while loop that continues as long as `current_num + 1` exists in the `num_set`. This means we are incrementing the consecutive sequence.\n\n8. Inside the while loop, we increment `current_num` by 1 and also increment `current_length` by 1 to account for the next consecutive element.\n\n9. We compare `current_length` with the `max_length` and update `max_length` if the current sequence is longer.\n\n10. After the while loop, we move to the next element in the outer loop and repeat the process.\n\n11. Finally, we return the `max_length` as the result, which represents the length of the longest consecutive elements sequence in the `nums` array.\n\nThe key idea here is to use a set to efficiently check for the existence of elements and to iterate through the elements, considering each element as the potential start of a consecutive sequence. By doing this, we can find the longest consecutive sequence in O(n) time complexity, where n is the number of elements in the array.",
      "metadata": {},
      "id": "ece39324-cd9e-47d7-8677-a001878494d9"
    },
    {
      "cell_type": "markdown",
      "source": "## Test cases",
      "metadata": {},
      "id": "a54ea5b7-c53f-46c0-a44f-ef769ac68244"
    },
    {
      "cell_type": "code",
      "source": "# Example 1: \n\nnums1 = [100, 4, 200, 1, 3, 2]\nprint(longestConsecutive(nums1))",
      "metadata": {
        "trusted": true
      },
      "execution_count": 59,
      "outputs": [
        {
          "name": "stdout",
          "text": "4\n",
          "output_type": "stream"
        }
      ],
      "id": "355f5bfd-94e1-4c5b-9914-cc20775f4160"
    },
    {
      "cell_type": "code",
      "source": "# Example 2:\n\nnums2 = [0, 3, 7, 2, 5, 8, 4, 6, 0, 1]\nprint(longestConsecutive(nums2)) ",
      "metadata": {
        "trusted": true
      },
      "execution_count": 60,
      "outputs": [
        {
          "name": "stdout",
          "text": "9\n",
          "output_type": "stream"
        }
      ],
      "id": "192912fb-9d12-4911-9a4f-bfd37043e11d"
    },
    {
      "cell_type": "markdown",
      "source": "## Time and Space Complexity Analysis\n\nLet's analyze the time and space complexity of the provided code:\n\n**Time Complexity:**\nThe code is designed to run in O(n) time complexity, where n is the number of elements in the `nums` array. Here's the breakdown:\n\n1. Constructing the `num_set` by inserting all elements from `nums` into it takes O(n) time because we perform an insertion operation for each element in `nums`.\n\n2. The main loop iterates through the elements in `num_set`. In the worst case, each element is visited only once, so the loop itself takes O(n) time.\n\n3. Within the loop, we have a while loop that may also take O(n) time in the worst case. However, this while loop is nested inside the main loop, so its overall time complexity remains O(n).\n\nTherefore, the overall time complexity of the code is O(n).\n\n**Space Complexity:**\nThe space complexity of the code is determined by the space used by the `num_set` and a few additional variables. Here's the breakdown:\n\n1. `num_set` is a set that stores the unique elements from `nums`. In the worst case, it can store all n elements from `nums`, so the space complexity is O(n).\n\n2. The additional variables used, such as `max_length`, `current_num`, and `current_length`, have constant space requirements and do not depend on the size of the input array.\n\nTherefore, the overall space complexity of the code is O(n) due to the space used by the `num_set`.",
      "metadata": {},
      "id": "7d9dd448-c5f5-4192-8aa5-7c70ec7f42e2"
    },
    {
      "cell_type": "markdown",
      "source": "### Challenging Exercises:\n\n1. Write an algorithm that not only returns the length of the longest consecutive elements sequence but also returns the actual consecutive sequence itself.\n\n2. Extend the problem to allow elements to be considered consecutive if they are within a certain absolute difference (e.g., less than or equal to k) instead of exactly 1. Write an algorithm that finds the longest such sequence and runs in O(n) time.",
      "metadata": {},
      "id": "037b210a-555b-4da3-8130-b74d1e4f33f6"
    }
  ]
}