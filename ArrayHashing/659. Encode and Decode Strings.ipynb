{
  "metadata": {
    "kernelspec": {
      "name": "python",
      "display_name": "Python (Pyodide)",
      "language": "python"
    },
    "language_info": {
      "codemirror_mode": {
        "name": "python",
        "version": 3
      },
      "file_extension": ".py",
      "mimetype": "text/x-python",
      "name": "python",
      "nbconvert_exporter": "python",
      "pygments_lexer": "ipython3",
      "version": "3.8"
    }
  },
  "nbformat_minor": 5,
  "nbformat": 4,
  "cells": [
    {
      "cell_type": "markdown",
      "source": "## 659· Encode and Decode Strings\n\n**Difficulty:** Medium\n\n**Link to Problem:** [To see the Encode and Decode Strings problem on LintCode, click here!](https://www.lintcode.com/problem/659/)\n\n---\nDesign an algorithm to encode a list of strings to a string. The encoded string is then sent over the network and is decoded back to the original list of strings.\n\nPlease implement `encode` and `decode`.\n\n\n## Solution:\nHere's a Python function to solve this problem:",
      "metadata": {},
      "id": "d6161252-e815-48d5-a2a3-5444c12e3b49"
    },
    {
      "cell_type": "code",
      "source": "class Codec:\n\n    def encode(self, strs):\n        \"\"\"Encodes a list of strings to a single string.\n        \n        :type strs: List[str]\n        :rtype: str\n        \"\"\"\n        encoded = \"\"\n        for s in strs:\n            encoded += s.replace(':', '::') + ':;'\n        return encoded\n\n    def decode(self, s):\n        \"\"\"Decodes a single string to a list of strings.\n        \n        :type s: str\n        :rtype: List[str]\n        \"\"\"\n        decoded = []\n        i = 0\n        while i < len(s):\n            end = s.find(':;', i)\n            if end == -1:\n                end = len(s)\n            decoded.append(s[i:end].replace('::', ':'))\n            i = end + 2\n        return decoded",
      "metadata": {
        "trusted": true
      },
      "execution_count": 54,
      "outputs": [],
      "id": "aabf7095-07dc-4ab7-876c-ec7213ed0de5"
    },
    {
      "cell_type": "markdown",
      "source": "### Explanation:\n\nCertainly! Let me explain the code step by step:\n\n1. We define a class called `Codec` to encapsulate the encoding and decoding operations for a list of strings.\n\n2. In the `encode` method, we take a list of strings (`strs`) as input and return a single encoded string. The encoding process involves concatenating the strings together with a delimiter `:;`. We iterate through each string in the input list, replace any occurrence of `:` with `::` (to avoid conflicts with the delimiter), and then append `:;` to indicate the end of that string.\n\n3. In the `decode` method, we take an encoded string (`s`) as input and return a list of strings. The decoding process involves splitting the encoded string using the `:;` delimiter. We start from the beginning of the encoded string (`i = 0`) and repeatedly find the next occurrence of `:;`. We extract the substring between the current position (`i`) and the next delimiter (`end`). Before adding it to the result list, we replace any `::` with `:` to revert the encoding. We then update the current position `i` to be after the delimiter, so we can find the next substring in the next iteration.\n\n4. Finally, we create an instance of the `Codec` class and test it with two examples:\n\nBy using the `:;` delimiter and handling the `::` escaping, this code can encode and decode lists of strings, preserving the original content even if it contains colons or the delimiter itself.",
      "metadata": {},
      "id": "ece39324-cd9e-47d7-8677-a001878494d9"
    },
    {
      "cell_type": "markdown",
      "source": "## Test cases",
      "metadata": {},
      "id": "a54ea5b7-c53f-46c0-a44f-ef769ac68244"
    },
    {
      "cell_type": "code",
      "source": "# Example 1: \ncodec = Codec()\n\ninput1 = [\"lint\", \"code\", \"love\", \"you\"]\nencoded1 = codec.encode(input1)\ndecoded1 = codec.decode(encoded1)\nprint(decoded1)",
      "metadata": {
        "trusted": true
      },
      "execution_count": 55,
      "outputs": [
        {
          "name": "stdout",
          "text": "['lint', 'code', 'love', 'you']\n",
          "output_type": "stream"
        }
      ],
      "id": "355f5bfd-94e1-4c5b-9914-cc20775f4160"
    },
    {
      "cell_type": "code",
      "source": "# Example 2:\ncodec = Codec() \n\ninput2 = [\"we\", \"say\", \":\", \"yes\"]\nencoded2 = codec.encode(input2)\ndecoded2 = codec.decode(encoded2)\nprint(decoded2)  ",
      "metadata": {
        "trusted": true
      },
      "execution_count": 57,
      "outputs": [
        {
          "name": "stdout",
          "text": "['we', 'say', ':', 'yes']\n",
          "output_type": "stream"
        }
      ],
      "id": "192912fb-9d12-4911-9a4f-bfd37043e11d"
    },
    {
      "cell_type": "markdown",
      "source": "## Time and Space Complexity Analysis\n\nLet's analyze the time and space complexity of the `encode` and `decode` methods in the provided code.\n\n**Encode Method (`encode`):**\n\n- Time Complexity: O(n * m)\n  - Here, `n` is the number of strings in the input list `strs`, and `m` is the average length of these strings.\n  - In the worst case, for each string in the list, we iterate over its characters once to replace any colons (`:`) with double colons (`::`) and then append `:;`. This is done for each string in the list.\n\n- Space Complexity: O(n * m)\n  - The space complexity is also O(n * m) because we build the encoded string by concatenating the modified strings. In the worst case, the encoded string can be of the same length as the original strings.\n\n**Decode Method (`decode`):**\n\n- Time Complexity: O(n * m)\n  - Similar to the encode method, we iterate through the encoded string in the decode method. In the worst case, we may have to scan each character in the encoded string to find the `:;` delimiter.\n\n- Space Complexity: O(n * m)\n  - The space complexity of the decode method is also O(n * m) because we build the list of decoded strings, which can be of the same length as the encoded string.\n\nOverall, both the `encode` and `decode` methods have time and space complexities of O(n * m), where `n` is the number of strings in the input list, and `m` is the average length of these strings. The space complexity arises from storing the encoded or decoded strings, and the time complexity arises from iterating through the characters in these strings.",
      "metadata": {},
      "id": "7d9dd448-c5f5-4192-8aa5-7c70ec7f42e2"
    },
    {
      "cell_type": "markdown",
      "source": "### Challenging Exercises:\n\n1. **Multiple Delimiters**: Modify the code to allow for multiple delimiters, not just one. Each string could have its own delimiter, and the code should be able to handle this complexity.\n\n2. **Optimize Encoding**: Modify the `encode` method to achieve a more efficient encoding algorithm. Try to minimize the length of the encoded string while ensuring that it can be correctly decoded.",
      "metadata": {},
      "id": "037b210a-555b-4da3-8130-b74d1e4f33f6"
    }
  ]
}