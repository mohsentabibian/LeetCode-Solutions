{
  "cells": [
    {
      "cell_type": "markdown",
      "id": "d6161252-e815-48d5-a2a3-5444c12e3b49",
      "metadata": {},
      "source": [
        "# 217. Contains Duplicate\n",
        "\n",
        "**Difficulty:** Easy\n",
        "\n",
        "**Link to Problem:** [To see the Contains Duplicate problem on LeetCode, click here!](https://leetcode.com/problems/contains-duplicate/)\n",
        "\n",
        "---\n",
        "\n",
        "Given an integer array `nums`, return `true` if any value appears **at least twice** in the array, and return `false` if every element is distinct.\n",
        "\n",
        "**Constraints:**\n",
        "- 1 <= `nums.length` <= $10^5$\n",
        "- $-10^9$ <= `nums[i]` <= $10^9$\n",
        "\n",
        "## Solution:\n",
        "Here's a Python function to solve this problem:"
      ]
    },
    {
      "cell_type": "code",
      "execution_count": 19,
      "id": "aabf7095-07dc-4ab7-876c-ec7213ed0de5",
      "metadata": {
        "trusted": true
      },
      "outputs": [],
      "source": [
        "def containsDuplicate(nums):\n",
        "    # Create an empty set to store unique elements\n",
        "    unique_elements = set()\n",
        "    \n",
        "    # Iterate through the array\n",
        "    for num in nums:\n",
        "        # If the element is already in the set, return True\n",
        "        if num in unique_elements:\n",
        "            return True\n",
        "        # Otherwise, add it to the set\n",
        "        else:\n",
        "            unique_elements.add(num)\n",
        "    \n",
        "    # If the loop completes without finding duplicates, return False\n",
        "    return False"
      ]
    },
    {
      "cell_type": "markdown",
      "id": "ece39324-cd9e-47d7-8677-a001878494d9",
      "metadata": {},
      "source": [
        "## Explanation:\n",
        "\n",
        "1. The `containsDuplicate` function takes a single argument, `nums`, which is the input integer array.\n",
        "\n",
        "2. Inside the function, an empty set called `unique_elements` is created. This set will be used to keep track of unique elements in the input array.\n",
        "\n",
        "3. The function then iterates through the input array `nums` using a `for` loop.\n",
        "\n",
        "4. For each element `num` in the array, it checks whether `num` is already in the `unique_elements` set using the `if num in unique_elements:` condition.\n",
        "\n",
        "5. If `num` is already in the set, it means there is a duplicate element in the array, and the function immediately returns `True`.\n",
        "\n",
        "6. If `num` is not in the set, it is added to the `unique_elements` set using `unique_elements.add(num)`.\n",
        "\n",
        "7. The loop continues to the next element, and the process repeats.\n",
        "\n",
        "8. If the loop completes without finding any duplicates, it means that all elements in the array are distinct, and the function returns `False`.\n",
        "\n",
        "The code efficiently utilizes a set data structure to keep track of unique elements while iterating through the array, allowing it to quickly detect duplicate elements. This code meets the problem's requirements and constraints, as explained earlier."
      ]
    },
    {
      "cell_type": "markdown",
      "id": "a54ea5b7-c53f-46c0-a44f-ef769ac68244",
      "metadata": {},
      "source": [
        "## Test cases"
      ]
    },
    {
      "cell_type": "code",
      "execution_count": 20,
      "id": "355f5bfd-94e1-4c5b-9914-cc20775f4160",
      "metadata": {
        "trusted": true
      },
      "outputs": [
        {
          "name": "stdout",
          "output_type": "stream",
          "text": [
            "True\n"
          ]
        }
      ],
      "source": [
        "# Example 1:\n",
        "nums1 = [1, 2, 3, 1]\n",
        "print(containsDuplicate(nums1))"
      ]
    },
    {
      "cell_type": "code",
      "execution_count": 21,
      "id": "192912fb-9d12-4911-9a4f-bfd37043e11d",
      "metadata": {
        "trusted": true
      },
      "outputs": [
        {
          "name": "stdout",
          "output_type": "stream",
          "text": [
            "False\n"
          ]
        }
      ],
      "source": [
        "# Example 2\n",
        "nums2 = [1, 2, 3, 4]\n",
        "print(containsDuplicate(nums2))"
      ]
    },
    {
      "cell_type": "code",
      "execution_count": 22,
      "id": "e191cf7e-95f9-4e5c-a99b-146c2a779c0b",
      "metadata": {
        "trusted": true
      },
      "outputs": [
        {
          "name": "stdout",
          "output_type": "stream",
          "text": [
            "True\n"
          ]
        }
      ],
      "source": [
        "# Example 3\n",
        "nums3 = [1, 1, 1, 3, 3, 4, 3, 2, 4, 2]\n",
        "print(containsDuplicate(nums3))"
      ]
    },
    {
      "cell_type": "markdown",
      "id": "7d9dd448-c5f5-4192-8aa5-7c70ec7f42e2",
      "metadata": {},
      "source": [
        "## Time and Space Complexity Analysis\n",
        "\n",
        "Let's analyze the time and space complexity of the provided code for the \"Contains Duplicate\" problem:\n",
        "\n",
        "**Time Complexity:**\n",
        "\n",
        "The primary operation that affects the time complexity is the `for` loop that iterates through the input array `nums`. In the worst case, the loop will iterate through all `n` elements of the array, where `n` is the length of the input array.\n",
        "\n",
        "- Iterating through the array: O(n)\n",
        "\n",
        "Inside the loop, we perform two operations:\n",
        "\n",
        "1. Checking whether an element exists in the `unique_elements` set (`if num in unique_elements`). This operation has an average time complexity of O(1) for a set.\n",
        "2. Adding an element to the `unique_elements` set (`unique_elements.add(num)`), which also has an average time complexity of O(1) for a set.\n",
        "\n",
        "Since these operations are performed for each element in the array, the overall time complexity remains O(n).\n",
        "\n",
        "**Space Complexity:**\n",
        "\n",
        "The space complexity is determined by the additional data structures used in the code, which are the `unique_elements` set.\n",
        "\n",
        "- `unique_elements` set: This set stores unique elements from the input array. In the worst case, if all elements in the input array are distinct, the set will store all `n` elements.\n",
        "\n",
        "Therefore, the space complexity is O(n) because, in the worst case, the set's size will grow linearly with the input array's size.\n",
        "\n",
        "**In summary**, the time complexity of the code is O(n), where `n` is the length of the input array, and the space complexity is also O(n) in the worst case. This code is efficient and meets the constraints of the problem."
      ]
    },
    {
      "cell_type": "markdown",
      "id": "037b210a-555b-4da3-8130-b74d1e4f33f6",
      "metadata": {},
      "source": [
        "## Challenging Exercises:\n",
        "\n",
        "1. **K Duplicates:** Modify the problem to return `true` if there are exactly K duplicate elements in the array. Write a function that takes an additional integer parameter K and returns `true` if there are exactly K duplicates.\n",
        "2. **Frequency Count:** Write a function that returns a list of all the elements that appear more than once in the array, along with their frequencies."
      ]
    }
  ],
  "metadata": {
    "kernelspec": {
      "display_name": "Python (Pyodide)",
      "language": "python",
      "name": "python"
    },
    "language_info": {
      "codemirror_mode": {
        "name": "python",
        "version": 3
      },
      "file_extension": ".py",
      "mimetype": "text/x-python",
      "name": "python",
      "nbconvert_exporter": "python",
      "pygments_lexer": "ipython3",
      "version": "3.8"
    }
  },
  "nbformat": 4,
  "nbformat_minor": 5
}
