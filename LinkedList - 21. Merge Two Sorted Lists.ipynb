{
  "metadata": {
    "kernelspec": {
      "name": "python",
      "display_name": "Python (Pyodide)",
      "language": "python"
    },
    "language_info": {
      "codemirror_mode": {
        "name": "python",
        "version": 3
      },
      "file_extension": ".py",
      "mimetype": "text/x-python",
      "name": "python",
      "nbconvert_exporter": "python",
      "pygments_lexer": "ipython3",
      "version": "3.8"
    }
  },
  "nbformat_minor": 5,
  "nbformat": 4,
  "cells": [
    {
      "cell_type": "markdown",
      "source": "## 21. Merge Two Sorted Lists\n\n**Difficulty:** Easy\n\n**Link to Problem:** [To see the Merge Two Sorted Lists problem on LeetCode, click here!](https://leetcode.com/problems/merge-two-sorted-lists/)\n\n---\n\nYou are given the heads of two sorted linked lists `list1` and `list2`.\n\nMerge the two lists into one **sorted** list. The list should be made by splicing together the nodes of the first two lists.\n\n*Return the head of the merged linked list.*\n \n\n#### Constraints:\n\n- The number of nodes in both lists is in the range `[0, 50]`.\n- `-100 <= Node.val <= 100`\n- Both `list1` and `list2` are sorted in non-decreasing order.",
      "metadata": {},
      "id": "d6161252-e815-48d5-a2a3-5444c12e3b49"
    },
    {
      "cell_type": "code",
      "source": "class ListNode:\n    def __init__(self, val=0, next=None):\n        self.val = val\n        self.next = next\n\ndef mergeTwoLists(list1, list2):\n    # Create a dummy node to simplify the code.\n    dummy = ListNode()\n    current = dummy\n\n    while list1 and list2:\n        if list1.val < list2.val:\n            current.next = list1\n            list1 = list1.next\n        else:\n            current.next = list2\n            list2 = list2.next\n        current = current.next\n\n    # Append the remaining elements from either list.\n    if list1:\n        current.next = list1\n    else:\n        current.next = list2\n\n    return dummy.next",
      "metadata": {
        "trusted": true
      },
      "execution_count": 33,
      "outputs": [],
      "id": "aabf7095-07dc-4ab7-876c-ec7213ed0de5"
    },
    {
      "cell_type": "markdown",
      "source": "### Explanation:\n\n1. We define a class `ListNode` to represent the nodes of a singly-linked list. Each node has a `val` attribute to store the value of the node and a `next` attribute to point to the next node in the list.\n\n2. We define the `mergeTwoLists` function that takes two linked list heads, `list1` and `list2`, as input.\n\n3. We create a `dummy` node at the beginning of the merged list. The `dummy` node simplifies the code by serving as a placeholder, and its `next` attribute will point to the actual merged list.\n\n4. We initialize a `current` pointer to point to the `dummy` node initially. This `current` pointer helps us traverse and build the merged list.\n\n5. We enter a `while` loop that continues until either `list1` or `list2` becomes empty. Inside the loop, we compare the values of the nodes at the current positions of `list1` and `list2`.\n\n6. If the `val` of the node in `list1` is smaller than the `val` of the node in `list2`, we attach the node from `list1` to the merged list by updating the `next` attribute of the `current` node to point to the node in `list1`. We then move the `list1` pointer to the next node.\n\n7. If the `val` of the node in `list2` is smaller than or equal to the `val` of the node in `list1`, we attach the node from `list2` to the merged list in a similar manner. We move the `list2` pointer to the next node.\n\n8. After attaching a node to the merged list, we move the `current` pointer to the newly added node. This step is essential for keeping track of the end of the merged list.\n\n9. The loop continues until either `list1` or `list2` becomes empty.\n\n10. Once the loop exits, we check if there are any remaining elements in `list1` or `list2`. If `list1` is not empty, we attach the remaining elements of `list1` to the merged list. If `list2` is not empty, we attach the remaining elements of `list2`.\n\n11. Finally, we return the `next` attribute of the `dummy` node as the head of the merged list, which represents the sorted merged list.",
      "metadata": {},
      "id": "ece39324-cd9e-47d7-8677-a001878494d9"
    },
    {
      "cell_type": "code",
      "source": "# Helper function to print the linked list\ndef printLinkedList(head):\n    result = []\n    while head:\n        result.append(head.val)\n        head = head.next\n    return result",
      "metadata": {
        "trusted": true
      },
      "execution_count": 36,
      "outputs": [],
      "id": "01849ced-1bbf-4956-8e54-451b358cb4fe"
    },
    {
      "cell_type": "markdown",
      "source": "Let's explain the helper functions:\n**printLinkedList Function**:\n   - The `printLinkedList` function takes the `head` of a linked list as input and returns a list of values representing the nodes in the linked list.\n   - Inside the function, a `result` list is initialized to store the values of the linked list nodes.\n   - The function then iterates through the linked list starting from the `head` node and appends the `val` attribute of each node to the `result` list.\n   - As it iterates through the list, it moves to the next node using the `next` attribute of each node.\n   - Finally, the function returns the `result` list containing the values of the linked list nodes in the order they appear in the linked list.\n\n   This function is useful for debugging and displaying the contents of a linked list. It allows you to easily convert a linked list into a regular Python list for visualization and testing purposes.",
      "metadata": {},
      "id": "f7490d01-d64e-4f20-b178-e14490d6dd6f"
    },
    {
      "cell_type": "markdown",
      "source": "## Test cases",
      "metadata": {},
      "id": "a54ea5b7-c53f-46c0-a44f-ef769ac68244"
    },
    {
      "cell_type": "code",
      "source": "# Example 1:\nlist1 = ListNode(1, ListNode(2, ListNode(4)))\nlist2 = ListNode(1, ListNode(3, ListNode(4)))\nmerged_list = mergeTwoLists(list1, list2)\nprintLinkedList(merged_list)",
      "metadata": {
        "trusted": true
      },
      "execution_count": 35,
      "outputs": [
        {
          "execution_count": 35,
          "output_type": "execute_result",
          "data": {
            "text/plain": "[1, 1, 2, 3, 4, 4]"
          },
          "metadata": {}
        }
      ],
      "id": "355f5bfd-94e1-4c5b-9914-cc20775f4160"
    },
    {
      "cell_type": "code",
      "source": "# Example 2:\nlist1 = None\nlist2 = None\nmerged_list = mergeTwoLists(list1, list2)\nprintLinkedList(merged_list)",
      "metadata": {
        "trusted": true
      },
      "execution_count": 31,
      "outputs": [
        {
          "execution_count": 37,
          "output_type": "execute_result",
          "data": {
            "text/plain": "[]"
          },
          "metadata": {}
        }
      ],
      "id": "192912fb-9d12-4911-9a4f-bfd37043e11d"
    },
    {
      "cell_type": "code",
      "source": "# Example 3:\nlist1 = None\nlist2 = ListNode(0)\nmerged_list = mergeTwoLists(list1, list2)\nprintLinkedList(merged_list)",
      "metadata": {
        "trusted": true
      },
      "execution_count": 38,
      "outputs": [
        {
          "execution_count": 38,
          "output_type": "execute_result",
          "data": {
            "text/plain": "[0]"
          },
          "metadata": {}
        }
      ],
      "id": "6c69a707-02af-4212-b2e7-1881d62a62d2"
    },
    {
      "cell_type": "markdown",
      "source": "Let's analyze the time and space complexity of the `mergeTwoLists` function.\n\n**Time Complexity:**\n\nThe time complexity of this function is $O(N + M$), where $N$ and $M$ are the lengths of `list1` and `list2`, respectively. Here's why:\n\n1. In the worst case, we need to traverse both `list1` and `list2` completely. This involves iterating through all the nodes in both lists once.\n\n2. The while loop runs until either `list1` or `list2` becomes empty. The number of iterations depends on the total number of nodes in both lists, which is N + M in the worst case.\n\n3. Inside the loop, we perform constant-time operations for each iteration, such as comparisons and updating pointers.\n\nTherefore, the dominant factor in the time complexity is the combined length of both input lists, resulting in a linear time complexity of $O(N + M)$.\n\n**Space Complexity:**\n\nThe space complexity of this function is $O(1)$, which means it uses a constant amount of extra space regardless of the input sizes. Here's why:\n\n1. We create a few extra pointers (`dummy`, `current`) and temporary variables (`val`) to manage the merging process. These consume a fixed amount of memory, regardless of the input sizes. The number of these extra variables is independent of the lengths of `list1` and `list2`.\n\n2. We do not create a new data structure or allocate memory for the merged list. Instead, we rearrange the existing nodes from `list1` and `list2` to form the merged list. This operation does not consume additional memory proportional to the input sizes.\n\n**In summary**, the `mergeTwoLists` function has a time complexity of $O(N + M)$ and a space complexity of $O(1)$, making it an efficient solution for merging two sorted linked lists.",
      "metadata": {},
      "id": "7d9dd448-c5f5-4192-8aa5-7c70ec7f42e2"
    },
    {
      "cell_type": "markdown",
      "source": "### Challenging Exercises:\n\n1. **Merge K Sorted Lists:** Extend the problem to merge $K$ sorted linked lists instead of just two. You need to efficiently merge $K$ lists into one sorted list.\n\n2. **Merge Lists in a Zigzag Pattern:** Merge two sorted lists in a zigzag pattern. For example, given [1, 2, 4] and [1, 3, 5], the merged list should be [1, 1, 2, 3, 4, 5].",
      "metadata": {},
      "id": "037b210a-555b-4da3-8130-b74d1e4f33f6"
    }
  ]
}