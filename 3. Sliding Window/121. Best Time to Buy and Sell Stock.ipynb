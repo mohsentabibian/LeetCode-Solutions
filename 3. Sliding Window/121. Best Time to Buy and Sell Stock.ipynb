{
  "metadata": {
    "kernelspec": {
      "name": "python",
      "display_name": "Python (Pyodide)",
      "language": "python"
    },
    "language_info": {
      "codemirror_mode": {
        "name": "python",
        "version": 3
      },
      "file_extension": ".py",
      "mimetype": "text/x-python",
      "name": "python",
      "nbconvert_exporter": "python",
      "pygments_lexer": "ipython3",
      "version": "3.8"
    }
  },
  "nbformat_minor": 5,
  "nbformat": 4,
  "cells": [
    {
      "cell_type": "markdown",
      "source": "## 121. Best Time to Buy and Sell Stock\n\n**Difficulty:** Easy\n\n**Link to Problem:** [To see the Best Time to Buy and Sell Stock problem on LeetCode, click here!](https://leetcode.com/problems/best-time-to-buy-and-sell-stock/)\n\n---\n\nYou are given an array `prices` where `prices[i]` is the price of a given stock on the $i^{th}$ day.\n\nYou want to maximize your profit by choosing a **single day** to buy one stock and choosing a **different day in the future** to sell that stock.\n\n*Return the maximum profit you can achieve from this transaction. If you cannot achieve any profit, return `0`.*\n\n#### Constraints:\n\n- 1 <= `prices.length` <= $10^5$\n- 0 <= `prices[i]` <= $10^4$\n\n## Solution:\nHere's a Python function to solve this problem:",
      "metadata": {},
      "id": "d6161252-e815-48d5-a2a3-5444c12e3b49"
    },
    {
      "cell_type": "code",
      "source": "def maxProfit(prices):\n    if not prices:\n        return 0\n    \n    min_price = prices[0]\n    max_profit = 0\n    \n    for price in prices:\n        # Update the minimum price if a lower price is encountered\n        min_price = min(min_price, price)\n        # Calculate the profit if selling at the current price\n        max_profit = max(max_profit, price - min_price)\n    \n    return max_profit",
      "metadata": {
        "trusted": true
      },
      "execution_count": 65,
      "outputs": [],
      "id": "aabf7095-07dc-4ab7-876c-ec7213ed0de5"
    },
    {
      "cell_type": "markdown",
      "source": "### Explanation:\n\n- The `maxProfit` function takes a single argument, `prices`, which is a list of stock prices.\n- The first line of the function checks if the `prices` list is empty. If it's empty, there are no prices to analyze, so the function returns 0 (no profit can be made).\n\n- Then, we initialize two variables:\n  - `min_price`: This variable will keep track of the minimum price seen so far. We initialize it with the price of the first day in the list (`prices[0]`).\n  - `max_profit`: This variable will keep track of the maximum profit we can achieve. We initialize it to 0 because initially, we haven't made any profit.\n\n- We start iterating through the `prices` list, where `price` represents the stock price for the current day.\n\n- In each iteration, we check if the current `price` is lower than the `min_price` we've seen so far. If it is, we update `min_price` to the current `price`. This is because we want to buy the stock at the lowest possible price.\n\n- Next, we calculate the profit we would make if we sold the stock at the current `price` (assuming we bought it at `min_price`). We do this by subtracting `min_price` from the current `price`. This represents the profit for the current day.\n\n- We also use the `max` function to keep track of the maximum profit seen so far. If the profit calculated for the current day is greater than the `max_profit` we've seen previously, we update `max_profit` with this higher value.\n\n- Finally, after iterating through all the days in the `prices` list, we return `max_profit`, which represents the maximum profit that can be achieved by buying and selling a single stock.",
      "metadata": {},
      "id": "ece39324-cd9e-47d7-8677-a001878494d9"
    },
    {
      "cell_type": "markdown",
      "source": "## Test cases",
      "metadata": {},
      "id": "a54ea5b7-c53f-46c0-a44f-ef769ac68244"
    },
    {
      "cell_type": "code",
      "source": "# Example 1:\nprices1 = [7, 1, 5, 3, 6, 4]\nprint(maxProfit(prices1))",
      "metadata": {
        "trusted": true
      },
      "execution_count": 66,
      "outputs": [
        {
          "name": "stdout",
          "text": "5\n",
          "output_type": "stream"
        }
      ],
      "id": "355f5bfd-94e1-4c5b-9914-cc20775f4160"
    },
    {
      "cell_type": "code",
      "source": "# Example 2:\nprices2 = [7, 6, 4, 3, 1]\nprint(maxProfit(prices2))",
      "metadata": {
        "trusted": true
      },
      "execution_count": 67,
      "outputs": [
        {
          "name": "stdout",
          "text": "0\n",
          "output_type": "stream"
        }
      ],
      "id": "192912fb-9d12-4911-9a4f-bfd37043e11d"
    },
    {
      "cell_type": "markdown",
      "source": "## Time and Space Complexity Analysis\n\nLet's analyze the time and space complexity of the provided code:\n\n**Time Complexity:**\n- The code iterates through the `prices` array once, examining each price exactly once.\n- Within the loop, there are constant-time operations such as comparisons, additions, and subtractions.\n- Therefore, the time complexity of this code is O(n), where n is the length of the `prices` array. It performs a linear number of operations relative to the size of the input.\n\n**Space Complexity:**\n- The space complexity of the code is constant, O(1).\n- Regardless of the size of the input `prices` array, the code only uses a fixed amount of additional memory to store two variables (`min_price` and `max_profit`) and a few loop variables.\n- The memory usage does not depend on the size of the input, so it is considered constant space complexity.\n\n**In summary:**\n- Time Complexity: O(n) where n is the length of the `prices` array.\n- Space Complexity: O(1) (constant space usage).",
      "metadata": {},
      "id": "7d9dd448-c5f5-4192-8aa5-7c70ec7f42e2"
    },
    {
      "cell_type": "markdown",
      "source": "### Challenging Exercises:\n\n1. **Multiple Transactions Allowed:** Modify the problem to allow multiple transactions (buy and sell multiple times), but you must sell before buying again. Find the maximum profit in this scenario.\n2. **K Transactions Allowed:** Extend the problem to allow at most k transactions. Find the maximum profit considering this constraint.\n3. **With Transaction Fee:** Introduce a transaction fee for each buy/sell operation. Modify the code to maximize profit while considering the transaction fee.",
      "metadata": {},
      "id": "037b210a-555b-4da3-8130-b74d1e4f33f6"
    }
  ]
}