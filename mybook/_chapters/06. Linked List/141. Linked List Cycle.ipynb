{
  "cells": [
    {
      "cell_type": "markdown",
      "id": "d6161252-e815-48d5-a2a3-5444c12e3b49",
      "metadata": {},
      "source": [
        "# 141. Linked List Cycle\n",
        "\n",
        "**Difficulty:** Easy\n",
        "\n",
        "**Link to Problem:** [To see the Linked List Cycle problem on LeetCode, click here!](https://leetcode.com/problems/linked-list-cycle/)\n",
        "\n",
        "---\n",
        "\n",
        "Given `head`, the head of a linked list, determine if the linked list has a cycle in it.\n",
        "\n",
        "There is a cycle in a linked list if there is some node in the list that can be reached again by continuously following the `next` pointer. Internally, `pos` is used to denote the index of the node that tail's `next` pointer is connected to. **Note that `pos` is not passed as a parameter.**\n",
        "\n",
        "Return `true` if there is a cycle in the linked list. Otherwise, return `false`.\n",
        "\n",
        " \n",
        "\n",
        "**Constraints:**\n",
        "\n",
        "- The number of the nodes in the list is in the range $[0, 10^4]$.\n",
        "- $-10^5$ <= Node.val <= $10^5$\n",
        "- `pos` is `-1` or a **valid index** in the linked-list.\n",
        "\n",
        "**Follow up:** Can you solve it using $O(1)$ (i.e. constant) memory?"
      ]
    },
    {
      "cell_type": "code",
      "execution_count": 14,
      "id": "aabf7095-07dc-4ab7-876c-ec7213ed0de5",
      "metadata": {
        "trusted": true
      },
      "outputs": [],
      "source": [
        "# Definition for singly-linked list.\n",
        "class ListNode:\n",
        "    def __init__(self, val=0):\n",
        "        self.val = val\n",
        "        self.next = None\n",
        "\n",
        "class Solution:\n",
        "    def hasCycle(self, head: ListNode) -> bool:\n",
        "        if not head:\n",
        "            return False\n",
        "        \n",
        "        slow = head\n",
        "        fast = head\n",
        "        \n",
        "        while fast and fast.next:\n",
        "            slow = slow.next\n",
        "            fast = fast.next.next\n",
        "            \n",
        "            if slow == fast:\n",
        "                return True\n",
        "        \n",
        "        return False"
      ]
    },
    {
      "cell_type": "markdown",
      "id": "ece39324-cd9e-47d7-8677-a001878494d9",
      "metadata": {},
      "source": [
        "## Explanation:\n",
        "\n",
        "The given code defines a class `Solution` with a method `hasCycle` for determining if a linked list has a cycle.\n",
        "\n",
        "The `ListNode` class represents nodes in the linked list, where each node has a `val` (a value associated with the node) and a `next` attribute (a reference to the next node in the list).\n",
        "\n",
        "The `hasCycle` method takes the `head` of a linked list as input and returns `True` if there is a cycle in the linked list, and `False` otherwise. It uses two pointers, `slow` and `fast`, to traverse the linked list. If there is a cycle, the `fast` pointer will eventually catch up to the `slow` pointer.\n",
        "\n",
        "The algorithm works as follows:\n",
        "1. It checks if the input `head` is `None` (an empty list). If it is, the method returns `False` because an empty list can't have a cycle.\n",
        "2. Two pointers, `slow` and `fast`, initially point to the `head` of the list.\n",
        "3. The code enters a `while` loop where `fast` moves two steps at a time, and `slow` moves one step at a time.\n",
        "4. If there is a cycle, `fast` will eventually catch up to `slow`, and the method returns `True`.\n",
        "5. If the loop completes without finding a cycle, the method returns `False`."
      ]
    },
    {
      "cell_type": "code",
      "execution_count": 15,
      "id": "01849ced-1bbf-4956-8e54-451b358cb4fe",
      "metadata": {
        "trusted": true
      },
      "outputs": [],
      "source": [
        "# Helper function to create a linked list with a cycle\n",
        "def create_linked_list_with_cycle(values, pos):\n",
        "    dummy = ListNode()\n",
        "    current = dummy\n",
        "    cycle_node = None\n",
        "    \n",
        "    for i, val in enumerate(values):\n",
        "        current.next = ListNode(val)\n",
        "        current = current.next\n",
        "        \n",
        "        if i == pos:\n",
        "            cycle_node = current\n",
        "    \n",
        "    if cycle_node:\n",
        "        current.next = cycle_node\n",
        "    \n",
        "    return dummy.next"
      ]
    },
    {
      "cell_type": "markdown",
      "id": "f7490d01-d64e-4f20-b178-e14490d6dd6f",
      "metadata": {},
      "source": [
        "This helper function is designed to create a linked list with a cycle for testing purposes. It takes two arguments:\n",
        "\n",
        "1. `values`: A list of values representing the nodes in the linked list.\n",
        "2. `pos`: An integer representing the index of the node where the cycle begins.\n",
        "\n",
        "Here's how the function works:\n",
        "\n",
        "- It starts by creating an empty `ListNode` called `dummy`. This `dummy` node is used to simplify the creation of the linked list.\n",
        "- It initializes a `current` pointer to the `dummy` node. This pointer will be used to traverse the linked list.\n",
        "- It initializes a `cycle_node` variable to `None`. This variable will hold the reference to the node where the cycle begins, if any.\n",
        "- It then iterates through the `values` list, creating a new `ListNode` for each value and appending it to the linked list.\n",
        "- Inside the loop, it checks if the current index `i` is equal to the specified `pos`. If they match, it sets `cycle_node` to the current node. This simulates the creation of a cycle in the linked list.\n",
        "- After the loop, if `cycle_node` is not `None` (indicating a cycle should be created), it connects the last node in the linked list to `cycle_node`, effectively creating a cycle.\n",
        "- Finally, it returns the reference to the first node of the linked list (not the `dummy` node).\n",
        "\n",
        "This helper function allows you to easily create test cases where you can specify the values for the linked list and the position where the cycle starts. It's particularly useful for testing the code's ability to detect cycles in linked lists."
      ]
    },
    {
      "cell_type": "markdown",
      "id": "a54ea5b7-c53f-46c0-a44f-ef769ac68244",
      "metadata": {},
      "source": [
        "## Test cases"
      ]
    },
    {
      "cell_type": "code",
      "execution_count": 20,
      "id": "355f5bfd-94e1-4c5b-9914-cc20775f4160",
      "metadata": {
        "trusted": true
      },
      "outputs": [
        {
          "name": "stdout",
          "output_type": "stream",
          "text": [
            "True\n"
          ]
        }
      ],
      "source": [
        "### Example 1\n",
        "head = [3,2,0,-4]\n",
        "pos = 1\n",
        "\n",
        "head = create_linked_list_with_cycle(head, pos)\n",
        "solution = Solution()\n",
        "result = solution.hasCycle(head)\n",
        "print(result)"
      ]
    },
    {
      "cell_type": "code",
      "execution_count": 21,
      "id": "192912fb-9d12-4911-9a4f-bfd37043e11d",
      "metadata": {
        "trusted": true
      },
      "outputs": [
        {
          "name": "stdout",
          "output_type": "stream",
          "text": [
            "True\n"
          ]
        }
      ],
      "source": [
        "### Example 2\n",
        "head = [1,2]\n",
        "pos = 0\n",
        "\n",
        "head = create_linked_list_with_cycle(head, pos)\n",
        "solution = Solution()\n",
        "result = solution.hasCycle(head)\n",
        "print(result)"
      ]
    },
    {
      "cell_type": "code",
      "execution_count": 22,
      "id": "e140b956-7b3d-40d5-b6b0-9615860af67e",
      "metadata": {
        "trusted": true
      },
      "outputs": [
        {
          "name": "stdout",
          "output_type": "stream",
          "text": [
            "False\n"
          ]
        }
      ],
      "source": [
        "### Example 3\n",
        "head = [1]\n",
        "pos = -1\n",
        "\n",
        "head = create_linked_list_with_cycle(head, pos)\n",
        "solution = Solution()\n",
        "result = solution.hasCycle(head)\n",
        "print(result)"
      ]
    },
    {
      "cell_type": "markdown",
      "id": "7d9dd448-c5f5-4192-8aa5-7c70ec7f42e2",
      "metadata": {},
      "source": [
        "Let's discuss the time and space complexity of the code for detecting a cycle in a linked list:\n",
        "\n",
        "**Time Complexity:**\n",
        "\n",
        "The time complexity of this code is $O(n)$, where \"$n$\" is the number of nodes in the linked list.\n",
        "\n",
        "The reason for this is that both the `slow` and `fast` pointers traverse the linked list, and they move at different speeds. In the worst case, when there is no cycle, the `fast` pointer will reach the end of the list after going through approximately $n/2$ nodes. In the case of a cycle, it may take some extra iterations for the `fast` pointer to catch up to the `slow` pointer. However, the total number of iterations is still proportional to the number of nodes in the linked list, making it $O(n)$.\n",
        "\n",
        "**Space Complexity:**\n",
        "\n",
        "The space complexity of this code is $O(1)$, which means it uses constant space.\n",
        "\n",
        "The reason for this is that regardless of the size of the linked list, the code only uses two additional pointers (`slow` and `fast`) to traverse the list. These pointers do not depend on the size of the input linked list, so the space complexity remains constant.\n",
        "\n",
        "**In summary**, this code efficiently detects cycles in a linked list with a time complexity of $O(n)$ and a space complexity of $O(1)$. It is an example of an algorithm that solves a complex problem with minimal memory usage."
      ]
    }
  ],
  "metadata": {
    "kernelspec": {
      "display_name": "Python (Pyodide)",
      "language": "python",
      "name": "python"
    },
    "language_info": {
      "codemirror_mode": {
        "name": "python",
        "version": 3
      },
      "file_extension": ".py",
      "mimetype": "text/x-python",
      "name": "python",
      "nbconvert_exporter": "python",
      "pygments_lexer": "ipython3",
      "version": "3.8"
    }
  },
  "nbformat": 4,
  "nbformat_minor": 5
}
