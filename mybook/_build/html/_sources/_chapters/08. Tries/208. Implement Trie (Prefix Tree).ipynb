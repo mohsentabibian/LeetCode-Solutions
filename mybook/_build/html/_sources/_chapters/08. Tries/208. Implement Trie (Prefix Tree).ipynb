{
  "cells": [
    {
      "cell_type": "markdown",
      "id": "d6161252-e815-48d5-a2a3-5444c12e3b49",
      "metadata": {},
      "source": [
        "# 208. Implement Trie (Prefix Tree)\n",
        "\n",
        "**Difficulty:** Medium\n",
        "\n",
        "**Link to Problem:** [To see the Implement Trie problem on LeetCode, click here!](https://leetcode.com/problems/implement-trie-prefix-tree/)\n",
        "\n",
        "---\n",
        "A **trie** (pronounced as \"try\") or **prefix tree** is a tree data structure used to efficiently store and retrieve keys in a dataset of strings. There are various applications of this data structure, such as autocomplete and spellchecker.\n",
        "\n",
        "Implement the Trie class:\n",
        "\n",
        "- `Trie()` Initializes the trie object.\n",
        "- `void insert(String word)` Inserts the string `word` into the trie.\n",
        "- `boolean search(String word)` Returns `true` if the string `word` is in the trie (i.e., was inserted before), and `false` otherwise.\n",
        "- `boolean startsWith(String prefix)` Returns `true` if there is a previously inserted string `word` that has the prefix `prefix`, and `false` otherwise.\n",
        "\n",
        "\n",
        "**Constraints:**\n",
        "- `1 <= word.length, prefix.length <= 2000`\n",
        "- `word` and `prefix` consist only of lowercase English letters.\n",
        "- At most $3 * 10^4$ calls in total will be made to `insert`, `search`, and `startsWith`."
      ]
    },
    {
      "cell_type": "markdown",
      "id": "fe9e71ae-2099-4eb9-b7a1-ec795ce92c76",
      "metadata": {},
      "source": [
        "## Probelm Explanation:\n",
        "\n",
        "The problem at hand is to implement a data structure known as a Trie (pronounced \"try\") or Prefix Tree. A Trie is a tree-like data structure that is used to efficiently store and retrieve a set of strings or words. It's particularly useful for tasks involving string manipulation, such as autocomplete and spell-checking. The problem statement defines the following operations for implementing the Trie class:\n",
        "\n",
        "1. `Trie()`: This is the constructor that initializes the Trie object.\n",
        "\n",
        "2. `void insert(String word)`: This method inserts the given string `word` into the Trie. It effectively adds the characters of the word to the Trie's structure, creating nodes for each character if they don't already exist. At the end of the word, a special flag is set to indicate that this node represents the end of a valid word.\n",
        "\n",
        "3. `boolean search(String word)`: This method checks if the given string `word` is present in the Trie. It starts from the root of the Trie and traverses the Trie by following the characters in the word. If it successfully traverses the Trie and reaches the end of the word, it returns `true`, indicating that the word exists in the Trie; otherwise, it returns `false`.\n",
        "\n",
        "4. `boolean startsWith(String prefix)`: This method checks if there is any previously inserted word in the Trie that has the given `prefix`. It's similar to the `search` method but does not require that the prefix be a complete word. If there is any word in the Trie that starts with the given prefix, it returns `true`; otherwise, it returns `false`.\n",
        "\n",
        "The problem also provides an example scenario where these operations are called, demonstrating the expected output for each operation.\n",
        "\n",
        "In summary, the goal is to create a data structure (Trie) that efficiently stores a set of strings and provides methods to insert new strings, search for complete words, and check if a given prefix exists in the stored set of strings.\n",
        "\n",
        "## Solution:\n",
        "Here's a Python function to implement this algorithm:"
      ]
    },
    {
      "cell_type": "code",
      "execution_count": 1,
      "id": "aabf7095-07dc-4ab7-876c-ec7213ed0de5",
      "metadata": {
        "trusted": true
      },
      "outputs": [],
      "source": [
        "class TrieNode:\n",
        "    def __init__(self):\n",
        "        self.children = {}           # A dictionary to store child nodes\n",
        "        self.is_end_of_word = False  # Indicates if a word ends at this node\n",
        "\n",
        "class Trie:\n",
        "    def __init__(self):\n",
        "        self.root = TrieNode()       # Initialize the Trie with a root node\n",
        "\n",
        "    def insert(self, word):\n",
        "        node = self.root             # Start from the root\n",
        "        for char in word:\n",
        "            if char not in node.children:\n",
        "                node.children[char] = TrieNode()  # Create a new node if the character is not present\n",
        "            node = node.children[char]           # Move to the child node\n",
        "        node.is_end_of_word = True                # Mark the end of the inserted word\n",
        "\n",
        "    def search(self, word):\n",
        "        node = self.root             # Start from the root\n",
        "        for char in word:\n",
        "            if char not in node.children:\n",
        "                return False         # If the character is not found, the word is not in the Trie\n",
        "            node = node.children[char]  # Move to the child node\n",
        "        return node.is_end_of_word    # Check if the node represents the end of a valid word\n",
        "\n",
        "    def startsWith(self, prefix):\n",
        "        node = self.root             # Start from the root\n",
        "        for char in prefix:\n",
        "            if char not in node.children:\n",
        "                return False         # If the character is not found, no word starts with the prefix\n",
        "            node = node.children[char]  # Move to the child node\n",
        "        return True                  # Prefix found in the Trie"
      ]
    },
    {
      "cell_type": "markdown",
      "id": "ece39324-cd9e-47d7-8677-a001878494d9",
      "metadata": {},
      "source": [
        "## Explanation:\n",
        "\n",
        "Let's explain how the code works step by step:\n",
        "\n",
        "1. `TrieNode` Class:\n",
        "   - `TrieNode` is a class that represents nodes in the Trie. Each node has two attributes:\n",
        "     - `children`: This is a dictionary that stores child nodes. Each key in the dictionary represents a character, and the corresponding value is the child node for that character.\n",
        "     - `is_end_of_word`: This boolean flag indicates whether the node represents the end of a complete word. Initially, it's set to `False` for all nodes.\n",
        "\n",
        "2. `Trie` Class:\n",
        "   - `Trie` is the main class that implements the Trie data structure. It has the following methods:\n",
        "\n",
        "   - `__init__(self)`: The constructor initializes the Trie object by creating a root node, which serves as the starting point for all Trie operations.\n",
        "\n",
        "   - `insert(self, word)`: This method inserts a string `word` into the Trie. It starts from the root node and iterates through each character in the word.\n",
        "     - If a character is not present as a child node, it creates a new node for that character.\n",
        "     - It then moves to the child node and continues the process until the entire word is inserted.\n",
        "     - Finally, it sets the `is_end_of_word` flag to `True` for the last node to mark the end of the inserted word.\n",
        "\n",
        "   - `search(self, word)`: This method checks if a complete word (string) exists in the Trie. It starts from the root node and iterates through each character in the word.\n",
        "     - If a character is not found as a child node, it immediately returns `False` because the word is not in the Trie.\n",
        "     - It continues to move to the child node for each character.\n",
        "     - After reaching the end of the word, it checks if the `is_end_of_word` flag is `True` for the last node to confirm the presence of the word.\n",
        "\n",
        "   - `startsWith(self, prefix)`: This method checks if there is any previously inserted word in the Trie that starts with a given `prefix`. It follows the same logic as the `search` method but does not require the entire word to be present.\n",
        "     - If the prefix is found in the Trie, it returns `True`; otherwise, it returns `False`.\n",
        "\n",
        "3. Example Usage:\n",
        "   - The code demonstrates how to create a Trie object, insert words (\"apple\" and \"app\"), and perform operations on the Trie:\n",
        "     - It inserts the word \"apple\" into the Trie.\n",
        "     - It checks if \"apple\" is in the Trie, which returns `True`.\n",
        "     - It checks if \"app\" is in the Trie, which returns `False`.\n",
        "     - It checks if there is any word in the Trie that starts with \"app,\" which returns `True`.\n",
        "     - It inserts the word \"app\" into the Trie.\n",
        "     - It checks if \"app\" is in the Trie again, which now returns `True`.\n",
        "\n",
        "In summary, the code efficiently implements a Trie data structure with the ability to insert words, search for complete words, and check for the existence of words with a given prefix. The Trie is organized as a tree of nodes, with each node representing a character in the words being stored."
      ]
    },
    {
      "cell_type": "markdown",
      "id": "a54ea5b7-c53f-46c0-a44f-ef769ac68244",
      "metadata": {},
      "source": [
        "## Test cases:\n",
        "\n",
        "Here's how you can use this solution:"
      ]
    },
    {
      "cell_type": "code",
      "execution_count": 2,
      "id": "355f5bfd-94e1-4c5b-9914-cc20775f4160",
      "metadata": {
        "trusted": true
      },
      "outputs": [
        {
          "name": "stdout",
          "output_type": "stream",
          "text": [
            "True\n",
            "False\n",
            "True\n",
            "True\n"
          ]
        }
      ],
      "source": [
        "# Example 1: \n",
        "\n",
        "# Example usage:\n",
        "\n",
        "trie = Trie()\n",
        "trie.insert(\"apple\")\n",
        "print(trie.search(\"apple\"))   # Output: True\n",
        "print(trie.search(\"app\"))     # Output: False\n",
        "print(trie.startsWith(\"app\")) # Output: True\n",
        "trie.insert(\"app\")\n",
        "print(trie.search(\"app\"))     # Output: True"
      ]
    },
    {
      "cell_type": "markdown",
      "id": "7d9dd448-c5f5-4192-8aa5-7c70ec7f42e2",
      "metadata": {},
      "source": [
        "## Time and Space Complexity Analysis\n",
        "\n",
        "Let's analyze the time and space complexity of the Trie implementation:\n",
        "\n",
        "1. Time Complexity:\n",
        "   - Insertion (`insert` method): The time complexity of inserting a word into the Trie is O(m), where m is the length of the word. In the worst case, you may need to traverse the entire word to insert it into the Trie.\n",
        "   - Search (`search` method): The time complexity of searching for a word in the Trie is also O(m), where m is the length of the word. In the worst case, you may need to traverse the entire word to determine if it exists in the Trie.\n",
        "   - Starts with (`startsWith` method): The time complexity of checking if a prefix exists in the Trie is O(p), where p is the length of the prefix. In the worst case, you may need to traverse the entire prefix to determine its presence.\n",
        "\n",
        "   Therefore, for each operation (insertion, search, or starts with), the time complexity is O(m) or O(p), where m is the length of the word being operated on, and p is the length of the prefix.\n",
        "\n",
        "2. Space Complexity:\n",
        "   - The space complexity of the Trie is determined by the number of nodes and characters stored in it. In the worst case, where none of the inserted words share common prefixes, the space complexity is O(N), where N is the total number of characters across all inserted words.\n",
        "   - Each node in the Trie represents a character, and the number of nodes is directly related to the total number of characters.\n",
        "\n",
        "   In practice, the space complexity can be less than O(N) because common prefixes are shared among words in the Trie, leading to space optimization.\n",
        "\n",
        "In summary:\n",
        "- Time complexity for each operation (insertion, search, starts with) is O(m) or O(p), where m is the length of the word and p is the length of the prefix.\n",
        "- Space complexity is O(N) in the worst case, where N is the total number of characters across all inserted words. However, space optimization occurs due to common prefix sharing in practice, potentially reducing the actual space used."
      ]
    },
    {
      "cell_type": "markdown",
      "id": "037b210a-555b-4da3-8130-b74d1e4f33f6",
      "metadata": {},
      "source": [
        "## Challenging Exercises:\n",
        "\n",
        "1. **Count Prefixes**:\n",
        "   Implement a method to count the number of words in the Trie that have a specific prefix. This exercise requires you to maintain additional data in the Trie nodes to keep track of the count.\n",
        "\n",
        "2. **Auto-Complete Suggestions**:\n",
        "   Implement an auto-complete feature using the Trie. Given a prefix, the program should return a list of suggested words based on the words previously inserted into the Trie."
      ]
    }
  ],
  "metadata": {
    "kernelspec": {
      "display_name": "Python (Pyodide)",
      "language": "python",
      "name": "python"
    },
    "language_info": {
      "codemirror_mode": {
        "name": "python",
        "version": 3
      },
      "file_extension": ".py",
      "mimetype": "text/x-python",
      "name": "python",
      "nbconvert_exporter": "python",
      "pygments_lexer": "ipython3",
      "version": "3.8"
    }
  },
  "nbformat": 4,
  "nbformat_minor": 5
}
