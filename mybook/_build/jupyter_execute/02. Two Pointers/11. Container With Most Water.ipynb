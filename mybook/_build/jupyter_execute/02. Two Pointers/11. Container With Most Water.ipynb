{
 "cells": [
  {
   "cell_type": "markdown",
   "id": "d6161252-e815-48d5-a2a3-5444c12e3b49",
   "metadata": {},
   "source": [
    "# 11. Container With Most Water\n",
    "\n",
    "**Difficulty:** Medium\n",
    "\n",
    "**Link to Problem:** [To see the Container With Most Water problem on LeetCode, click here!](https://leetcode.com/problems/container-with-most-water/)\n",
    "\n",
    "---\n",
    "You are given an integer array `height` of length `n`. There are `n` vertical lines drawn such that the two endpoints of the $i^{th}$ line are `(i, 0)` and `(i, height[i])`.\n",
    "\n",
    "Find two lines that together with the x-axis form a container, such that the container contains the most water.\n",
    "\n",
    "Return *the maximum amount of water a container can store.*\n",
    "\n",
    "**Notice** that you may not slant the container.\n",
    "\n",
    "**Constraints:**\n",
    "- `n == height.length`\n",
    "- 2 <= `n` <= $10^5$\n",
    "- 0 <= `height[i]` <= $10^4$\n",
    "\n",
    "## Solution:\n",
    "Here's a Python function to solve this problem:"
   ]
  },
  {
   "cell_type": "code",
   "execution_count": 1,
   "id": "aabf7095-07dc-4ab7-876c-ec7213ed0de5",
   "metadata": {},
   "outputs": [],
   "source": [
    "def maxArea(height):\n",
    "    # Initialize the maximum area to 0.\n",
    "    max_area = 0\n",
    "    # Initialize two pointers, one at the beginning (left) and one at the end (right) of the array.\n",
    "    left = 0\n",
    "    right = len(height) - 1\n",
    "\n",
    "    # Iterate until the left pointer is less than the right pointer.\n",
    "    while left < right:\n",
    "        # Calculate the height of the container, which is the minimum height of the two lines.\n",
    "        h = min(height[left], height[right])\n",
    "        # Calculate the width of the container, which is the distance between the two pointers.\n",
    "        width = right - left\n",
    "        # Calculate the area of the container using height and width and update max_area if it's greater.\n",
    "        max_area = max(max_area, h * width)\n",
    "\n",
    "        # Move the pointer with the shorter line inward.\n",
    "        if height[left] < height[right]:\n",
    "            left += 1\n",
    "        else:\n",
    "            right -= 1\n",
    "\n",
    "    # Continue this process until left < right, and then return the maximum area.\n",
    "    return max_area"
   ]
  },
  {
   "cell_type": "markdown",
   "id": "ece39324-cd9e-47d7-8677-a001878494d9",
   "metadata": {},
   "source": [
    "## Explanation:\n",
    "\n",
    "1. We start with initializing `max_area` to 0, which will store the maximum area of water that can be contained by the lines.\n",
    "\n",
    "2. Two pointers, `left` and `right`, are initialized to the beginning and end of the input `height` array.\n",
    "\n",
    "3. The main loop runs while `left` is less than `right`. This ensures that we are checking all possible pairs of lines in a systematic way.\n",
    "\n",
    "4. Inside the loop:\n",
    "   - We calculate the height of the container `h` as the minimum of the heights at the `left` and `right` pointers. This represents the height of the water the container can hold.\n",
    "   - We calculate the width of the container as the difference between `right` and `left`. This represents the distance between the two lines.\n",
    "   - We calculate the area of the container using `h * width` and update `max_area` if the calculated area is greater than the current `max_area`.\n",
    "\n",
    "5. After calculating the area and updating `max_area`, we move one of the pointers. We move the pointer pointing to the shorter line inward because moving the pointer pointing to the taller line won't increase the height and will only decrease the width, which will result in a smaller area.\n",
    "\n",
    "6. We continue this process until `left` is no longer less than `right`, indicating that we have checked all possible pairs of lines.\n",
    "\n",
    "7. Finally, we return the `max_area` which contains the maximum area of water that can be contained by two lines from the input array."
   ]
  },
  {
   "cell_type": "markdown",
   "id": "a54ea5b7-c53f-46c0-a44f-ef769ac68244",
   "metadata": {},
   "source": [
    "## Test cases"
   ]
  },
  {
   "cell_type": "code",
   "execution_count": 2,
   "id": "355f5bfd-94e1-4c5b-9914-cc20775f4160",
   "metadata": {},
   "outputs": [
    {
     "name": "stdout",
     "output_type": "stream",
     "text": [
      "Output: 49\n"
     ]
    }
   ],
   "source": [
    "# Example 1:\n",
    "height1 = [1, 8, 6, 2, 5, 4, 8, 3, 7]\n",
    "result1 = maxArea(height1)\n",
    "print(\"Output:\", result1)"
   ]
  },
  {
   "cell_type": "code",
   "execution_count": 3,
   "id": "192912fb-9d12-4911-9a4f-bfd37043e11d",
   "metadata": {},
   "outputs": [
    {
     "name": "stdout",
     "output_type": "stream",
     "text": [
      "Output: 1\n"
     ]
    }
   ],
   "source": [
    "# Example 2\n",
    "height2 = [1, 1]\n",
    "result2 = maxArea(height2)\n",
    "print(\"Output:\", result2)"
   ]
  },
  {
   "cell_type": "code",
   "execution_count": 4,
   "id": "e191cf7e-95f9-4e5c-a99b-146c2a779c0b",
   "metadata": {},
   "outputs": [
    {
     "name": "stdout",
     "output_type": "stream",
     "text": [
      "Output: 45\n"
     ]
    }
   ],
   "source": [
    "# Additional Example\n",
    "height3 = [3, 9, 3, 4, 7, 2, 12, 6]\n",
    "result3 = maxArea(height3)\n",
    "print(\"Output:\", result3)"
   ]
  },
  {
   "cell_type": "markdown",
   "id": "7d9dd448-c5f5-4192-8aa5-7c70ec7f42e2",
   "metadata": {},
   "source": [
    "## Time and Space Complexity Analysis\n",
    "\n",
    "Let's analyze the time and space complexity of the `maxArea` function:\n",
    "\n",
    "**Time Complexity:**\n",
    "The function uses a two-pointer approach to find the maximum area of water. In the worst case, both the left and right pointers traverse the entire input array once. Therefore, the time complexity is O(n), where n is the number of elements in the `height` array.\n",
    "\n",
    "**Space Complexity:**\n",
    "The function uses a constant amount of extra space for variables like `max_area`, `left`, `right`, `h`, and `width`. It does not use any data structures whose space consumption depends on the input size. As a result, the space complexity is O(1), which means it has constant space complexity.\n",
    "\n",
    "**In summary,** the `maxArea` function has a time complexity of O(n) and a space complexity of O(1), making it an efficient algorithm for finding the maximum area of water that can be contained by two lines in the input array."
   ]
  },
  {
   "cell_type": "markdown",
   "id": "037b210a-555b-4da3-8130-b74d1e4f33f6",
   "metadata": {},
   "source": [
    "## Challenging Exercises:\n",
    "\n",
    "1. **Optimization Challenge:** Modify the maxArea function to not only return the maximum area but also the indices of the two lines that form the container with the maximum area.\n",
    "2. **Variant Problem:** Instead of finding the maximum area of water, find the minimum amount of water required to fill all the gaps between the lines. You'll need to return the total water volume needed."
   ]
  }
 ],
 "metadata": {
  "kernelspec": {
   "display_name": "Python (Pyodide)",
   "language": "python",
   "name": "python"
  },
  "language_info": {
   "codemirror_mode": {
    "name": "ipython",
    "version": 3
   },
   "file_extension": ".py",
   "mimetype": "text/x-python",
   "name": "python",
   "nbconvert_exporter": "python",
   "pygments_lexer": "ipython3",
   "version": "3.10.8"
  }
 },
 "nbformat": 4,
 "nbformat_minor": 5
}