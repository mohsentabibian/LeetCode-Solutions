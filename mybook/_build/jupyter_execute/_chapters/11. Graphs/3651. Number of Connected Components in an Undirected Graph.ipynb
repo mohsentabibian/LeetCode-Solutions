{
 "cells": [
  {
   "cell_type": "markdown",
   "id": "d6161252-e815-48d5-a2a3-5444c12e3b49",
   "metadata": {
    "jp-MarkdownHeadingCollapsed": true
   },
   "source": [
    "# 3651. Number of Connected Components in an Undirected Graph\n",
    "\n",
    "**Difficulty:** Medium\n",
    "\n",
    "**Link to Problem:** [To see the Number of Connected Components in an Undirected Graph problem on LintCode, click here!](https://www.lintcode.com/problem/3651/)\n",
    "\n",
    "---\n",
    "In this problem, there is an undirected graph with `n` nodes. There is also an `edges` array. Where `edges[i] = [a, b]` means that there is an edge between *node a* and *node b* in the graph.\n",
    "\n",
    "You need to return *the number of connected components in that graph*."
   ]
  },
  {
   "cell_type": "markdown",
   "id": "fe9e71ae-2099-4eb9-b7a1-ec795ce92c76",
   "metadata": {},
   "source": [
    "## Probelm Explanation:\n",
    "\n",
    "The problem at hand is to determine the number of connected components in an undirected graph. Here's a more detailed explanation of the problem:\n",
    "\n",
    "- You are given an undirected graph, which consists of nodes and edges. The graph may have multiple distinct connected components.\n",
    "\n",
    "- A connected component is a group of nodes within the graph where each node can be reached from every other node in the same component. In other words, there is a path between any two nodes in the same connected component, but there are no paths connecting nodes from different components.\n",
    "\n",
    "- Your task is to write a function that takes as input the number of nodes `n` and a list of edges `edges`, where each edge is represented as a pair of nodes `[a, b]` indicating an edge between node `a` and node `b`.\n",
    "\n",
    "- The goal is to determine the number of distinct connected components in the graph.\n",
    "\n",
    "- You need to implement an algorithm that can identify these connected components and count how many there are in the given graph.\n",
    "\n",
    "## Solution:\n",
    "Here's a Python function to implement this algorithm:"
   ]
  },
  {
   "cell_type": "code",
   "execution_count": 1,
   "id": "aabf7095-07dc-4ab7-876c-ec7213ed0de5",
   "metadata": {},
   "outputs": [],
   "source": [
    "def countConnectedComponents(n, edges):\n",
    "    # Define a helper function for depth-first search (DFS).\n",
    "    def dfs(node):\n",
    "        if not visited[node]:  # If the node has not been visited yet:\n",
    "            visited[node] = True  # Mark it as visited.\n",
    "            for neighbor in graph[node]:  # Explore all neighbors of the current node.\n",
    "                dfs(neighbor)  # Recursively call DFS on the neighbor.\n",
    "\n",
    "    # Create an empty adjacency list to represent the graph.\n",
    "    graph = [[] for _ in range(n)]\n",
    "\n",
    "    # Initialize a boolean list to keep track of visited nodes.\n",
    "    visited = [False] * n\n",
    "\n",
    "    # Populate the adjacency list with edges from the input.\n",
    "    for a, b in edges:\n",
    "        graph[a].append(b)\n",
    "        graph[b].append(a)  # Since the graph is undirected, we add edges in both directions.\n",
    "\n",
    "    # Initialize a counter to keep track of the number of connected components.\n",
    "    count = 0\n",
    "\n",
    "    # Iterate through all nodes in the graph.\n",
    "    for i in range(n):\n",
    "        if not visited[i]:  # If the node has not been visited:\n",
    "            count += 1  # Increment the count since we've found a new connected component.\n",
    "            dfs(i)  # Start a depth-first search from the unvisited node to explore the component.\n",
    "\n",
    "    return count"
   ]
  },
  {
   "cell_type": "markdown",
   "id": "ece39324-cd9e-47d7-8677-a001878494d9",
   "metadata": {},
   "source": [
    "## Explanation:\n",
    "\n",
    "The provided Python code calculates the number of connected components in an undirected graph. Here's a high-level explanation of how the code works:\n",
    "\n",
    "1. The `countConnectedComponents` function takes two arguments: `n` (the number of nodes in the graph) and `edges` (a list of edge pairs representing connections between nodes).\n",
    "\n",
    "2. Inside the function, there is a helper function called `dfs` (depth-first search), which is used to explore and mark nodes as visited.\n",
    "\n",
    "3. An empty adjacency list called `graph` is created to represent the graph. The `graph` is a list of lists where each element represents a node, and the list associated with each node contains its neighboring nodes.\n",
    "\n",
    "4. Another list called `visited` is created to keep track of visited nodes. Initially, all nodes are marked as not visited (`False`).\n",
    "\n",
    "5. The code populates the `graph` by iterating through the `edges` list and adding each edge to the adjacency list. Since the graph is undirected, both directions of each edge are added.\n",
    "\n",
    "6. A counter variable called `count` is initialized to keep track of the number of connected components.\n",
    "\n",
    "7. The code iterates through all nodes from `0` to `n-1`. For each node, it checks whether it has been visited yet. If it hasn't been visited, it means a new connected component is found. The counter `count` is incremented, and a depth-first search (DFS) is initiated from this unvisited node to explore the connected component.\n",
    "\n",
    "8. The `dfs` function recursively visits all nodes in the connected component, marking them as visited. It does this by checking each neighbor of the current node and recursively calling `dfs` on unvisited neighbors.\n",
    "\n",
    "9. After the loop through all nodes, the `count` variable contains the total number of connected components in the graph.\n",
    "\n",
    "10. The function returns the value of `count`, which represents the number of connected components.\n",
    "\n",
    "11. Two examples are provided at the end to demonstrate how to use the function with different inputs."
   ]
  },
  {
   "cell_type": "markdown",
   "id": "a54ea5b7-c53f-46c0-a44f-ef769ac68244",
   "metadata": {},
   "source": [
    "## Test cases:\n",
    "\n",
    "Here's how you can use this solution:"
   ]
  },
  {
   "cell_type": "code",
   "execution_count": 2,
   "id": "355f5bfd-94e1-4c5b-9914-cc20775f4160",
   "metadata": {},
   "outputs": [
    {
     "name": "stdout",
     "output_type": "stream",
     "text": [
      "1\n"
     ]
    }
   ],
   "source": [
    "# Example 1\n",
    "n1 = 3\n",
    "edges1 = [[0, 1], [0, 2]]\n",
    "print(countConnectedComponents(n1, edges1))  # Output: 1"
   ]
  },
  {
   "cell_type": "code",
   "execution_count": 3,
   "id": "364aa061-a452-45eb-96db-36f7dbdbdcb3",
   "metadata": {},
   "outputs": [
    {
     "name": "stdout",
     "output_type": "stream",
     "text": [
      "2\n"
     ]
    }
   ],
   "source": [
    "# Example 2\n",
    "n2 = 6\n",
    "edges2 = [[0, 1], [1, 2], [2, 3], [4, 5]]\n",
    "print(countConnectedComponents(n2, edges2))  # Output: 2"
   ]
  },
  {
   "cell_type": "markdown",
   "id": "7d9dd448-c5f5-4192-8aa5-7c70ec7f42e2",
   "metadata": {},
   "source": [
    "## Time and Space Complexity Analysis\n",
    "\n",
    "Let's analyze the time and space complexity of the code for counting the number of connected components in an undirected graph using depth-first search (DFS).\n",
    "\n",
    "**Time Complexity:**\n",
    "- The code iterates through all nodes in the graph (from 0 to `n-1`).\n",
    "- For each unvisited node, it initiates a depth-first search (DFS) from that node to explore the connected component.\n",
    "- In the worst case, every node may belong to a separate connected component, and you perform a DFS for each node.\n",
    "- The time complexity of the DFS for a single connected component is O(V + E), where V is the number of nodes in the component, and E is the number of edges.\n",
    "- In the worst case, you perform O(n) DFS calls, each with its own O(V + E) complexity.\n",
    "\n",
    "So, the overall time complexity of the code is O(n * (V + E)). In the worst case, if the graph is connected (a single connected component), this simplifies to O(n * (n + m)), where m is the number of edges.\n",
    "\n",
    "**Space Complexity:**\n",
    "- The main data structures used are the `graph` (adjacency list), `visited` (boolean array), and the recursive call stack for DFS.\n",
    "- The `graph` has a space complexity of O(n + m), where n is the number of nodes, and m is the number of edges.\n",
    "- The `visited` boolean array also has a space complexity of O(n) to keep track of whether nodes have been visited.\n",
    "- The depth of the recursive call stack for DFS can go up to O(n) in the worst case, when all nodes are part of a single connected component.\n",
    "\n",
    "So, the overall space complexity of the code is O(n + m) for data structures and O(n) for the call stack. In the worst case, this simplifies to O(n + m).\n",
    "\n",
    "In summary, the time complexity is O(n * (V + E)), and the space complexity is O(n + m)."
   ]
  },
  {
   "cell_type": "markdown",
   "id": "037b210a-555b-4da3-8130-b74d1e4f33f6",
   "metadata": {},
   "source": [
    "## Challenging Exercises:\n",
    "\n",
    "1. **Disconnected Components with Multiple Queries:** You are given an undirected graph with `n` nodes and `m` edges. Initially, the graph is disconnected, and you need to process `q` queries. Each query consists of adding an edge to connect two nodes. After each query, you need to output the number of connected components in the updated graph.\n",
    "\n",
    "2. **Maximum Size of Connected Components:** Given an undirected graph with `n` nodes and `m` edges, find the size of the largest connected component in the graph. Additionally, identify the nodes that belong to this largest component. You can assume there is at least one connected component in the graph.\n"
   ]
  }
 ],
 "metadata": {
  "kernelspec": {
   "display_name": "Python (Pyodide)",
   "language": "python",
   "name": "python"
  },
  "language_info": {
   "codemirror_mode": {
    "name": "ipython",
    "version": 3
   },
   "file_extension": ".py",
   "mimetype": "text/x-python",
   "name": "python",
   "nbconvert_exporter": "python",
   "pygments_lexer": "ipython3",
   "version": "3.10.8"
  }
 },
 "nbformat": 4,
 "nbformat_minor": 5
}