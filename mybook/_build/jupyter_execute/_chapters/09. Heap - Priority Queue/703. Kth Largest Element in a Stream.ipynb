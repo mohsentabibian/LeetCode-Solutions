{
 "cells": [
  {
   "cell_type": "markdown",
   "id": "d6161252-e815-48d5-a2a3-5444c12e3b49",
   "metadata": {
    "jp-MarkdownHeadingCollapsed": true
   },
   "source": [
    "# 703. Kth Largest Element in a Stream\n",
    "\n",
    "**Difficulty:** Easy\n",
    "\n",
    "**Link to Problem:** [To see the Kth Largest Element in a Stream problem on LeetCode, click here!](https://leetcode.com/problems/kth-largest-element-in-a-stream/)\n",
    "\n",
    "---\n",
    "Design a class to find the `kth` largest element in a stream. Note that it is the `kth` largest element in the sorted order, not the `kth` distinct element.\n",
    "\n",
    "Implement the `KthLargest` class with the following methods:\n",
    "\n",
    "- `KthLargest(int k, int[] nums)`: Initializes the object with the integer `k` and the stream of integers `nums`.\n",
    "- `int add(int val)`: Appends the integer `val` to the stream and returns the element representing the `kth` largest element in the stream.\n",
    "\n",
    "\n",
    "**Constraints:**\n",
    "\n",
    "- 1 <= `k` <= $10^4$\n",
    "- 0 <= `nums.length` <= $10^4$\n",
    "- $-10^4$ <= `nums[i]` <= $10^4$\n",
    "- $-10^4$ <= `val` <= $10^4$\n",
    "- At most $10^4$ calls will be made to `add`.\n",
    "- It is guaranteed that there will be at least `k` elements in the array when you search for the `kth` element."
   ]
  },
  {
   "cell_type": "markdown",
   "id": "fe9e71ae-2099-4eb9-b7a1-ec795ce92c76",
   "metadata": {},
   "source": [
    "## Probelm Explanation:\n",
    "\n",
    "The problem you're trying to solve is to design a class called `KthLargest` that can efficiently find the kth largest element in a stream of integers. You need to support two main operations:\n",
    "\n",
    "To solve this problem efficiently, you can use a min-heap data structure. Here's how the approach works:\n",
    "\n",
    "1. Initialize a min-heap to store the k largest elements. Initially, it's empty.\n",
    "\n",
    "2. In the `__init__` method, populate the min-heap with the first `k` elements from `nums`. This ensures that you have the k largest elements seen so far.\n",
    "\n",
    "3. Whenever you add a new element to the stream using the `add` method, follow these steps:\n",
    "   - Add the new element to the min-heap.\n",
    "   - If the size of the min-heap exceeds `k`, remove the smallest element from the min-heap. This ensures that you always have the k largest elements in the min-heap.\n",
    "   - The smallest element in the min-heap (the root) will always represent the kth largest element in the stream.\n",
    "\n",
    "Here's why this approach works efficiently:\n",
    "\n",
    "- By using a min-heap, you can quickly maintain the k largest elements, and finding the smallest element in the heap (the root) takes constant time.\n",
    "\n",
    "- When you add a new element, the min-heap's size is kept at most `k`, which ensures that you only track the k largest elements and discard the smaller ones.\n",
    "\n",
    "- The time complexity for adding an element is O(log k), which is very efficient compared to sorting the entire stream, which would be O(n log n).\n",
    "\n",
    "- This approach meets the constraints of the problem, including handling large streams and having a low time complexity for both initialization and adding elements.\n",
    "\n",
    "In summary, the min-heap approach efficiently tracks the kth largest element in the stream by maintaining a heap of the k largest elements seen so far, updating it as new elements are added. This approach provides a fast and scalable solution to the problem.\n",
    "\n",
    "## Solution:\n",
    "Here's a Python function to implement this algorithm:"
   ]
  },
  {
   "cell_type": "code",
   "execution_count": 1,
   "id": "aabf7095-07dc-4ab7-876c-ec7213ed0de5",
   "metadata": {},
   "outputs": [],
   "source": [
    "import heapq\n",
    "from typing import List  # Import the List type from the typing module\n",
    "\n",
    "class KthLargest:\n",
    "\n",
    "    def __init__(self, k: int, nums: List[int]):\n",
    "        # Initialize the KthLargest object with k and nums.\n",
    "        self.k = k\n",
    "        # Create a min-heap to store the k largest elements.\n",
    "        self.min_heap = []\n",
    "        # Populate the min-heap with the first k elements from nums.\n",
    "        for num in nums:\n",
    "            self.add(num)\n",
    "\n",
    "    def add(self, val: int) -> int:\n",
    "        # Add val to the min-heap.\n",
    "        heapq.heappush(self.min_heap, val)\n",
    "        # If the size of the min-heap exceeds k, remove the smallest element.\n",
    "        if len(self.min_heap) > self.k:\n",
    "            heapq.heappop(self.min_heap)\n",
    "        # The root of the min-heap is the kth largest element.\n",
    "        return self.min_heap[0]"
   ]
  },
  {
   "cell_type": "markdown",
   "id": "ece39324-cd9e-47d7-8677-a001878494d9",
   "metadata": {},
   "source": [
    "## Explanation:\n",
    "\n",
    "- We start by importing the necessary modules:\n",
    "  - `heapq`: This module provides functions to create and manipulate heaps.\n",
    "  - `List` from the `typing` module: This is used to specify the type of the `nums` parameter.\n",
    "\n",
    "- We define the `KthLargest` class:\n",
    "  - The `__init__` method initializes the object with the integer `k` and the list of integers `nums`.\n",
    "  - It also creates an empty min-heap called `self.min_heap` to store the k largest elements.\n",
    "  - It populates the min-heap with the first `k` elements from `nums` by calling the `add` method.\n",
    "\n",
    "- The `add` method:\n",
    "  - Adds the new integer `val` to the min-heap using `heapq.heappush`. This maintains the min-heap property.\n",
    "  - Checks if the size of the min-heap exceeds `k`. If it does, it removes the smallest element (the k+1th largest) using `heapq.heappop`.\n",
    "  - Finally, it returns the smallest element in the min-heap, which is always the kth largest element.\n",
    "\n",
    "Overall, this code implements a class that efficiently finds the kth largest element in a stream of integers by maintaining a min-heap of the k largest elements seen so far.\n"
   ]
  },
  {
   "cell_type": "markdown",
   "id": "a54ea5b7-c53f-46c0-a44f-ef769ac68244",
   "metadata": {},
   "source": [
    "## Test cases:\n",
    "\n",
    "Here's how you can use this solution:"
   ]
  },
  {
   "cell_type": "code",
   "execution_count": 2,
   "id": "355f5bfd-94e1-4c5b-9914-cc20775f4160",
   "metadata": {},
   "outputs": [
    {
     "name": "stdout",
     "output_type": "stream",
     "text": [
      "4\n",
      "5\n",
      "5\n",
      "8\n",
      "8\n"
     ]
    }
   ],
   "source": [
    "# Example 1: \n",
    "\n",
    "# Example usage:\n",
    "kthLargest = KthLargest(3, [4, 5, 8, 2])\n",
    "print(kthLargest.add(3))  # Output: 4\n",
    "print(kthLargest.add(5))  # Output: 5\n",
    "print(kthLargest.add(10)) # Output: 5\n",
    "print(kthLargest.add(9))  # Output: 8\n",
    "print(kthLargest.add(4))  # Output: 8"
   ]
  },
  {
   "cell_type": "markdown",
   "id": "7d9dd448-c5f5-4192-8aa5-7c70ec7f42e2",
   "metadata": {},
   "source": [
    "## Time and Space Complexity Analysis\n",
    "\n",
    "Let's analyze the time and space complexity of the `KthLargest` class using the min-heap approach:\n",
    "\n",
    "**Time Complexity:**\n",
    "\n",
    "1. `__init__` method:\n",
    "   - In the `__init__` method, you iterate over the first `k` elements in `nums` and add them to the min-heap. Each `heapq.heappush` operation takes O(log k) time.\n",
    "   - Therefore, the time complexity of the `__init__` method is O(k * log k).\n",
    "\n",
    "2. `add` method:\n",
    "   - In the `add` method, you perform the following operations:\n",
    "     - `heapq.heappush`: O(log k) to add the new element to the min-heap.\n",
    "     - If the size of the min-heap exceeds `k`, you perform `heapq.heappop`, which is also O(log k).\n",
    "     - Finally, you return the smallest element from the min-heap, which is O(1) because it's always the root.\n",
    "   - Overall, the time complexity of the `add` method is O(log k).\n",
    "\n",
    "3. Overall, if you make `n` calls to the `add` method, the total time complexity is O(n * log k), where `n` is the total number of elements added to the stream.\n",
    "\n",
    "**Space Complexity:**\n",
    "\n",
    "1. The space complexity is determined by the space used to store the min-heap and the instance variables.\n",
    "2. The min-heap stores at most `k` elements at any given time, so its space complexity is O(k).\n",
    "3. The instance variables (such as `self.k` and `self.min_heap`) have constant space requirements.\n",
    "4. Therefore, the overall space complexity of the `KthLargest` class is O(k).\n",
    "\n",
    "In summary, the time complexity of the `KthLargest` class is O(n * log k) for `n` add operations, and the space complexity is O(k), where `k` is the parameter passed during initialization. This implementation efficiently maintains the kth largest element in the stream while meeting the problem's constraints."
   ]
  },
  {
   "cell_type": "markdown",
   "id": "037b210a-555b-4da3-8130-b74d1e4f33f6",
   "metadata": {},
   "source": [
    "## Challenging Exercises:\n",
    "\n",
    "1. **Dynamic k:** Modify the `KthLargest` class to support dynamic changes in the value of `k`. Implement a method `update_k` that allows changing the value of `k` during the lifetime of the object. Ensure that the object can still correctly find the kth largest element based on the updated value of `k`.\n",
    "\n",
    "\n",
    "2. **Implement kth Smallest:** Create a new class called `KthSmallest` that finds the kth smallest element in a stream instead of the kth largest. You may need to modify the data structure used in the implementation."
   ]
  }
 ],
 "metadata": {
  "kernelspec": {
   "display_name": "Python (Pyodide)",
   "language": "python",
   "name": "python"
  },
  "language_info": {
   "codemirror_mode": {
    "name": "ipython",
    "version": 3
   },
   "file_extension": ".py",
   "mimetype": "text/x-python",
   "name": "python",
   "nbconvert_exporter": "python",
   "pygments_lexer": "ipython3",
   "version": "3.10.8"
  }
 },
 "nbformat": 4,
 "nbformat_minor": 5
}