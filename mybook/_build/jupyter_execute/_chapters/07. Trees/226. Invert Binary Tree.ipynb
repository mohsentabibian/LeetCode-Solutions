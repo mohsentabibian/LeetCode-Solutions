{
 "cells": [
  {
   "cell_type": "markdown",
   "id": "d6161252-e815-48d5-a2a3-5444c12e3b49",
   "metadata": {},
   "source": [
    "# 226: Invert Binary Tree\n",
    "\n",
    "**Difficulty:** Easy\n",
    "\n",
    "**Link to Problem:** [To see the Invert Binary Tree problem on LeetCode, click here!](https://leetcode.com/problems/invert-binary-tree/)\n",
    "\n",
    "---\n",
    "\n",
    "Given the root of a binary tree, invert the tree, and return its root.\n",
    "\n",
    "**Constraints:**\n",
    "\n",
    "- The number of nodes in the tree is in the range `[0, 100]`.\n",
    "- `-100 <= Node.val <= 100`\n",
    "\n"
   ]
  },
  {
   "cell_type": "code",
   "execution_count": 1,
   "id": "aabf7095-07dc-4ab7-876c-ec7213ed0de5",
   "metadata": {},
   "outputs": [],
   "source": [
    "# Definition for a binary tree node.\n",
    "class TreeNode:\n",
    "    def __init__(self, val=0, left=None, right=None):\n",
    "        self.val = val\n",
    "        self.left = left\n",
    "        self.right = right\n",
    "\n",
    "def invertTree(root):\n",
    "    # Base case: If the root is None or the tree is empty, return None.\n",
    "    if not root:\n",
    "        return None\n",
    "\n",
    "    # Swap the left and right subtrees of the current node.\n",
    "    root.left, root.right = root.right, root.left\n",
    "\n",
    "    # Recursively invert the left and right subtrees.\n",
    "    invertTree(root.left)\n",
    "    invertTree(root.right)\n",
    "\n",
    "    return root"
   ]
  },
  {
   "cell_type": "markdown",
   "id": "ece39324-cd9e-47d7-8677-a001878494d9",
   "metadata": {},
   "source": [
    "## Explanation:\n",
    "\n",
    "1. We start by defining a TreeNode class, which represents a node in a binary tree. Each node has a value (`val`), a left child (`left`), and a right child (`right`).\n",
    "\n",
    "2. The `invertTree` function is defined to invert the binary tree. It takes the root node of the tree as an argument.\n",
    "\n",
    "3. In the `invertTree` function, we have a base case to handle the scenario when the root is `None` (empty tree). In such cases, we return `None` because there's nothing to invert.\n",
    "\n",
    "4. For non-empty trees, we swap the left and right subtrees of the current node. This effectively inverts the tree at the current node.\n",
    "\n",
    "5. We then recursively call `invertTree` on the left and right subtrees to invert them.\n",
    "\n",
    "6. Finally, we return the root of the inverted tree."
   ]
  },
  {
   "cell_type": "markdown",
   "id": "a54ea5b7-c53f-46c0-a44f-ef769ac68244",
   "metadata": {},
   "source": [
    "## Test cases"
   ]
  },
  {
   "cell_type": "code",
   "execution_count": 2,
   "id": "355f5bfd-94e1-4c5b-9914-cc20775f4160",
   "metadata": {},
   "outputs": [
    {
     "name": "stdout",
     "output_type": "stream",
     "text": [
      "Inverted Tree (Example 1): <__main__.TreeNode object at 0x7f8733c69090>\n"
     ]
    }
   ],
   "source": [
    "### Example 1\n",
    "# Input: root = [4,2,7,1,3,6,9]\n",
    "\n",
    "root1 = TreeNode(4)\n",
    "root1.left = TreeNode(2)\n",
    "root1.right = TreeNode(7)\n",
    "root1.left.left = TreeNode(1)\n",
    "root1.left.right = TreeNode(3)\n",
    "root1.right.left = TreeNode(6)\n",
    "root1.right.right = TreeNode(9)\n",
    "\n",
    "inverted_root1 = invertTree(root1)\n",
    "print(\"Inverted Tree (Example 1):\", inverted_root1)"
   ]
  },
  {
   "cell_type": "code",
   "execution_count": 3,
   "id": "192912fb-9d12-4911-9a4f-bfd37043e11d",
   "metadata": {},
   "outputs": [
    {
     "name": "stdout",
     "output_type": "stream",
     "text": [
      "Inverted Tree (Example 2): <__main__.TreeNode object at 0x7f8733c6a620>\n"
     ]
    }
   ],
   "source": [
    "### Example 2\n",
    "# Input: root = [2,1,3]\n",
    "\n",
    "root2 = TreeNode(2)\n",
    "root2.left = TreeNode(1)\n",
    "root2.right = TreeNode(3)\n",
    "\n",
    "inverted_root2 = invertTree(root2)\n",
    "print(\"Inverted Tree (Example 2):\", inverted_root2)"
   ]
  },
  {
   "cell_type": "code",
   "execution_count": 4,
   "id": "5897c29d-26f8-486a-878c-43c09ff25ce4",
   "metadata": {},
   "outputs": [
    {
     "name": "stdout",
     "output_type": "stream",
     "text": [
      "Inverted Tree (Example 3): None\n"
     ]
    }
   ],
   "source": [
    "### Example 3\n",
    "# Input: root = []\n",
    "\n",
    "root3 = None  # Empty tree\n",
    "\n",
    "inverted_root3 = invertTree(root3)\n",
    "print(\"Inverted Tree (Example 3):\", inverted_root3)"
   ]
  },
  {
   "cell_type": "markdown",
   "id": "7d9dd448-c5f5-4192-8aa5-7c70ec7f42e2",
   "metadata": {},
   "source": [
    "Let's discuss the time and space complexity of the provided Python code to invert a binary tree.\n",
    "\n",
    "**Time Complexity:**\n",
    "\n",
    "The time complexity of the `invertTree` function is $O(n)$, where $n$ is the number of nodes in the binary tree. This is because we visit each node exactly once during the traversal of the tree. In the worst case, we have to visit all nodes in the tree.\n",
    "\n",
    "The reason for this time complexity is the depth-first traversal of the tree, where we recursively process the left and right subtrees of each node.\n",
    "\n",
    "**Space Complexity:**\n",
    "\n",
    "The space complexity of the code is determined by the function call stack during the recursion. In the worst case, the space complexity is $O(h)$, where $h$ is the height of the binary tree. \n",
    "\n",
    "In a completely unbalanced binary tree (essentially a linked list), the height $h$ is equal to the number of nodes $n$, resulting in a space complexity of $O(n)$. This occurs when the tree is skewed to one side.\n",
    "\n",
    "In a balanced binary tree, such as a full binary tree, the height $h$ is $O(log\\ n)$, and the space complexity is $O(log\\ n)$.\n",
    "\n",
    "The space complexity depends on how balanced the tree is. In practical scenarios, binary trees are often approximately balanced, so the space complexity is typically closer to $O(log\\ n)$.\n",
    "\n",
    "**In summary:**\n",
    "\n",
    "- Time Complexity: $O(n)$ where $n$ is the number of nodes.\n",
    "- Space Complexity: $O(h)$, where $h$ is the height of the binary tree. In the worst case, it can be $O(n)$, and in a balanced tree, it is $O(log\\ n)$.\n",
    "\n",
    "Keep in mind that these complexities are based on the recursive implementation provided. Iterative solutions can achieve the same task with $O(1)$ space complexity, using auxiliary data structures like stacks or queues to mimic the recursion stack."
   ]
  }
 ],
 "metadata": {
  "kernelspec": {
   "display_name": "Python (Pyodide)",
   "language": "python",
   "name": "python"
  },
  "language_info": {
   "codemirror_mode": {
    "name": "ipython",
    "version": 3
   },
   "file_extension": ".py",
   "mimetype": "text/x-python",
   "name": "python",
   "nbconvert_exporter": "python",
   "pygments_lexer": "ipython3",
   "version": "3.10.8"
  }
 },
 "nbformat": 4,
 "nbformat_minor": 5
}