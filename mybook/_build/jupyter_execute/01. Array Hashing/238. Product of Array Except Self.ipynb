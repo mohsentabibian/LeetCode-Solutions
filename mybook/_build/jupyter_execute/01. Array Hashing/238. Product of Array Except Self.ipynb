{
 "cells": [
  {
   "cell_type": "markdown",
   "id": "d6161252-e815-48d5-a2a3-5444c12e3b49",
   "metadata": {},
   "source": [
    "# 238. Product of Array Except Self\n",
    "\n",
    "**Difficulty:** Medium\n",
    "\n",
    "**Link to Problem:** [To see the Product of Array Except Self problem on LeetCode, click here!](https://leetcode.com/problems/product-of-array-except-self/)\n",
    "\n",
    "---\n",
    "Given an integer array `nums`, return *an array `answer` such that `answer[i]` is equal to the product of all the elements of `nums` except `nums[i]`.*\n",
    "\n",
    "The product of any prefix or suffix of `nums` is **guaranteed** to fit in a **32-bit** integer.\n",
    "\n",
    "You must write an algorithm that runs in O(n) time and without using the division operation.\n",
    "\n",
    "Constraints:\n",
    "- 2 <= `nums.length` <= $10^5$\n",
    "- `-30 <= nums[i] <= 30`\n",
    "- The product of any prefix or suffix of `nums` is **guaranteed** to fit in a **32-bit** integer.\n",
    "\n",
    "**Follow-up:** Can you solve the problem in O(1) extra space complexity? (The output array **does not** count as extra space for space complexity analysis.)\n",
    "\n",
    "## Solution:\n",
    "Here's a Python function to solve this problem:"
   ]
  },
  {
   "cell_type": "code",
   "execution_count": 1,
   "id": "aabf7095-07dc-4ab7-876c-ec7213ed0de5",
   "metadata": {},
   "outputs": [],
   "source": [
    "def productExceptSelf(nums):\n",
    "    n = len(nums)\n",
    "    \n",
    "    # Initialize two arrays to store products to the left and right of each element\n",
    "    left_products = [1] * n\n",
    "    right_products = [1] * n\n",
    "    \n",
    "    # Calculate products to the left of each element\n",
    "    left_product = 1\n",
    "    for i in range(n):\n",
    "        left_products[i] = left_product\n",
    "        left_product *= nums[i]\n",
    "    \n",
    "    # Calculate products to the right of each element\n",
    "    right_product = 1\n",
    "    for i in range(n - 1, -1, -1):\n",
    "        right_products[i] = right_product\n",
    "        right_product *= nums[i]\n",
    "    \n",
    "    # Calculate the final answer using left and right products\n",
    "    answer = [left_products[i] * right_products[i] for i in range(n)]\n",
    "    \n",
    "    return answer"
   ]
  },
  {
   "cell_type": "markdown",
   "id": "ece39324-cd9e-47d7-8677-a001878494d9",
   "metadata": {},
   "source": [
    "## Explanation:\n",
    "\n",
    "1. `n` is initialized as the length of the `nums` array.\n",
    "2. Two arrays, `left_products` and `right_products`, are created, each with a length of `n` and filled with ones initially.\n",
    "3. `left_product` is initialized to 1.\n",
    "4. A loop iterates through the `nums` array, from left to right. For each element at index `i`, it stores the product of all elements to its left (including itself) in the `left_products` array and updates `left_product` accordingly.\n",
    "5. `right_product` is initialized to 1.\n",
    "6. Another loop iterates through the `nums` array in reverse order, from right to left. For each element at index `i`, it stores the product of all elements to its right (including itself) in the `right_products` array and updates `right_product`.\n",
    "7. The final `answer` list is constructed by multiplying corresponding elements from the `left_products` and `right_products` arrays for each index `i`.\n",
    "8. The function returns the `answer` list, which contains the desired results.\n",
    "\n",
    "Overall, this algorithm efficiently computes the product of all elements except the current element, as required. It runs in O(n) time complexity and uses O(n) extra space, which is within the problem's constraints."
   ]
  },
  {
   "cell_type": "markdown",
   "id": "a54ea5b7-c53f-46c0-a44f-ef769ac68244",
   "metadata": {},
   "source": [
    "## Test cases"
   ]
  },
  {
   "cell_type": "code",
   "execution_count": 2,
   "id": "355f5bfd-94e1-4c5b-9914-cc20775f4160",
   "metadata": {},
   "outputs": [
    {
     "name": "stdout",
     "output_type": "stream",
     "text": [
      "[24, 12, 8, 6]\n"
     ]
    }
   ],
   "source": [
    "# Example 1: \n",
    "nums = [1,2,3,4]\n",
    "result1 = productExceptSelf(nums)\n",
    "print(result1)"
   ]
  },
  {
   "cell_type": "code",
   "execution_count": 3,
   "id": "192912fb-9d12-4911-9a4f-bfd37043e11d",
   "metadata": {},
   "outputs": [
    {
     "name": "stdout",
     "output_type": "stream",
     "text": [
      "[0, 0, 9, 0, 0]\n"
     ]
    }
   ],
   "source": [
    "# Example 2:\n",
    "nums = [-1,1,0,-3,3]\n",
    "result2 = productExceptSelf(nums)\n",
    "print(result2)"
   ]
  },
  {
   "cell_type": "markdown",
   "id": "7d9dd448-c5f5-4192-8aa5-7c70ec7f42e2",
   "metadata": {},
   "source": [
    "## Time and Space Complexity Analysis\n",
    "\n",
    "Let's analyze the time and space complexity of the provided code:\n",
    "\n",
    "**Time Complexity:**\n",
    "1. The first loop iterates through the `nums` array to calculate the products to the left of each element. This loop runs in O(n) time, where n is the length of the `nums` array.\n",
    "2. The second loop also iterates through the `nums` array in reverse order to calculate the products to the right of each element. This loop also runs in O(n) time.\n",
    "3. The final loop constructs the `answer` list by multiplying elements from the `left_products` and `right_products` arrays. This loop runs in O(n) time.\n",
    "\n",
    "Since all the loops are independent and sequential, the overall time complexity is O(n).\n",
    "\n",
    "**Space Complexity:**\n",
    "1. Two additional arrays, `left_products` and `right_products`, are created with a length of `n`, where `n` is the length of the `nums` array. Therefore, these arrays consume O(n) extra space.\n",
    "2. The `left_product` and `right_product` variables are used to keep track of the product to the left and right of each element, respectively. These variables occupy O(1) extra space.\n",
    "3. The `answer` list, which contains the final results, also consumes O(n) space, but it's not counted toward the extra space complexity analysis as per the problem's constraints.\n",
    "\n",
    "Overall, the space complexity is O(n) for this solution."
   ]
  },
  {
   "cell_type": "markdown",
   "id": "037b210a-555b-4da3-8130-b74d1e4f33f6",
   "metadata": {},
   "source": [
    "## Challenging Exercises:\n",
    "\n",
    "1. **Handle Zeros in the Input**: Modify the solution to handle cases where the input array contains zeros. For example, if `nums = [0, 1, 2, 3, 0]`, the output should be `[0, 0, 0, 0, 0]` because any element multiplied by zero results in zero.\n",
    "\n",
    "2. **In-Place Modification**: Attempt to solve the problem with in-place modification of the `nums` array, where the output is stored directly in the input array without using any additional space."
   ]
  }
 ],
 "metadata": {
  "kernelspec": {
   "display_name": "Python (Pyodide)",
   "language": "python",
   "name": "python"
  },
  "language_info": {
   "codemirror_mode": {
    "name": "ipython",
    "version": 3
   },
   "file_extension": ".py",
   "mimetype": "text/x-python",
   "name": "python",
   "nbconvert_exporter": "python",
   "pygments_lexer": "ipython3",
   "version": "3.10.8"
  }
 },
 "nbformat": 4,
 "nbformat_minor": 5
}