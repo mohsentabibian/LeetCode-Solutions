{
  "metadata": {
    "kernelspec": {
      "name": "python",
      "display_name": "Python (Pyodide)",
      "language": "python"
    },
    "language_info": {
      "codemirror_mode": {
        "name": "python",
        "version": 3
      },
      "file_extension": ".py",
      "mimetype": "text/x-python",
      "name": "python",
      "nbconvert_exporter": "python",
      "pygments_lexer": "ipython3",
      "version": "3.8"
    }
  },
  "nbformat_minor": 5,
  "nbformat": 4,
  "cells": [
    {
      "cell_type": "markdown",
      "source": "## 572: Subtree of Another Tree\n\n**Difficulty:** Easy\n\n**Link to Problem:** [To see the Subtree of Another Tree problem on LeetCode, click here!](https://leetcode.com/problems/subtree-of-another-tree/)\n\n---\n\n**Problem Description:**\n\nGiven the roots of two binary trees `root` and `subRoot`, return `True` if there is a subtree of `root` with the same structure and node values as `subRoot`, and `False` otherwise.\n\nA subtree of a binary tree `tree` is a tree that consists of a node in `tree` and all of this node's descendants. The tree `tree` could also be considered as a subtree of itself.\n\n**Constraints:**\n\n1. The number of nodes in the `root` tree is in the range $[1, 2000]$.\n2. The number of nodes in the `subRoot` tree is in the range $[1, 1000]$.\n3. $-10^4$ <= root.val <= $10^4$\n4. $-10^4$ <= subRoot.val <= $10^4$\n",
      "metadata": {},
      "id": "d6161252-e815-48d5-a2a3-5444c12e3b49"
    },
    {
      "cell_type": "code",
      "source": "# Definition for a binary tree node.\nclass TreeNode:\n    def __init__(self, val=0, left=None, right=None):\n        self.val = val\n        self.left = left\n        self.right = right\n\nclass Solution:\n    def isSubtree(self, root, subRoot):\n        if not root:\n            return False\n        \n        # Check if the current subtree is equal to the subRoot\n        if self.isSameTree(root, subRoot):\n            return True\n        \n        # Recursively check the left and right subtrees\n        return self.isSubtree(root.left, subRoot) or self.isSubtree(root.right, subRoot)\n    \n    def isSameTree(self, tree1, tree2):\n        if not tree1 and not tree2:\n            return True\n        if not tree1 or not tree2:\n            return False\n        \n        return (\n            tree1.val == tree2.val and\n            self.isSameTree(tree1.left, tree2.left) and\n            self.isSameTree(tree1.right, tree2.right)\n        )",
      "metadata": {
        "trusted": true
      },
      "execution_count": 17,
      "outputs": [],
      "id": "aabf7095-07dc-4ab7-876c-ec7213ed0de5"
    },
    {
      "cell_type": "markdown",
      "source": "This code defines a TreeNode class for the binary tree nodes and a Solution class with two methods:\n\n1. `isSubtree`: This method checks if there is a subtree of the `root` tree with the same structure and node values as the `subRoot` tree. It uses a helper function `isSameTree` to compare two trees for equality.\n\n2. `isSameTree`: This helper method recursively compares two trees to check if they are the same in structure and node values.\n\nYou can create instances of the `TreeNode` class to represent your input trees and then use the `Solution` class to check if `subRoot` is a subtree of `root`.",
      "metadata": {},
      "id": "ece39324-cd9e-47d7-8677-a001878494d9"
    },
    {
      "cell_type": "markdown",
      "source": "## Test cases",
      "metadata": {},
      "id": "a54ea5b7-c53f-46c0-a44f-ef769ac68244"
    },
    {
      "cell_type": "code",
      "source": "#root = [3,4,5,1,2]\n#subRoot = [4,1,2]\n\n# Example input\nroot = TreeNode(3)\nroot.left = TreeNode(4)\nroot.right = TreeNode(5)\nroot.left.left = TreeNode(1)\nroot.left.right = TreeNode(2)\n\nsubRoot = TreeNode(4)\nsubRoot.left = TreeNode(1)\nsubRoot.right = TreeNode(2)\n\n# Create an instance of the Solution class\nsolution = Solution()\n\n# Test the isSubtree method\nresult = solution.isSubtree(root, subRoot)\nprint(\"Is subRoot a subtree of root?\", result)",
      "metadata": {
        "trusted": true
      },
      "execution_count": 24,
      "outputs": [
        {
          "name": "stdout",
          "text": "Is subRoot a subtree of root? True\n",
          "output_type": "stream"
        }
      ],
      "id": "355f5bfd-94e1-4c5b-9914-cc20775f4160"
    },
    {
      "cell_type": "code",
      "source": "#root = [3,4,5,1,2,null,null,null,null,0] \n#subRoot = [4,1,2]\n\n\n# Example input\nroot = TreeNode(3)\nroot.left = TreeNode(4)\nroot.right = TreeNode(5)\nroot.left.left = TreeNode(1)\nroot.left.right = TreeNode(2)\nroot.left.right.left = TreeNode(0)\n\nsubRoot = TreeNode(4)\nsubRoot.left = TreeNode(1)\nsubRoot.right = TreeNode(2)\n\n# Create an instance of the Solution class\nsolution = Solution()\n\n# Test the isSubtree method\nresult = solution.isSubtree(root, subRoot)\nprint(\"Is subRoot a subtree of root?\", result)",
      "metadata": {
        "trusted": true
      },
      "execution_count": 25,
      "outputs": [
        {
          "name": "stdout",
          "text": "Is subRoot a subtree of root? False\n",
          "output_type": "stream"
        }
      ],
      "id": "192912fb-9d12-4911-9a4f-bfd37043e11d"
    }
  ]
}