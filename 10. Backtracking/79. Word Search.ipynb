{
  "metadata": {
    "kernelspec": {
      "name": "python",
      "display_name": "Python (Pyodide)",
      "language": "python"
    },
    "language_info": {
      "codemirror_mode": {
        "name": "python",
        "version": 3
      },
      "file_extension": ".py",
      "mimetype": "text/x-python",
      "name": "python",
      "nbconvert_exporter": "python",
      "pygments_lexer": "ipython3",
      "version": "3.8"
    }
  },
  "nbformat_minor": 5,
  "nbformat": 4,
  "cells": [
    {
      "cell_type": "markdown",
      "source": "## 79. Word Search\n\n**Difficulty:** Medium\n\n**Link to Problem:** [To see the Word Search problem on LeetCode, click here!](https://leetcode.com/problems/word-search/)\n\n---\nGiven an `m x n` grid of characters `board` and a string `word`, return *`true` if `word` exists in the grid.*\n\nThe word can be constructed from letters of sequentially adjacent cells, where adjacent cells are horizontally or vertically neighboring. The same letter cell may not be used more than once.\n\n**Constraints:**\n- `m == board.length`\n- `n = board[i].length`\n- `1 <= m, n <= 6`\n- `1 <= word.length <= 15`\n- `board` and `word` consists of only lowercase and uppercase English letters.\n\n**Follow up:** Could you use search pruning to make your solution faster with a larger `board`?",
      "metadata": {
        "jp-MarkdownHeadingCollapsed": true
      },
      "id": "d6161252-e815-48d5-a2a3-5444c12e3b49"
    },
    {
      "cell_type": "markdown",
      "source": "## Probelm Explanation:\n\nThe problem is to determine whether a given word can be constructed from characters in an `m x n` grid of characters. The word can be formed by moving sequentially through horizontally or vertically neighboring cells in the grid, and you cannot use the same cell more than once.\n\nHere are the specifics of the problem:\n\n- You are given an `m x n` grid, which is a 2D board of characters.\n- You are also given a string `word` consisting of lowercase and uppercase English letters.\n- Your task is to determine if the word can be found in the grid by moving from one cell to an adjacent cell (horizontally or vertically) and collecting the characters sequentially to form the word.\n- You can't use the same cell more than once when forming the word.\n- If it's possible to form the word in the grid, return `True`; otherwise, return `False`.\n\nFor example, consider the following grid and word:\n\n```python\nboard = [[\"A\", \"B\", \"C\", \"E\"],\n         [\"S\", \"F\", \"C\", \"S\"],\n         [\"A\", \"D\", \"E\", \"E\"]]         \nword = \"ABCCED\"\n```\n\nIn this case, the word \"ABCCED\" can be formed by moving through the cells (0,0) -> (0,1) -> (0,2) -> (1,2) -> (2,2) -> (2,3) in the grid. Therefore, the function should return `True`.\n\nConversely, if the word is impossible to construct, such as in the case of the word \"ABCB\" for the same grid, where there's no valid path that forms the word, the function should return `False`.\n\nThe problem involves searching for a path through the grid that matches the characters in the word while respecting the constraints mentioned. It can be solved using depth-first search (DFS) or backtracking.\n\n\n## Solution:\nHere's a Python function to implement this algorithm:",
      "metadata": {},
      "id": "fe9e71ae-2099-4eb9-b7a1-ec795ce92c76"
    },
    {
      "cell_type": "code",
      "source": "from typing import List\n\nclass Solution:\n    def exist(self, board: List[List[str]], word: str) -> bool:\n        def dfs(i, j, k):\n            # Check if the current position is out of bounds or doesn't match the character in the word.\n            if not (0 <= i < len(board)) or not (0 <= j < len(board[0])) or board[i][j] != word[k]:\n                return False\n            \n            # If we have matched all characters in the word, return True.\n            if k == len(word) - 1:\n                return True\n\n            # Temporarily mark the current cell to prevent revisiting.\n            tmp, board[i][j] = board[i][j], \"/\"\n\n            # Explore adjacent cells by making recursive calls in all four directions.\n            found = dfs(i + 1, j, k + 1) or dfs(i - 1, j, k + 1) or dfs(i, j + 1, k + 1) or dfs(i, j - 1, k + 1)\n\n            # Restore the original character in the cell.\n            board[i][j] = tmp\n\n            return found\n\n        # Iterate through all cells in the board.\n        for i in range(len(board)):\n            for j in range(len(board[0])):\n                # Check if the 'dfs' function starting from this cell returns True.\n                if dfs(i, j, 0):\n                    return True\n\n        # If no match is found after exploring all cells, return False.\n        return False",
      "metadata": {
        "trusted": true
      },
      "execution_count": 3,
      "outputs": [],
      "id": "aabf7095-07dc-4ab7-876c-ec7213ed0de5"
    },
    {
      "cell_type": "markdown",
      "source": "### Explanation:\n\n1. Import the necessary module:\n   - `from typing import List`: This line imports the `List` type from the `typing` module, which is used to specify the type of the `board` parameter in the method signature.\n\n2. Define the `Solution` class:\n   - `class Solution:`: This line defines a class called `Solution` to encapsulate the solution for the word search problem.\n\n3. Define the `exist` method:\n   - `def exist(self, board: List[List[str]], word: str) -> bool:`: This method is a member of the `Solution` class and takes two parameters: `board`, which is a 2D list of characters, and `word`, which is a string. It returns a boolean value, indicating whether the word exists in the board.\n\n4. Implement the inner `dfs` function:\n   - `def dfs(i, j, k):`: This is a helper function used for depth-first search (DFS). It is called recursively to explore the board and search for the word. It takes three parameters: `i` and `j` representing the current position on the board, and `k` representing the current index in the `word` string.\n\n   - Inside `dfs`, it checks if the current position is out of bounds or if the character at the current position on the board does not match the character at the current index in the `word`. If either of these conditions is met, it returns `False`.\n\n   - If `k` is equal to the length of the `word` minus one, it means we have successfully matched all characters in the `word`, so it returns `True`.\n\n   - The function then temporarily replaces the character at the current position with a marker, \"/\", to prevent revisiting the same cell. It then explores adjacent cells by making recursive calls in all four directions: up, down, left, and right. If any of these recursive calls return `True`, it propagates the `True` result up the call stack. After the exploration is complete, it restores the original character in the cell.\n\n5. Iterate through the board:\n   - The outer loop iterates through all cells in the `board` using two nested loops. For each cell, it checks if the `dfs` function starting from that cell (with `k` initially set to 0) returns `True`. If it does, it means the word exists, so the method returns `True`.\n\n6. Return `False`:\n   - If the loop completes without finding the word in the board, the method returns `False`.\n\nTo use this code, you can create an instance of the `Solution` class and call the `exist` method on that instance, passing the `board` and the `word` as arguments to check if the word exists in the board.",
      "metadata": {},
      "id": "ece39324-cd9e-47d7-8677-a001878494d9"
    },
    {
      "cell_type": "markdown",
      "source": "## Test cases:\n\nHere's how you can use this solution:",
      "metadata": {},
      "id": "a54ea5b7-c53f-46c0-a44f-ef769ac68244"
    },
    {
      "cell_type": "code",
      "source": "# Example 1: \n\n# Create an instance of the Solution class\nsolution = Solution()\n\n# Test case 1: Word \"ABCCED\" can be found in the grid\nboard1 = [[\"A\",\"B\",\"C\",\"E\"],\n          [\"S\",\"F\",\"C\",\"S\"],\n          [\"A\",\"D\",\"E\",\"E\"]]\nword1 = \"ABCCED\"\nprint(solution.exist(board1, word1))  # Expected output: True",
      "metadata": {
        "trusted": true
      },
      "execution_count": 4,
      "outputs": [
        {
          "name": "stdout",
          "text": "True\n",
          "output_type": "stream"
        }
      ],
      "id": "355f5bfd-94e1-4c5b-9914-cc20775f4160"
    },
    {
      "cell_type": "code",
      "source": "# Example 2\n\n# Test case 2: Word \"SEE\" can be found in the grid\nword2 = \"SEE\"\nprint(solution.exist(board1, word2))  # Expected output: True",
      "metadata": {
        "trusted": true
      },
      "execution_count": 5,
      "outputs": [
        {
          "name": "stdout",
          "text": "True\n",
          "output_type": "stream"
        }
      ],
      "id": "364aa061-a452-45eb-96db-36f7dbdbdcb3"
    },
    {
      "cell_type": "code",
      "source": "# Example 3\n\n# Test case 3: Word \"ABCB\" cannot be found in the grid\nword3 = \"ABCB\"\nprint(solution.exist(board1, word3))  # Expected output: False",
      "metadata": {
        "trusted": true
      },
      "execution_count": 6,
      "outputs": [
        {
          "name": "stdout",
          "text": "False\n",
          "output_type": "stream"
        }
      ],
      "id": "b5fca8ab-8c98-45b1-b44b-0503309121c9"
    },
    {
      "cell_type": "markdown",
      "source": "## Time and Space Complexity Analysis\n\nLet's analyze the time and space complexity of the `exist` method in the given code.\n\n**Time Complexity:**\n\nThe primary work in this code is done by the `dfs` function, which performs a depth-first search through the grid. The time complexity of the `dfs` function is $O(4^(n))$, where \"n\" is the length of the `word`. This is because, in the worst case, the function explores all possible directions (up, down, left, right) for each character in the `word`.\n\nThe outer loops iterate through all cells in the `board`, which has dimensions `m x n`. So, the total number of iterations of `dfs` is O(m * n). However, since the `dfs` function has a higher time complexity, the overall time complexity is still dominated by the `dfs` function.\n\nTherefore, the overall time complexity of the `exist` method is $O(m * n * 4^n)$, where \"m\" and \"n\" are the dimensions of the board, and \"n\" is the length of the word.\n\n**Space Complexity:**\n\n1. The primary space usage comes from the recursive calls in the `dfs` function. The depth of the recursion can be at most equal to the length of the `word`, which is O(n).\n\n2. Additionally, the `tmp` variable and the recursive calls on the call stack consume a small amount of additional memory.\n\n3. The marking of visited cells with the \"/\" character temporarily modifies the `board` in-place but doesn't significantly contribute to the space complexity.\n\nTherefore, the overall space complexity is O(n) due to the recursive call stack.\n\nIn summary, the time complexity is $O(m * n * 4^n)$, and the space complexity is O(n), where \"m\" and \"n\" are the dimensions of the board, and \"n\" is the length of the word. The time complexity is exponential in the worst case due to the depth-first search through all possible paths in the grid.",
      "metadata": {},
      "id": "7d9dd448-c5f5-4192-8aa5-7c70ec7f42e2"
    },
    {
      "cell_type": "markdown",
      "source": "### Challenging Exercises:\n\n1. **Optimization Challenge:** Modify the code to find all unique words that can be constructed from the grid. Instead of returning `True` or `False`, return a list of words found. Ensure that the same cell is not used more than once in constructing each word.\n\n2. **Board Generation:** Create a function to generate random grids of characters and then use the `exist` method to solve them. Test the efficiency and correctness of your code by generating larger boards and words.",
      "metadata": {},
      "id": "037b210a-555b-4da3-8130-b74d1e4f33f6"
    }
  ]
}