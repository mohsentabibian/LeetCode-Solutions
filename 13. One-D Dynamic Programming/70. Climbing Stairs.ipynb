{
  "metadata": {
    "kernelspec": {
      "name": "python",
      "display_name": "Python (Pyodide)",
      "language": "python"
    },
    "language_info": {
      "codemirror_mode": {
        "name": "python",
        "version": 3
      },
      "file_extension": ".py",
      "mimetype": "text/x-python",
      "name": "python",
      "nbconvert_exporter": "python",
      "pygments_lexer": "ipython3",
      "version": "3.8"
    }
  },
  "nbformat_minor": 5,
  "nbformat": 4,
  "cells": [
    {
      "cell_type": "markdown",
      "source": "## 70. Climbing Stairs\n\n**Difficulty:** Easy\n\n**Link to Problem:** [To see the Climbing Stairs problem on LeetCode, click here!](https://leetcode.com/problems/climbing-stairs/)\n\n---\nYou are climbing a staircase. It takes `n` steps to reach the top.\n\nEach time you can either climb `1` or `2` steps. In how many distinct ways can you climb to the top?\n\n**Constraints:**\n- `1 <= n <= 45`",
      "metadata": {},
      "id": "d6161252-e815-48d5-a2a3-5444c12e3b49"
    },
    {
      "cell_type": "markdown",
      "source": "## Probelm Explanation:\n\nThe \"Climbing Stairs\" problem is a classic algorithmic problem that asks you to find the number of distinct ways to climb a staircase with a given number of steps. Here's the problem statement:\n\nYou are given a staircase with 'n' steps. Each time you can either climb 1 step or 2 steps. You need to find out how many distinct ways there are to reach the top of the staircase.\n\nFor example, if 'n' is 2, there are two ways to climb to the top:\n\n1. Climbing two steps at once.\n2. Climbing one step, and then another step.\n\nIf 'n' is 3, there are three ways:\n\n1. Climbing one step, then one step, and finally one step.\n2. Climbing one step, then two steps.\n3. Climbing two steps, then one step.\n\nThe problem essentially asks you to find a solution that counts the possible combinations of 1-step and 2-step climbs that can be taken to reach the top of the staircase. It's a classic example of a dynamic programming problem where you can break it down into smaller subproblems and build a solution incrementally, as shown in the code I provided earlier.\n\n## Solution:\nHere's a Python function to implement this algorithm:",
      "metadata": {},
      "id": "fe9e71ae-2099-4eb9-b7a1-ec795ce92c76"
    },
    {
      "cell_type": "code",
      "source": "class Solution:\n    def climbStairs(self, n: int) -> int:\n        # If there are 1 or 2 steps, there are exactly n ways to reach the top.\n        if n <= 2:\n            return n\n\n        # Create an array to store the number of ways to reach each step.\n        dp = [0] * (n + 1)\n\n        # There is one way to reach the first step (base case).\n        dp[1] = 1\n\n        # There are two ways to reach the second step (base case).\n        dp[2] = 2\n\n        # Calculate the number of ways to reach each step from the previous steps.\n        for i in range(3, n + 1):\n            # The number of ways to reach step 'i' is the sum of the ways to reach\n            # the previous two steps, as you can take 1 or 2 steps at a time.\n            dp[i] = dp[i - 1] + dp[i - 2]\n\n        # The result is the number of ways to reach the top, which is stored in dp[n].\n        return dp[n]",
      "metadata": {
        "trusted": true
      },
      "execution_count": 1,
      "outputs": [],
      "id": "aabf7095-07dc-4ab7-876c-ec7213ed0de5"
    },
    {
      "cell_type": "markdown",
      "source": "### Explanation:\n\nThe code defines a class `Solution` with a method `climbStairs` that takes an integer `n` as input and returns the number of distinct ways to climb a staircase with `n` steps.\n\n1. If `n` is 1 or 2, the function returns `n` directly because there are only 1 or 2 distinct ways to reach the top in those cases.\n\n2. For `n` greater than 2, the code uses dynamic programming to calculate the number of ways to reach each step. It creates an array `dp` of length `n + 1` to store these values.\n\n3. The `dp[1]` and `dp[2]` are initialized to 1 and 2, respectively. This is because there is only one way to reach the first step (by taking 1 step), and there are two ways to reach the second step (by taking 2 steps or two 1-step climbs).\n\n4. The code then uses a loop to fill in the `dp` array for steps 3 and above. For each step `i` from 3 to `n`, it calculates the number of ways to reach that step by adding the number of ways to reach the previous two steps, as you can either take 1 step or 2 steps at a time.\n\n5. Finally, the function returns the value stored in `dp[n]`, which represents the total number of distinct ways to climb the staircase with `n` steps.",
      "metadata": {},
      "id": "ece39324-cd9e-47d7-8677-a001878494d9"
    },
    {
      "cell_type": "markdown",
      "source": "## Test cases:\n\nHere's how you can use this solution:",
      "metadata": {},
      "id": "a54ea5b7-c53f-46c0-a44f-ef769ac68244"
    },
    {
      "cell_type": "code",
      "source": "# Example 1:\nn = 2\nsolution = Solution()\nprint(f\"Example 1 - Input: n = {n}, Output: {solution.climbStairs(n)}\")  # Output should be 2",
      "metadata": {
        "trusted": true
      },
      "execution_count": 2,
      "outputs": [
        {
          "name": "stdout",
          "text": "Example 1 - Input: n = 2, Output: 2\n",
          "output_type": "stream"
        }
      ],
      "id": "f12c5a63-b811-4be7-83c2-34ee396b546c"
    },
    {
      "cell_type": "code",
      "source": "# Example 2:\nn = 3\nprint(f\"Example 2 - Input: n = {n}, Output: {solution.climbStairs(n)}\")  # Output should be 3\n",
      "metadata": {
        "trusted": true
      },
      "execution_count": 5,
      "outputs": [
        {
          "name": "stdout",
          "text": "Example 2 - Input: n = 3, Output: 3\n",
          "output_type": "stream"
        }
      ],
      "id": "364aa061-a452-45eb-96db-36f7dbdbdcb3"
    },
    {
      "cell_type": "markdown",
      "source": "## Time and Space Complexity Analysis\n\nTime Complexity:\nThe time complexity of the solution is O(n) because we use a single for loop that iterates from 3 to n to fill the `dp` array. In each iteration, we perform constant time operations (addition and assignment). Therefore, the time complexity is linear with respect to the input value `n`.\n\nSpace Complexity:\nThe space complexity of the solution is O(n) as well. We use an array `dp` of length `n + 1` to store the number of ways to reach each step. The size of this array is directly proportional to the input value `n`, which makes the space complexity linear in terms of `n`. The rest of the variables used in the function (e.g., `i`) occupy constant space and do not contribute significantly to the overall space complexity.\n\nIn summary, the time complexity is O(n), and the space complexity is O(n) for this dynamic programming solution to the \"Climbing Stairs\" problem.",
      "metadata": {},
      "id": "7d9dd448-c5f5-4192-8aa5-7c70ec7f42e2"
    },
    {
      "cell_type": "markdown",
      "source": "### Challenging Exercises:\n\n1. **Generalized Step Sizes**: Instead of being limited to 1 step or 2 steps, consider a scenario where you can take steps of sizes `[1, 2, 3]`. Implement a function that calculates the number of ways to climb the staircase with these different step sizes.\n\n2. **Minimize Steps**: Given an integer `n`, find the minimum number of steps required to reach the top of the staircase. Return both the minimum number of steps and the specific sequence of steps taken.",
      "metadata": {},
      "id": "037b210a-555b-4da3-8130-b74d1e4f33f6"
    }
  ]
}