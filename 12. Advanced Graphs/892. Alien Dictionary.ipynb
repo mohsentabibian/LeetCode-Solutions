{
  "cells": [
    {
      "cell_type": "markdown",
      "id": "d6161252-e815-48d5-a2a3-5444c12e3b49",
      "metadata": {
        "jp-MarkdownHeadingCollapsed": true
      },
      "source": [
        "# 892. Alien Dictionary\n",
        "\n",
        "**Difficulty:** Hard\n",
        "\n",
        "**Link to Problem:** [To see the Alien Dictionary problem on LintCode, click here!](https://www.lintcode.com/problem/892/)\n",
        "\n",
        "---\n",
        "\n",
        "There is a new alien language which uses the latin alphabet. However, the order among letters are unknown to you. You receive a list of **non-empty** words from the dictionary, where words are **sorted lexicographically by the rules of this new language**. Derive the order of letters in this language.\n",
        "\n",
        "**Constraints:**\n",
        "- You may assume all letters are in lowercase.\n",
        "- The dictionary is invalid, if string a is prefix of string b and b is appear before a.\n",
        "- If the order is invalid, return an empty string.\n",
        "- There may be multiple valid order of letters, return the smallest in normal lexicographical order.\n",
        "- The letters in **one** string are of the same rank by default and are sorted in Human dictionary order."
      ]
    },
    {
      "cell_type": "markdown",
      "id": "fe9e71ae-2099-4eb9-b7a1-ec795ce92c76",
      "metadata": {},
      "source": [
        "## Probelm Explanation:\n",
        "\n",
        "The problem at hand involves determining the order of letters in a new alien language that uses the Latin alphabet. However, the order of letters in this alien language is unknown. To solve this problem, we are given a list of non-empty words from the dictionary, where the words are sorted lexicographically based on the rules of the alien language. The goal is to derive the correct order of letters in this new language.\n",
        "\n",
        "Here's a more detailed explanation of the problem:\n",
        "\n",
        "1. The alphabet: The new alien language uses the Latin alphabet, which consists of lowercase letters.\n",
        "\n",
        "2. Dictionary: We are provided with a list of non-empty words. These words are sorted in lexicographical order based on the rules of the alien language. The order of letters in the words reflects the correct order in the new language.\n",
        "\n",
        "3. Invalid order: The problem specifies that the dictionary is considered invalid if there exists a situation where one string 'a' is a prefix of another string 'b,' and 'b' appears before 'a' in the dictionary. This condition ensures that there are no inconsistencies in the order of letters.\n",
        "\n",
        "4. Multiple valid orders: It's possible that there are multiple valid orders of letters that satisfy the provided dictionary. However, we are instructed to return the smallest valid order in normal lexicographical order.\n",
        "\n",
        "To solve this problem, you need to analyze the given list of words and determine the correct order of letters in the alien language while adhering to the specified constraints. You should return the order as a string in lexicographical order if it's valid, and an empty string if the order is invalid.\n",
        "\n",
        "The key to solving this problem is to construct a directed graph of letter relationships based on the order information provided by the words in the dictionary. Then, perform a topological sort on this graph to derive the order of letters, ensuring that the order is consistent and valid according to the given constraints.\n",
        "\n",
        "## Solution:\n",
        "Here's a Python function to implement this algorithm:"
      ]
    },
    {
      "cell_type": "code",
      "execution_count": 7,
      "id": "aabf7095-07dc-4ab7-876c-ec7213ed0de5",
      "metadata": {
        "trusted": true
      },
      "outputs": [],
      "source": [
        "from collections import defaultdict, deque\n",
        "\n",
        "def alienOrder(words):\n",
        "    # Create an adjacency list to represent the graph\n",
        "    graph = defaultdict(list)\n",
        "    \n",
        "    # Create a dictionary to store the in-degrees of each letter\n",
        "    in_degree = {}\n",
        "    \n",
        "    # Initialize in-degrees to 0 for all letters\n",
        "    for word in words:\n",
        "        for char in word:\n",
        "            if char not in in_degree:\n",
        "                in_degree[char] = 0\n",
        "    \n",
        "    # Build the graph and update in-degrees\n",
        "    for i in range(1, len(words)):\n",
        "        word1, word2 = words[i-1], words[i]\n",
        "        min_length = min(len(word1), len(word2))\n",
        "        \n",
        "        # Compare characters in the two words\n",
        "        j = 0\n",
        "        while j < min_length and word1[j] == word2[j]:\n",
        "            j += 1\n",
        "        \n",
        "        if j < min_length:\n",
        "            # If word1[j] is lexicographically before word2[j], add an edge\n",
        "            graph[word1[j]].append(word2[j])\n",
        "            in_degree[word2[j]] += 1\n",
        "            \n",
        "            # Break the loop to avoid further comparisons\n",
        "            break\n",
        "    \n",
        "    # Perform topological sorting using Kahn's algorithm\n",
        "    result = []\n",
        "    queue = deque([char for char in in_degree if in_degree[char] == 0])\n",
        "    \n",
        "    while queue:\n",
        "        char = queue.popleft()\n",
        "        result.append(char)\n",
        "        \n",
        "        for neighbor in graph[char]:\n",
        "            in_degree[neighbor] -= 1\n",
        "            if in_degree[neighbor] == 0:\n",
        "                queue.append(neighbor)\n",
        "    \n",
        "    # Check if there is a valid order\n",
        "    if len(result) < len(in_degree):\n",
        "        return \"\"\n",
        "    \n",
        "    return \"\".join(result)"
      ]
    },
    {
      "cell_type": "markdown",
      "id": "ece39324-cd9e-47d7-8677-a001878494d9",
      "metadata": {},
      "source": [
        "## Explanation:\n",
        "\n",
        "The code is designed to determine the order of letters in an unknown alien language that uses the Latin alphabet. It takes a list of non-empty words from a dictionary as input, where the words are sorted lexicographically based on the rules of this alien language.\n",
        "\n",
        "The code follows these main steps:\n",
        "\n",
        "1. Create a data structure to represent the graph of letters and their relationships in the alien language. It uses a defaultdict to store a list of letters that come after each letter. Additionally, it uses a dictionary called `in_degree` to keep track of the in-degrees (the number of letters that precede a letter) for each letter.\n",
        "\n",
        "2. Initialize the in-degrees of all letters to 0. This is done by iterating through all the words and characters in the words, adding each character to the `in_degree` dictionary with an initial in-degree of 0.\n",
        "\n",
        "3. Build the graph by comparing adjacent words in the dictionary. For each pair of adjacent words, the code finds the first differing character between the two words. If such a character exists, it means there's an order relationship between the letters represented by these characters. The code updates the graph and in-degrees accordingly.\n",
        "\n",
        "4. After constructing the graph, the code performs a topological sorting of the letters using Kahn's algorithm. It starts by initializing an empty result list and a queue containing letters with in-degrees of 0. The algorithm repeatedly removes a letter with an in-degree of 0 from the queue, adds it to the result list, and updates the in-degrees of its neighbors. This process continues until the queue is empty.\n",
        "\n",
        "5. Finally, the code checks if the topological sorting was successful by comparing the length of the result list with the number of unique letters in the input. If the lengths differ, it means there's a cycle in the graph, and the order is invalid. In such a case, an empty string is returned. Otherwise, the result list is joined together to form the smallest order of letters in normal lexicographical order, and it is returned as the output.\n",
        "\n",
        "The code provides a way to determine the order of letters in the alien language while handling various edge cases, including checking for invalid order conditions."
      ]
    },
    {
      "cell_type": "markdown",
      "id": "a54ea5b7-c53f-46c0-a44f-ef769ac68244",
      "metadata": {},
      "source": [
        "## Test cases:\n",
        "\n",
        "Here's how you can use this solution:"
      ]
    },
    {
      "cell_type": "code",
      "execution_count": 8,
      "id": "355f5bfd-94e1-4c5b-9914-cc20775f4160",
      "metadata": {
        "trusted": true
      },
      "outputs": [
        {
          "name": "stdout",
          "output_type": "stream",
          "text": [
            "wrtef\n"
          ]
        }
      ],
      "source": [
        "# Example 1\n",
        "words1 = [\"wrt\", \"wrf\", \"er\", \"ett\", \"rftt\"]\n",
        "print(alienOrder(words1))  # Output: \"wertf\""
      ]
    },
    {
      "cell_type": "code",
      "execution_count": 9,
      "id": "364aa061-a452-45eb-96db-36f7dbdbdcb3",
      "metadata": {
        "trusted": true
      },
      "outputs": [
        {
          "name": "stdout",
          "output_type": "stream",
          "text": [
            "zx\n"
          ]
        }
      ],
      "source": [
        "# Example 2\n",
        "words2 = [\"z\", \"x\"]\n",
        "print(alienOrder(words2))  # Output: \"zx\""
      ]
    },
    {
      "cell_type": "markdown",
      "id": "7d9dd448-c5f5-4192-8aa5-7c70ec7f42e2",
      "metadata": {},
      "source": [
        "## Time and Space Complexity Analysis\n",
        "\n",
        "Let's analyze the time and space complexity of the provided code for determining the order of letters in an alien language.\n",
        "\n",
        "Time Complexity:\n",
        "1. Building the graph: The code iterates through the list of words and compares adjacent words. In the worst case, where all words have the same prefix, it takes O(N) time to build the graph, where N is the total number of characters in all the words.\n",
        "2. Topological sorting: Performing a topological sort on the graph takes O(V + E) time, where V is the number of unique letters (vertices) and E is the number of relationships between letters (edges) in the graph.\n",
        "\n",
        "Overall, the time complexity is O(N + V + E), where N is the total number of characters in the words, V is the number of unique letters, and E is the number of order relationships between letters.\n",
        "\n",
        "Space Complexity:\n",
        "1. Graph and In-degrees: The code uses data structures to represent the graph and in-degrees. The space complexity for these data structures is O(V + E), where V is the number of unique letters, and E is the number of order relationships between letters in the words.\n",
        "2. Result List: The result list stores the order of letters, which can have a maximum size of V, where V is the number of unique letters.\n",
        "3. Queue: The space used by the queue during topological sorting is also O(V).\n",
        "\n",
        "Overall, the space complexity is O(V + E) due to the data structures used for graph representation and the space needed for storing the result and the queue.\n",
        "\n",
        "In the worst case, where there are many unique letters and many order relationships, the space complexity is dominated by the number of unique letters and their relationships.\n",
        "\n",
        "In summary, the time complexity of the code is O(N + V + E), and the space complexity is O(V + E). The actual performance will depend on the specific input data, such as the number of unique letters and the relationships between them in the alien language."
      ]
    },
    {
      "cell_type": "markdown",
      "id": "037b210a-555b-4da3-8130-b74d1e4f33f6",
      "metadata": {},
      "source": [
        "## Challenging Exercises:\n",
        "\n",
        "1. **Multiple Valid Orders**: Extend the problem to handle cases where there are multiple valid orders of letters in the alien language. Modify the code to return all valid orders instead of just one. Be mindful of performance.\n",
        "\n",
        "2. **Detect Invalid Dictionary**: Given a dictionary of words, write a function to detect whether the dictionary is valid or not based on the constraints mentioned in the problem statement."
      ]
    }
  ],
  "metadata": {
    "kernelspec": {
      "display_name": "Python (Pyodide)",
      "language": "python",
      "name": "python"
    },
    "language_info": {
      "codemirror_mode": {
        "name": "python",
        "version": 3
      },
      "file_extension": ".py",
      "mimetype": "text/x-python",
      "name": "python",
      "nbconvert_exporter": "python",
      "pygments_lexer": "ipython3",
      "version": "3.8"
    }
  },
  "nbformat": 4,
  "nbformat_minor": 5
}
