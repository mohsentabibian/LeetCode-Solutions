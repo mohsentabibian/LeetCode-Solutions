{
  "metadata": {
    "kernelspec": {
      "name": "python",
      "display_name": "Python (Pyodide)",
      "language": "python"
    },
    "language_info": {
      "codemirror_mode": {
        "name": "python",
        "version": 3
      },
      "file_extension": ".py",
      "mimetype": "text/x-python",
      "name": "python",
      "nbconvert_exporter": "python",
      "pygments_lexer": "ipython3",
      "version": "3.8"
    }
  },
  "nbformat_minor": 5,
  "nbformat": 4,
  "cells": [
    {
      "cell_type": "markdown",
      "source": "## 3. Longest Substring Without Repeating Characters\n\n**Difficulty:** Medium\n\n**Link to Problem:** [To see the Longest Substring Without Repeating Characters problem on LeetCode, click here!](https://leetcode.com/problems/longest-substring-without-repeating-characters/)\n\n---\n\nGiven a string `s`, find the length of the **longest substring** without repeating characters.\n\n#### Constraints:\n\n- 0 <= `s.length` <= $5 * 10^4%\n- `s` consists of English letters, digits, symbols and spaces.\n\n## Solution:\nHere's a Python function to solve this problem:",
      "metadata": {},
      "id": "d6161252-e815-48d5-a2a3-5444c12e3b49"
    },
    {
      "cell_type": "code",
      "source": "def length_of_longest_substring(s):\n    # Create a dictionary to store the index of each character's last occurrence.\n    char_index = {}\n    \n    # Initialize variables to keep track of the start and end of the current substring.\n    start = 0\n    max_length = 0\n    \n    for end in range(len(s)):\n        # If the character is in the dictionary and its last occurrence is after the start of the current substring,\n        # update the start of the substring to the next character after its last occurrence.\n        if s[end] in char_index and char_index[s[end]] >= start:\n            start = char_index[s[end]] + 1\n        \n        # Update the last occurrence index of the current character.\n        char_index[s[end]] = end\n        \n        # Calculate the length of the current substring and update the maximum length if necessary.\n        current_length = end - start + 1\n        max_length = max(max_length, current_length)\n    \n    return max_length",
      "metadata": {
        "trusted": true
      },
      "execution_count": 61,
      "outputs": [],
      "id": "aabf7095-07dc-4ab7-876c-ec7213ed0de5"
    },
    {
      "cell_type": "markdown",
      "source": "### Explanation:\n\n1. We start by defining a function called `length_of_longest_substring` that takes a single argument `s`, which is the input string for which we want to find the length of the longest substring without repeating characters.\n\n2. We create a dictionary called `char_index` to store the index of the last occurrence of each character in the input string. This dictionary will help us keep track of where each character was last seen.\n\n3. We initialize two variables, `start` and `max_length`. \n   - `start` represents the start index of the current substring without repeating characters. It starts at 0.\n   - `max_length` is used to keep track of the maximum length found so far and is initially set to 0.\n\n4. We then iterate through the input string `s` using a for loop, where the loop variable `end` represents the current end index of the substring we are considering.\n\n5. Inside the loop:\n   - We check if the character `s[end]` is already in the `char_index` dictionary and if its last occurrence is within or after the current substring. If so, it means that we've encountered a repeating character, and we need to update the `start` of the substring to the next character after the last occurrence of `s[end]`. This ensures that we have a new valid substring without repeating characters.\n   - We then update the `char_index` dictionary by storing the current index `end` as the last occurrence index of the character `s[end]`.\n\n6. Next, we calculate the length of the current substring without repeating characters, which is `current_length = end - start + 1`. We add 1 to account for the fact that the indices are zero-based.\n\n7. We update the `max_length` with the maximum of its current value and the `current_length`. This step ensures that we keep track of the longest valid substring we have encountered so far.\n\n8. The loop continues to iterate through the input string, and at the end, we return the `max_length`, which represents the length of the longest substring without repeating characters.",
      "metadata": {},
      "id": "ece39324-cd9e-47d7-8677-a001878494d9"
    },
    {
      "cell_type": "markdown",
      "source": "## Test cases",
      "metadata": {},
      "id": "a54ea5b7-c53f-46c0-a44f-ef769ac68244"
    },
    {
      "cell_type": "code",
      "source": "# Example 1:\nprint(length_of_longest_substring(\"abcabcbb\"))",
      "metadata": {
        "trusted": true
      },
      "execution_count": 62,
      "outputs": [
        {
          "name": "stdout",
          "text": "3\n",
          "output_type": "stream"
        }
      ],
      "id": "355f5bfd-94e1-4c5b-9914-cc20775f4160"
    },
    {
      "cell_type": "code",
      "source": "# Example 2:\nprint(length_of_longest_substring(\"bbbbb\"))",
      "metadata": {
        "trusted": true
      },
      "execution_count": 63,
      "outputs": [
        {
          "name": "stdout",
          "text": "1\n",
          "output_type": "stream"
        }
      ],
      "id": "192912fb-9d12-4911-9a4f-bfd37043e11d"
    },
    {
      "cell_type": "code",
      "source": "# Example 3:\nprint(length_of_longest_substring(\"pwwkew\"))",
      "metadata": {
        "trusted": true
      },
      "execution_count": 64,
      "outputs": [
        {
          "name": "stdout",
          "text": "3\n",
          "output_type": "stream"
        }
      ],
      "id": "cf04eba0-0ead-4e8b-ba33-4316ea64a9d3"
    },
    {
      "cell_type": "markdown",
      "source": "## Time and Space Complexity Analysis\nLet's analyze the time and space complexity of the `length_of_longest_substring` function:\n\n**Time Complexity:**\n- The function iterates through the input string `s` using a single for loop. The loop runs from the beginning of the string to the end once.\n- Inside the loop, we perform constant-time operations such as dictionary lookups and updates, comparisons, and arithmetic operations.\n- Therefore, the time complexity of the function is O(n), where n is the length of the input string `s`.\n\n**Space Complexity:**\n- The primary data structure that consumes space in this function is the `char_index` dictionary.\n- In the worst case, if there are no repeating characters in the input string, the dictionary can store all unique characters in the string.\n- Therefore, the space complexity is O(min(n, m)), where n is the length of the input string `s`, and m is the number of unique characters in the string. In the worst case, when all characters are unique, m is equal to n, so the space complexity is O(n).\n- Additionally, there are a few integer variables used for indices and lengths, which consume constant space.\n- Overall, the space complexity of the function is O(min(n, m)) or simply O(n) in the worst case.\n\n**In summary,** the time complexity of the `length_of_longest_substring` function is O(n), and the space complexity is O(n) in the worst case due to the `char_index` dictionary. This algorithm provides an efficient way to find the length of the longest substring without repeating characters in linear time.",
      "metadata": {},
      "id": "7d9dd448-c5f5-4192-8aa5-7c70ec7f42e2"
    },
    {
      "cell_type": "markdown",
      "source": "### Challenging Exercises:\n\n1. **Longest Substring with K Distinct Characters:** Modify the problem to find the length of the longest substring with exactly K distinct characters. For example, given the input string \"abcabcbb\" and K = 2, the answer would be 4 because the longest substring with two distinct characters is \"abca.\"\n2. **Longest Substring with Unique Characters:** Write a function to find the length of the longest substring in a given string where all characters are unique. For example, given the input string \"abcabcbb,\" the answer would be 4 because \"abcd\" is the longest substring with unique characters.",
      "metadata": {},
      "id": "037b210a-555b-4da3-8130-b74d1e4f33f6"
    }
  ]
}