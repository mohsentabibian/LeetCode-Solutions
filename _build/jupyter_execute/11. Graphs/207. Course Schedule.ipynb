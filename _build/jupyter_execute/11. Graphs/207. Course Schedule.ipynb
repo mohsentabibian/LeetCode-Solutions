{
 "cells": [
  {
   "cell_type": "markdown",
   "id": "d6161252-e815-48d5-a2a3-5444c12e3b49",
   "metadata": {
    "jp-MarkdownHeadingCollapsed": true
   },
   "source": [
    "# 207. Course Schedule\n",
    "\n",
    "**Difficulty:** Medium\n",
    "\n",
    "**Link to Problem:** [To see the Course Schedule problem on LeetCode, click here!](https://leetcode.com/problems/course-schedule/)\n",
    "\n",
    "---\n",
    "There are a total of `numCourses` courses to take, labeled from 0 to `numCourses - 1`. You are given an array `prerequisites` where `prerequisites[i] = [ai, bi]` indicates that you **must** take course `bi` first if you want to take course `ai`. \n",
    "\n",
    "- For example, the pair `[0, 1]`, indicates that to take course `0` you have to first take course `1`.\n",
    "\n",
    "Return `true` if you can finish all courses. Otherwise, return `false`.\n",
    "\n",
    "**Constraints:**\n",
    "- 1 <= `numCourses` <= 2000\n",
    "- 0 <= `prerequisites.length` <= 5000\n",
    "- `prerequisites[i].length` == 2\n",
    "- 0 <= `ai`, `bi` < `numCourses`\n",
    "- All the pairs `prerequisites[i]` are **unique**."
   ]
  },
  {
   "cell_type": "markdown",
   "id": "fe9e71ae-2099-4eb9-b7a1-ec795ce92c76",
   "metadata": {},
   "source": [
    "## Probelm Explanation:\n",
    "\n",
    "The problem is to determine whether it's possible to complete a set of courses given a list of prerequisites. You are given the following:\n",
    "\n",
    "- `numCourses`: The total number of courses to be taken, labeled from 0 to `numCourses - 1`.\n",
    "- `prerequisites`: A list of prerequisite courses, where each element `prerequisites[i]` is a pair `[ai, bi]`, indicating that you must take course `bi` before you can take course `ai`.\n",
    "\n",
    "The goal is to check whether it's possible to complete all the courses while respecting the prerequisite requirements. In other words, you need to determine if there are any circular dependencies in the course prerequisites that would prevent you from taking all the courses.\n",
    "\n",
    "For example:\n",
    "\n",
    "- If `numCourses` is 2, and `prerequisites` is `[[1, 0]]`, it means you have two courses, and you must finish course 0 before you can take course 1. In this case, it's possible to complete all courses, so the function should return `True`.\n",
    "\n",
    "- If `numCourses` is 2, and `prerequisites` is `[[1, 0], [0, 1]]`, it means you have two courses, but there's a circular dependency where course 1 requires course 0 and course 0 requires course 1. In this case, it's impossible to complete all courses, so the function should return `False`.\n",
    "\n",
    "The problem is essentially about checking for the presence of cycles in a directed graph, where the courses are nodes, and the prerequisites represent directed edges between them. If there are no cycles, it's possible to complete all courses; otherwise, it's not possible.\n",
    "\n",
    "## Solution:\n",
    "Here's a Python function to implement this algorithm:"
   ]
  },
  {
   "cell_type": "code",
   "execution_count": 1,
   "id": "aabf7095-07dc-4ab7-876c-ec7213ed0de5",
   "metadata": {},
   "outputs": [],
   "source": [
    "from collections import defaultdict, deque\n",
    "from typing import List\n",
    "\n",
    "class Solution:\n",
    "    def canFinish(self, numCourses: int, prerequisites: List[List[int]]) -> bool:\n",
    "        # Create a graph using an adjacency list to represent the courses and their prerequisites.\n",
    "        graph = defaultdict(list)  # Initialize an empty adjacency list.\n",
    "        in_degree = [0] * numCourses  # Initialize an array to store in-degrees of courses.\n",
    "\n",
    "        # Populate the graph and calculate in-degrees.\n",
    "        for course, prerequisite in prerequisites:\n",
    "            graph[prerequisite].append(course)  # Add the course as a neighbor to its prerequisite.\n",
    "            in_degree[course] += 1  # Increment the in-degree of the course.\n",
    "\n",
    "        # Initialize a queue with courses that have no prerequisites.\n",
    "        queue = deque()\n",
    "        for course in range(numCourses):\n",
    "            if in_degree[course] == 0:\n",
    "                queue.append(course)\n",
    "\n",
    "        # Perform topological sorting.\n",
    "        while queue:\n",
    "            course = queue.popleft()  # Take a course with no prerequisites.\n",
    "            numCourses -= 1  # Decrement the count of remaining courses.\n",
    "\n",
    "            for neighbor in graph[course]:\n",
    "                in_degree[neighbor] -= 1  # Remove the prerequisite relationship.\n",
    "                if in_degree[neighbor] == 0:\n",
    "                    queue.append(neighbor)  # If no more prerequisites, add to the queue.\n",
    "\n",
    "        # If all courses were successfully taken (numCourses becomes 0), return True.\n",
    "        return numCourses == 0"
   ]
  },
  {
   "cell_type": "markdown",
   "id": "ece39324-cd9e-47d7-8677-a001878494d9",
   "metadata": {},
   "source": [
    "## Explanation:\n",
    "\n",
    "This Python code is designed to determine whether it is possible to complete all the required courses given a set of prerequisites. It uses a topological sorting algorithm to accomplish this. Here's a brief explanation of the code:\n",
    "\n",
    "1. The code defines a `Solution` class with a `canFinish` method that takes two parameters: `numCourses` (the total number of courses) and `prerequisites` (a list of pairs indicating which course must be taken before another).\n",
    "\n",
    "2. It initializes an empty graph as an adjacency list using a `defaultdict` to represent the courses and their prerequisites. It also initializes a list called `in_degree` to keep track of the in-degrees of courses, which is used in the topological sorting process.\n",
    "\n",
    "3. The code then populates the graph by iterating through the `prerequisites` list. For each pair `(ai, bi)`, it adds course `ai` as a neighbor to its prerequisite course `bi` in the graph and increments the in-degree of course `ai`.\n",
    "\n",
    "4. Next, it initializes a queue with courses that have no prerequisites. It does this by iterating through all the courses and adding those with an in-degree of 0 to the queue.\n",
    "\n",
    "5. The code performs a topological sorting of the courses using a while loop. In each iteration of the loop, it dequeues a course from the front of the queue (a course with no prerequisites).\n",
    "\n",
    "6. For each neighbor (course that depends on the dequeued course), it decrements the in-degree of the neighbor. If the neighbor's in-degree becomes 0, it means all of its prerequisites have been taken, so the neighbor is added to the queue.\n",
    "\n",
    "7. The loop continues until there are no more courses with no prerequisites to dequeue, and the in-degrees are updated accordingly.\n",
    "\n",
    "8. After the loop, if all courses were successfully taken (i.e., `numCourses` becomes 0), it means that there were no circular dependencies, and it's possible to finish all courses. In this case, the method returns `True`. Otherwise, if there are remaining courses (indicating a circular dependency), it returns `False`."
   ]
  },
  {
   "cell_type": "markdown",
   "id": "a54ea5b7-c53f-46c0-a44f-ef769ac68244",
   "metadata": {},
   "source": [
    "## Test cases:\n",
    "\n",
    "Here's how you can use this solution:"
   ]
  },
  {
   "cell_type": "code",
   "execution_count": 2,
   "id": "355f5bfd-94e1-4c5b-9914-cc20775f4160",
   "metadata": {},
   "outputs": [
    {
     "name": "stdout",
     "output_type": "stream",
     "text": [
      "True\n"
     ]
    }
   ],
   "source": [
    "# Example 1\n",
    "numCourses1 = 2\n",
    "prerequisites1 = [[1, 0]]\n",
    "sol = Solution()\n",
    "print(sol.canFinish(numCourses1, prerequisites1))  # Output: True"
   ]
  },
  {
   "cell_type": "code",
   "execution_count": 3,
   "id": "364aa061-a452-45eb-96db-36f7dbdbdcb3",
   "metadata": {},
   "outputs": [
    {
     "name": "stdout",
     "output_type": "stream",
     "text": [
      "False\n"
     ]
    }
   ],
   "source": [
    "# Example 2\n",
    "numCourses2 = 2\n",
    "prerequisites2 = [[1, 0], [0, 1]]\n",
    "print(sol.canFinish(numCourses2, prerequisites2))  # Output: False"
   ]
  },
  {
   "cell_type": "markdown",
   "id": "7d9dd448-c5f5-4192-8aa5-7c70ec7f42e2",
   "metadata": {},
   "source": [
    "## Time and Space Complexity Analysis\n",
    "\n",
    "Let's analyze the time and space complexity of the `canFinish` method:\n",
    "\n",
    "**Time Complexity:**\n",
    "\n",
    "1. Constructing the graph: In the first loop where we iterate through the `prerequisites` list, we populate the graph with prerequisites. This loop has a time complexity of O(E), where E is the number of prerequisites (edges).\n",
    "\n",
    "2. Initializing in-degrees and finding courses with no prerequisites: In the worst case, we iterate through all `numCourses` courses to initialize in-degrees and find the courses with no prerequisites. This has a time complexity of O(V), where V is the number of courses (vertices).\n",
    "\n",
    "3. Topological Sorting: In the while loop, we perform topological sorting, processing each course once and its outgoing edges. In the worst case, each course is processed once. This has a time complexity of O(V + E).\n",
    "\n",
    "The overall time complexity is O(V + E), where V is the number of courses, and E is the number of prerequisites.\n",
    "\n",
    "**Space Complexity:**\n",
    "\n",
    "1. Graph Representation: The space complexity for storing the graph as an adjacency list is O(E), where E is the number of prerequisites.\n",
    "\n",
    "2. In-Degree Array: The space complexity for storing the in-degrees of courses is O(V), where V is the number of courses.\n",
    "\n",
    "3. Queue: The space complexity for the queue is O(V), as it may contain all the courses.\n",
    "\n",
    "The overall space complexity is O(V + E), where V is the number of courses, and E is the number of prerequisites.\n",
    "\n",
    "In most practical cases, the number of prerequisites (E) is much smaller than the number of courses (V), so the time and space complexity can often be considered as O(V)."
   ]
  },
  {
   "cell_type": "markdown",
   "id": "037b210a-555b-4da3-8130-b74d1e4f33f6",
   "metadata": {},
   "source": [
    "## Challenging Exercises:\n",
    "\n",
    "1. **Optimizing Course Scheduling**: Given a list of courses with their durations and prerequisites, find the most efficient way to schedule these courses to minimize the time it takes to complete all of them.\n",
    "\n",
    "2. **Detecting Cycles in Course Dependencies**: Modify the original problem to not just determine if you can finish all courses but also to identify the specific courses that form a cycle in the prerequisite dependencies."
   ]
  }
 ],
 "metadata": {
  "kernelspec": {
   "display_name": "Python (Pyodide)",
   "language": "python",
   "name": "python"
  },
  "language_info": {
   "codemirror_mode": {
    "name": "ipython",
    "version": 3
   },
   "file_extension": ".py",
   "mimetype": "text/x-python",
   "name": "python",
   "nbconvert_exporter": "python",
   "pygments_lexer": "ipython3",
   "version": "3.10.8"
  }
 },
 "nbformat": 4,
 "nbformat_minor": 5
}