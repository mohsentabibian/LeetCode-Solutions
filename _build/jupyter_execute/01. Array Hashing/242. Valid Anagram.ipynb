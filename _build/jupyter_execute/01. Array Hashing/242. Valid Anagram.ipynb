{
 "cells": [
  {
   "cell_type": "markdown",
   "id": "d6161252-e815-48d5-a2a3-5444c12e3b49",
   "metadata": {},
   "source": [
    "# 242. Valid Anagram\n",
    "\n",
    "**Difficulty:** Easy\n",
    "\n",
    "**Link to Problem:** [To see the Valid Anagram problem on LeetCode, click here!](https://leetcode.com/problems/valid-anagram/)\n",
    "\n",
    "---\n",
    "Given two strings `s` and `t`, return `true` if `t` is an anagram of `s`, and `false` otherwise.\n",
    "\n",
    "An **Anagram** is a word or phrase formed by rearranging the letters of a different word or phrase, typically using all the original letters exactly once.\n",
    "\n",
    "**Constraints:**\n",
    "- 1 <= `s.length`, `t.length` <= $5 * 10^4$\n",
    "- `s` and `t` consist of lowercase English letters.\n",
    "\n",
    "**Follow-up:** What if the inputs contain Unicode characters? How would you adapt your solution to such a case?\n",
    "\n",
    "## Solution:\n",
    "Here's a Python function to solve this problem:"
   ]
  },
  {
   "cell_type": "code",
   "execution_count": 1,
   "id": "aabf7095-07dc-4ab7-876c-ec7213ed0de5",
   "metadata": {},
   "outputs": [],
   "source": [
    "def isAnagram(s: str, t: str) -> bool:\n",
    "    # Check if the lengths of s and t are not equal\n",
    "    if len(s) != len(t):\n",
    "        return False\n",
    "\n",
    "    # Create dictionaries to store character frequencies for s and t\n",
    "    countS, countT = {}, {}\n",
    "\n",
    "    # Count character frequencies in s\n",
    "    for i in range(len(s)):\n",
    "        countS[s[i]] = 1 + countS.get(s[i], 0)\n",
    "\n",
    "    # Count character frequencies in t\n",
    "    for i in range(len(t)):\n",
    "        countT[t[i]] = 1 + countT.get(t[i], 0)\n",
    "\n",
    "    # Check if the character frequencies in s and t are the same\n",
    "    return countS == countT"
   ]
  },
  {
   "cell_type": "markdown",
   "id": "ece39324-cd9e-47d7-8677-a001878494d9",
   "metadata": {},
   "source": [
    "## Explanation:\n",
    "\n",
    "1. The code defines a class called `Solution` with a method `isAnagram` that takes two input strings, `s` and `t`, and returns a boolean (`True` or `False`) based on whether `t` is an anagram of `s`.\n",
    "\n",
    "2. The first check performed in the method is whether the lengths of `s` and `t` are equal. If they are not equal, it immediately returns `False` because strings of different lengths cannot be anagrams of each other.\n",
    "\n",
    "3. Two dictionaries, `countS` and `countT`, are created to store the frequency of characters in `s` and `t`, respectively. These dictionaries will be used to count the occurrences of each character in the strings.\n",
    "\n",
    "4. The code then enters a loop to iterate through each character in string `s` using a `for` loop. Inside the loop, it updates the `countS` dictionary. The line `countS[s[i]] = 1 + countS.get(s[i], 0)` increments the count of character `s[i]` in `countS` by 1. If the character is not already in the dictionary, it initializes the count to 1.\n",
    "\n",
    "5. Similarly, the code iterates through each character in string `t` and updates the `countT` dictionary in the same way.\n",
    "\n",
    "6. After counting the character frequencies in both strings, the code compares the two dictionaries using `countS == countT`. If the dictionaries are equal, it means that both strings have the same character frequencies, and therefore, `t` is an anagram of `s`. In this case, the method returns `True`.\n",
    "\n",
    "7. If the dictionaries are not equal, the method returns `False`, indicating that `t` is not an anagram of `s`.\n",
    "\n",
    "In summary, this code efficiently determines whether two input strings are anagrams by counting the character frequencies in each string using dictionaries and then comparing these counts. If the character frequencies match, the strings are considered anagrams, and the method returns `True`; otherwise, it returns `False`."
   ]
  },
  {
   "cell_type": "markdown",
   "id": "a54ea5b7-c53f-46c0-a44f-ef769ac68244",
   "metadata": {},
   "source": [
    "## Test cases"
   ]
  },
  {
   "cell_type": "code",
   "execution_count": 2,
   "id": "355f5bfd-94e1-4c5b-9914-cc20775f4160",
   "metadata": {},
   "outputs": [
    {
     "name": "stdout",
     "output_type": "stream",
     "text": [
      "True\n"
     ]
    }
   ],
   "source": [
    "# Example 1:\n",
    "s = \"anagram\"\n",
    "t = \"nagaram\"\n",
    "print(isAnagram(s, t))"
   ]
  },
  {
   "cell_type": "code",
   "execution_count": 3,
   "id": "192912fb-9d12-4911-9a4f-bfd37043e11d",
   "metadata": {},
   "outputs": [
    {
     "name": "stdout",
     "output_type": "stream",
     "text": [
      "False\n"
     ]
    }
   ],
   "source": [
    "# Example 2\n",
    "s = \"rat\"\n",
    "t = \"car\"\n",
    "print(isAnagram(s, t))"
   ]
  },
  {
   "cell_type": "markdown",
   "id": "7d9dd448-c5f5-4192-8aa5-7c70ec7f42e2",
   "metadata": {},
   "source": [
    "## Time and Space Complexity Analysis\n",
    "\n",
    "Let's analyze the time and space complexity of the provided code:\n",
    "\n",
    "**Time Complexity:**\n",
    "\n",
    "1. The code first checks whether the lengths of the input strings `s` and `t` are equal, which takes constant time. This check has a time complexity of O(1).\n",
    "\n",
    "2. The code then iterates through both strings, `s` and `t`, once to count the character frequencies. Since both strings have a maximum length of 5 * 10^4, the worst-case scenario is that the code iterates through 5 * 10^4 characters in each string. This results in a linear time complexity of O(n), where n is the length of the longer of the two input strings (`s` or `t`).\n",
    "\n",
    "3. Finally, the code compares the two dictionaries `countS` and `countT` to check if the character frequencies match. This comparison takes O(n) time in the worst case, where n is the length of the longer string.\n",
    "\n",
    "Overall, the time complexity of the code is O(n), where n is the length of the longer input string.\n",
    "\n",
    "**Space Complexity:**\n",
    "\n",
    "1. The code uses two dictionaries, `countS` and `countT`, to store the character frequencies of the input strings `s` and `t`. In the worst case, both dictionaries can contain all unique characters from the input strings. Since the input strings can have a maximum length of 5 * 10^4, the space complexity for these dictionaries is O(5 * 10^4) or simply O(n), where n is the length of the longer input string.\n",
    "\n",
    "2. The code uses a few additional variables for bookkeeping, but these variables have constant space requirements and do not depend on the input size. Therefore, they do not significantly impact the overall space complexity.\n",
    "\n",
    "**In summary**, the space complexity of the code is O(n), where n is the length of the longer input string."
   ]
  },
  {
   "cell_type": "markdown",
   "id": "037b210a-555b-4da3-8130-b74d1e4f33f6",
   "metadata": {},
   "source": [
    "## Challenging Exercises:\n",
    "\n",
    "1. **Anagram Chains**: Given a list of words, find the longest chain of anagrams, where each word in the chain is an anagram of the previous word. For example, given [\"bat\", \"tab\", \"cat\", \"tac\", \"dog\"], the longest anagram chain is [\"bat\", \"tab\", \"cat\", \"tac\"].\n",
    "\n",
    "2. **Minimum Deletions to Make Anagrams**: Given two strings `s` and `t`, find the minimum number of character deletions required in both strings to make them anagrams of each other. For example, if `s = \"hello\"` and `t = \"billion\"`, you can remove the characters \"heo\" from `s` and \"billi\" from `t` to make them anagrams (\"lo\" and \"on\" are left in the two strings)."
   ]
  }
 ],
 "metadata": {
  "kernelspec": {
   "display_name": "Python (Pyodide)",
   "language": "python",
   "name": "python"
  },
  "language_info": {
   "codemirror_mode": {
    "name": "ipython",
    "version": 3
   },
   "file_extension": ".py",
   "mimetype": "text/x-python",
   "name": "python",
   "nbconvert_exporter": "python",
   "pygments_lexer": "ipython3",
   "version": "3.10.8"
  }
 },
 "nbformat": 4,
 "nbformat_minor": 5
}