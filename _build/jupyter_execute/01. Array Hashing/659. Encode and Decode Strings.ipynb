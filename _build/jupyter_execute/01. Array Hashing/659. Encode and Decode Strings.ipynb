{
 "cells": [
  {
   "cell_type": "markdown",
   "id": "d6161252-e815-48d5-a2a3-5444c12e3b49",
   "metadata": {},
   "source": [
    "# 659· Encode and Decode Strings\n",
    "\n",
    "**Difficulty:** Medium\n",
    "\n",
    "**Link to Problem:** [To see the Encode and Decode Strings problem on LintCode, click here!](https://www.lintcode.com/problem/659/)\n",
    "\n",
    "---\n",
    "Design an algorithm to encode a list of strings to a string. The encoded string is then sent over the network and is decoded back to the original list of strings.\n",
    "\n",
    "Please implement `encode` and `decode`.\n",
    "\n",
    "\n",
    "## Solution:\n",
    "Here's a Python function to solve this problem:"
   ]
  },
  {
   "cell_type": "code",
   "execution_count": 1,
   "id": "aabf7095-07dc-4ab7-876c-ec7213ed0de5",
   "metadata": {},
   "outputs": [],
   "source": [
    "class Codec:\n",
    "\n",
    "    def encode(self, strs):\n",
    "        \"\"\"Encodes a list of strings to a single string.\n",
    "        \n",
    "        :type strs: List[str]\n",
    "        :rtype: str\n",
    "        \"\"\"\n",
    "        encoded = \"\"\n",
    "        for s in strs:\n",
    "            encoded += s.replace(':', '::') + ':;'\n",
    "        return encoded\n",
    "\n",
    "    def decode(self, s):\n",
    "        \"\"\"Decodes a single string to a list of strings.\n",
    "        \n",
    "        :type s: str\n",
    "        :rtype: List[str]\n",
    "        \"\"\"\n",
    "        decoded = []\n",
    "        i = 0\n",
    "        while i < len(s):\n",
    "            end = s.find(':;', i)\n",
    "            if end == -1:\n",
    "                end = len(s)\n",
    "            decoded.append(s[i:end].replace('::', ':'))\n",
    "            i = end + 2\n",
    "        return decoded"
   ]
  },
  {
   "cell_type": "markdown",
   "id": "ece39324-cd9e-47d7-8677-a001878494d9",
   "metadata": {},
   "source": [
    "## Explanation:\n",
    "\n",
    "1. We define a class called `Codec` to encapsulate the encoding and decoding operations for a list of strings.\n",
    "\n",
    "2. In the `encode` method, we take a list of strings (`strs`) as input and return a single encoded string. The encoding process involves concatenating the strings together with a delimiter `:;`. We iterate through each string in the input list, replace any occurrence of `:` with `::` (to avoid conflicts with the delimiter), and then append `:;` to indicate the end of that string.\n",
    "\n",
    "3. In the `decode` method, we take an encoded string (`s`) as input and return a list of strings. The decoding process involves splitting the encoded string using the `:;` delimiter. We start from the beginning of the encoded string (`i = 0`) and repeatedly find the next occurrence of `:;`. We extract the substring between the current position (`i`) and the next delimiter (`end`). Before adding it to the result list, we replace any `::` with `:` to revert the encoding. We then update the current position `i` to be after the delimiter, so we can find the next substring in the next iteration.\n",
    "\n",
    "4. Finally, we create an instance of the `Codec` class and test it with two examples:\n",
    "\n",
    "By using the `:;` delimiter and handling the `::` escaping, this code can encode and decode lists of strings, preserving the original content even if it contains colons or the delimiter itself."
   ]
  },
  {
   "cell_type": "markdown",
   "id": "a54ea5b7-c53f-46c0-a44f-ef769ac68244",
   "metadata": {},
   "source": [
    "## Test cases"
   ]
  },
  {
   "cell_type": "code",
   "execution_count": 2,
   "id": "355f5bfd-94e1-4c5b-9914-cc20775f4160",
   "metadata": {},
   "outputs": [
    {
     "name": "stdout",
     "output_type": "stream",
     "text": [
      "['lint', 'code', 'love', 'you']\n"
     ]
    }
   ],
   "source": [
    "# Example 1: \n",
    "codec = Codec()\n",
    "\n",
    "input1 = [\"lint\", \"code\", \"love\", \"you\"]\n",
    "encoded1 = codec.encode(input1)\n",
    "decoded1 = codec.decode(encoded1)\n",
    "print(decoded1)"
   ]
  },
  {
   "cell_type": "code",
   "execution_count": 3,
   "id": "192912fb-9d12-4911-9a4f-bfd37043e11d",
   "metadata": {},
   "outputs": [
    {
     "name": "stdout",
     "output_type": "stream",
     "text": [
      "['we', 'say', ':', 'yes']\n"
     ]
    }
   ],
   "source": [
    "# Example 2:\n",
    "codec = Codec() \n",
    "\n",
    "input2 = [\"we\", \"say\", \":\", \"yes\"]\n",
    "encoded2 = codec.encode(input2)\n",
    "decoded2 = codec.decode(encoded2)\n",
    "print(decoded2)  "
   ]
  },
  {
   "cell_type": "markdown",
   "id": "7d9dd448-c5f5-4192-8aa5-7c70ec7f42e2",
   "metadata": {},
   "source": [
    "## Time and Space Complexity Analysis\n",
    "\n",
    "Let's analyze the time and space complexity of the `encode` and `decode` methods in the provided code.\n",
    "\n",
    "**Encode Method (`encode`):**\n",
    "\n",
    "- Time Complexity: O(n * m)\n",
    "  - Here, `n` is the number of strings in the input list `strs`, and `m` is the average length of these strings.\n",
    "  - In the worst case, for each string in the list, we iterate over its characters once to replace any colons (`:`) with double colons (`::`) and then append `:;`. This is done for each string in the list.\n",
    "\n",
    "- Space Complexity: O(n * m)\n",
    "  - The space complexity is also O(n * m) because we build the encoded string by concatenating the modified strings. In the worst case, the encoded string can be of the same length as the original strings.\n",
    "\n",
    "**Decode Method (`decode`):**\n",
    "\n",
    "- Time Complexity: O(n * m)\n",
    "  - Similar to the encode method, we iterate through the encoded string in the decode method. In the worst case, we may have to scan each character in the encoded string to find the `:;` delimiter.\n",
    "\n",
    "- Space Complexity: O(n * m)\n",
    "  - The space complexity of the decode method is also O(n * m) because we build the list of decoded strings, which can be of the same length as the encoded string.\n",
    "\n",
    "Overall, both the `encode` and `decode` methods have time and space complexities of O(n * m), where `n` is the number of strings in the input list, and `m` is the average length of these strings. The space complexity arises from storing the encoded or decoded strings, and the time complexity arises from iterating through the characters in these strings."
   ]
  },
  {
   "cell_type": "markdown",
   "id": "037b210a-555b-4da3-8130-b74d1e4f33f6",
   "metadata": {},
   "source": [
    "## Challenging Exercises:\n",
    "\n",
    "1. **Multiple Delimiters**: Modify the code to allow for multiple delimiters, not just one. Each string could have its own delimiter, and the code should be able to handle this complexity.\n",
    "\n",
    "2. **Optimize Encoding**: Modify the `encode` method to achieve a more efficient encoding algorithm. Try to minimize the length of the encoded string while ensuring that it can be correctly decoded."
   ]
  }
 ],
 "metadata": {
  "kernelspec": {
   "display_name": "Python (Pyodide)",
   "language": "python",
   "name": "python"
  },
  "language_info": {
   "codemirror_mode": {
    "name": "ipython",
    "version": 3
   },
   "file_extension": ".py",
   "mimetype": "text/x-python",
   "name": "python",
   "nbconvert_exporter": "python",
   "pygments_lexer": "ipython3",
   "version": "3.10.8"
  }
 },
 "nbformat": 4,
 "nbformat_minor": 5
}