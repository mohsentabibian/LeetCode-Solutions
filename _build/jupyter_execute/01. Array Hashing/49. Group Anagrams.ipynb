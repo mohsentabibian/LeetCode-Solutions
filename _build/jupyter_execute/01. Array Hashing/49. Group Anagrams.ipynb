{
 "cells": [
  {
   "cell_type": "markdown",
   "id": "d6161252-e815-48d5-a2a3-5444c12e3b49",
   "metadata": {},
   "source": [
    "# 49. Group Anagrams\n",
    "\n",
    "**Difficulty:** Medium\n",
    "\n",
    "**Link to Problem:** [To see the Group Anagrams problem on LeetCode, click here!](https://leetcode.com/problems/group-anagrams/)\n",
    "\n",
    "---\n",
    "Given an array of strings `strs`, group **the anagrams** together. You can return the answer in **any order**.\n",
    "\n",
    "An **Anagram** is a word or phrase formed by rearranging the letters of a different word or phrase, typically using all the original letters exactly once.\n",
    "\n",
    "**Constraints:**\n",
    "- 1 <= `strs.length <= $10^4$\n",
    "- `0 <= strs[i].length <= 100`\n",
    "- `strs[i]` consists of lowercase English letters.\n",
    "\n",
    "## Solution:\n",
    "Here's a Python function to solve this problem:"
   ]
  },
  {
   "cell_type": "code",
   "execution_count": 1,
   "id": "aabf7095-07dc-4ab7-876c-ec7213ed0de5",
   "metadata": {},
   "outputs": [],
   "source": [
    "from collections import defaultdict\n",
    "\n",
    "\n",
    "def groupAnagrams(strs):\n",
    "    ans = defaultdict(list)\n",
    "\n",
    "    # Iterate through the list of input strings\n",
    "    for s in strs:\n",
    "        # Initialize a list to represent character counts for each character (a-z)\n",
    "        count = [0] * 26\n",
    "\n",
    "        # Count the occurrences of each character in the current word\n",
    "        for c in s:\n",
    "            count[ord(c) - ord(\"a\")] += 1\n",
    "\n",
    "        # Use a tuple of character counts as the key and append the word to the anagram group\n",
    "        ans[tuple(count)].append(s)\n",
    "\n",
    "    # Convert the values (lists of anagrams) to a list of lists\n",
    "    return list(ans.values())"
   ]
  },
  {
   "cell_type": "markdown",
   "id": "ece39324-cd9e-47d7-8677-a001878494d9",
   "metadata": {},
   "source": [
    "## Explanation:\n",
    "\n",
    "1. Inside the method, a `defaultdict` called `ans` is created to store anagram groups. This dictionary will have a list as its default value, meaning that each key in the dictionary will be associated with an empty list by default.\n",
    "\n",
    "2. The code then iterates through the list of input strings, `strs`, using a `for` loop. For each word `s` in `strs`, it performs the following steps:\n",
    "\n",
    "   - It initializes a list `count` of length 26, where each element represents the count of a specific character (a-z) in the word `s`.\n",
    "\n",
    "   - The code then iterates through the characters of `s`. For each character `c`, it increments the corresponding count in the `count` list based on its ASCII value.\n",
    "\n",
    "   - After counting the characters in `s`, it converts the `count` list into a tuple `tuple(count)` to use as a key for the `ans` dictionary.\n",
    "\n",
    "   - It appends the word `s` to the list associated with the key (tuple) in the `ans` dictionary. This groups all anagrams of the same word together under the same key.\n",
    "\n",
    "3. After processing all words in `strs`, the code converts the values of the `ans` dictionary (which are lists of anagrams) to a list of lists using the `list()` constructor.\n",
    "\n",
    "4. Finally, the code returns the list of anagram groups, which is the result of grouping the anagrams in the input list.\n",
    "\n",
    "In summary, the code efficiently groups anagrams together by counting the characters in each word and using a dictionary to store them under the same key. The result is a list of lists, where each inner list represents a group of anagrams."
   ]
  },
  {
   "cell_type": "markdown",
   "id": "a54ea5b7-c53f-46c0-a44f-ef769ac68244",
   "metadata": {},
   "source": [
    "## Test cases"
   ]
  },
  {
   "cell_type": "code",
   "execution_count": 2,
   "id": "355f5bfd-94e1-4c5b-9914-cc20775f4160",
   "metadata": {},
   "outputs": [
    {
     "name": "stdout",
     "output_type": "stream",
     "text": [
      "[['eat', 'tea', 'ate'], ['tan', 'nat'], ['bat']]\n"
     ]
    }
   ],
   "source": [
    "# Example 1: Group anagrams from a list of words\n",
    "strs1 = [\"eat\", \"tea\", \"tan\", \"ate\", \"nat\", \"bat\"]\n",
    "result1 = groupAnagrams(strs1)\n",
    "print(result1)\n"
   ]
  },
  {
   "cell_type": "code",
   "execution_count": 3,
   "id": "192912fb-9d12-4911-9a4f-bfd37043e11d",
   "metadata": {},
   "outputs": [
    {
     "name": "stdout",
     "output_type": "stream",
     "text": [
      "[['']]\n"
     ]
    }
   ],
   "source": [
    "# Example 2: Group anagrams from a list with an empty string\n",
    "strs2 = [\"\"]\n",
    "result2 = groupAnagrams(strs2)\n",
    "print(result2)"
   ]
  },
  {
   "cell_type": "code",
   "execution_count": 4,
   "id": "c8367e2a-e7d5-4e18-8235-2870e341a04b",
   "metadata": {},
   "outputs": [
    {
     "name": "stdout",
     "output_type": "stream",
     "text": [
      "[['a']]\n"
     ]
    }
   ],
   "source": [
    "# Example 3: Group anagrams from a list with a single word\n",
    "strs3 = [\"a\"]\n",
    "result3 = groupAnagrams(strs3)\n",
    "print(result3)"
   ]
  },
  {
   "cell_type": "markdown",
   "id": "7d9dd448-c5f5-4192-8aa5-7c70ec7f42e2",
   "metadata": {},
   "source": [
    "## Time and Space Complexity Analysis\n",
    "\n",
    "Let's analyze the time and space complexity of the `groupAnagrams` method:\n",
    "\n",
    "**Time Complexity:**\n",
    "\n",
    "1. First, we create an instance of the `Solution` class, which is an O(1) operation.\n",
    "\n",
    "2. Inside the `groupAnagrams` method, we iterate through the list of input strings `strs` once in a loop:\n",
    "   - For each word in `strs`, we perform character counting, which is done in O(K) time, where K is the maximum length of a word in the list.\n",
    "\n",
    "3. The overall time complexity of the method is O(N * K), where N is the number of words in the input list `strs`, and K is the maximum length of a word in `strs`.\n",
    "\n",
    "**Space Complexity:**\n",
    "\n",
    "1. We use a `defaultdict` called `ans` to store the anagram groups. In the worst case, each word belongs to a distinct anagram group, so the space complexity for `ans` is O(N).\n",
    "\n",
    "2. Within the loop, we create a `count` list of length 26 to store character counts for each word. This is a fixed-size list and does not depend on the input size, so it has a constant space complexity of O(26), which is effectively O(1).\n",
    "\n",
    "3. The space used for other variables is also constant and does not depend on the input size.\n",
    "\n",
    "4. The final result, `result`, is a list of lists that contains the grouped anagrams. In the worst case, each word is a distinct anagram group, so the space complexity for `result` is O(N).\n",
    "\n",
    "5. The overall space complexity of the method is O(N) due to the space used by `ans` and `result`. The space used by the `count` list and other variables is constant and does not significantly affect the overall space complexity.\n",
    "\n",
    "**In summary,** the time complexity of the `groupAnagrams` method is O(N * K), and the space complexity is O(N), where N is the number of words in the input list `strs`, and K is the maximum length of a word in `strs`."
   ]
  },
  {
   "cell_type": "markdown",
   "id": "037b210a-555b-4da3-8130-b74d1e4f33f6",
   "metadata": {},
   "source": [
    "## Challenging Exercises:\n",
    "\n",
    "1. **Anagramic Palindromes**: Given a list of strings, find all the groups of anagrams where each group contains words that can be rearranged into a palindrome. For example, in the list [\"bat\", \"tab\", \"act\", \"tac\", \"dog\"], there are two groups: [\"bat\", \"tab\", \"act\", \"tac\"] and [\"dog\"].\n",
    "\n",
    "2. **Largest Anagram Group**: Given a list of strings, find the largest group of anagrams. Return the list of anagrams in that group. If there are multiple largest groups, return all of them."
   ]
  }
 ],
 "metadata": {
  "kernelspec": {
   "display_name": "Python (Pyodide)",
   "language": "python",
   "name": "python"
  },
  "language_info": {
   "codemirror_mode": {
    "name": "ipython",
    "version": 3
   },
   "file_extension": ".py",
   "mimetype": "text/x-python",
   "name": "python",
   "nbconvert_exporter": "python",
   "pygments_lexer": "ipython3",
   "version": "3.10.8"
  }
 },
 "nbformat": 4,
 "nbformat_minor": 5
}