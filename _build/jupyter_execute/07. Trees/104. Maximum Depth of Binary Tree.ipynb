{
 "cells": [
  {
   "cell_type": "markdown",
   "id": "d6161252-e815-48d5-a2a3-5444c12e3b49",
   "metadata": {},
   "source": [
    "# 104. Maximum Depth of Binary Tree\n",
    "\n",
    "**Difficulty:** Easy\n",
    "\n",
    "**Link to Problem:** [To see the Invert Binary Tree problem on LeetCode, click here!](https://leetcode.com/problems/invert-binary-tree/)\n",
    "\n",
    "---\n",
    "\n",
    "Given the `root` of a binary tree, return its maximum depth.\n",
    "\n",
    "A binary tree's **maximum depth** is the number of nodes along the longest path from the root node down to the farthest leaf node.\n",
    "\n",
    "**Constraints:**\n",
    "\n",
    "- The number of nodes in the tree is in the range $[0, 10^4]$.\n",
    "- `-100 <= Node.val <= 100`\n",
    "\n"
   ]
  },
  {
   "cell_type": "code",
   "execution_count": 1,
   "id": "aabf7095-07dc-4ab7-876c-ec7213ed0de5",
   "metadata": {},
   "outputs": [],
   "source": [
    "# Definition for a binary tree node.\n",
    "class TreeNode:\n",
    "    def __init__(self, val=0, left=None, right=None):\n",
    "        self.val = val\n",
    "        self.left = left\n",
    "        self.right = right\n",
    "\n",
    "def maxDepth(root):\n",
    "    # Base case: If the root is None, the depth is 0.\n",
    "    if root is None:\n",
    "        return 0\n",
    "    \n",
    "    # Recursively calculate the maximum depth of the left and right subtrees.\n",
    "    left_depth = maxDepth(root.left)\n",
    "    right_depth = maxDepth(root.right)\n",
    "    \n",
    "    # Return the maximum depth of the tree by adding 1 to the maximum depth of the subtrees.\n",
    "    return max(left_depth, right_depth) + 1"
   ]
  },
  {
   "cell_type": "markdown",
   "id": "ece39324-cd9e-47d7-8677-a001878494d9",
   "metadata": {},
   "source": [
    "## Explanation:\n",
    "\n",
    "Let's go through the code step by step to understand how it works:\n",
    "\n",
    "1. We start by defining a `TreeNode` class to represent the nodes of the binary tree. Each node has three attributes:\n",
    "   - `val`: the value stored in the node.\n",
    "   - `left`: a reference to the left child node.\n",
    "   - `right`: a reference to the right child node.\n",
    "\n",
    "2. The `maxDepth` function is the main function that calculates the maximum depth of the binary tree. It takes a single argument, `root`, which is the root node of the binary tree.\n",
    "\n",
    "3. In the `maxDepth` function, we have a base case:\n",
    "   - If the `root` is `None`, it means we have reached the end of a branch of the tree (a leaf node or an empty subtree). In this case, the depth is 0 because there are no nodes to count.\n",
    "\n",
    "4. If the `root` is not `None`, we recursively calculate the maximum depth of the left and right subtrees:\n",
    "   - We call `maxDepth` on the `root.left` to calculate the maximum depth of the left subtree and store it in the variable `left_depth`.\n",
    "   - We call `maxDepth` on the `root.right` to calculate the maximum depth of the right subtree and store it in the variable `right_depth`.\n",
    "\n",
    "5. Finally, we return the maximum depth of the tree by taking the maximum of `left_depth` and `right_depth` and adding 1 to it. This is because we are counting the current level as well."
   ]
  },
  {
   "cell_type": "markdown",
   "id": "a54ea5b7-c53f-46c0-a44f-ef769ac68244",
   "metadata": {},
   "source": [
    "## Test cases"
   ]
  },
  {
   "cell_type": "code",
   "execution_count": 2,
   "id": "355f5bfd-94e1-4c5b-9914-cc20775f4160",
   "metadata": {},
   "outputs": [
    {
     "name": "stdout",
     "output_type": "stream",
     "text": [
      "3\n"
     ]
    }
   ],
   "source": [
    "### Example 1\n",
    "# Input: root = [3,9,20,null,null,15,7]\n",
    "\n",
    "root = TreeNode(3)\n",
    "root.left = TreeNode(9)\n",
    "root.right = TreeNode(20)\n",
    "root.right.left = TreeNode(15)\n",
    "root.right.right = TreeNode(7)\n",
    "\n",
    "print(maxDepth(root))"
   ]
  },
  {
   "cell_type": "markdown",
   "id": "a230be4f-1f47-4919-87e3-62fc3f072d97",
   "metadata": {},
   "source": [
    "In this example, we create a binary tree based on the given input `[3,9,20,null,null,15,7]` and calculate its maximum depth, which is `3`. The tree structure is as follows:\n",
    "   ```\n",
    "       3\n",
    "      / \\\n",
    "     9  20\n",
    "       /  \\\n",
    "      15   7\n",
    "   ```\n",
    "\n",
    "So, the maximum depth is the length of the longest path from the root to a leaf node, which is 3 in this case."
   ]
  },
  {
   "cell_type": "code",
   "execution_count": 3,
   "id": "192912fb-9d12-4911-9a4f-bfd37043e11d",
   "metadata": {},
   "outputs": [
    {
     "name": "stdout",
     "output_type": "stream",
     "text": [
      "2\n"
     ]
    }
   ],
   "source": [
    "### Example 2\n",
    "# Input: root = [1,null,2]\n",
    "\n",
    "root = TreeNode(1)\n",
    "root.right = TreeNode(2)\n",
    "\n",
    "# Calculate the maximum depth of the tree and print the result\n",
    "print(maxDepth(root))"
   ]
  },
  {
   "cell_type": "markdown",
   "id": "7d9dd448-c5f5-4192-8aa5-7c70ec7f42e2",
   "metadata": {},
   "source": [
    "Let's analyze the time and space complexity of the provided code:\n",
    "\n",
    "**Time Complexity:**\n",
    "- The time complexity of the `maxDepth` function is $O(N)$, where $N$ is the number of nodes in the binary tree.\n",
    "- This is because in the worst case, the function visits every node exactly once in a depth-first manner.\n",
    "- The recursion explores all nodes of the tree, so the time complexity is linear with respect to the number of nodes.\n",
    "\n",
    "**Space Complexity:**\n",
    "- The space complexity of the `maxDepth` function is $O(H)$, where H is the height of the binary tree.\n",
    "- In the worst case, if the binary tree is completely unbalanced (skewed), the recursion stack can go as deep as the height of the tree.\n",
    "- In the best case, if the binary tree is perfectly balanced, the height is $O(log\\ N)$, where $N$ is the number of nodes.\n",
    "- Therefore, the space complexity can vary from $O(log\\ N)$ to $O(N)$ depending on the shape of the tree.\n",
    "- In addition to the recursion stack, there is a small constant amount of space used for variables and function call overhead.\n",
    "\n",
    "**In summary:**\n",
    "- The time complexity of the code is $O(N)$ as it visits each node once.\n",
    "- The space complexity is $O(H)$, where H is the height of the tree, which can vary from $O(log\\ N)$ to $O(N)$ depending on the tree's shape."
   ]
  }
 ],
 "metadata": {
  "kernelspec": {
   "display_name": "Python (Pyodide)",
   "language": "python",
   "name": "python"
  },
  "language_info": {
   "codemirror_mode": {
    "name": "ipython",
    "version": 3
   },
   "file_extension": ".py",
   "mimetype": "text/x-python",
   "name": "python",
   "nbconvert_exporter": "python",
   "pygments_lexer": "ipython3",
   "version": "3.10.8"
  }
 },
 "nbformat": 4,
 "nbformat_minor": 5
}