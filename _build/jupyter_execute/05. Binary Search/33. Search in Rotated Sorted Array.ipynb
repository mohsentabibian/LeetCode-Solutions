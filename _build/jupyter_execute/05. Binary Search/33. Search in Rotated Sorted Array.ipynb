{
 "cells": [
  {
   "cell_type": "markdown",
   "id": "d6161252-e815-48d5-a2a3-5444c12e3b49",
   "metadata": {},
   "source": [
    "# 33. Search in Rotated Sorted Array\n",
    "\n",
    "**Difficulty:** Medium\n",
    "\n",
    "**Link to Problem:** [To see the Search in Rotated Sorted Array problem on LeetCode, click here!](https://leetcode.com/problems/search-in-rotated-sorted-array/)\n",
    "\n",
    "---\n",
    "\n",
    "There is an integer array `nums` sorted in ascending order (with **distinct** values).\n",
    "\n",
    "Prior to being passed to your function, `nums` is **possibly rotated** at an unknown pivot index `k (1 <= k < nums.length)` such that the resulting array is `[nums[k], nums[k+1], ..., nums[n-1], nums[0], nums[1], ..., nums[k-1]]` (**0-indexed**). For example, `[0,1,2,4,5,6,7]` might be rotated at pivot index 3 and become `[4,5,6,7,0,1,2]`.\n",
    "\n",
    "Given the array `nums` **after** the possible rotation and an integer `target`, return *the index of `target` if it is in `nums`, or `-1` if it is not in `nums`.*\n",
    "\n",
    "You must write an algorithm with $O(log\\ n)$ runtime complexity.\n",
    " \n",
    "\n",
    "**Constraints:**\n",
    "\n",
    "- `1 <= nums.length <= 5000`\n",
    "- $-10^4$ <= `nums[i]` <= $10^4$\n",
    "- All values of `nums` are **unique**.\n",
    "- `nums` is an ascending array that is possibly rotated.\n",
    "- $-10^4$ <= `target` <= $10^4$"
   ]
  },
  {
   "cell_type": "code",
   "execution_count": 1,
   "id": "aabf7095-07dc-4ab7-876c-ec7213ed0de5",
   "metadata": {},
   "outputs": [],
   "source": [
    "def search(nums, target):\n",
    "    left, right = 0, len(nums) - 1\n",
    "\n",
    "    # Find the pivot index using binary search\n",
    "    while left < right:\n",
    "        mid = left + (right - left) // 2\n",
    "\n",
    "        if nums[mid] > nums[right]:\n",
    "            left = mid + 1\n",
    "        else:\n",
    "            right = mid\n",
    "\n",
    "    pivot = left\n",
    "    left, right = 0, len(nums) - 1\n",
    "\n",
    "    # Determine which part of the array to search in\n",
    "    if target >= nums[pivot] and target <= nums[right]:\n",
    "        left = pivot\n",
    "    else:\n",
    "        right = pivot\n",
    "\n",
    "    # Perform binary search to find the target\n",
    "    while left <= right:\n",
    "        mid = left + (right - left) // 2\n",
    "\n",
    "        if nums[mid] == target:\n",
    "            return mid\n",
    "        elif nums[mid] < target:\n",
    "            left = mid + 1\n",
    "        else:\n",
    "            right = mid - 1\n",
    "\n",
    "    return -1"
   ]
  },
  {
   "cell_type": "markdown",
   "id": "ece39324-cd9e-47d7-8677-a001878494d9",
   "metadata": {},
   "source": [
    "## Explanation:\n",
    "\n",
    "1. The `search` function takes two arguments: `nums`, which is the rotated sorted array, and `target`, which is the value we want to find in the array.\n",
    "\n",
    "2. We initialize two pointers, `left` and `right`, which represent the range in which we are going to perform binary search. Initially, `left` is set to 0, and `right` is set to the index of the last element in the array (`len(nums) - 1`).\n",
    "\n",
    "3. We start by finding the pivot index using binary search. The pivot index is the index at which the array is rotated. We use a `while` loop to continue the search until `left` is less than `right`.\n",
    "\n",
    "4. Inside the loop, we calculate the middle index `mid` using integer division. We then compare the value at `mid` with the value at `right`. If `nums[mid]` is greater than `nums[right]`, it means the pivot point lies to the right of `mid`, so we update `left` to `mid + 1`. Otherwise, the pivot point lies to the left of `mid`, so we update `right` to `mid`. This process continues until we find the pivot index.\n",
    "\n",
    "5. After finding the pivot index, we have divided the array into two parts: one part is sorted in ascending order, and the other part is also sorted in ascending order but rotated. We need to determine which part of the array contains the target value.\n",
    "\n",
    "6. We reset `left` and `right` pointers. If the target value is within the range `[nums[pivot], nums[right]]`, we set `left` to `pivot` (the start of the rotated part), indicating that we should search in the rotated part. Otherwise, we set `right` to `pivot` (the end of the sorted part), indicating that we should search in the sorted part.\n",
    "\n",
    "7. We then perform binary search again within the chosen range (`left` to `right`) to find the target element. The binary search continues until `left` is less than or equal to `right`.\n",
    "\n",
    "8. Inside the binary search loop, we calculate the middle index `mid` and compare `nums[mid]` with the target value. If they are equal, we return `mid` as the index of the target element. If `nums[mid]` is less than the target, we update `left` to `mid + 1` to search in the right half. If `nums[mid]` is greater than the target, we update `right` to `mid - 1` to search in the left half.\n",
    "\n",
    "9. If we exit the binary search loop without finding the target, we return -1 to indicate that the target is not present in the array."
   ]
  },
  {
   "cell_type": "markdown",
   "id": "a54ea5b7-c53f-46c0-a44f-ef769ac68244",
   "metadata": {},
   "source": [
    "## Test cases"
   ]
  },
  {
   "cell_type": "code",
   "execution_count": 2,
   "id": "355f5bfd-94e1-4c5b-9914-cc20775f4160",
   "metadata": {},
   "outputs": [
    {
     "name": "stdout",
     "output_type": "stream",
     "text": [
      "4\n"
     ]
    }
   ],
   "source": [
    "nums1 = [4, 5, 6, 7, 0, 1, 2]\n",
    "target1 = 0\n",
    "result1 = search(nums1, target1)\n",
    "print(result1) "
   ]
  },
  {
   "cell_type": "code",
   "execution_count": 3,
   "id": "192912fb-9d12-4911-9a4f-bfd37043e11d",
   "metadata": {},
   "outputs": [
    {
     "name": "stdout",
     "output_type": "stream",
     "text": [
      "-1\n"
     ]
    }
   ],
   "source": [
    "# Example 2:\n",
    "nums2 = [4, 5, 6, 7, 0, 1, 2]\n",
    "target2 = 3\n",
    "result2 = search(nums2, target2)\n",
    "print(result2) "
   ]
  },
  {
   "cell_type": "code",
   "execution_count": 4,
   "id": "6c69a707-02af-4212-b2e7-1881d62a62d2",
   "metadata": {},
   "outputs": [
    {
     "name": "stdout",
     "output_type": "stream",
     "text": [
      "-1\n"
     ]
    }
   ],
   "source": [
    "# Example 3:\n",
    "nums3 = [1]\n",
    "target3 = 0\n",
    "result3 = search(nums3, target3)\n",
    "print(result3) "
   ]
  },
  {
   "cell_type": "markdown",
   "id": "7d9dd448-c5f5-4192-8aa5-7c70ec7f42e2",
   "metadata": {},
   "source": [
    "Let's analyze the time and space complexity of the provided code:\n",
    "\n",
    "**Time Complexity:**\n",
    "\n",
    "1. Finding the pivot index using binary search takes $O(log\\ n)$ time, where '$n$' is the number of elements in the array.\n",
    "2. After finding the pivot index, performing binary search to find the target element also takes $O(log\\ n)$ time in the worst case.\n",
    "\n",
    "The dominant factor in the time complexity is the binary search, and since we perform two binary searches sequentially, the overall time complexity of the code is $O(log\\ n)$.\n",
    "\n",
    "**Space Complexity:**\n",
    "\n",
    "The space complexity of the code is very minimal:\n",
    "\n",
    "1. We use a constant amount of additional space for variables such as `left`, `right`, `pivot`, and `mid`. These variables do not depend on the input size, so they contribute $O(1)$ space complexity.\n",
    "2. The function does not use any additional data structures that scale with the input size.\n",
    "\n",
    "Therefore, the space complexity of the code is $O(1)$, which means it has a constant space complexity and does not depend on the size of the input array.\n",
    "\n",
    "**In summary:**\n",
    "- Time Complexity: $O(log\\ n)$\n",
    "- Space Complexity: $O(1)$"
   ]
  },
  {
   "cell_type": "markdown",
   "id": "037b210a-555b-4da3-8130-b74d1e4f33f6",
   "metadata": {},
   "source": [
    "## Challenging Exercises:\n",
    "\n",
    "1. **Find Minimum Element in Rotated Sorted Array**: Write an algorithm to find the minimum element in a rotated sorted array. This is a variation of the problem where you don't need to search for a target value but instead find the smallest element.\n",
    "\n",
    "2. **Search in a Circularly Sorted Array**: Consider an array that is sorted in a circular manner (e.g., [4, 5, 6, 7, 0, 1, 2, 3]). Adapt the search algorithm to work for circularly sorted arrays while maintaining $O(log\\ n)$ complexity."
   ]
  }
 ],
 "metadata": {
  "kernelspec": {
   "display_name": "Python (Pyodide)",
   "language": "python",
   "name": "python"
  },
  "language_info": {
   "codemirror_mode": {
    "name": "ipython",
    "version": 3
   },
   "file_extension": ".py",
   "mimetype": "text/x-python",
   "name": "python",
   "nbconvert_exporter": "python",
   "pygments_lexer": "ipython3",
   "version": "3.10.8"
  }
 },
 "nbformat": 4,
 "nbformat_minor": 5
}