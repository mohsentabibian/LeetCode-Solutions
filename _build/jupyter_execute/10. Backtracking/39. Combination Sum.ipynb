{
 "cells": [
  {
   "cell_type": "markdown",
   "id": "d6161252-e815-48d5-a2a3-5444c12e3b49",
   "metadata": {
    "jp-MarkdownHeadingCollapsed": true
   },
   "source": [
    "# 39. Combination Sum\n",
    "\n",
    "**Difficulty:** Medium\n",
    "\n",
    "**Link to Problem:** [To see the Combination Sum problem on LeetCode, click here!](https://leetcode.com/problems/combination-sum/)\n",
    "\n",
    "---\n",
    "Given an array of **distinct** integers `candidates` and a target integer `target`, return *a list of all **unique combinations** of `candidates` where the chosen numbers sum to the `target`*. You may return the combinations in **any order**. \n",
    "\n",
    "The **same** number may be chosen from `candidates` an **unlimited number** of times. Two combinations are unique if the **frequency** of at least one of the chosen numbers is different.\n",
    "\n",
    "The test cases are generated such that the number of unique combinations that sum up to `target` is less than `150` combinations for the given input.\n",
    "\n",
    "**Constraints:**\n",
    "- `1 <= candidates.length <= 30`\n",
    "- `2 <= candidates[i] <= 40`\n",
    "- All elements of `candidates` are **distinct**.\n",
    "- `1 <= target <= 40`"
   ]
  },
  {
   "cell_type": "markdown",
   "id": "fe9e71ae-2099-4eb9-b7a1-ec795ce92c76",
   "metadata": {},
   "source": [
    "## Probelm Explanation:\n",
    "\n",
    "The problem is to find all unique combinations of numbers from a given array (candidates) such that their sum equals a target number. Here are the details of the problem:\n",
    "\n",
    "- You are given an array of distinct integers called \"candidates.\"\n",
    "- You are also given a target integer called \"target.\"\n",
    "\n",
    "The goal is to find all unique combinations of numbers from the candidates array where the sum of the selected numbers is equal to the target. You can use the same number from the candidates array an unlimited number of times. A combination is considered unique if it has a different frequency (i.e., a different number of occurrences) of at least one chosen number compared to other combinations.\n",
    "\n",
    "For example:\n",
    "\n",
    "**Example 1:**\n",
    "```python\n",
    "Input: candidates = [2, 3, 6, 7], target = 7\n",
    "Output: [[2, 2, 3], [7]]\n",
    "```\n",
    "In this example, there are two unique combinations that sum up to the target:\n",
    "- 2 + 2 + 3 = 7\n",
    "- 7 = 7\n",
    "\n",
    "**Example 2:**\n",
    "```python\n",
    "Input: candidates = [2, 3, 5], target = 8\n",
    "Output: [[2, 2, 2, 2], [2, 3, 3], [3, 5]]\n",
    "```\n",
    "Here, there are three unique combinations that sum up to the target.\n",
    "\n",
    "**Example 3:**\n",
    "```python\n",
    "Input: candidates = [2], target = 1\n",
    "Output: []\n",
    "```\n",
    "In this case, there are no combinations that can be formed from the candidates to reach the target of 1, so the output is an empty list.\n",
    "\n",
    "The problem asks you to find and return these combinations in any order.\n",
    "\n",
    "The constraints for this problem include the length of the candidates array, the values of candidates, and the target value.\n",
    "\n",
    "## Solution:\n",
    "Here's a Python function to implement this algorithm:"
   ]
  },
  {
   "cell_type": "code",
   "execution_count": 1,
   "id": "aabf7095-07dc-4ab7-876c-ec7213ed0de5",
   "metadata": {},
   "outputs": [],
   "source": [
    "def combinationSum(candidates, target):\n",
    "    # Define a recursive DFS function to find combinations\n",
    "    def dfs(remaining, start, path):\n",
    "        # If the remaining target is 0, we found a valid combination\n",
    "        if remaining == 0:\n",
    "            result.append(path)\n",
    "            return\n",
    "        # If the remaining target is negative, this path is invalid\n",
    "        if remaining < 0:\n",
    "            return\n",
    "        # Iterate through candidates starting from 'start' to avoid duplicates\n",
    "        for i in range(start, len(candidates)):\n",
    "            # Explore the current candidate by subtracting it from the remaining target\n",
    "            # Add the current candidate to the path\n",
    "            dfs(remaining - candidates[i], i, path + [candidates[i]])\n",
    "\n",
    "    result = []  # Initialize an empty list to store the result\n",
    "    candidates.sort()  # Sort the candidates for deduplication and early stopping\n",
    "    dfs(target, 0, [])  # Start the DFS from the target value with an empty path\n",
    "    return result  # Return the list of unique combinations"
   ]
  },
  {
   "cell_type": "markdown",
   "id": "ece39324-cd9e-47d7-8677-a001878494d9",
   "metadata": {},
   "source": [
    "## Explanation:\n",
    "\n",
    "The `combinationSum` function takes an array of distinct integers `candidates` and a target integer `target`. It returns a list of all unique combinations of `candidates` where the chosen numbers sum to the `target`. Each number in the `candidates` array can be used an unlimited number of times.\n",
    "\n",
    "Here's an overview of how the code works:\n",
    "\n",
    "1. The `combinationSum` function is defined, and it takes two arguments: `candidates` and `target`.\n",
    "\n",
    "2. Inside the function, there is a nested helper function called `backtrack`. This function is responsible for the actual combination generation using a recursive approach.\n",
    "\n",
    "3. The `backtrack` function is called with three arguments: `start`, `target`, and `path`. The `start` variable helps keep track of the current index in the `candidates` array, `target` keeps track of the remaining sum to be achieved, and `path` is a list that stores the current combination.\n",
    "\n",
    "4. Within the `backtrack` function, there are three main conditional statements:\n",
    "   - If `target` becomes zero, it means we have found a combination that sums up to the target, so we add `path` to the `result` list.\n",
    "   - If `target` becomes negative, it means the current combination doesn't work, so we return without doing anything.\n",
    "   - Otherwise, we enter a loop that iterates over the `candidates` array, starting from the current index `start`.\n",
    "\n",
    "5. In the loop, the `backtrack` function is called recursively with the updated `target` and `path` after including the current candidate. This process explores different combinations by considering the current candidate or moving to the next candidate.\n",
    "\n",
    "6. After the loop completes, the `result` list contains all unique combinations that sum to the target.\n",
    "\n",
    "7. The `candidates` array is sorted to optimize the search. Sorting helps in avoiding unnecessary recursive branches and reduces the number of explored combinations.\n",
    "\n",
    "8. Finally, the `backtrack` function is initially called from the `combinationSum` function with `start` set to 0, `target` set to the original target value, and an empty `path`. The result is returned as a list of unique combinations.\n",
    "\n",
    "The code includes a few example cases to demonstrate how the function works with different inputs."
   ]
  },
  {
   "cell_type": "markdown",
   "id": "a54ea5b7-c53f-46c0-a44f-ef769ac68244",
   "metadata": {},
   "source": [
    "## Test cases:\n",
    "\n",
    "Here's how you can use this solution:"
   ]
  },
  {
   "cell_type": "code",
   "execution_count": 2,
   "id": "355f5bfd-94e1-4c5b-9914-cc20775f4160",
   "metadata": {},
   "outputs": [
    {
     "name": "stdout",
     "output_type": "stream",
     "text": [
      "[[2, 2, 3], [7]]\n"
     ]
    }
   ],
   "source": [
    "# Example 1: \n",
    "\n",
    "# Example 1\n",
    "candidates1 = [2, 3, 6, 7]\n",
    "target1 = 7\n",
    "print(combinationSum(candidates1, target1))  # Output: [[2, 2, 3], [7]]"
   ]
  },
  {
   "cell_type": "code",
   "execution_count": 3,
   "id": "364aa061-a452-45eb-96db-36f7dbdbdcb3",
   "metadata": {},
   "outputs": [
    {
     "name": "stdout",
     "output_type": "stream",
     "text": [
      "[[2, 2, 2, 2], [2, 3, 3], [3, 5]]\n"
     ]
    }
   ],
   "source": [
    "# Example 2\n",
    "candidates2 = [2, 3, 5]\n",
    "target2 = 8\n",
    "print(combinationSum(candidates2, target2))  # Output: [[2, 2, 2, 2], [2, 3, 3], [3, 5]]"
   ]
  },
  {
   "cell_type": "code",
   "execution_count": 4,
   "id": "b5fca8ab-8c98-45b1-b44b-0503309121c9",
   "metadata": {},
   "outputs": [
    {
     "name": "stdout",
     "output_type": "stream",
     "text": [
      "[]\n"
     ]
    }
   ],
   "source": [
    "# Example 3\n",
    "candidates3 = [2]\n",
    "target3 = 1\n",
    "print(combinationSum(candidates3, target3))  # Output: []"
   ]
  },
  {
   "cell_type": "markdown",
   "id": "7d9dd448-c5f5-4192-8aa5-7c70ec7f42e2",
   "metadata": {},
   "source": [
    "## Time and Space Complexity Analysis\n",
    "\n",
    "Let's analyze the time and space complexity of the `combinationSum` function.\n",
    "\n",
    "**Time Complexity:**\n",
    "The time complexity of this function is influenced by the number of recursive calls made by the `backtrack` function and the amount of work done within each call. In the worst case, the function will explore all possible combinations.\n",
    "\n",
    "The worst-case scenario occurs when we have many combinations to reach the target. The time complexity can be expressed as $O(2^n)$, where 'n' is the maximum number of recursive calls. In this context, 'n' corresponds to the number of elements in the `candidates` list, and it may be up to 30 (as per the constraints). However, the actual number of combinations explored is generally much smaller because we eliminate branches when the target becomes negative, and we skip over candidates that cannot lead to a solution. The sorting step also helps to optimize the search.\n",
    "\n",
    "**Space Complexity:**\n",
    "The space complexity is determined by the auxiliary space used for storing the results and the stack space for the recursive calls.\n",
    "\n",
    "1. The space required for the `result` list can be up to $O(2^n)$ in the worst case because each combination is stored.\n",
    "\n",
    "2. The stack space for the recursive calls can also be up to O(n) in the worst case, where 'n' is the number of elements in the `candidates` list.\n",
    "\n",
    "Therefore, the overall space complexity of the function is $O(2^n + n)$. However, in practice, the space used for the results list is often the dominant factor, and the actual space used may be much smaller than 2^n because not all combinations are explored.\n",
    "\n",
    "In summary, the time complexity is exponential but typically smaller in practice due to optimization, and the space complexity is influenced by the number of results and the depth of the recursion."
   ]
  },
  {
   "cell_type": "markdown",
   "id": "037b210a-555b-4da3-8130-b74d1e4f33f6",
   "metadata": {},
   "source": [
    "## Challenging Exercises:\n",
    "\n",
    "1. **Find the Number of Unique Combinations:** Instead of listing all unique combinations, modify the function to return the count of unique combinations that sum to the target.\n",
    "\n",
    "2. **Combinations with a Maximum Value:** Add a maximum value constraint for each combination, so they cannot exceed a certain value. Modify the code to find combinations respecting this constraint."
   ]
  }
 ],
 "metadata": {
  "kernelspec": {
   "display_name": "Python (Pyodide)",
   "language": "python",
   "name": "python"
  },
  "language_info": {
   "codemirror_mode": {
    "name": "ipython",
    "version": 3
   },
   "file_extension": ".py",
   "mimetype": "text/x-python",
   "name": "python",
   "nbconvert_exporter": "python",
   "pygments_lexer": "ipython3",
   "version": "3.10.8"
  }
 },
 "nbformat": 4,
 "nbformat_minor": 5
}