{
 "cells": [
  {
   "cell_type": "code",
   "execution_count": 1,
   "metadata": {},
   "outputs": [
    {
     "name": "stdout",
     "output_type": "stream",
     "text": [
      "Requirement already satisfied: pip in /usr/local/python/3.10.8/lib/python3.10/site-packages (23.3.1)\r\n"
     ]
    },
    {
     "name": "stdout",
     "output_type": "stream",
     "text": [
      "Requirement already satisfied: jupyter-book in /usr/local/python/3.10.8/lib/python3.10/site-packages (0.15.1)\r\n"
     ]
    },
    {
     "name": "stdout",
     "output_type": "stream",
     "text": [
      "Requirement already satisfied: click<9,>=7.1 in /usr/local/python/3.10.8/lib/python3.10/site-packages (from jupyter-book) (8.1.7)\r\n",
      "Requirement already satisfied: docutils<0.19,>=0.15 in /usr/local/python/3.10.8/lib/python3.10/site-packages (from jupyter-book) (0.18.1)\r\n",
      "Requirement already satisfied: Jinja2 in /home/codespace/.local/lib/python3.10/site-packages (from jupyter-book) (3.1.2)\r\n",
      "Requirement already satisfied: jsonschema<5 in /home/codespace/.local/lib/python3.10/site-packages (from jupyter-book) (4.19.1)\r\n",
      "Requirement already satisfied: linkify-it-py~=2.0.0 in /usr/local/python/3.10.8/lib/python3.10/site-packages (from jupyter-book) (2.0.2)\r\n",
      "Requirement already satisfied: myst-nb~=0.17.1 in /usr/local/python/3.10.8/lib/python3.10/site-packages (from jupyter-book) (0.17.2)\r\n",
      "Requirement already satisfied: pyyaml in /home/codespace/.local/lib/python3.10/site-packages (from jupyter-book) (6.0.1)\r\n",
      "Requirement already satisfied: sphinx<6,>=4 in /usr/local/python/3.10.8/lib/python3.10/site-packages (from jupyter-book) (5.0.2)\r\n",
      "Requirement already satisfied: sphinx-comments in /usr/local/python/3.10.8/lib/python3.10/site-packages (from jupyter-book) (0.0.3)\r\n",
      "Requirement already satisfied: sphinx-copybutton in /usr/local/python/3.10.8/lib/python3.10/site-packages (from jupyter-book) (0.5.2)\r\n",
      "Requirement already satisfied: sphinx-external-toc~=0.3.1 in /usr/local/python/3.10.8/lib/python3.10/site-packages (from jupyter-book) (0.3.1)\r\n",
      "Requirement already satisfied: sphinx-jupyterbook-latex~=0.5.2 in /usr/local/python/3.10.8/lib/python3.10/site-packages (from jupyter-book) (0.5.2)\r\n",
      "Requirement already satisfied: sphinx-design~=0.3.0 in /usr/local/python/3.10.8/lib/python3.10/site-packages (from jupyter-book) (0.3.0)\r\n",
      "Requirement already satisfied: sphinx-thebe~=0.2.0 in /usr/local/python/3.10.8/lib/python3.10/site-packages (from jupyter-book) (0.2.1)\r\n",
      "Requirement already satisfied: sphinx-book-theme~=1.0.0 in /usr/local/python/3.10.8/lib/python3.10/site-packages (from jupyter-book) (1.0.1)\r\n",
      "Requirement already satisfied: sphinx_togglebutton in /usr/local/python/3.10.8/lib/python3.10/site-packages (from jupyter-book) (0.3.2)\r\n",
      "Requirement already satisfied: sphinxcontrib-bibtex<=2.5.0,>=2.2.0 in /usr/local/python/3.10.8/lib/python3.10/site-packages (from jupyter-book) (2.5.0)\r\n",
      "Requirement already satisfied: sphinx-multitoc-numbering~=0.1.3 in /usr/local/python/3.10.8/lib/python3.10/site-packages (from jupyter-book) (0.1.3)\r\n"
     ]
    },
    {
     "name": "stdout",
     "output_type": "stream",
     "text": [
      "Requirement already satisfied: attrs>=22.2.0 in /home/codespace/.local/lib/python3.10/site-packages (from jsonschema<5->jupyter-book) (23.1.0)\r\n",
      "Requirement already satisfied: jsonschema-specifications>=2023.03.6 in /home/codespace/.local/lib/python3.10/site-packages (from jsonschema<5->jupyter-book) (2023.7.1)\r\n",
      "Requirement already satisfied: referencing>=0.28.4 in /home/codespace/.local/lib/python3.10/site-packages (from jsonschema<5->jupyter-book) (0.30.2)\r\n",
      "Requirement already satisfied: rpds-py>=0.7.1 in /home/codespace/.local/lib/python3.10/site-packages (from jsonschema<5->jupyter-book) (0.10.6)\r\n",
      "Requirement already satisfied: uc-micro-py in /usr/local/python/3.10.8/lib/python3.10/site-packages (from linkify-it-py~=2.0.0->jupyter-book) (1.0.2)\r\n"
     ]
    },
    {
     "name": "stdout",
     "output_type": "stream",
     "text": [
      "Requirement already satisfied: importlib_metadata in /usr/local/python/3.10.8/lib/python3.10/site-packages (from myst-nb~=0.17.1->jupyter-book) (6.8.0)\r\n",
      "Requirement already satisfied: ipython in /home/codespace/.local/lib/python3.10/site-packages (from myst-nb~=0.17.1->jupyter-book) (8.16.1)\r\n",
      "Requirement already satisfied: jupyter-cache<0.7,>=0.5 in /usr/local/python/3.10.8/lib/python3.10/site-packages (from myst-nb~=0.17.1->jupyter-book) (0.6.1)\r\n",
      "Requirement already satisfied: nbclient in /usr/local/python/3.10.8/lib/python3.10/site-packages (from myst-nb~=0.17.1->jupyter-book) (0.7.4)\r\n",
      "Requirement already satisfied: myst-parser~=0.18.0 in /usr/local/python/3.10.8/lib/python3.10/site-packages (from myst-nb~=0.17.1->jupyter-book) (0.18.1)\r\n",
      "Requirement already satisfied: nbformat~=5.0 in /home/codespace/.local/lib/python3.10/site-packages (from myst-nb~=0.17.1->jupyter-book) (5.9.2)\r\n",
      "Requirement already satisfied: typing-extensions in /home/codespace/.local/lib/python3.10/site-packages (from myst-nb~=0.17.1->jupyter-book) (4.8.0)\r\n",
      "Requirement already satisfied: ipykernel in /home/codespace/.local/lib/python3.10/site-packages (from myst-nb~=0.17.1->jupyter-book) (6.25.2)\r\n"
     ]
    },
    {
     "name": "stdout",
     "output_type": "stream",
     "text": [
      "Requirement already satisfied: sphinxcontrib-applehelp in /usr/local/python/3.10.8/lib/python3.10/site-packages (from sphinx<6,>=4->jupyter-book) (1.0.7)\r\n",
      "Requirement already satisfied: sphinxcontrib-devhelp in /usr/local/python/3.10.8/lib/python3.10/site-packages (from sphinx<6,>=4->jupyter-book) (1.0.5)\r\n",
      "Requirement already satisfied: sphinxcontrib-jsmath in /usr/local/python/3.10.8/lib/python3.10/site-packages (from sphinx<6,>=4->jupyter-book) (1.0.1)\r\n",
      "Requirement already satisfied: sphinxcontrib-htmlhelp>=2.0.0 in /usr/local/python/3.10.8/lib/python3.10/site-packages (from sphinx<6,>=4->jupyter-book) (2.0.4)\r\n",
      "Requirement already satisfied: sphinxcontrib-serializinghtml>=1.1.5 in /usr/local/python/3.10.8/lib/python3.10/site-packages (from sphinx<6,>=4->jupyter-book) (1.1.9)\r\n",
      "Requirement already satisfied: sphinxcontrib-qthelp in /usr/local/python/3.10.8/lib/python3.10/site-packages (from sphinx<6,>=4->jupyter-book) (1.0.6)\r\n",
      "Requirement already satisfied: Pygments>=2.0 in /home/codespace/.local/lib/python3.10/site-packages (from sphinx<6,>=4->jupyter-book) (2.16.1)\r\n",
      "Requirement already satisfied: snowballstemmer>=1.1 in /usr/local/python/3.10.8/lib/python3.10/site-packages (from sphinx<6,>=4->jupyter-book) (2.2.0)\r\n",
      "Requirement already satisfied: babel>=1.3 in /home/codespace/.local/lib/python3.10/site-packages (from sphinx<6,>=4->jupyter-book) (2.13.0)\r\n",
      "Requirement already satisfied: alabaster<0.8,>=0.7 in /usr/local/python/3.10.8/lib/python3.10/site-packages (from sphinx<6,>=4->jupyter-book) (0.7.13)\r\n",
      "Requirement already satisfied: imagesize in /usr/local/python/3.10.8/lib/python3.10/site-packages (from sphinx<6,>=4->jupyter-book) (1.4.1)\r\n",
      "Requirement already satisfied: requests>=2.5.0 in /home/codespace/.local/lib/python3.10/site-packages (from sphinx<6,>=4->jupyter-book) (2.31.0)\r\n",
      "Requirement already satisfied: packaging in /home/codespace/.local/lib/python3.10/site-packages (from sphinx<6,>=4->jupyter-book) (23.2)\r\n",
      "Requirement already satisfied: MarkupSafe>=2.0 in /home/codespace/.local/lib/python3.10/site-packages (from Jinja2->jupyter-book) (2.1.3)\r\n"
     ]
    },
    {
     "name": "stdout",
     "output_type": "stream",
     "text": [
      "Requirement already satisfied: pydata-sphinx-theme>=0.13.3 in /usr/local/python/3.10.8/lib/python3.10/site-packages (from sphinx-book-theme~=1.0.0->jupyter-book) (0.14.3)\r\n"
     ]
    },
    {
     "name": "stdout",
     "output_type": "stream",
     "text": [
      "Requirement already satisfied: pybtex>=0.24 in /usr/local/python/3.10.8/lib/python3.10/site-packages (from sphinxcontrib-bibtex<=2.5.0,>=2.2.0->jupyter-book) (0.24.0)\r\n",
      "Requirement already satisfied: pybtex-docutils>=1.0.0 in /usr/local/python/3.10.8/lib/python3.10/site-packages (from sphinxcontrib-bibtex<=2.5.0,>=2.2.0->jupyter-book) (1.0.3)\r\n"
     ]
    },
    {
     "name": "stdout",
     "output_type": "stream",
     "text": [
      "Requirement already satisfied: setuptools in /usr/local/python/3.10.8/lib/python3.10/site-packages (from sphinx_togglebutton->jupyter-book) (68.0.0)\r\n",
      "Requirement already satisfied: wheel in /usr/local/python/3.10.8/lib/python3.10/site-packages (from sphinx_togglebutton->jupyter-book) (0.41.3)\r\n"
     ]
    },
    {
     "name": "stdout",
     "output_type": "stream",
     "text": [
      "Requirement already satisfied: sqlalchemy<3,>=1.3.12 in /usr/local/python/3.10.8/lib/python3.10/site-packages (from jupyter-cache<0.7,>=0.5->myst-nb~=0.17.1->jupyter-book) (2.0.23)\r\n",
      "Requirement already satisfied: tabulate in /usr/local/python/3.10.8/lib/python3.10/site-packages (from jupyter-cache<0.7,>=0.5->myst-nb~=0.17.1->jupyter-book) (0.9.0)\r\n"
     ]
    },
    {
     "name": "stdout",
     "output_type": "stream",
     "text": [
      "Requirement already satisfied: markdown-it-py<3.0.0,>=1.0.0 in /usr/local/python/3.10.8/lib/python3.10/site-packages (from myst-parser~=0.18.0->myst-nb~=0.17.1->jupyter-book) (2.2.0)\r\n",
      "Requirement already satisfied: mdit-py-plugins~=0.3.1 in /usr/local/python/3.10.8/lib/python3.10/site-packages (from myst-parser~=0.18.0->myst-nb~=0.17.1->jupyter-book) (0.3.5)\r\n",
      "Requirement already satisfied: jupyter-client>=6.1.12 in /home/codespace/.local/lib/python3.10/site-packages (from nbclient->myst-nb~=0.17.1->jupyter-book) (8.4.0)\r\n",
      "Requirement already satisfied: jupyter-core!=5.0.*,>=4.12 in /home/codespace/.local/lib/python3.10/site-packages (from nbclient->myst-nb~=0.17.1->jupyter-book) (5.4.0)\r\n",
      "Requirement already satisfied: traitlets>=5.3 in /home/codespace/.local/lib/python3.10/site-packages (from nbclient->myst-nb~=0.17.1->jupyter-book) (5.11.2)\r\n"
     ]
    },
    {
     "name": "stdout",
     "output_type": "stream",
     "text": [
      "Requirement already satisfied: fastjsonschema in /home/codespace/.local/lib/python3.10/site-packages (from nbformat~=5.0->myst-nb~=0.17.1->jupyter-book) (2.18.1)\r\n",
      "Requirement already satisfied: latexcodec>=1.0.4 in /usr/local/python/3.10.8/lib/python3.10/site-packages (from pybtex>=0.24->sphinxcontrib-bibtex<=2.5.0,>=2.2.0->jupyter-book) (2.0.1)\r\n",
      "Requirement already satisfied: six in /home/codespace/.local/lib/python3.10/site-packages (from pybtex>=0.24->sphinxcontrib-bibtex<=2.5.0,>=2.2.0->jupyter-book) (1.16.0)\r\n",
      "Requirement already satisfied: beautifulsoup4 in /home/codespace/.local/lib/python3.10/site-packages (from pydata-sphinx-theme>=0.13.3->sphinx-book-theme~=1.0.0->jupyter-book) (4.12.2)\r\n",
      "Requirement already satisfied: accessible-pygments in /usr/local/python/3.10.8/lib/python3.10/site-packages (from pydata-sphinx-theme>=0.13.3->sphinx-book-theme~=1.0.0->jupyter-book) (0.0.4)\r\n"
     ]
    },
    {
     "name": "stdout",
     "output_type": "stream",
     "text": [
      "Requirement already satisfied: charset-normalizer<4,>=2 in /home/codespace/.local/lib/python3.10/site-packages (from requests>=2.5.0->sphinx<6,>=4->jupyter-book) (3.3.0)\r\n",
      "Requirement already satisfied: idna<4,>=2.5 in /home/codespace/.local/lib/python3.10/site-packages (from requests>=2.5.0->sphinx<6,>=4->jupyter-book) (3.4)\r\n",
      "Requirement already satisfied: urllib3<3,>=1.21.1 in /usr/local/python/3.10.8/lib/python3.10/site-packages (from requests>=2.5.0->sphinx<6,>=4->jupyter-book) (1.26.18)\r\n",
      "Requirement already satisfied: certifi>=2017.4.17 in /home/codespace/.local/lib/python3.10/site-packages (from requests>=2.5.0->sphinx<6,>=4->jupyter-book) (2023.7.22)\r\n"
     ]
    },
    {
     "name": "stdout",
     "output_type": "stream",
     "text": [
      "Requirement already satisfied: zipp>=0.5 in /usr/local/python/3.10.8/lib/python3.10/site-packages (from importlib_metadata->myst-nb~=0.17.1->jupyter-book) (3.17.0)\r\n"
     ]
    },
    {
     "name": "stdout",
     "output_type": "stream",
     "text": [
      "Requirement already satisfied: comm>=0.1.1 in /home/codespace/.local/lib/python3.10/site-packages (from ipykernel->myst-nb~=0.17.1->jupyter-book) (0.1.4)\r\n",
      "Requirement already satisfied: debugpy>=1.6.5 in /home/codespace/.local/lib/python3.10/site-packages (from ipykernel->myst-nb~=0.17.1->jupyter-book) (1.8.0)\r\n",
      "Requirement already satisfied: matplotlib-inline>=0.1 in /home/codespace/.local/lib/python3.10/site-packages (from ipykernel->myst-nb~=0.17.1->jupyter-book) (0.1.6)\r\n",
      "Requirement already satisfied: nest-asyncio in /home/codespace/.local/lib/python3.10/site-packages (from ipykernel->myst-nb~=0.17.1->jupyter-book) (1.5.8)\r\n",
      "Requirement already satisfied: psutil in /home/codespace/.local/lib/python3.10/site-packages (from ipykernel->myst-nb~=0.17.1->jupyter-book) (5.9.6)\r\n",
      "Requirement already satisfied: pyzmq>=20 in /home/codespace/.local/lib/python3.10/site-packages (from ipykernel->myst-nb~=0.17.1->jupyter-book) (25.1.1)\r\n",
      "Requirement already satisfied: tornado>=6.1 in /home/codespace/.local/lib/python3.10/site-packages (from ipykernel->myst-nb~=0.17.1->jupyter-book) (6.3.3)\r\n"
     ]
    },
    {
     "name": "stdout",
     "output_type": "stream",
     "text": [
      "Requirement already satisfied: backcall in /home/codespace/.local/lib/python3.10/site-packages (from ipython->myst-nb~=0.17.1->jupyter-book) (0.2.0)\r\n",
      "Requirement already satisfied: decorator in /home/codespace/.local/lib/python3.10/site-packages (from ipython->myst-nb~=0.17.1->jupyter-book) (5.1.1)\r\n",
      "Requirement already satisfied: jedi>=0.16 in /home/codespace/.local/lib/python3.10/site-packages (from ipython->myst-nb~=0.17.1->jupyter-book) (0.19.1)\r\n",
      "Requirement already satisfied: pickleshare in /home/codespace/.local/lib/python3.10/site-packages (from ipython->myst-nb~=0.17.1->jupyter-book) (0.7.5)\r\n",
      "Requirement already satisfied: prompt-toolkit!=3.0.37,<3.1.0,>=3.0.30 in /home/codespace/.local/lib/python3.10/site-packages (from ipython->myst-nb~=0.17.1->jupyter-book) (3.0.39)\r\n",
      "Requirement already satisfied: stack-data in /home/codespace/.local/lib/python3.10/site-packages (from ipython->myst-nb~=0.17.1->jupyter-book) (0.6.3)\r\n",
      "Requirement already satisfied: exceptiongroup in /home/codespace/.local/lib/python3.10/site-packages (from ipython->myst-nb~=0.17.1->jupyter-book) (1.1.3)\r\n",
      "Requirement already satisfied: pexpect>4.3 in /home/codespace/.local/lib/python3.10/site-packages (from ipython->myst-nb~=0.17.1->jupyter-book) (4.8.0)\r\n"
     ]
    },
    {
     "name": "stdout",
     "output_type": "stream",
     "text": [
      "Requirement already satisfied: parso<0.9.0,>=0.8.3 in /home/codespace/.local/lib/python3.10/site-packages (from jedi>=0.16->ipython->myst-nb~=0.17.1->jupyter-book) (0.8.3)\r\n"
     ]
    },
    {
     "name": "stdout",
     "output_type": "stream",
     "text": [
      "Requirement already satisfied: python-dateutil>=2.8.2 in /home/codespace/.local/lib/python3.10/site-packages (from jupyter-client>=6.1.12->nbclient->myst-nb~=0.17.1->jupyter-book) (2.8.2)\r\n",
      "Requirement already satisfied: platformdirs>=2.5 in /home/codespace/.local/lib/python3.10/site-packages (from jupyter-core!=5.0.*,>=4.12->nbclient->myst-nb~=0.17.1->jupyter-book) (3.11.0)\r\n"
     ]
    },
    {
     "name": "stdout",
     "output_type": "stream",
     "text": [
      "Requirement already satisfied: mdurl~=0.1 in /usr/local/python/3.10.8/lib/python3.10/site-packages (from markdown-it-py<3.0.0,>=1.0.0->myst-parser~=0.18.0->myst-nb~=0.17.1->jupyter-book) (0.1.2)\r\n",
      "Requirement already satisfied: ptyprocess>=0.5 in /home/codespace/.local/lib/python3.10/site-packages (from pexpect>4.3->ipython->myst-nb~=0.17.1->jupyter-book) (0.7.0)\r\n",
      "Requirement already satisfied: wcwidth in /home/codespace/.local/lib/python3.10/site-packages (from prompt-toolkit!=3.0.37,<3.1.0,>=3.0.30->ipython->myst-nb~=0.17.1->jupyter-book) (0.2.8)\r\n"
     ]
    },
    {
     "name": "stdout",
     "output_type": "stream",
     "text": [
      "Requirement already satisfied: greenlet!=0.4.17 in /usr/local/python/3.10.8/lib/python3.10/site-packages (from sqlalchemy<3,>=1.3.12->jupyter-cache<0.7,>=0.5->myst-nb~=0.17.1->jupyter-book) (3.0.1)\r\n"
     ]
    },
    {
     "name": "stdout",
     "output_type": "stream",
     "text": [
      "Requirement already satisfied: soupsieve>1.2 in /home/codespace/.local/lib/python3.10/site-packages (from beautifulsoup4->pydata-sphinx-theme>=0.13.3->sphinx-book-theme~=1.0.0->jupyter-book) (2.5)\r\n"
     ]
    },
    {
     "name": "stdout",
     "output_type": "stream",
     "text": [
      "Requirement already satisfied: executing>=1.2.0 in /home/codespace/.local/lib/python3.10/site-packages (from stack-data->ipython->myst-nb~=0.17.1->jupyter-book) (2.0.0)\r\n",
      "Requirement already satisfied: asttokens>=2.1.0 in /home/codespace/.local/lib/python3.10/site-packages (from stack-data->ipython->myst-nb~=0.17.1->jupyter-book) (2.4.0)\r\n",
      "Requirement already satisfied: pure-eval in /home/codespace/.local/lib/python3.10/site-packages (from stack-data->ipython->myst-nb~=0.17.1->jupyter-book) (0.2.2)\r\n"
     ]
    },
    {
     "name": "stdout",
     "output_type": "stream",
     "text": [
      "Note: you may need to restart the kernel to use updated packages.\n"
     ]
    },
    {
     "name": "stdout",
     "output_type": "stream",
     "text": [
      "Requirement already satisfied: ghp-import in /usr/local/python/3.10.8/lib/python3.10/site-packages (2.1.0)\r\n",
      "Requirement already satisfied: python-dateutil>=2.8.1 in /home/codespace/.local/lib/python3.10/site-packages (from ghp-import) (2.8.2)\r\n",
      "Requirement already satisfied: six>=1.5 in /home/codespace/.local/lib/python3.10/site-packages (from python-dateutil>=2.8.1->ghp-import) (1.16.0)\r\n"
     ]
    },
    {
     "name": "stdout",
     "output_type": "stream",
     "text": [
      "Note: you may need to restart the kernel to use updated packages.\n"
     ]
    }
   ],
   "source": [
    "!python -m pip install --upgrade pip\n",
    "%pip install jupyter-book\n",
    "%pip install ghp-import"
   ]
  },
  {
   "cell_type": "code",
   "execution_count": 2,
   "metadata": {},
   "outputs": [
    {
     "name": "stdout",
     "output_type": "stream",
     "text": [
      "/workspaces/LeetCode-Solutions\n"
     ]
    }
   ],
   "source": [
    "%cd /workspaces/LeetCode-Solutions"
   ]
  },
  {
   "cell_type": "code",
   "execution_count": 3,
   "metadata": {},
   "outputs": [
    {
     "name": "stdout",
     "output_type": "stream",
     "text": [
      "Traceback (most recent call last):\r\n",
      "  File \"/home/codespace/.python/current/bin/jupyter-book\", line 8, in <module>\r\n",
      "    sys.exit(main())\r\n",
      "  File \"/usr/local/python/3.10.8/lib/python3.10/site-packages/click/core.py\", line 1157, in __call__\r\n",
      "    return self.main(*args, **kwargs)\r\n",
      "  File \"/usr/local/python/3.10.8/lib/python3.10/site-packages/click/core.py\", line 1078, in main\r\n",
      "    rv = self.invoke(ctx)\r\n",
      "  File \"/usr/local/python/3.10.8/lib/python3.10/site-packages/click/core.py\", line 1688, in invoke\r\n",
      "    return _process_result(sub_ctx.command.invoke(sub_ctx))\r\n",
      "  File \"/usr/local/python/3.10.8/lib/python3.10/site-packages/click/core.py\", line 1688, in invoke\r\n",
      "    return _process_result(sub_ctx.command.invoke(sub_ctx))\r\n",
      "  File \"/usr/local/python/3.10.8/lib/python3.10/site-packages/click/core.py\", line 1434, in invoke\r\n",
      "    return ctx.invoke(self.callback, **ctx.params)\r\n",
      "  File \"/usr/local/python/3.10.8/lib/python3.10/site-packages/click/core.py\", line 783, in invoke\r\n",
      "    return __callback(*args, **kwargs)\r\n",
      "  File \"/usr/local/python/3.10.8/lib/python3.10/site-packages/sphinx_external_toc/cli.py\", line 139, in migrate_toc\r\n",
      "    toc = migrate_jupyter_book(Path(toc_file))\r\n",
      "  File \"/usr/local/python/3.10.8/lib/python3.10/site-packages/sphinx_external_toc/tools.py\", line 327, in migrate_jupyter_book\r\n",
      "    raise MalformedError(\"no top-level 'file' key found\")\r\n",
      "sphinx_external_toc.parsing.MalformedError: no top-level 'file' key found\r\n"
     ]
    }
   ],
   "source": [
    "!jupyter-book toc migrate /workspaces/LeetCode-Solutions/_toc.yml -o /workspaces/LeetCode-Solutions/_toc.yml"
   ]
  },
  {
   "cell_type": "code",
   "execution_count": 4,
   "metadata": {},
   "outputs": [
    {
     "name": "stdout",
     "output_type": "stream",
     "text": [
      "\u001b[32m\u001b[1mRunning Jupyter-Book v0.15.1\u001b[0m\r\n"
     ]
    },
    {
     "name": "stdout",
     "output_type": "stream",
     "text": [
      "\u001b[34m\u001b[1mSource Folder: \u001b[0m/workspaces/LeetCode-Solutions\r\n",
      "\u001b[34m\u001b[1mConfig Path: \u001b[0m/workspaces/LeetCode-Solutions/_config.yml\r\n",
      "\u001b[34m\u001b[1mOutput Path: \u001b[0m/workspaces/LeetCode-Solutions/_build/html\r\n",
      "\u001b[01mRunning Sphinx v5.0.2\u001b[39;49;00m\r\n"
     ]
    },
    {
     "name": "stdout",
     "output_type": "stream",
     "text": [
      "[etoc] Changing master_doc to 'intro'\r\n"
     ]
    },
    {
     "name": "stdout",
     "output_type": "stream",
     "text": [
      "\u001b[01mmyst v0.18.1:\u001b[39;49;00m MdParserConfig(commonmark_only=False, gfm_only=False, enable_extensions=['colon_fence', 'dollarmath', 'linkify', 'substitution', 'tasklist'], disable_syntax=[], all_links_external=False, url_schemes=['mailto', 'http', 'https'], ref_domains=None, highlight_code_blocks=True, number_code_blocks=[], title_to_header=False, heading_anchors=None, heading_slug_func=None, footnote_transition=True, words_per_minute=200, sub_delimiters=('{', '}'), linkify_fuzzy_links=True, dmath_allow_labels=True, dmath_allow_space=True, dmath_allow_digits=True, dmath_double_inline=False, update_mathjax=True, mathjax_classes='tex2jax_process|mathjax_process|math|output_area')\r\n",
      "\u001b[01mmyst-nb v0.17.2:\u001b[39;49;00m NbParserConfig(custom_formats={}, metadata_key='mystnb', cell_metadata_key='mystnb', kernel_rgx_aliases={}, execution_mode='auto', execution_cache_path='', execution_excludepatterns=[], execution_timeout=30, execution_in_temp=False, execution_allow_errors=False, execution_raise_on_error=False, execution_show_tb=False, merge_streams=False, render_plugin='default', remove_code_source=False, remove_code_outputs=False, code_prompt_show='Show code cell {type}', code_prompt_hide='Hide code cell {type}', number_source_lines=False, output_stderr='show', render_text_lexer='myst-ansi', render_error_lexer='ipythontb', render_image_options={}, render_figure_options={}, render_markdown_format='commonmark', output_folder='build', append_css=True, metadata_to_fm=False)\r\n",
      "Using jupyter-cache at: /workspaces/LeetCode-Solutions/_build/.jupyter_cache\r\n"
     ]
    },
    {
     "name": "stdout",
     "output_type": "stream",
     "text": [
      "\u001b[01mbuilding [mo]: \u001b[39;49;00mtargets for 0 po files that are out of date\r\n",
      "\u001b[01mbuilding [html]: \u001b[39;49;00mtargets for 90 source files that are out of date\r\n",
      "\u001b[01mupdating environment: \u001b[39;49;00m[new config] 90 added, 0 changed, 0 removed\r\n",
      "\u001b[01mreading sources... \u001b[39;49;00m[  1%] \u001b[35m01. Array Hashing/1. Two Sum\u001b[39;49;00m                          \r"
     ]
    },
    {
     "name": "stdout",
     "output_type": "stream",
     "text": [
      "/workspaces/LeetCode-Solutions/01. Array Hashing/1. Two Sum.ipynb: Executing notebook using local CWD [mystnb]\r\n"
     ]
    },
    {
     "name": "stdout",
     "output_type": "stream",
     "text": [
      "/workspaces/LeetCode-Solutions/01. Array Hashing/1. Two Sum.ipynb: Executed notebook in 1.18 seconds [mystnb]\r\n"
     ]
    },
    {
     "name": "stdout",
     "output_type": "stream",
     "text": [
      "\u001b[01mreading sources... \u001b[39;49;00m[  2%] \u001b[35m01. Array Hashing/128. Longest Consecutive Sequence\u001b[39;49;00m   \r",
      "/workspaces/LeetCode-Solutions/01. Array Hashing/128. Longest Consecutive Sequence.ipynb: Executing notebook using local CWD [mystnb]\r\n"
     ]
    },
    {
     "name": "stdout",
     "output_type": "stream",
     "text": [
      "/workspaces/LeetCode-Solutions/01. Array Hashing/128. Longest Consecutive Sequence.ipynb: Executed notebook in 0.96 seconds [mystnb]\r\n",
      "\u001b[01mreading sources... \u001b[39;49;00m[  3%] \u001b[35m01. Array Hashing/217. Contains Duplicate\u001b[39;49;00m             \r",
      "/workspaces/LeetCode-Solutions/01. Array Hashing/217. Contains Duplicate.ipynb: Executing notebook using local CWD [mystnb]\r\n"
     ]
    },
    {
     "name": "stdout",
     "output_type": "stream",
     "text": [
      "/workspaces/LeetCode-Solutions/01. Array Hashing/217. Contains Duplicate.ipynb: Executed notebook in 1.10 seconds [mystnb]\r\n",
      "\u001b[01mreading sources... \u001b[39;49;00m[  4%] \u001b[35m01. Array Hashing/238. Product of Array Except Self\u001b[39;49;00m   \r",
      "/workspaces/LeetCode-Solutions/01. Array Hashing/238. Product of Array Except Self.ipynb: Executing notebook using local CWD [mystnb]\r\n"
     ]
    },
    {
     "name": "stdout",
     "output_type": "stream",
     "text": [
      "/workspaces/LeetCode-Solutions/01. Array Hashing/238. Product of Array Except Self.ipynb: Executed notebook in 0.94 seconds [mystnb]\r\n"
     ]
    },
    {
     "name": "stdout",
     "output_type": "stream",
     "text": [
      "\u001b[01mreading sources... \u001b[39;49;00m[  5%] \u001b[35m01. Array Hashing/242. Valid Anagram\u001b[39;49;00m                  \r",
      "/workspaces/LeetCode-Solutions/01. Array Hashing/242. Valid Anagram.ipynb: Executing notebook using local CWD [mystnb]\r\n"
     ]
    },
    {
     "name": "stdout",
     "output_type": "stream",
     "text": [
      "/workspaces/LeetCode-Solutions/01. Array Hashing/242. Valid Anagram.ipynb: Executed notebook in 0.90 seconds [mystnb]\r\n",
      "\u001b[01mreading sources... \u001b[39;49;00m[  6%] \u001b[35m01. Array Hashing/347. Top K Frequent Elements\u001b[39;49;00m        \r",
      "/workspaces/LeetCode-Solutions/01. Array Hashing/347. Top K Frequent Elements.ipynb: Executing notebook using local CWD [mystnb]\r\n"
     ]
    },
    {
     "name": "stdout",
     "output_type": "stream",
     "text": [
      "/workspaces/LeetCode-Solutions/01. Array Hashing/347. Top K Frequent Elements.ipynb: Executed notebook in 0.87 seconds [mystnb]\r\n",
      "\u001b[01mreading sources... \u001b[39;49;00m[  7%] \u001b[35m01. Array Hashing/49. Group Anagrams\u001b[39;49;00m                  \r",
      "/workspaces/LeetCode-Solutions/01. Array Hashing/49. Group Anagrams.ipynb: Executing notebook using local CWD [mystnb]\r\n"
     ]
    },
    {
     "name": "stdout",
     "output_type": "stream",
     "text": [
      "/workspaces/LeetCode-Solutions/01. Array Hashing/49. Group Anagrams.ipynb: Executed notebook in 0.86 seconds [mystnb]\r\n"
     ]
    },
    {
     "name": "stdout",
     "output_type": "stream",
     "text": [
      "\u001b[01mreading sources... \u001b[39;49;00m[  8%] \u001b[35m01. Array Hashing/659. Encode and Decode Strings\u001b[39;49;00m      \r",
      "/workspaces/LeetCode-Solutions/01. Array Hashing/659. Encode and Decode Strings.ipynb: Executing notebook using local CWD [mystnb]\r\n"
     ]
    },
    {
     "name": "stdout",
     "output_type": "stream",
     "text": [
      "/workspaces/LeetCode-Solutions/01. Array Hashing/659. Encode and Decode Strings.ipynb: Executed notebook in 0.92 seconds [mystnb]\r\n"
     ]
    },
    {
     "name": "stdout",
     "output_type": "stream",
     "text": [
      "\u001b[01mreading sources... \u001b[39;49;00m[ 10%] \u001b[35m01. Array Hashing/README\u001b[39;49;00m                              \r",
      "\u001b[01mreading sources... \u001b[39;49;00m[ 11%] \u001b[35m01. Array Hashing/intro\u001b[39;49;00m                               \r"
     ]
    },
    {
     "name": "stdout",
     "output_type": "stream",
     "text": [
      "\u001b[01mreading sources... \u001b[39;49;00m[ 12%] \u001b[35m02. Two Pointers/11. Container With Most Water\u001b[39;49;00m        \r",
      "/workspaces/LeetCode-Solutions/02. Two Pointers/11. Container With Most Water.ipynb: Executing notebook using local CWD [mystnb]\r\n"
     ]
    },
    {
     "name": "stdout",
     "output_type": "stream",
     "text": [
      "/workspaces/LeetCode-Solutions/02. Two Pointers/11. Container With Most Water.ipynb: Executed notebook in 1.17 seconds [mystnb]\r\n",
      "\u001b[01mreading sources... \u001b[39;49;00m[ 13%] \u001b[35m02. Two Pointers/125. Valid Palindrome\u001b[39;49;00m                \r"
     ]
    },
    {
     "name": "stdout",
     "output_type": "stream",
     "text": [
      "/workspaces/LeetCode-Solutions/02. Two Pointers/125. Valid Palindrome.ipynb: Executing notebook using local CWD [mystnb]\r\n"
     ]
    },
    {
     "name": "stdout",
     "output_type": "stream",
     "text": [
      "/workspaces/LeetCode-Solutions/02. Two Pointers/125. Valid Palindrome.ipynb: Executed notebook in 4.02 seconds [mystnb]\r\n",
      "\u001b[01mreading sources... \u001b[39;49;00m[ 14%] \u001b[35m02. Two Pointers/15. 3Sum\u001b[39;49;00m                             \r"
     ]
    },
    {
     "name": "stdout",
     "output_type": "stream",
     "text": [
      "/workspaces/LeetCode-Solutions/02. Two Pointers/15. 3Sum.ipynb: Executing notebook using local CWD [mystnb]\r\n"
     ]
    },
    {
     "name": "stdout",
     "output_type": "stream",
     "text": [
      "/workspaces/LeetCode-Solutions/02. Two Pointers/15. 3Sum.ipynb: Executed notebook in 0.96 seconds [mystnb]\r\n",
      "\u001b[01mreading sources... \u001b[39;49;00m[ 15%] \u001b[35m02. Two Pointers/README\u001b[39;49;00m                               \r",
      "\u001b[01mreading sources... \u001b[39;49;00m[ 16%] \u001b[35m02. Two Pointers/intro\u001b[39;49;00m                                \r"
     ]
    },
    {
     "name": "stdout",
     "output_type": "stream",
     "text": [
      "\u001b[01mreading sources... \u001b[39;49;00m[ 17%] \u001b[35m03. Sliding Window/121. Best Time to Buy and Sell Stock\u001b[39;49;00m\r",
      "/workspaces/LeetCode-Solutions/03. Sliding Window/121. Best Time to Buy and Sell Stock.ipynb: Executing notebook using local CWD [mystnb]\r\n"
     ]
    },
    {
     "name": "stdout",
     "output_type": "stream",
     "text": [
      "/workspaces/LeetCode-Solutions/03. Sliding Window/121. Best Time to Buy and Sell Stock.ipynb: Executed notebook in 1.07 seconds [mystnb]\r\n",
      "\u001b[01mreading sources... \u001b[39;49;00m[ 18%] \u001b[35m03. Sliding Window/3. Longest Substring Without Repeating Characters\u001b[39;49;00m\r"
     ]
    },
    {
     "name": "stdout",
     "output_type": "stream",
     "text": [
      "/workspaces/LeetCode-Solutions/03. Sliding Window/3. Longest Substring Without Repeating Characters.ipynb: Executing notebook using local CWD [mystnb]\r\n"
     ]
    },
    {
     "name": "stdout",
     "output_type": "stream",
     "text": [
      "/workspaces/LeetCode-Solutions/03. Sliding Window/3. Longest Substring Without Repeating Characters.ipynb: Executed notebook in 0.97 seconds [mystnb]\r\n",
      "\u001b[01mreading sources... \u001b[39;49;00m[ 20%] \u001b[35m03. Sliding Window/424. Longest Repeating Character Replacement\u001b[39;49;00m\r",
      "/workspaces/LeetCode-Solutions/03. Sliding Window/424. Longest Repeating Character Replacement.ipynb: Executing notebook using local CWD [mystnb]\r\n"
     ]
    },
    {
     "name": "stdout",
     "output_type": "stream",
     "text": [
      "/workspaces/LeetCode-Solutions/03. Sliding Window/424. Longest Repeating Character Replacement.ipynb: Executed notebook in 0.95 seconds [mystnb]\r\n",
      "\u001b[01mreading sources... \u001b[39;49;00m[ 21%] \u001b[35m03. Sliding Window/76. Minimum Window Substring\u001b[39;49;00m       \r"
     ]
    },
    {
     "name": "stdout",
     "output_type": "stream",
     "text": [
      "/workspaces/LeetCode-Solutions/03. Sliding Window/76. Minimum Window Substring.ipynb: Executing notebook using local CWD [mystnb]\r\n"
     ]
    },
    {
     "name": "stdout",
     "output_type": "stream",
     "text": [
      "/workspaces/LeetCode-Solutions/03. Sliding Window/76. Minimum Window Substring.ipynb: Executed notebook in 1.06 seconds [mystnb]\r\n"
     ]
    },
    {
     "name": "stdout",
     "output_type": "stream",
     "text": [
      "\u001b[01mreading sources... \u001b[39;49;00m[ 22%] \u001b[35m03. Sliding Window/README\u001b[39;49;00m                             \r",
      "\u001b[01mreading sources... \u001b[39;49;00m[ 23%] \u001b[35m03. Sliding Window/intro\u001b[39;49;00m                              \r",
      "\u001b[01mreading sources... \u001b[39;49;00m[ 24%] \u001b[35m04. Stack/20. Valid Parentheses\u001b[39;49;00m                       \r"
     ]
    },
    {
     "name": "stdout",
     "output_type": "stream",
     "text": [
      "/workspaces/LeetCode-Solutions/04. Stack/20. Valid Parentheses.ipynb: Executing notebook using local CWD [mystnb]\r\n"
     ]
    },
    {
     "name": "stdout",
     "output_type": "stream",
     "text": [
      "/workspaces/LeetCode-Solutions/04. Stack/20. Valid Parentheses.ipynb: Executed notebook in 1.17 seconds [mystnb]\r\n",
      "\u001b[01mreading sources... \u001b[39;49;00m[ 25%] \u001b[35m04. Stack/README\u001b[39;49;00m                                      \r",
      "\u001b[01mreading sources... \u001b[39;49;00m[ 26%] \u001b[35m04. Stack/intro\u001b[39;49;00m                                       \r",
      "\u001b[01mreading sources... \u001b[39;49;00m[ 27%] \u001b[35m05. Binary Search/153. Find Minimum in Rotated Sorted Array\u001b[39;49;00m\r"
     ]
    },
    {
     "name": "stdout",
     "output_type": "stream",
     "text": [
      "/workspaces/LeetCode-Solutions/05. Binary Search/153. Find Minimum in Rotated Sorted Array.ipynb: Executing notebook using local CWD [mystnb]\r\n"
     ]
    },
    {
     "name": "stdout",
     "output_type": "stream",
     "text": [
      "/workspaces/LeetCode-Solutions/05. Binary Search/153. Find Minimum in Rotated Sorted Array.ipynb: Executed notebook in 0.99 seconds [mystnb]\r\n"
     ]
    },
    {
     "name": "stdout",
     "output_type": "stream",
     "text": [
      "\u001b[01mreading sources... \u001b[39;49;00m[ 28%] \u001b[35m05. Binary Search/33. Search in Rotated Sorted Array\u001b[39;49;00m  \r",
      "/workspaces/LeetCode-Solutions/05. Binary Search/33. Search in Rotated Sorted Array.ipynb: Executing notebook using local CWD [mystnb]\r\n"
     ]
    },
    {
     "name": "stdout",
     "output_type": "stream",
     "text": [
      "/workspaces/LeetCode-Solutions/05. Binary Search/33. Search in Rotated Sorted Array.ipynb: Executed notebook in 0.94 seconds [mystnb]\r\n"
     ]
    },
    {
     "name": "stdout",
     "output_type": "stream",
     "text": [
      "\u001b[01mreading sources... \u001b[39;49;00m[ 30%] \u001b[35m05. Binary Search/README\u001b[39;49;00m                              \r",
      "\u001b[01mreading sources... \u001b[39;49;00m[ 31%] \u001b[35m05. Binary Search/intro\u001b[39;49;00m                               \r",
      "\u001b[01mreading sources... \u001b[39;49;00m[ 32%] \u001b[35m06. Linked List/141. Linked List Cycle\u001b[39;49;00m                \r",
      "/workspaces/LeetCode-Solutions/06. Linked List/141. Linked List Cycle.ipynb: Executing notebook using local CWD [mystnb]\r\n"
     ]
    },
    {
     "name": "stdout",
     "output_type": "stream",
     "text": [
      "/workspaces/LeetCode-Solutions/06. Linked List/141. Linked List Cycle.ipynb: Executed notebook in 1.04 seconds [mystnb]\r\n",
      "\u001b[01mreading sources... \u001b[39;49;00m[ 33%] \u001b[35m06. Linked List/143. Reorder List\u001b[39;49;00m                     \r"
     ]
    },
    {
     "name": "stdout",
     "output_type": "stream",
     "text": [
      "/workspaces/LeetCode-Solutions/06. Linked List/143. Reorder List.ipynb: Executing notebook using local CWD [mystnb]\r\n"
     ]
    },
    {
     "name": "stdout",
     "output_type": "stream",
     "text": [
      "/workspaces/LeetCode-Solutions/06. Linked List/143. Reorder List.ipynb: Executed notebook in 1.07 seconds [mystnb]\r\n",
      "\u001b[01mreading sources... \u001b[39;49;00m[ 34%] \u001b[35m06. Linked List/19. Remove Nth Node From End of List\u001b[39;49;00m  \r"
     ]
    },
    {
     "name": "stdout",
     "output_type": "stream",
     "text": [
      "/workspaces/LeetCode-Solutions/06. Linked List/19. Remove Nth Node From End of List.ipynb: Executing notebook using local CWD [mystnb]\r\n"
     ]
    },
    {
     "name": "stdout",
     "output_type": "stream",
     "text": [
      "/workspaces/LeetCode-Solutions/06. Linked List/19. Remove Nth Node From End of List.ipynb: Executed notebook in 1.16 seconds [mystnb]\r\n"
     ]
    },
    {
     "name": "stdout",
     "output_type": "stream",
     "text": [
      "\u001b[01mreading sources... \u001b[39;49;00m[ 35%] \u001b[35m06. Linked List/206. Reverse Linked List\u001b[39;49;00m              \r"
     ]
    },
    {
     "name": "stdout",
     "output_type": "stream",
     "text": [
      "/workspaces/LeetCode-Solutions/06. Linked List/206. Reverse Linked List.ipynb: Executing notebook using local CWD [mystnb]\r\n"
     ]
    },
    {
     "name": "stdout",
     "output_type": "stream",
     "text": [
      "/workspaces/LeetCode-Solutions/06. Linked List/206. Reverse Linked List.ipynb: Executed notebook in 0.88 seconds [mystnb]\r\n"
     ]
    },
    {
     "name": "stdout",
     "output_type": "stream",
     "text": [
      "\u001b[01mreading sources... \u001b[39;49;00m[ 36%] \u001b[35m06. Linked List/21. Merge Two Sorted Lists\u001b[39;49;00m            \r",
      "/workspaces/LeetCode-Solutions/06. Linked List/21. Merge Two Sorted Lists.ipynb: Executing notebook using local CWD [mystnb]\r\n"
     ]
    },
    {
     "name": "stdout",
     "output_type": "stream",
     "text": [
      "/workspaces/LeetCode-Solutions/06. Linked List/21. Merge Two Sorted Lists.ipynb: Executed notebook in 1.06 seconds [mystnb]\r\n"
     ]
    },
    {
     "name": "stdout",
     "output_type": "stream",
     "text": [
      "\u001b[01mreading sources... \u001b[39;49;00m[ 37%] \u001b[35m06. Linked List/23. Merge k Sorted Lists\u001b[39;49;00m              \r"
     ]
    },
    {
     "name": "stdout",
     "output_type": "stream",
     "text": [
      "/workspaces/LeetCode-Solutions/06. Linked List/23. Merge k Sorted Lists.ipynb: Executing notebook using local CWD [mystnb]\r\n"
     ]
    },
    {
     "name": "stdout",
     "output_type": "stream",
     "text": [
      "^C\r\n",
      "\u001b[91m/workspaces/LeetCode-Solutions/04. Stack/intro.md:5: WARNING: Non-consecutive header level increase; H1 to H3 [myst.header]\u001b[39;49;00m\r\n",
      "Traceback (most recent call last):\r\n",
      "  File \"/usr/local/python/3.10.8/lib/python3.10/site-packages/nbclient/client.py\", line 689, in async_execute\r\n",
      "    async with self.async_setup_kernel(**kwargs):\r\n",
      "  File \"/usr/local/python/3.10.8/lib/python3.10/contextlib.py\", line 199, in __aenter__\r\n",
      "    return await anext(self.gen)\r\n",
      "  File \"/usr/local/python/3.10.8/lib/python3.10/site-packages/nbclient/client.py\", line 647, in async_setup_kernel\r\n",
      "    await self.async_start_new_kernel_client()\r\n",
      "  File \"/usr/local/python/3.10.8/lib/python3.10/site-packages/nbclient/client.py\", line 562, in async_start_new_kernel_client\r\n",
      "    await ensure_async(self.kc.wait_for_ready(timeout=self.startup_timeout))\r\n",
      "  File \"/home/codespace/.local/lib/python3.10/site-packages/jupyter_core/utils/__init__.py\", line 189, in ensure_async\r\n",
      "    result = await obj\r\n",
      "  File \"/home/codespace/.local/lib/python3.10/site-packages/jupyter_client/client.py\", line 212, in _async_wait_for_ready\r\n",
      "    msg = await ensure_async(self.iopub_channel.get_msg(timeout=0.2))\r\n",
      "  File \"/home/codespace/.local/lib/python3.10/site-packages/jupyter_core/utils/__init__.py\", line 189, in ensure_async\r\n",
      "    result = await obj\r\n",
      "  File \"/home/codespace/.local/lib/python3.10/site-packages/jupyter_client/channels.py\", line 310, in get_msg\r\n",
      "    ready = await self.socket.poll(timeout)\r\n",
      "asyncio.exceptions.CancelledError\r\n",
      "\r\n",
      "During handling of the above exception, another exception occurred:\r\n",
      "\r\n",
      "Traceback (most recent call last):\r\n",
      "  File \"/home/codespace/.python/current/bin/jupyter-book\", line 8, in <module>\r\n",
      "    sys.exit(main())\r\n",
      "  File \"/usr/local/python/3.10.8/lib/python3.10/site-packages/click/core.py\", line 1157, in __call__\r\n",
      "    return self.main(*args, **kwargs)\r\n",
      "  File \"/usr/local/python/3.10.8/lib/python3.10/site-packages/click/core.py\", line 1078, in main\r\n",
      "    rv = self.invoke(ctx)\r\n",
      "  File \"/usr/local/python/3.10.8/lib/python3.10/site-packages/click/core.py\", line 1688, in invoke\r\n",
      "    return _process_result(sub_ctx.command.invoke(sub_ctx))\r\n",
      "  File \"/usr/local/python/3.10.8/lib/python3.10/site-packages/click/core.py\", line 1434, in invoke\r\n",
      "    return ctx.invoke(self.callback, **ctx.params)\r\n",
      "  File \"/usr/local/python/3.10.8/lib/python3.10/site-packages/click/core.py\", line 783, in invoke\r\n",
      "    return __callback(*args, **kwargs)\r\n",
      "  File \"/usr/local/python/3.10.8/lib/python3.10/site-packages/jupyter_book/cli/main.py\", line 301, in build\r\n",
      "    result = build_sphinx(\r\n",
      "  File \"/usr/local/python/3.10.8/lib/python3.10/site-packages/jupyter_book/sphinx.py\", line 171, in build_sphinx\r\n",
      "    app.build(force_all, filenames)\r\n",
      "  File \"/usr/local/python/3.10.8/lib/python3.10/site-packages/sphinx/application.py\", line 329, in build\r\n",
      "    self.builder.build_update()\r\n",
      "  File \"/usr/local/python/3.10.8/lib/python3.10/site-packages/sphinx/builders/__init__.py\", line 288, in build_update\r\n",
      "    self.build(to_build,\r\n",
      "  File \"/usr/local/python/3.10.8/lib/python3.10/site-packages/sphinx/builders/__init__.py\", line 302, in build\r\n",
      "    updated_docnames = set(self.read())\r\n",
      "  File \"/usr/local/python/3.10.8/lib/python3.10/site-packages/sphinx/builders/__init__.py\", line 409, in read\r\n",
      "    self._read_serial(docnames)\r\n",
      "  File \"/usr/local/python/3.10.8/lib/python3.10/site-packages/sphinx/builders/__init__.py\", line 430, in _read_serial\r\n",
      "    self.read_doc(docname)\r\n",
      "  File \"/usr/local/python/3.10.8/lib/python3.10/site-packages/sphinx/builders/__init__.py\", line 483, in read_doc\r\n",
      "    publisher.publish()\r\n",
      "  File \"/usr/local/python/3.10.8/lib/python3.10/site-packages/docutils/core.py\", line 217, in publish\r\n",
      "    self.document = self.reader.read(self.source, self.parser,\r\n",
      "  File \"/usr/local/python/3.10.8/lib/python3.10/site-packages/sphinx/io.py\", line 103, in read\r\n",
      "    self.parse()\r\n",
      "  File \"/usr/local/python/3.10.8/lib/python3.10/site-packages/docutils/readers/__init__.py\", line 78, in parse\r\n",
      "    self.parser.parse(self.input, document)\r\n",
      "  File \"/usr/local/python/3.10.8/lib/python3.10/site-packages/myst_nb/sphinx_.py\", line 150, in parse\r\n",
      "    with create_client(\r\n",
      "  File \"/usr/local/python/3.10.8/lib/python3.10/site-packages/myst_nb/core/execute/base.py\", line 83, in __enter__\r\n",
      "    self.start_client()\r\n",
      "  File \"/usr/local/python/3.10.8/lib/python3.10/site-packages/myst_nb/core/execute/direct.py\", line 40, in start_client\r\n",
      "    result = single_nb_execution(\r\n",
      "  File \"/usr/local/python/3.10.8/lib/python3.10/site-packages/jupyter_cache/executors/utils.py\", line 58, in single_nb_execution\r\n",
      "    executenb(\r\n",
      "  File \"/usr/local/python/3.10.8/lib/python3.10/site-packages/nbclient/client.py\", line 1305, in execute\r\n",
      "    return NotebookClient(nb=nb, resources=resources, km=km, **kwargs).execute()\r\n",
      "  File \"/home/codespace/.local/lib/python3.10/site-packages/jupyter_core/utils/__init__.py\", line 173, in wrapped\r\n",
      "    return loop.run_until_complete(inner)\r\n",
      "  File \"/usr/local/python/3.10.8/lib/python3.10/asyncio/base_events.py\", line 649, in run_until_complete\r\n",
      "    return future.result()\r\n",
      "asyncio.exceptions.CancelledError\r\n"
     ]
    }
   ],
   "source": [
    "!jupyter-book build ."
   ]
  },
  {
   "cell_type": "code",
   "execution_count": 2,
   "metadata": {},
   "outputs": [
    {
     "name": "stdout",
     "output_type": "stream",
     "text": [
      "Enumerating objects: 241, done.\n",
      "Counting objects: 100% (241/241), done.\n",
      "Delta compression using up to 2 threads\n",
      "Compressing objects: 100% (34/34), done.\n",
      "Writing objects: 100% (141/141), 301.49 KiB | 75.37 MiB/s, done.\n",
      "Total 141 (delta 117), reused 126 (delta 102), pack-reused 0\n",
      "remote: Resolving deltas: 100% (117/117), completed with 15 local objects.\u001b[K\n",
      "To https://github.com/mohsentabibian/LeetCode-Solutions\n",
      "   f40f6c9..bcf1c22  gh-pages -> gh-pages\n"
     ]
    }
   ],
   "source": [
    "!ghp-import -n -p -f _build/html"
   ]
  }
 ],
 "metadata": {
  "kernelspec": {
   "display_name": "Python 3",
   "language": "python",
   "name": "python3"
  },
  "language_info": {
   "codemirror_mode": {
    "name": "ipython",
    "version": 3
   },
   "file_extension": ".py",
   "mimetype": "text/x-python",
   "name": "python",
   "nbconvert_exporter": "python",
   "pygments_lexer": "ipython3",
   "version": "3.10.8"
  }
 },
 "nbformat": 4,
 "nbformat_minor": 2
}