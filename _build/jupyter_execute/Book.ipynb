{
 "cells": [
  {
   "cell_type": "code",
   "execution_count": 1,
   "metadata": {},
   "outputs": [
    {
     "name": "stdout",
     "output_type": "stream",
     "text": [
      "Requirement already satisfied: pip in /usr/local/python/3.10.8/lib/python3.10/site-packages (23.3.1)\r\n"
     ]
    },
    {
     "name": "stdout",
     "output_type": "stream",
     "text": [
      "Requirement already satisfied: jupyter-book in /usr/local/python/3.10.8/lib/python3.10/site-packages (0.15.1)\r\n"
     ]
    },
    {
     "name": "stdout",
     "output_type": "stream",
     "text": [
      "Requirement already satisfied: click<9,>=7.1 in /usr/local/python/3.10.8/lib/python3.10/site-packages (from jupyter-book) (8.1.7)\r\n",
      "Requirement already satisfied: docutils<0.19,>=0.15 in /usr/local/python/3.10.8/lib/python3.10/site-packages (from jupyter-book) (0.18.1)\r\n",
      "Requirement already satisfied: Jinja2 in /home/codespace/.local/lib/python3.10/site-packages (from jupyter-book) (3.1.2)\r\n",
      "Requirement already satisfied: jsonschema<5 in /home/codespace/.local/lib/python3.10/site-packages (from jupyter-book) (4.19.1)\r\n",
      "Requirement already satisfied: linkify-it-py~=2.0.0 in /usr/local/python/3.10.8/lib/python3.10/site-packages (from jupyter-book) (2.0.2)\r\n",
      "Requirement already satisfied: myst-nb~=0.17.1 in /usr/local/python/3.10.8/lib/python3.10/site-packages (from jupyter-book) (0.17.2)\r\n",
      "Requirement already satisfied: pyyaml in /home/codespace/.local/lib/python3.10/site-packages (from jupyter-book) (6.0.1)\r\n",
      "Requirement already satisfied: sphinx<6,>=4 in /usr/local/python/3.10.8/lib/python3.10/site-packages (from jupyter-book) (5.0.2)\r\n",
      "Requirement already satisfied: sphinx-comments in /usr/local/python/3.10.8/lib/python3.10/site-packages (from jupyter-book) (0.0.3)\r\n",
      "Requirement already satisfied: sphinx-copybutton in /usr/local/python/3.10.8/lib/python3.10/site-packages (from jupyter-book) (0.5.2)\r\n"
     ]
    },
    {
     "name": "stdout",
     "output_type": "stream",
     "text": [
      "Requirement already satisfied: sphinx-external-toc~=0.3.1 in /usr/local/python/3.10.8/lib/python3.10/site-packages (from jupyter-book) (0.3.1)\r\n",
      "Requirement already satisfied: sphinx-jupyterbook-latex~=0.5.2 in /usr/local/python/3.10.8/lib/python3.10/site-packages (from jupyter-book) (0.5.2)\r\n",
      "Requirement already satisfied: sphinx-design~=0.3.0 in /usr/local/python/3.10.8/lib/python3.10/site-packages (from jupyter-book) (0.3.0)\r\n",
      "Requirement already satisfied: sphinx-thebe~=0.2.0 in /usr/local/python/3.10.8/lib/python3.10/site-packages (from jupyter-book) (0.2.1)\r\n",
      "Requirement already satisfied: sphinx-book-theme~=1.0.0 in /usr/local/python/3.10.8/lib/python3.10/site-packages (from jupyter-book) (1.0.1)\r\n",
      "Requirement already satisfied: sphinx_togglebutton in /usr/local/python/3.10.8/lib/python3.10/site-packages (from jupyter-book) (0.3.2)\r\n",
      "Requirement already satisfied: sphinxcontrib-bibtex<=2.5.0,>=2.2.0 in /usr/local/python/3.10.8/lib/python3.10/site-packages (from jupyter-book) (2.5.0)\r\n",
      "Requirement already satisfied: sphinx-multitoc-numbering~=0.1.3 in /usr/local/python/3.10.8/lib/python3.10/site-packages (from jupyter-book) (0.1.3)\r\n",
      "Requirement already satisfied: attrs>=22.2.0 in /home/codespace/.local/lib/python3.10/site-packages (from jsonschema<5->jupyter-book) (23.1.0)\r\n",
      "Requirement already satisfied: jsonschema-specifications>=2023.03.6 in /home/codespace/.local/lib/python3.10/site-packages (from jsonschema<5->jupyter-book) (2023.7.1)\r\n",
      "Requirement already satisfied: referencing>=0.28.4 in /home/codespace/.local/lib/python3.10/site-packages (from jsonschema<5->jupyter-book) (0.30.2)\r\n",
      "Requirement already satisfied: rpds-py>=0.7.1 in /home/codespace/.local/lib/python3.10/site-packages (from jsonschema<5->jupyter-book) (0.10.6)\r\n"
     ]
    },
    {
     "name": "stdout",
     "output_type": "stream",
     "text": [
      "Requirement already satisfied: uc-micro-py in /usr/local/python/3.10.8/lib/python3.10/site-packages (from linkify-it-py~=2.0.0->jupyter-book) (1.0.2)\r\n"
     ]
    },
    {
     "name": "stdout",
     "output_type": "stream",
     "text": [
      "Requirement already satisfied: importlib_metadata in /usr/local/python/3.10.8/lib/python3.10/site-packages (from myst-nb~=0.17.1->jupyter-book) (6.8.0)\r\n",
      "Requirement already satisfied: ipython in /home/codespace/.local/lib/python3.10/site-packages (from myst-nb~=0.17.1->jupyter-book) (8.16.1)\r\n",
      "Requirement already satisfied: jupyter-cache<0.7,>=0.5 in /usr/local/python/3.10.8/lib/python3.10/site-packages (from myst-nb~=0.17.1->jupyter-book) (0.6.1)\r\n",
      "Requirement already satisfied: nbclient in /usr/local/python/3.10.8/lib/python3.10/site-packages (from myst-nb~=0.17.1->jupyter-book) (0.7.4)\r\n",
      "Requirement already satisfied: myst-parser~=0.18.0 in /usr/local/python/3.10.8/lib/python3.10/site-packages (from myst-nb~=0.17.1->jupyter-book) (0.18.1)\r\n",
      "Requirement already satisfied: nbformat~=5.0 in /home/codespace/.local/lib/python3.10/site-packages (from myst-nb~=0.17.1->jupyter-book) (5.9.2)\r\n",
      "Requirement already satisfied: typing-extensions in /home/codespace/.local/lib/python3.10/site-packages (from myst-nb~=0.17.1->jupyter-book) (4.8.0)\r\n",
      "Requirement already satisfied: ipykernel in /home/codespace/.local/lib/python3.10/site-packages (from myst-nb~=0.17.1->jupyter-book) (6.25.2)\r\n"
     ]
    },
    {
     "name": "stdout",
     "output_type": "stream",
     "text": [
      "Requirement already satisfied: sphinxcontrib-applehelp in /usr/local/python/3.10.8/lib/python3.10/site-packages (from sphinx<6,>=4->jupyter-book) (1.0.7)\r\n",
      "Requirement already satisfied: sphinxcontrib-devhelp in /usr/local/python/3.10.8/lib/python3.10/site-packages (from sphinx<6,>=4->jupyter-book) (1.0.5)\r\n",
      "Requirement already satisfied: sphinxcontrib-jsmath in /usr/local/python/3.10.8/lib/python3.10/site-packages (from sphinx<6,>=4->jupyter-book) (1.0.1)\r\n",
      "Requirement already satisfied: sphinxcontrib-htmlhelp>=2.0.0 in /usr/local/python/3.10.8/lib/python3.10/site-packages (from sphinx<6,>=4->jupyter-book) (2.0.4)\r\n",
      "Requirement already satisfied: sphinxcontrib-serializinghtml>=1.1.5 in /usr/local/python/3.10.8/lib/python3.10/site-packages (from sphinx<6,>=4->jupyter-book) (1.1.9)\r\n",
      "Requirement already satisfied: sphinxcontrib-qthelp in /usr/local/python/3.10.8/lib/python3.10/site-packages (from sphinx<6,>=4->jupyter-book) (1.0.6)\r\n",
      "Requirement already satisfied: Pygments>=2.0 in /home/codespace/.local/lib/python3.10/site-packages (from sphinx<6,>=4->jupyter-book) (2.16.1)\r\n",
      "Requirement already satisfied: snowballstemmer>=1.1 in /usr/local/python/3.10.8/lib/python3.10/site-packages (from sphinx<6,>=4->jupyter-book) (2.2.0)\r\n",
      "Requirement already satisfied: babel>=1.3 in /home/codespace/.local/lib/python3.10/site-packages (from sphinx<6,>=4->jupyter-book) (2.13.0)\r\n",
      "Requirement already satisfied: alabaster<0.8,>=0.7 in /usr/local/python/3.10.8/lib/python3.10/site-packages (from sphinx<6,>=4->jupyter-book) (0.7.13)\r\n",
      "Requirement already satisfied: imagesize in /usr/local/python/3.10.8/lib/python3.10/site-packages (from sphinx<6,>=4->jupyter-book) (1.4.1)\r\n",
      "Requirement already satisfied: requests>=2.5.0 in /home/codespace/.local/lib/python3.10/site-packages (from sphinx<6,>=4->jupyter-book) (2.31.0)\r\n",
      "Requirement already satisfied: packaging in /home/codespace/.local/lib/python3.10/site-packages (from sphinx<6,>=4->jupyter-book) (23.2)\r\n",
      "Requirement already satisfied: MarkupSafe>=2.0 in /home/codespace/.local/lib/python3.10/site-packages (from Jinja2->jupyter-book) (2.1.3)\r\n"
     ]
    },
    {
     "name": "stdout",
     "output_type": "stream",
     "text": [
      "Requirement already satisfied: pydata-sphinx-theme>=0.13.3 in /usr/local/python/3.10.8/lib/python3.10/site-packages (from sphinx-book-theme~=1.0.0->jupyter-book) (0.14.3)\r\n"
     ]
    },
    {
     "name": "stdout",
     "output_type": "stream",
     "text": [
      "Requirement already satisfied: pybtex>=0.24 in /usr/local/python/3.10.8/lib/python3.10/site-packages (from sphinxcontrib-bibtex<=2.5.0,>=2.2.0->jupyter-book) (0.24.0)\r\n",
      "Requirement already satisfied: pybtex-docutils>=1.0.0 in /usr/local/python/3.10.8/lib/python3.10/site-packages (from sphinxcontrib-bibtex<=2.5.0,>=2.2.0->jupyter-book) (1.0.3)\r\n"
     ]
    },
    {
     "name": "stdout",
     "output_type": "stream",
     "text": [
      "Requirement already satisfied: setuptools in /usr/local/python/3.10.8/lib/python3.10/site-packages (from sphinx_togglebutton->jupyter-book) (68.0.0)\r\n",
      "Requirement already satisfied: wheel in /usr/local/python/3.10.8/lib/python3.10/site-packages (from sphinx_togglebutton->jupyter-book) (0.41.3)\r\n"
     ]
    },
    {
     "name": "stdout",
     "output_type": "stream",
     "text": [
      "Requirement already satisfied: sqlalchemy<3,>=1.3.12 in /usr/local/python/3.10.8/lib/python3.10/site-packages (from jupyter-cache<0.7,>=0.5->myst-nb~=0.17.1->jupyter-book) (2.0.23)\r\n",
      "Requirement already satisfied: tabulate in /usr/local/python/3.10.8/lib/python3.10/site-packages (from jupyter-cache<0.7,>=0.5->myst-nb~=0.17.1->jupyter-book) (0.9.0)\r\n"
     ]
    },
    {
     "name": "stdout",
     "output_type": "stream",
     "text": [
      "Requirement already satisfied: markdown-it-py<3.0.0,>=1.0.0 in /usr/local/python/3.10.8/lib/python3.10/site-packages (from myst-parser~=0.18.0->myst-nb~=0.17.1->jupyter-book) (2.2.0)\r\n",
      "Requirement already satisfied: mdit-py-plugins~=0.3.1 in /usr/local/python/3.10.8/lib/python3.10/site-packages (from myst-parser~=0.18.0->myst-nb~=0.17.1->jupyter-book) (0.3.5)\r\n",
      "Requirement already satisfied: jupyter-client>=6.1.12 in /home/codespace/.local/lib/python3.10/site-packages (from nbclient->myst-nb~=0.17.1->jupyter-book) (8.4.0)\r\n",
      "Requirement already satisfied: jupyter-core!=5.0.*,>=4.12 in /home/codespace/.local/lib/python3.10/site-packages (from nbclient->myst-nb~=0.17.1->jupyter-book) (5.4.0)\r\n",
      "Requirement already satisfied: traitlets>=5.3 in /home/codespace/.local/lib/python3.10/site-packages (from nbclient->myst-nb~=0.17.1->jupyter-book) (5.11.2)\r\n",
      "Requirement already satisfied: fastjsonschema in /home/codespace/.local/lib/python3.10/site-packages (from nbformat~=5.0->myst-nb~=0.17.1->jupyter-book) (2.18.1)\r\n"
     ]
    },
    {
     "name": "stdout",
     "output_type": "stream",
     "text": [
      "Requirement already satisfied: latexcodec>=1.0.4 in /usr/local/python/3.10.8/lib/python3.10/site-packages (from pybtex>=0.24->sphinxcontrib-bibtex<=2.5.0,>=2.2.0->jupyter-book) (2.0.1)\r\n",
      "Requirement already satisfied: six in /home/codespace/.local/lib/python3.10/site-packages (from pybtex>=0.24->sphinxcontrib-bibtex<=2.5.0,>=2.2.0->jupyter-book) (1.16.0)\r\n",
      "Requirement already satisfied: beautifulsoup4 in /home/codespace/.local/lib/python3.10/site-packages (from pydata-sphinx-theme>=0.13.3->sphinx-book-theme~=1.0.0->jupyter-book) (4.12.2)\r\n",
      "Requirement already satisfied: accessible-pygments in /usr/local/python/3.10.8/lib/python3.10/site-packages (from pydata-sphinx-theme>=0.13.3->sphinx-book-theme~=1.0.0->jupyter-book) (0.0.4)\r\n"
     ]
    },
    {
     "name": "stdout",
     "output_type": "stream",
     "text": [
      "Requirement already satisfied: charset-normalizer<4,>=2 in /home/codespace/.local/lib/python3.10/site-packages (from requests>=2.5.0->sphinx<6,>=4->jupyter-book) (3.3.0)\r\n",
      "Requirement already satisfied: idna<4,>=2.5 in /home/codespace/.local/lib/python3.10/site-packages (from requests>=2.5.0->sphinx<6,>=4->jupyter-book) (3.4)\r\n",
      "Requirement already satisfied: urllib3<3,>=1.21.1 in /usr/local/python/3.10.8/lib/python3.10/site-packages (from requests>=2.5.0->sphinx<6,>=4->jupyter-book) (1.26.18)\r\n",
      "Requirement already satisfied: certifi>=2017.4.17 in /home/codespace/.local/lib/python3.10/site-packages (from requests>=2.5.0->sphinx<6,>=4->jupyter-book) (2023.7.22)\r\n"
     ]
    },
    {
     "name": "stdout",
     "output_type": "stream",
     "text": [
      "Requirement already satisfied: zipp>=0.5 in /usr/local/python/3.10.8/lib/python3.10/site-packages (from importlib_metadata->myst-nb~=0.17.1->jupyter-book) (3.17.0)\r\n",
      "Requirement already satisfied: comm>=0.1.1 in /home/codespace/.local/lib/python3.10/site-packages (from ipykernel->myst-nb~=0.17.1->jupyter-book) (0.1.4)\r\n",
      "Requirement already satisfied: debugpy>=1.6.5 in /home/codespace/.local/lib/python3.10/site-packages (from ipykernel->myst-nb~=0.17.1->jupyter-book) (1.8.0)\r\n",
      "Requirement already satisfied: matplotlib-inline>=0.1 in /home/codespace/.local/lib/python3.10/site-packages (from ipykernel->myst-nb~=0.17.1->jupyter-book) (0.1.6)\r\n",
      "Requirement already satisfied: nest-asyncio in /home/codespace/.local/lib/python3.10/site-packages (from ipykernel->myst-nb~=0.17.1->jupyter-book) (1.5.8)\r\n",
      "Requirement already satisfied: psutil in /home/codespace/.local/lib/python3.10/site-packages (from ipykernel->myst-nb~=0.17.1->jupyter-book) (5.9.6)\r\n",
      "Requirement already satisfied: pyzmq>=20 in /home/codespace/.local/lib/python3.10/site-packages (from ipykernel->myst-nb~=0.17.1->jupyter-book) (25.1.1)\r\n",
      "Requirement already satisfied: tornado>=6.1 in /home/codespace/.local/lib/python3.10/site-packages (from ipykernel->myst-nb~=0.17.1->jupyter-book) (6.3.3)\r\n"
     ]
    },
    {
     "name": "stdout",
     "output_type": "stream",
     "text": [
      "Requirement already satisfied: backcall in /home/codespace/.local/lib/python3.10/site-packages (from ipython->myst-nb~=0.17.1->jupyter-book) (0.2.0)\r\n",
      "Requirement already satisfied: decorator in /home/codespace/.local/lib/python3.10/site-packages (from ipython->myst-nb~=0.17.1->jupyter-book) (5.1.1)\r\n",
      "Requirement already satisfied: jedi>=0.16 in /home/codespace/.local/lib/python3.10/site-packages (from ipython->myst-nb~=0.17.1->jupyter-book) (0.19.1)\r\n",
      "Requirement already satisfied: pickleshare in /home/codespace/.local/lib/python3.10/site-packages (from ipython->myst-nb~=0.17.1->jupyter-book) (0.7.5)\r\n",
      "Requirement already satisfied: prompt-toolkit!=3.0.37,<3.1.0,>=3.0.30 in /home/codespace/.local/lib/python3.10/site-packages (from ipython->myst-nb~=0.17.1->jupyter-book) (3.0.39)\r\n",
      "Requirement already satisfied: stack-data in /home/codespace/.local/lib/python3.10/site-packages (from ipython->myst-nb~=0.17.1->jupyter-book) (0.6.3)\r\n",
      "Requirement already satisfied: exceptiongroup in /home/codespace/.local/lib/python3.10/site-packages (from ipython->myst-nb~=0.17.1->jupyter-book) (1.1.3)\r\n",
      "Requirement already satisfied: pexpect>4.3 in /home/codespace/.local/lib/python3.10/site-packages (from ipython->myst-nb~=0.17.1->jupyter-book) (4.8.0)\r\n"
     ]
    },
    {
     "name": "stdout",
     "output_type": "stream",
     "text": [
      "Requirement already satisfied: parso<0.9.0,>=0.8.3 in /home/codespace/.local/lib/python3.10/site-packages (from jedi>=0.16->ipython->myst-nb~=0.17.1->jupyter-book) (0.8.3)\r\n",
      "Requirement already satisfied: python-dateutil>=2.8.2 in /home/codespace/.local/lib/python3.10/site-packages (from jupyter-client>=6.1.12->nbclient->myst-nb~=0.17.1->jupyter-book) (2.8.2)\r\n"
     ]
    },
    {
     "name": "stdout",
     "output_type": "stream",
     "text": [
      "Requirement already satisfied: platformdirs>=2.5 in /home/codespace/.local/lib/python3.10/site-packages (from jupyter-core!=5.0.*,>=4.12->nbclient->myst-nb~=0.17.1->jupyter-book) (3.11.0)\r\n",
      "Requirement already satisfied: mdurl~=0.1 in /usr/local/python/3.10.8/lib/python3.10/site-packages (from markdown-it-py<3.0.0,>=1.0.0->myst-parser~=0.18.0->myst-nb~=0.17.1->jupyter-book) (0.1.2)\r\n"
     ]
    },
    {
     "name": "stdout",
     "output_type": "stream",
     "text": [
      "Requirement already satisfied: ptyprocess>=0.5 in /home/codespace/.local/lib/python3.10/site-packages (from pexpect>4.3->ipython->myst-nb~=0.17.1->jupyter-book) (0.7.0)\r\n",
      "Requirement already satisfied: wcwidth in /home/codespace/.local/lib/python3.10/site-packages (from prompt-toolkit!=3.0.37,<3.1.0,>=3.0.30->ipython->myst-nb~=0.17.1->jupyter-book) (0.2.8)\r\n"
     ]
    },
    {
     "name": "stdout",
     "output_type": "stream",
     "text": [
      "Requirement already satisfied: greenlet!=0.4.17 in /usr/local/python/3.10.8/lib/python3.10/site-packages (from sqlalchemy<3,>=1.3.12->jupyter-cache<0.7,>=0.5->myst-nb~=0.17.1->jupyter-book) (3.0.1)\r\n"
     ]
    },
    {
     "name": "stdout",
     "output_type": "stream",
     "text": [
      "Requirement already satisfied: soupsieve>1.2 in /home/codespace/.local/lib/python3.10/site-packages (from beautifulsoup4->pydata-sphinx-theme>=0.13.3->sphinx-book-theme~=1.0.0->jupyter-book) (2.5)\r\n"
     ]
    },
    {
     "name": "stdout",
     "output_type": "stream",
     "text": [
      "Requirement already satisfied: executing>=1.2.0 in /home/codespace/.local/lib/python3.10/site-packages (from stack-data->ipython->myst-nb~=0.17.1->jupyter-book) (2.0.0)\r\n",
      "Requirement already satisfied: asttokens>=2.1.0 in /home/codespace/.local/lib/python3.10/site-packages (from stack-data->ipython->myst-nb~=0.17.1->jupyter-book) (2.4.0)\r\n",
      "Requirement already satisfied: pure-eval in /home/codespace/.local/lib/python3.10/site-packages (from stack-data->ipython->myst-nb~=0.17.1->jupyter-book) (0.2.2)\r\n"
     ]
    },
    {
     "name": "stdout",
     "output_type": "stream",
     "text": [
      "Note: you may need to restart the kernel to use updated packages.\n"
     ]
    }
   ],
   "source": [
    "!python -m pip install --upgrade pip\n",
    "%pip install jupyter-book"
   ]
  },
  {
   "cell_type": "code",
   "execution_count": 2,
   "metadata": {},
   "outputs": [
    {
     "name": "stdout",
     "output_type": "stream",
     "text": [
      "Requirement already satisfied: pyppeteer in /usr/local/python/3.10.8/lib/python3.10/site-packages (1.0.2)\r\n"
     ]
    },
    {
     "name": "stdout",
     "output_type": "stream",
     "text": [
      "Requirement already satisfied: appdirs<2.0.0,>=1.4.3 in /usr/local/python/3.10.8/lib/python3.10/site-packages (from pyppeteer) (1.4.4)\r\n",
      "Requirement already satisfied: certifi>=2021 in /home/codespace/.local/lib/python3.10/site-packages (from pyppeteer) (2023.7.22)\r\n",
      "Requirement already satisfied: importlib-metadata>=1.4 in /usr/local/python/3.10.8/lib/python3.10/site-packages (from pyppeteer) (6.8.0)\r\n",
      "Requirement already satisfied: pyee<9.0.0,>=8.1.0 in /usr/local/python/3.10.8/lib/python3.10/site-packages (from pyppeteer) (8.2.2)\r\n",
      "Requirement already satisfied: tqdm<5.0.0,>=4.42.1 in /usr/local/python/3.10.8/lib/python3.10/site-packages (from pyppeteer) (4.66.1)\r\n",
      "Requirement already satisfied: urllib3<2.0.0,>=1.25.8 in /usr/local/python/3.10.8/lib/python3.10/site-packages (from pyppeteer) (1.26.18)\r\n",
      "Requirement already satisfied: websockets<11.0,>=10.0 in /usr/local/python/3.10.8/lib/python3.10/site-packages (from pyppeteer) (10.4)\r\n",
      "Requirement already satisfied: zipp>=0.5 in /usr/local/python/3.10.8/lib/python3.10/site-packages (from importlib-metadata>=1.4->pyppeteer) (3.17.0)\r\n"
     ]
    },
    {
     "name": "stdout",
     "output_type": "stream",
     "text": [
      "Note: you may need to restart the kernel to use updated packages.\n"
     ]
    },
    {
     "name": "stdout",
     "output_type": "stream",
     "text": [
      "Requirement already satisfied: jupyter-book in /usr/local/python/3.10.8/lib/python3.10/site-packages (0.15.1)\r\n"
     ]
    },
    {
     "name": "stdout",
     "output_type": "stream",
     "text": [
      "Requirement already satisfied: myst-nb in /usr/local/python/3.10.8/lib/python3.10/site-packages (0.17.2)\r\n"
     ]
    },
    {
     "name": "stdout",
     "output_type": "stream",
     "text": [
      "Requirement already satisfied: click<9,>=7.1 in /usr/local/python/3.10.8/lib/python3.10/site-packages (from jupyter-book) (8.1.7)\r\n"
     ]
    },
    {
     "name": "stdout",
     "output_type": "stream",
     "text": [
      "Requirement already satisfied: docutils<0.19,>=0.15 in /usr/local/python/3.10.8/lib/python3.10/site-packages (from jupyter-book) (0.18.1)\r\n",
      "Requirement already satisfied: Jinja2 in /home/codespace/.local/lib/python3.10/site-packages (from jupyter-book) (3.1.2)\r\n",
      "Requirement already satisfied: jsonschema<5 in /home/codespace/.local/lib/python3.10/site-packages (from jupyter-book) (4.19.1)\r\n",
      "Requirement already satisfied: linkify-it-py~=2.0.0 in /usr/local/python/3.10.8/lib/python3.10/site-packages (from jupyter-book) (2.0.2)\r\n",
      "Requirement already satisfied: pyyaml in /home/codespace/.local/lib/python3.10/site-packages (from jupyter-book) (6.0.1)\r\n",
      "Requirement already satisfied: sphinx<6,>=4 in /usr/local/python/3.10.8/lib/python3.10/site-packages (from jupyter-book) (5.0.2)\r\n",
      "Requirement already satisfied: sphinx-comments in /usr/local/python/3.10.8/lib/python3.10/site-packages (from jupyter-book) (0.0.3)\r\n",
      "Requirement already satisfied: sphinx-copybutton in /usr/local/python/3.10.8/lib/python3.10/site-packages (from jupyter-book) (0.5.2)\r\n",
      "Requirement already satisfied: sphinx-external-toc~=0.3.1 in /usr/local/python/3.10.8/lib/python3.10/site-packages (from jupyter-book) (0.3.1)\r\n",
      "Requirement already satisfied: sphinx-jupyterbook-latex~=0.5.2 in /usr/local/python/3.10.8/lib/python3.10/site-packages (from jupyter-book) (0.5.2)\r\n",
      "Requirement already satisfied: sphinx-design~=0.3.0 in /usr/local/python/3.10.8/lib/python3.10/site-packages (from jupyter-book) (0.3.0)\r\n",
      "Requirement already satisfied: sphinx-thebe~=0.2.0 in /usr/local/python/3.10.8/lib/python3.10/site-packages (from jupyter-book) (0.2.1)\r\n",
      "Requirement already satisfied: sphinx-book-theme~=1.0.0 in /usr/local/python/3.10.8/lib/python3.10/site-packages (from jupyter-book) (1.0.1)\r\n",
      "Requirement already satisfied: sphinx_togglebutton in /usr/local/python/3.10.8/lib/python3.10/site-packages (from jupyter-book) (0.3.2)\r\n",
      "Requirement already satisfied: sphinxcontrib-bibtex<=2.5.0,>=2.2.0 in /usr/local/python/3.10.8/lib/python3.10/site-packages (from jupyter-book) (2.5.0)\r\n",
      "Requirement already satisfied: sphinx-multitoc-numbering~=0.1.3 in /usr/local/python/3.10.8/lib/python3.10/site-packages (from jupyter-book) (0.1.3)\r\n",
      "Requirement already satisfied: importlib_metadata in /usr/local/python/3.10.8/lib/python3.10/site-packages (from myst-nb) (6.8.0)\r\n",
      "Requirement already satisfied: ipython in /home/codespace/.local/lib/python3.10/site-packages (from myst-nb) (8.16.1)\r\n",
      "Requirement already satisfied: jupyter-cache<0.7,>=0.5 in /usr/local/python/3.10.8/lib/python3.10/site-packages (from myst-nb) (0.6.1)\r\n",
      "Requirement already satisfied: nbclient in /usr/local/python/3.10.8/lib/python3.10/site-packages (from myst-nb) (0.7.4)\r\n",
      "Requirement already satisfied: myst-parser~=0.18.0 in /usr/local/python/3.10.8/lib/python3.10/site-packages (from myst-nb) (0.18.1)\r\n",
      "Requirement already satisfied: nbformat~=5.0 in /home/codespace/.local/lib/python3.10/site-packages (from myst-nb) (5.9.2)\r\n",
      "Requirement already satisfied: typing-extensions in /home/codespace/.local/lib/python3.10/site-packages (from myst-nb) (4.8.0)\r\n",
      "Requirement already satisfied: ipykernel in /home/codespace/.local/lib/python3.10/site-packages (from myst-nb) (6.25.2)\r\n"
     ]
    },
    {
     "name": "stdout",
     "output_type": "stream",
     "text": [
      "Requirement already satisfied: attrs>=22.2.0 in /home/codespace/.local/lib/python3.10/site-packages (from jsonschema<5->jupyter-book) (23.1.0)\r\n",
      "Requirement already satisfied: jsonschema-specifications>=2023.03.6 in /home/codespace/.local/lib/python3.10/site-packages (from jsonschema<5->jupyter-book) (2023.7.1)\r\n",
      "Requirement already satisfied: referencing>=0.28.4 in /home/codespace/.local/lib/python3.10/site-packages (from jsonschema<5->jupyter-book) (0.30.2)\r\n",
      "Requirement already satisfied: rpds-py>=0.7.1 in /home/codespace/.local/lib/python3.10/site-packages (from jsonschema<5->jupyter-book) (0.10.6)\r\n",
      "Requirement already satisfied: sqlalchemy<3,>=1.3.12 in /usr/local/python/3.10.8/lib/python3.10/site-packages (from jupyter-cache<0.7,>=0.5->myst-nb) (2.0.23)\r\n",
      "Requirement already satisfied: tabulate in /usr/local/python/3.10.8/lib/python3.10/site-packages (from jupyter-cache<0.7,>=0.5->myst-nb) (0.9.0)\r\n"
     ]
    },
    {
     "name": "stdout",
     "output_type": "stream",
     "text": [
      "Requirement already satisfied: uc-micro-py in /usr/local/python/3.10.8/lib/python3.10/site-packages (from linkify-it-py~=2.0.0->jupyter-book) (1.0.2)\r\n",
      "Requirement already satisfied: markdown-it-py<3.0.0,>=1.0.0 in /usr/local/python/3.10.8/lib/python3.10/site-packages (from myst-parser~=0.18.0->myst-nb) (2.2.0)\r\n",
      "Requirement already satisfied: mdit-py-plugins~=0.3.1 in /usr/local/python/3.10.8/lib/python3.10/site-packages (from myst-parser~=0.18.0->myst-nb) (0.3.5)\r\n"
     ]
    },
    {
     "name": "stdout",
     "output_type": "stream",
     "text": [
      "Requirement already satisfied: jupyter-client>=6.1.12 in /home/codespace/.local/lib/python3.10/site-packages (from nbclient->myst-nb) (8.4.0)\r\n",
      "Requirement already satisfied: jupyter-core!=5.0.*,>=4.12 in /home/codespace/.local/lib/python3.10/site-packages (from nbclient->myst-nb) (5.4.0)\r\n",
      "Requirement already satisfied: traitlets>=5.3 in /home/codespace/.local/lib/python3.10/site-packages (from nbclient->myst-nb) (5.11.2)\r\n",
      "Requirement already satisfied: fastjsonschema in /home/codespace/.local/lib/python3.10/site-packages (from nbformat~=5.0->myst-nb) (2.18.1)\r\n",
      "Requirement already satisfied: sphinxcontrib-applehelp in /usr/local/python/3.10.8/lib/python3.10/site-packages (from sphinx<6,>=4->jupyter-book) (1.0.7)\r\n",
      "Requirement already satisfied: sphinxcontrib-devhelp in /usr/local/python/3.10.8/lib/python3.10/site-packages (from sphinx<6,>=4->jupyter-book) (1.0.5)\r\n",
      "Requirement already satisfied: sphinxcontrib-jsmath in /usr/local/python/3.10.8/lib/python3.10/site-packages (from sphinx<6,>=4->jupyter-book) (1.0.1)\r\n",
      "Requirement already satisfied: sphinxcontrib-htmlhelp>=2.0.0 in /usr/local/python/3.10.8/lib/python3.10/site-packages (from sphinx<6,>=4->jupyter-book) (2.0.4)\r\n",
      "Requirement already satisfied: sphinxcontrib-serializinghtml>=1.1.5 in /usr/local/python/3.10.8/lib/python3.10/site-packages (from sphinx<6,>=4->jupyter-book) (1.1.9)\r\n",
      "Requirement already satisfied: sphinxcontrib-qthelp in /usr/local/python/3.10.8/lib/python3.10/site-packages (from sphinx<6,>=4->jupyter-book) (1.0.6)\r\n",
      "Requirement already satisfied: Pygments>=2.0 in /home/codespace/.local/lib/python3.10/site-packages (from sphinx<6,>=4->jupyter-book) (2.16.1)\r\n",
      "Requirement already satisfied: snowballstemmer>=1.1 in /usr/local/python/3.10.8/lib/python3.10/site-packages (from sphinx<6,>=4->jupyter-book) (2.2.0)\r\n",
      "Requirement already satisfied: babel>=1.3 in /home/codespace/.local/lib/python3.10/site-packages (from sphinx<6,>=4->jupyter-book) (2.13.0)\r\n",
      "Requirement already satisfied: alabaster<0.8,>=0.7 in /usr/local/python/3.10.8/lib/python3.10/site-packages (from sphinx<6,>=4->jupyter-book) (0.7.13)\r\n",
      "Requirement already satisfied: imagesize in /usr/local/python/3.10.8/lib/python3.10/site-packages (from sphinx<6,>=4->jupyter-book) (1.4.1)\r\n",
      "Requirement already satisfied: requests>=2.5.0 in /home/codespace/.local/lib/python3.10/site-packages (from sphinx<6,>=4->jupyter-book) (2.31.0)\r\n",
      "Requirement already satisfied: packaging in /home/codespace/.local/lib/python3.10/site-packages (from sphinx<6,>=4->jupyter-book) (23.2)\r\n",
      "Requirement already satisfied: MarkupSafe>=2.0 in /home/codespace/.local/lib/python3.10/site-packages (from Jinja2->jupyter-book) (2.1.3)\r\n"
     ]
    },
    {
     "name": "stdout",
     "output_type": "stream",
     "text": [
      "Requirement already satisfied: pydata-sphinx-theme>=0.13.3 in /usr/local/python/3.10.8/lib/python3.10/site-packages (from sphinx-book-theme~=1.0.0->jupyter-book) (0.14.3)\r\n"
     ]
    },
    {
     "name": "stdout",
     "output_type": "stream",
     "text": [
      "Requirement already satisfied: pybtex>=0.24 in /usr/local/python/3.10.8/lib/python3.10/site-packages (from sphinxcontrib-bibtex<=2.5.0,>=2.2.0->jupyter-book) (0.24.0)\r\n",
      "Requirement already satisfied: pybtex-docutils>=1.0.0 in /usr/local/python/3.10.8/lib/python3.10/site-packages (from sphinxcontrib-bibtex<=2.5.0,>=2.2.0->jupyter-book) (1.0.3)\r\n",
      "Requirement already satisfied: zipp>=0.5 in /usr/local/python/3.10.8/lib/python3.10/site-packages (from importlib_metadata->myst-nb) (3.17.0)\r\n"
     ]
    },
    {
     "name": "stdout",
     "output_type": "stream",
     "text": [
      "Requirement already satisfied: comm>=0.1.1 in /home/codespace/.local/lib/python3.10/site-packages (from ipykernel->myst-nb) (0.1.4)\r\n",
      "Requirement already satisfied: debugpy>=1.6.5 in /home/codespace/.local/lib/python3.10/site-packages (from ipykernel->myst-nb) (1.8.0)\r\n",
      "Requirement already satisfied: matplotlib-inline>=0.1 in /home/codespace/.local/lib/python3.10/site-packages (from ipykernel->myst-nb) (0.1.6)\r\n",
      "Requirement already satisfied: nest-asyncio in /home/codespace/.local/lib/python3.10/site-packages (from ipykernel->myst-nb) (1.5.8)\r\n",
      "Requirement already satisfied: psutil in /home/codespace/.local/lib/python3.10/site-packages (from ipykernel->myst-nb) (5.9.6)\r\n",
      "Requirement already satisfied: pyzmq>=20 in /home/codespace/.local/lib/python3.10/site-packages (from ipykernel->myst-nb) (25.1.1)\r\n",
      "Requirement already satisfied: tornado>=6.1 in /home/codespace/.local/lib/python3.10/site-packages (from ipykernel->myst-nb) (6.3.3)\r\n"
     ]
    },
    {
     "name": "stdout",
     "output_type": "stream",
     "text": [
      "Requirement already satisfied: backcall in /home/codespace/.local/lib/python3.10/site-packages (from ipython->myst-nb) (0.2.0)\r\n",
      "Requirement already satisfied: decorator in /home/codespace/.local/lib/python3.10/site-packages (from ipython->myst-nb) (5.1.1)\r\n",
      "Requirement already satisfied: jedi>=0.16 in /home/codespace/.local/lib/python3.10/site-packages (from ipython->myst-nb) (0.19.1)\r\n",
      "Requirement already satisfied: pickleshare in /home/codespace/.local/lib/python3.10/site-packages (from ipython->myst-nb) (0.7.5)\r\n",
      "Requirement already satisfied: prompt-toolkit!=3.0.37,<3.1.0,>=3.0.30 in /home/codespace/.local/lib/python3.10/site-packages (from ipython->myst-nb) (3.0.39)\r\n",
      "Requirement already satisfied: stack-data in /home/codespace/.local/lib/python3.10/site-packages (from ipython->myst-nb) (0.6.3)\r\n",
      "Requirement already satisfied: exceptiongroup in /home/codespace/.local/lib/python3.10/site-packages (from ipython->myst-nb) (1.1.3)\r\n",
      "Requirement already satisfied: pexpect>4.3 in /home/codespace/.local/lib/python3.10/site-packages (from ipython->myst-nb) (4.8.0)\r\n"
     ]
    },
    {
     "name": "stdout",
     "output_type": "stream",
     "text": [
      "Requirement already satisfied: setuptools in /usr/local/python/3.10.8/lib/python3.10/site-packages (from sphinx_togglebutton->jupyter-book) (68.0.0)\r\n",
      "Requirement already satisfied: wheel in /usr/local/python/3.10.8/lib/python3.10/site-packages (from sphinx_togglebutton->jupyter-book) (0.41.3)\r\n"
     ]
    },
    {
     "name": "stdout",
     "output_type": "stream",
     "text": [
      "Requirement already satisfied: parso<0.9.0,>=0.8.3 in /home/codespace/.local/lib/python3.10/site-packages (from jedi>=0.16->ipython->myst-nb) (0.8.3)\r\n"
     ]
    },
    {
     "name": "stdout",
     "output_type": "stream",
     "text": [
      "Requirement already satisfied: python-dateutil>=2.8.2 in /home/codespace/.local/lib/python3.10/site-packages (from jupyter-client>=6.1.12->nbclient->myst-nb) (2.8.2)\r\n",
      "Requirement already satisfied: platformdirs>=2.5 in /home/codespace/.local/lib/python3.10/site-packages (from jupyter-core!=5.0.*,>=4.12->nbclient->myst-nb) (3.11.0)\r\n"
     ]
    },
    {
     "name": "stdout",
     "output_type": "stream",
     "text": [
      "Requirement already satisfied: mdurl~=0.1 in /usr/local/python/3.10.8/lib/python3.10/site-packages (from markdown-it-py<3.0.0,>=1.0.0->myst-parser~=0.18.0->myst-nb) (0.1.2)\r\n",
      "Requirement already satisfied: ptyprocess>=0.5 in /home/codespace/.local/lib/python3.10/site-packages (from pexpect>4.3->ipython->myst-nb) (0.7.0)\r\n",
      "Requirement already satisfied: wcwidth in /home/codespace/.local/lib/python3.10/site-packages (from prompt-toolkit!=3.0.37,<3.1.0,>=3.0.30->ipython->myst-nb) (0.2.8)\r\n",
      "Requirement already satisfied: latexcodec>=1.0.4 in /usr/local/python/3.10.8/lib/python3.10/site-packages (from pybtex>=0.24->sphinxcontrib-bibtex<=2.5.0,>=2.2.0->jupyter-book) (2.0.1)\r\n",
      "Requirement already satisfied: six in /home/codespace/.local/lib/python3.10/site-packages (from pybtex>=0.24->sphinxcontrib-bibtex<=2.5.0,>=2.2.0->jupyter-book) (1.16.0)\r\n"
     ]
    },
    {
     "name": "stdout",
     "output_type": "stream",
     "text": [
      "Requirement already satisfied: beautifulsoup4 in /home/codespace/.local/lib/python3.10/site-packages (from pydata-sphinx-theme>=0.13.3->sphinx-book-theme~=1.0.0->jupyter-book) (4.12.2)\r\n",
      "Requirement already satisfied: accessible-pygments in /usr/local/python/3.10.8/lib/python3.10/site-packages (from pydata-sphinx-theme>=0.13.3->sphinx-book-theme~=1.0.0->jupyter-book) (0.0.4)\r\n"
     ]
    },
    {
     "name": "stdout",
     "output_type": "stream",
     "text": [
      "Requirement already satisfied: charset-normalizer<4,>=2 in /home/codespace/.local/lib/python3.10/site-packages (from requests>=2.5.0->sphinx<6,>=4->jupyter-book) (3.3.0)\r\n",
      "Requirement already satisfied: idna<4,>=2.5 in /home/codespace/.local/lib/python3.10/site-packages (from requests>=2.5.0->sphinx<6,>=4->jupyter-book) (3.4)\r\n",
      "Requirement already satisfied: urllib3<3,>=1.21.1 in /usr/local/python/3.10.8/lib/python3.10/site-packages (from requests>=2.5.0->sphinx<6,>=4->jupyter-book) (1.26.18)\r\n",
      "Requirement already satisfied: certifi>=2017.4.17 in /home/codespace/.local/lib/python3.10/site-packages (from requests>=2.5.0->sphinx<6,>=4->jupyter-book) (2023.7.22)\r\n"
     ]
    },
    {
     "name": "stdout",
     "output_type": "stream",
     "text": [
      "Requirement already satisfied: greenlet!=0.4.17 in /usr/local/python/3.10.8/lib/python3.10/site-packages (from sqlalchemy<3,>=1.3.12->jupyter-cache<0.7,>=0.5->myst-nb) (3.0.1)\r\n"
     ]
    },
    {
     "name": "stdout",
     "output_type": "stream",
     "text": [
      "Requirement already satisfied: executing>=1.2.0 in /home/codespace/.local/lib/python3.10/site-packages (from stack-data->ipython->myst-nb) (2.0.0)\r\n",
      "Requirement already satisfied: asttokens>=2.1.0 in /home/codespace/.local/lib/python3.10/site-packages (from stack-data->ipython->myst-nb) (2.4.0)\r\n",
      "Requirement already satisfied: pure-eval in /home/codespace/.local/lib/python3.10/site-packages (from stack-data->ipython->myst-nb) (0.2.2)\r\n"
     ]
    },
    {
     "name": "stdout",
     "output_type": "stream",
     "text": [
      "Requirement already satisfied: soupsieve>1.2 in /home/codespace/.local/lib/python3.10/site-packages (from beautifulsoup4->pydata-sphinx-theme>=0.13.3->sphinx-book-theme~=1.0.0->jupyter-book) (2.5)\r\n"
     ]
    },
    {
     "name": "stdout",
     "output_type": "stream",
     "text": [
      "Note: you may need to restart the kernel to use updated packages.\n"
     ]
    }
   ],
   "source": [
    "%pip install pyppeteer \n",
    "%pip install -U jupyter-book myst-nb\n"
   ]
  },
  {
   "cell_type": "code",
   "execution_count": 3,
   "metadata": {},
   "outputs": [
    {
     "name": "stdout",
     "output_type": "stream",
     "text": [
      "/workspaces/LeetCode-Solutions\n"
     ]
    }
   ],
   "source": [
    "%cd /workspaces/LeetCode-Solutions/"
   ]
  },
  {
   "cell_type": "code",
   "execution_count": 4,
   "metadata": {},
   "outputs": [
    {
     "name": "stdout",
     "output_type": "stream",
     "text": [
      "Traceback (most recent call last):\r\n",
      "  File \"/home/codespace/.python/current/bin/jupyter-book\", line 8, in <module>\r\n",
      "    sys.exit(main())\r\n",
      "  File \"/usr/local/python/3.10.8/lib/python3.10/site-packages/click/core.py\", line 1157, in __call__\r\n",
      "    return self.main(*args, **kwargs)\r\n",
      "  File \"/usr/local/python/3.10.8/lib/python3.10/site-packages/click/core.py\", line 1078, in main\r\n",
      "    rv = self.invoke(ctx)\r\n",
      "  File \"/usr/local/python/3.10.8/lib/python3.10/site-packages/click/core.py\", line 1688, in invoke\r\n",
      "    return _process_result(sub_ctx.command.invoke(sub_ctx))\r\n",
      "  File \"/usr/local/python/3.10.8/lib/python3.10/site-packages/click/core.py\", line 1688, in invoke\r\n",
      "    return _process_result(sub_ctx.command.invoke(sub_ctx))\r\n",
      "  File \"/usr/local/python/3.10.8/lib/python3.10/site-packages/click/core.py\", line 1434, in invoke\r\n",
      "    return ctx.invoke(self.callback, **ctx.params)\r\n",
      "  File \"/usr/local/python/3.10.8/lib/python3.10/site-packages/click/core.py\", line 783, in invoke\r\n",
      "    return __callback(*args, **kwargs)\r\n",
      "  File \"/usr/local/python/3.10.8/lib/python3.10/site-packages/sphinx_external_toc/cli.py\", line 139, in migrate_toc\r\n",
      "    toc = migrate_jupyter_book(Path(toc_file))\r\n",
      "  File \"/usr/local/python/3.10.8/lib/python3.10/site-packages/sphinx_external_toc/tools.py\", line 327, in migrate_jupyter_book\r\n",
      "    raise MalformedError(\"no top-level 'file' key found\")\r\n",
      "sphinx_external_toc.parsing.MalformedError: no top-level 'file' key found\r\n"
     ]
    }
   ],
   "source": [
    "!jupyter-book toc migrate /workspaces/LeetCode-Solutions/_toc.yml -o /workspaces/LeetCode-Solutions/_toc.yml"
   ]
  },
  {
   "cell_type": "code",
   "execution_count": 5,
   "metadata": {},
   "outputs": [
    {
     "name": "stdout",
     "output_type": "stream",
     "text": [
      "\u001b[32m\u001b[1mRunning Jupyter-Book v0.15.1\u001b[0m\r\n"
     ]
    },
    {
     "name": "stdout",
     "output_type": "stream",
     "text": [
      "\u001b[34m\u001b[1mSource Folder: \u001b[0m/workspaces/LeetCode-Solutions\r\n",
      "\u001b[34m\u001b[1mConfig Path: \u001b[0m/workspaces/LeetCode-Solutions/_config.yml\r\n",
      "\u001b[34m\u001b[1mOutput Path: \u001b[0m/workspaces/LeetCode-Solutions/_build/html\r\n",
      "\u001b[01mRunning Sphinx v5.0.2\u001b[39;49;00m\r\n"
     ]
    },
    {
     "name": "stdout",
     "output_type": "stream",
     "text": [
      "[etoc] Changing master_doc to 'README'\r\n",
      "\u001b[01mloading pickled environment... \u001b[39;49;00mdone\r\n"
     ]
    },
    {
     "name": "stdout",
     "output_type": "stream",
     "text": [
      "\u001b[01mmyst v0.18.1:\u001b[39;49;00m MdParserConfig(commonmark_only=False, gfm_only=False, enable_extensions=['colon_fence', 'dollarmath', 'linkify', 'substitution', 'tasklist'], disable_syntax=[], all_links_external=False, url_schemes=['mailto', 'http', 'https'], ref_domains=None, highlight_code_blocks=True, number_code_blocks=[], title_to_header=False, heading_anchors=None, heading_slug_func=None, footnote_transition=True, words_per_minute=200, sub_delimiters=('{', '}'), linkify_fuzzy_links=True, dmath_allow_labels=True, dmath_allow_space=True, dmath_allow_digits=True, dmath_double_inline=False, update_mathjax=True, mathjax_classes='tex2jax_process|mathjax_process|math|output_area')\r\n",
      "\u001b[01mmyst-nb v0.17.2:\u001b[39;49;00m NbParserConfig(custom_formats={}, metadata_key='mystnb', cell_metadata_key='mystnb', kernel_rgx_aliases={}, execution_mode='auto', execution_cache_path='', execution_excludepatterns=[], execution_timeout=30, execution_in_temp=False, execution_allow_errors=False, execution_raise_on_error=False, execution_show_tb=False, merge_streams=False, render_plugin='default', remove_code_source=False, remove_code_outputs=False, code_prompt_show='Show code cell {type}', code_prompt_hide='Hide code cell {type}', number_source_lines=False, output_stderr='show', render_text_lexer='myst-ansi', render_error_lexer='ipythontb', render_image_options={}, render_figure_options={}, render_markdown_format='commonmark', output_folder='build', append_css=True, metadata_to_fm=False)\r\n",
      "Using jupyter-cache at: /workspaces/LeetCode-Solutions/_build/.jupyter_cache\r\n",
      "\u001b[01mbuilding [mo]: \u001b[39;49;00mtargets for 0 po files that are out of date\r\n",
      "\u001b[01mbuilding [html]: \u001b[39;49;00mtargets for 130 source files that are out of date\r\n",
      "\u001b[01mupdating environment: \u001b[39;49;00m"
     ]
    },
    {
     "name": "stdout",
     "output_type": "stream",
     "text": [
      "0 added, 1 changed, 0 removed\r\n",
      "\u001b[01mreading sources... \u001b[39;49;00m[100%] \u001b[35mBook\u001b[39;49;00m                                                  \r"
     ]
    },
    {
     "name": "stdout",
     "output_type": "stream",
     "text": [
      "/workspaces/LeetCode-Solutions/Book.ipynb: Executing notebook using local CWD [mystnb]\r\n"
     ]
    },
    {
     "name": "stdout",
     "output_type": "stream",
     "text": [
      "^C\r\n"
     ]
    }
   ],
   "source": [
    "!jupyter-book build ."
   ]
  },
  {
   "cell_type": "code",
   "execution_count": 1,
   "metadata": {},
   "outputs": [
    {
     "name": "stdout",
     "output_type": "stream",
     "text": [
      "\u001b[32m\u001b[1mRunning Jupyter-Book v0.15.1\u001b[0m\n",
      "\u001b[34m\u001b[1mSource Folder: \u001b[0m/workspaces/LeetCode-Solutions\n",
      "\u001b[34m\u001b[1mConfig Path: \u001b[0m/workspaces/LeetCode-Solutions/_config.yml\n",
      "\u001b[34m\u001b[1mOutput Path: \u001b[0m/workspaces/LeetCode-Solutions/_build/html\n",
      "\u001b[01mRunning Sphinx v5.0.2\u001b[39;49;00m\n",
      "[etoc] Changing master_doc to 'README'\n",
      "\u001b[01mloading pickled environment... \u001b[39;49;00mdone\n",
      "\u001b[01mmyst v0.18.1:\u001b[39;49;00m MdParserConfig(commonmark_only=False, gfm_only=False, enable_extensions=['colon_fence', 'dollarmath', 'linkify', 'substitution', 'tasklist'], disable_syntax=[], all_links_external=False, url_schemes=['mailto', 'http', 'https'], ref_domains=None, highlight_code_blocks=True, number_code_blocks=[], title_to_header=False, heading_anchors=None, heading_slug_func=None, footnote_transition=True, words_per_minute=200, sub_delimiters=('{', '}'), linkify_fuzzy_links=True, dmath_allow_labels=True, dmath_allow_space=True, dmath_allow_digits=True, dmath_double_inline=False, update_mathjax=True, mathjax_classes='tex2jax_process|mathjax_process|math|output_area')\n",
      "\u001b[01mmyst-nb v0.17.2:\u001b[39;49;00m NbParserConfig(custom_formats={}, metadata_key='mystnb', cell_metadata_key='mystnb', kernel_rgx_aliases={}, execution_mode='auto', execution_cache_path='', execution_excludepatterns=[], execution_timeout=30, execution_in_temp=False, execution_allow_errors=False, execution_raise_on_error=False, execution_show_tb=False, merge_streams=False, render_plugin='default', remove_code_source=False, remove_code_outputs=False, code_prompt_show='Show code cell {type}', code_prompt_hide='Hide code cell {type}', number_source_lines=False, output_stderr='show', render_text_lexer='myst-ansi', render_error_lexer='ipythontb', render_image_options={}, render_figure_options={}, render_markdown_format='commonmark', output_folder='build', append_css=True, metadata_to_fm=False)\n",
      "Using jupyter-cache at: /workspaces/LeetCode-Solutions/_build/.jupyter_cache\n",
      "\u001b[01mbuilding [mo]: \u001b[39;49;00mtargets for 0 po files that are out of date\n",
      "\u001b[01mbuilding [singlehtml]: \u001b[39;49;00mall documents\n",
      "\u001b[01mupdating environment: \u001b[39;49;00m0 added, 1 changed, 0 removed\n",
      "/workspaces/LeetCode-Solutions/Book.ipynb: Executing notebook using local CWD [mystnb]                          \n",
      "\n",
      "\u001b[91m/workspaces/LeetCode-Solutions/Book.ipynb: WARNING: Executing notebook failed: CellTimeoutError [mystnb.exec]\u001b[39;49;00m\n",
      "\u001b[91m/workspaces/LeetCode-Solutions/Book.ipynb: WARNING: Notebook exception traceback saved in: /workspaces/LeetCode-Solutions/_build/html/reports/Book.err.log [mystnb.exec]\u001b[39;49;00m\n",
      "\u001b[01mlooking for now-outdated files... \u001b[39;49;00mnone found\n",
      "\u001b[01mpickling environment... \u001b[39;49;00mdone\n",
      "\u001b[01mchecking consistency... \u001b[39;49;00m\u001b[91m/workspaces/LeetCode-Solutions/.github/ISSUE_TEMPLATE/bug_report.md: WARNING: document isn't included in any toctree\u001b[39;49;00m\n",
      "\u001b[91m/workspaces/LeetCode-Solutions/.github/ISSUE_TEMPLATE/feature_request.md: WARNING: document isn't included in any toctree\u001b[39;49;00m\n",
      "\u001b[91m/workspaces/LeetCode-Solutions/Book.ipynb: WARNING: document isn't included in any toctree\u001b[39;49;00m\n",
      "\u001b[91m/workspaces/LeetCode-Solutions/CODE_OF_CONDUCT.md: WARNING: document isn't included in any toctree\u001b[39;49;00m\n",
      "\u001b[91m/workspaces/LeetCode-Solutions/CONTRIBUTING.md: WARNING: document isn't included in any toctree\u001b[39;49;00m\n",
      "\u001b[91m/workspaces/LeetCode-Solutions/SECURITY.md: WARNING: document isn't included in any toctree\u001b[39;49;00m\n",
      "\u001b[91m/workspaces/LeetCode-Solutions/docs/jupyter_execute/01. Array Hashing/1. Two Sum.ipynb: WARNING: document isn't included in any toctree\u001b[39;49;00m\n",
      "\u001b[91m/workspaces/LeetCode-Solutions/docs/jupyter_execute/01. Array Hashing/128. Longest Consecutive Sequence.ipynb: WARNING: document isn't included in any toctree\u001b[39;49;00m\n",
      "\u001b[91m/workspaces/LeetCode-Solutions/docs/jupyter_execute/01. Array Hashing/217. Contains Duplicate.ipynb: WARNING: document isn't included in any toctree\u001b[39;49;00m\n",
      "\u001b[91m/workspaces/LeetCode-Solutions/docs/jupyter_execute/01. Array Hashing/238. Product of Array Except Self.ipynb: WARNING: document isn't included in any toctree\u001b[39;49;00m\n",
      "\u001b[91m/workspaces/LeetCode-Solutions/docs/jupyter_execute/01. Array Hashing/242. Valid Anagram.ipynb: WARNING: document isn't included in any toctree\u001b[39;49;00m\n",
      "\u001b[91m/workspaces/LeetCode-Solutions/docs/jupyter_execute/01. Array Hashing/347. Top K Frequent Elements.ipynb: WARNING: document isn't included in any toctree\u001b[39;49;00m\n",
      "\u001b[91m/workspaces/LeetCode-Solutions/docs/jupyter_execute/01. Array Hashing/49. Group Anagrams.ipynb: WARNING: document isn't included in any toctree\u001b[39;49;00m\n",
      "\u001b[91m/workspaces/LeetCode-Solutions/docs/jupyter_execute/01. Array Hashing/659. Encode and Decode Strings.ipynb: WARNING: document isn't included in any toctree\u001b[39;49;00m\n",
      "\u001b[91m/workspaces/LeetCode-Solutions/docs/jupyter_execute/02. Two Pointers/11. Container With Most Water.ipynb: WARNING: document isn't included in any toctree\u001b[39;49;00m\n",
      "\u001b[91m/workspaces/LeetCode-Solutions/docs/jupyter_execute/02. Two Pointers/125. Valid Palindrome.ipynb: WARNING: document isn't included in any toctree\u001b[39;49;00m\n",
      "\u001b[91m/workspaces/LeetCode-Solutions/docs/jupyter_execute/02. Two Pointers/15. 3Sum.ipynb: WARNING: document isn't included in any toctree\u001b[39;49;00m\n",
      "\u001b[91m/workspaces/LeetCode-Solutions/docs/jupyter_execute/03. Sliding Window/121. Best Time to Buy and Sell Stock.ipynb: WARNING: document isn't included in any toctree\u001b[39;49;00m\n",
      "\u001b[91m/workspaces/LeetCode-Solutions/docs/jupyter_execute/03. Sliding Window/3. Longest Substring Without Repeating Characters.ipynb: WARNING: document isn't included in any toctree\u001b[39;49;00m\n",
      "\u001b[91m/workspaces/LeetCode-Solutions/docs/jupyter_execute/03. Sliding Window/424. Longest Repeating Character Replacement.ipynb: WARNING: document isn't included in any toctree\u001b[39;49;00m\n",
      "\u001b[91m/workspaces/LeetCode-Solutions/docs/jupyter_execute/03. Sliding Window/76. Minimum Window Substring.ipynb: WARNING: document isn't included in any toctree\u001b[39;49;00m\n",
      "\u001b[91m/workspaces/LeetCode-Solutions/docs/jupyter_execute/04. Stack/20. Valid Parentheses.ipynb: WARNING: document isn't included in any toctree\u001b[39;49;00m\n",
      "\u001b[91m/workspaces/LeetCode-Solutions/docs/jupyter_execute/05. Binary Search/153. Find Minimum in Rotated Sorted Array.ipynb: WARNING: document isn't included in any toctree\u001b[39;49;00m\n",
      "\u001b[91m/workspaces/LeetCode-Solutions/docs/jupyter_execute/05. Binary Search/33. Search in Rotated Sorted Array.ipynb: WARNING: document isn't included in any toctree\u001b[39;49;00m\n",
      "\u001b[91m/workspaces/LeetCode-Solutions/docs/jupyter_execute/06. Linked List/141. Linked List Cycle.ipynb: WARNING: document isn't included in any toctree\u001b[39;49;00m\n",
      "\u001b[91m/workspaces/LeetCode-Solutions/docs/jupyter_execute/06. Linked List/143. Reorder List.ipynb: WARNING: document isn't included in any toctree\u001b[39;49;00m\n",
      "\u001b[91m/workspaces/LeetCode-Solutions/docs/jupyter_execute/06. Linked List/19. Remove Nth Node From End of List.ipynb: WARNING: document isn't included in any toctree\u001b[39;49;00m\n",
      "\u001b[91m/workspaces/LeetCode-Solutions/docs/jupyter_execute/06. Linked List/206. Reverse Linked List.ipynb: WARNING: document isn't included in any toctree\u001b[39;49;00m\n",
      "\u001b[91m/workspaces/LeetCode-Solutions/docs/jupyter_execute/06. Linked List/21. Merge Two Sorted Lists.ipynb: WARNING: document isn't included in any toctree\u001b[39;49;00m\n",
      "\u001b[91m/workspaces/LeetCode-Solutions/docs/jupyter_execute/06. Linked List/23. Merge k Sorted Lists.ipynb: WARNING: document isn't included in any toctree\u001b[39;49;00m\n",
      "\u001b[91m/workspaces/LeetCode-Solutions/docs/jupyter_execute/07. Trees/100. Same Tree.ipynb: WARNING: document isn't included in any toctree\u001b[39;49;00m\n",
      "\u001b[91m/workspaces/LeetCode-Solutions/docs/jupyter_execute/07. Trees/102. Binary Tree Level Order Traversal.ipynb: WARNING: document isn't included in any toctree\u001b[39;49;00m\n",
      "\u001b[91m/workspaces/LeetCode-Solutions/docs/jupyter_execute/07. Trees/104. Maximum Depth of Binary Tree.ipynb: WARNING: document isn't included in any toctree\u001b[39;49;00m\n",
      "\u001b[91m/workspaces/LeetCode-Solutions/docs/jupyter_execute/07. Trees/105. Construct Binary Tree from Preorder and Inorder Traversal.ipynb: WARNING: document isn't included in any toctree\u001b[39;49;00m\n",
      "\u001b[91m/workspaces/LeetCode-Solutions/docs/jupyter_execute/07. Trees/124. Binary Tree Maximum Path Sum.ipynb: WARNING: document isn't included in any toctree\u001b[39;49;00m\n",
      "\u001b[91m/workspaces/LeetCode-Solutions/docs/jupyter_execute/07. Trees/199. Binary Tree Right Side View.ipynb: WARNING: document isn't included in any toctree\u001b[39;49;00m\n",
      "\u001b[91m/workspaces/LeetCode-Solutions/docs/jupyter_execute/07. Trees/226. Invert Binary Tree.ipynb: WARNING: document isn't included in any toctree\u001b[39;49;00m\n",
      "\u001b[91m/workspaces/LeetCode-Solutions/docs/jupyter_execute/07. Trees/230. Kth Smallest Element in a BST.ipynb: WARNING: document isn't included in any toctree\u001b[39;49;00m\n",
      "\u001b[91m/workspaces/LeetCode-Solutions/docs/jupyter_execute/07. Trees/235. Lowest Common Ancestor of a Binary Search Tree.ipynb: WARNING: document isn't included in any toctree\u001b[39;49;00m\n",
      "\u001b[91m/workspaces/LeetCode-Solutions/docs/jupyter_execute/07. Trees/297. Serialize and Deserialize Binary Tree.ipynb: WARNING: document isn't included in any toctree\u001b[39;49;00m\n",
      "\u001b[91m/workspaces/LeetCode-Solutions/docs/jupyter_execute/07. Trees/572. Subtree of Another Tree.ipynb: WARNING: document isn't included in any toctree\u001b[39;49;00m\n",
      "\u001b[91m/workspaces/LeetCode-Solutions/docs/jupyter_execute/07. Trees/98. Validate Binary Search Tree.ipynb: WARNING: document isn't included in any toctree\u001b[39;49;00m\n",
      "\u001b[91m/workspaces/LeetCode-Solutions/docs/jupyter_execute/08. Tries/208. Implement Trie (Prefix Tree).ipynb: WARNING: document isn't included in any toctree\u001b[39;49;00m\n",
      "\u001b[91m/workspaces/LeetCode-Solutions/docs/jupyter_execute/08. Tries/211. Design Add and Search Words Data Structure.ipynb: WARNING: document isn't included in any toctree\u001b[39;49;00m\n",
      "\u001b[91m/workspaces/LeetCode-Solutions/docs/jupyter_execute/08. Tries/212. Word Search II.ipynb: WARNING: document isn't included in any toctree\u001b[39;49;00m\n",
      "\u001b[91m/workspaces/LeetCode-Solutions/docs/jupyter_execute/09. Heap - Priority Queue/1046. Last Stone Weight.ipynb: WARNING: document isn't included in any toctree\u001b[39;49;00m\n",
      "\u001b[91m/workspaces/LeetCode-Solutions/docs/jupyter_execute/09. Heap - Priority Queue/295. Find Median from Data Stream.ipynb: WARNING: document isn't included in any toctree\u001b[39;49;00m\n",
      "\u001b[91m/workspaces/LeetCode-Solutions/docs/jupyter_execute/09. Heap - Priority Queue/703. Kth Largest Element in a Stream.ipynb: WARNING: document isn't included in any toctree\u001b[39;49;00m\n",
      "\u001b[91m/workspaces/LeetCode-Solutions/docs/jupyter_execute/10. Backtracking/39. Combination Sum.ipynb: WARNING: document isn't included in any toctree\u001b[39;49;00m\n",
      "\u001b[91m/workspaces/LeetCode-Solutions/docs/jupyter_execute/10. Backtracking/79. Word Search.ipynb: WARNING: document isn't included in any toctree\u001b[39;49;00m\n",
      "\u001b[91m/workspaces/LeetCode-Solutions/docs/jupyter_execute/11. Graphs/133. Clone Graph.ipynb: WARNING: document isn't included in any toctree\u001b[39;49;00m\n",
      "\u001b[91m/workspaces/LeetCode-Solutions/docs/jupyter_execute/11. Graphs/178. Graph Valid Tree.ipynb: WARNING: document isn't included in any toctree\u001b[39;49;00m\n",
      "\u001b[91m/workspaces/LeetCode-Solutions/docs/jupyter_execute/11. Graphs/200. Number of Islands.ipynb: WARNING: document isn't included in any toctree\u001b[39;49;00m\n",
      "\u001b[91m/workspaces/LeetCode-Solutions/docs/jupyter_execute/11. Graphs/207. Course Schedule.ipynb: WARNING: document isn't included in any toctree\u001b[39;49;00m\n",
      "\u001b[91m/workspaces/LeetCode-Solutions/docs/jupyter_execute/11. Graphs/3651. Number of Connected Components in an Undirected Graph.ipynb: WARNING: document isn't included in any toctree\u001b[39;49;00m\n",
      "\u001b[91m/workspaces/LeetCode-Solutions/docs/jupyter_execute/11. Graphs/417. Pacific Atlantic Water Flow.ipynb: WARNING: document isn't included in any toctree\u001b[39;49;00m\n",
      "\u001b[91m/workspaces/LeetCode-Solutions/docs/jupyter_execute/12. Advanced Graphs/892. Alien Dictionary.ipynb: WARNING: document isn't included in any toctree\u001b[39;49;00m\n",
      "\u001b[91m/workspaces/LeetCode-Solutions/docs/jupyter_execute/13. One-D Dynamic Programming/70. Climbing Stairs.ipynb: WARNING: document isn't included in any toctree\u001b[39;49;00m\n",
      "\u001b[91m/workspaces/LeetCode-Solutions/docs/jupyter_execute/Book.ipynb: WARNING: document isn't included in any toctree\u001b[39;49;00m\n",
      "done\n",
      "\u001b[01mpreparing documents... \u001b[39;49;00mdone\n",
      "\u001b[01massembling single document... \u001b[39;49;00m\u001b[32m01. Array Hashing/README\u001b[39;49;00m \u001b[32m01. Array Hashing/1. Two Sum\u001b[39;49;00m \u001b[32m01. Array Hashing/128. Longest Consecutive Sequence\u001b[39;49;00m \u001b[32m01. Array Hashing/217. Contains Duplicate\u001b[39;49;00m \u001b[32m01. Array Hashing/238. Product of Array Except Self\u001b[39;49;00m \u001b[32m01. Array Hashing/242. Valid Anagram\u001b[39;49;00m \u001b[32m01. Array Hashing/347. Top K Frequent Elements\u001b[39;49;00m \u001b[32m01. Array Hashing/49. Group Anagrams\u001b[39;49;00m \u001b[32m01. Array Hashing/659. Encode and Decode Strings\u001b[39;49;00m \u001b[32m02. Two Pointers/README\u001b[39;49;00m \u001b[32m02. Two Pointers/11. Container With Most Water\u001b[39;49;00m \u001b[32m02. Two Pointers/125. Valid Palindrome\u001b[39;49;00m \u001b[32m02. Two Pointers/15. 3Sum\u001b[39;49;00m \u001b[32m03. Sliding Window/README\u001b[39;49;00m \u001b[32m03. Sliding Window/121. Best Time to Buy and Sell Stock\u001b[39;49;00m \u001b[32m03. Sliding Window/3. Longest Substring Without Repeating Characters\u001b[39;49;00m \u001b[32m03. Sliding Window/424. Longest Repeating Character Replacement\u001b[39;49;00m \u001b[32m03. Sliding Window/76. Minimum Window Substring\u001b[39;49;00m \u001b[32m04. Stack/README\u001b[39;49;00m \u001b[32m04. Stack/20. Valid Parentheses\u001b[39;49;00m \u001b[32m05. Binary Search/README\u001b[39;49;00m \u001b[32m05. Binary Search/153. Find Minimum in Rotated Sorted Array\u001b[39;49;00m \u001b[32m05. Binary Search/33. Search in Rotated Sorted Array\u001b[39;49;00m \u001b[32m06. Linked List/README\u001b[39;49;00m \u001b[32m06. Linked List/141. Linked List Cycle\u001b[39;49;00m \u001b[32m06. Linked List/143. Reorder List\u001b[39;49;00m \u001b[32m06. Linked List/19. Remove Nth Node From End of List\u001b[39;49;00m \u001b[32m06. Linked List/206. Reverse Linked List\u001b[39;49;00m \u001b[32m06. Linked List/21. Merge Two Sorted Lists\u001b[39;49;00m \u001b[32m06. Linked List/23. Merge k Sorted Lists\u001b[39;49;00m \u001b[32m07. Trees/README\u001b[39;49;00m \u001b[32m07. Trees/100. Same Tree\u001b[39;49;00m \u001b[32m07. Trees/102. Binary Tree Level Order Traversal\u001b[39;49;00m \u001b[32m07. Trees/104. Maximum Depth of Binary Tree\u001b[39;49;00m \u001b[32m07. Trees/105. Construct Binary Tree from Preorder and Inorder Traversal\u001b[39;49;00m \u001b[32m07. Trees/124. Binary Tree Maximum Path Sum\u001b[39;49;00m \u001b[32m07. Trees/199. Binary Tree Right Side View\u001b[39;49;00m \u001b[32m07. Trees/226. Invert Binary Tree\u001b[39;49;00m \u001b[32m07. Trees/230. Kth Smallest Element in a BST\u001b[39;49;00m \u001b[32m07. Trees/235. Lowest Common Ancestor of a Binary Search Tree\u001b[39;49;00m \u001b[32m07. Trees/297. Serialize and Deserialize Binary Tree\u001b[39;49;00m \u001b[32m07. Trees/572. Subtree of Another Tree\u001b[39;49;00m \u001b[32m07. Trees/98. Validate Binary Search Tree\u001b[39;49;00m \u001b[32m08. Tries/README\u001b[39;49;00m \u001b[32m08. Tries/208. Implement Trie (Prefix Tree)\u001b[39;49;00m \u001b[32m08. Tries/211. Design Add and Search Words Data Structure\u001b[39;49;00m \u001b[32m08. Tries/212. Word Search II\u001b[39;49;00m \u001b[32m09. Heap - Priority Queue/README\u001b[39;49;00m \u001b[32m09. Heap - Priority Queue/1046. Last Stone Weight\u001b[39;49;00m \u001b[32m09. Heap - Priority Queue/295. Find Median from Data Stream\u001b[39;49;00m \u001b[32m09. Heap - Priority Queue/703. Kth Largest Element in a Stream\u001b[39;49;00m \u001b[32m10. Backtracking/README\u001b[39;49;00m \u001b[32m10. Backtracking/39. Combination Sum\u001b[39;49;00m \u001b[32m10. Backtracking/79. Word Search\u001b[39;49;00m \u001b[32m11. Graphs/README\u001b[39;49;00m \u001b[32m11. Graphs/133. Clone Graph\u001b[39;49;00m \u001b[32m11. Graphs/178. Graph Valid Tree\u001b[39;49;00m \u001b[32m11. Graphs/200. Number of Islands\u001b[39;49;00m \u001b[32m11. Graphs/207. Course Schedule\u001b[39;49;00m \u001b[32m11. Graphs/3651. Number of Connected Components in an Undirected Graph\u001b[39;49;00m \u001b[32m11. Graphs/417. Pacific Atlantic Water Flow\u001b[39;49;00m \u001b[32m12. Advanced Graphs/README\u001b[39;49;00m \u001b[32m12. Advanced Graphs/892. Alien Dictionary\u001b[39;49;00m \u001b[32m13. One-D Dynamic Programming/README\u001b[39;49;00m \u001b[32m13. One-D Dynamic Programming/70. Climbing Stairs\u001b[39;49;00m \u001b[32m14. Two-D Dynamic Programming/README\u001b[39;49;00m \u001b[32m15. Greedy/README\u001b[39;49;00m \u001b[32m16. Intervals/README\u001b[39;49;00m \u001b[32m17. Math Geometry/README\u001b[39;49;00m \u001b[32m18. Bit Manipulation/README\u001b[39;49;00m done\n",
      "\u001b[01mwriting... \u001b[39;49;00mdone\n",
      "\u001b[01mwriting additional files... \u001b[39;49;00mdone\n",
      "\u001b[01mcopying static files... \u001b[39;49;00mdone\n",
      "\u001b[01mcopying extra files... \u001b[39;49;00mdone\n",
      "\u001b[01mdumping object inventory... \u001b[39;49;00mdone\n",
      "\u001b[01mbuild succeeded, 61 warnings.\u001b[39;49;00m\n",
      "\n",
      "The HTML page is in _build/html.\n",
      "Finished generating HTML for book...\n",
      "Converting book HTML into PDF...\n",
      "[INFO] Starting Chromium download.\n",
      "100%|█████████████████████████████████████████| 109M/109M [00:00<00:00, 237Mb/s]\n",
      "[INFO] Beginning extraction\n",
      "[INFO] Chromium extracted to: /home/codespace/.local/share/pyppeteer/local-chromium/588429\n",
      "Traceback (most recent call last):\n",
      "  File \"/home/codespace/.python/current/bin/jupyter-book\", line 8, in <module>\n",
      "    sys.exit(main())\n",
      "  File \"/usr/local/python/3.10.8/lib/python3.10/site-packages/click/core.py\", line 1157, in __call__\n",
      "    return self.main(*args, **kwargs)\n",
      "  File \"/usr/local/python/3.10.8/lib/python3.10/site-packages/click/core.py\", line 1078, in main\n",
      "    rv = self.invoke(ctx)\n",
      "  File \"/usr/local/python/3.10.8/lib/python3.10/site-packages/click/core.py\", line 1688, in invoke\n",
      "    return _process_result(sub_ctx.command.invoke(sub_ctx))\n",
      "  File \"/usr/local/python/3.10.8/lib/python3.10/site-packages/click/core.py\", line 1434, in invoke\n",
      "    return ctx.invoke(self.callback, **ctx.params)\n",
      "  File \"/usr/local/python/3.10.8/lib/python3.10/site-packages/click/core.py\", line 783, in invoke\n",
      "    return __callback(*args, **kwargs)\n",
      "  File \"/usr/local/python/3.10.8/lib/python3.10/site-packages/jupyter_book/cli/main.py\", line 317, in build\n",
      "    builder_specific_actions(\n",
      "  File \"/usr/local/python/3.10.8/lib/python3.10/site-packages/jupyter_book/cli/main.py\", line 575, in builder_specific_actions\n",
      "    html_to_pdf(output_path.joinpath(\"index.html\"), path_pdf_output)\n",
      "  File \"/usr/local/python/3.10.8/lib/python3.10/site-packages/jupyter_book/pdf.py\", line 31, in html_to_pdf\n",
      "    asyncio.get_event_loop().run_until_complete(_html_to_pdf(html_file, pdf_file))\n",
      "  File \"/usr/local/python/3.10.8/lib/python3.10/asyncio/base_events.py\", line 649, in run_until_complete\n",
      "    return future.result()\n",
      "  File \"/usr/local/python/3.10.8/lib/python3.10/site-packages/jupyter_book/pdf.py\", line 43, in _html_to_pdf\n",
      "    browser = await launch(args=[\"--no-sandbox\"])\n",
      "  File \"/usr/local/python/3.10.8/lib/python3.10/site-packages/pyppeteer/launcher.py\", line 307, in launch\n",
      "    return await Launcher(options, **kwargs).launch()\n",
      "  File \"/usr/local/python/3.10.8/lib/python3.10/site-packages/pyppeteer/launcher.py\", line 168, in launch\n",
      "    self.browserWSEndpoint = get_ws_endpoint(self.url)\n",
      "  File \"/usr/local/python/3.10.8/lib/python3.10/site-packages/pyppeteer/launcher.py\", line 227, in get_ws_endpoint\n",
      "    raise BrowserError('Browser closed unexpectedly:\\n')\n",
      "pyppeteer.errors.BrowserError: Browser closed unexpectedly:\n",
      "\n"
     ]
    }
   ],
   "source": [
    "!jupyter-book build /workspaces/LeetCode-Solutions/ --builder pdfhtml"
   ]
  },
  {
   "cell_type": "code",
   "execution_count": 5,
   "metadata": {},
   "outputs": [
    {
     "data": {
      "text/html": [
       "<a href=\"_build/html/index.html\" target=\"_blank\">Click here to view your Jupyter Book</a>"
      ],
      "text/plain": [
       "<IPython.core.display.HTML object>"
      ]
     },
     "execution_count": 5,
     "metadata": {},
     "output_type": "execute_result"
    }
   ],
   "source": [
    "from IPython.display import HTML\n",
    "HTML('<a href=\"_build/html/index.html\" target=\"_blank\">Click here to view your Jupyter Book</a>')\n"
   ]
  },
  {
   "cell_type": "code",
   "execution_count": 2,
   "metadata": {},
   "outputs": [],
   "source": [
    "%cp -r /workspaces/LeetCode-Solutions/_build docs"
   ]
  },
  {
   "cell_type": "code",
   "execution_count": 4,
   "metadata": {},
   "outputs": [
    {
     "name": "stdout",
     "output_type": "stream",
     "text": [
      "From https://github.com/mohsentabibian/LeetCode-Solutions\n",
      " * branch            main       -> FETCH_HEAD\n",
      "<spaces/LeetCode-Solutions/.git/MERGE_MSG\" 6L, 302C\u001b7\u001b[?47h\u001b[>4;2m\u001b[?1h\u001b=\u001b[?2004h\u001b[1;24r\u001b[?12h\u001b[?12l\u001b[22;2t\u001b[22;1t\u001b[29m\u001b[m\u001b[H\u001b[2J\u001b[?25l\u001b[24;1H\"/workspaces/LeetCode-Solutions/.git/MERGE_MSG\"\u001b[2;1H▽\u001b[6n\u001b[2;1H  \u001b[1;1H\u001b[>c\u001b]10;?\u0007\u001b]11;?\u0007\u001b[1;1H\u001b[33mMerge branch 'main' of https://github.com/mohsenta\u001b[mbibian/LeetCode-Solutions\n",
      "\u001b[34m# Please enter a commit message to explain why this merge is necessary,\n",
      "# especially if it merges an updated upstream into a topic branch.\n",
      "#\n",
      "# Lines starting with '#' will be ignored, and an empty message aborts\n",
      "# the commit.\u001b[m\n",
      "\u001b[1m\u001b[34m~                                                                               \u001b[8;1H~                                                                               \u001b[9;1H~                                                                               \u001b[10;1H~                                                                               \u001b[11;1H~                                                                               \u001b[12;1H~                                                                               \u001b[13;1H~                                                                               \u001b[14;1H~                                                                               \u001b[15;1H~                                                                               \u001b[16;1H~                                                                               \u001b[17;1H~                                                                               \u001b[18;1H~                                                                               \u001b[19;1H~                                                                               \u001b[20;1H~                                                                               \u001b[21;1H~                                                                               \u001b[22;1H~                                                                               \u001b[23;1H~                                                                               \u001b[m\u001b[24;63H1,1\u001b[11CAll\u001b[1;1H\u001b[?25h\u001b[?25l\u001b[24;1HType  :qa  and press <Enter> to exit Vim\u001b[24;41H\u001b[K\u0007\u001b[24;63H1,1\u001b[11CAll\u001b[1;1H\u001b[?25h"
     ]
    }
   ],
   "source": [
    "!git pull origin main --no-rebase\n"
   ]
  },
  {
   "cell_type": "code",
   "execution_count": 3,
   "metadata": {},
   "outputs": [
    {
     "name": "stdout",
     "output_type": "stream",
     "text": [
      "From https://github.com/mohsentabibian/LeetCode-Solutions\n",
      " * branch            main       -> FETCH_HEAD\n",
      "\u001b[33mhint: You have divergent branches and need to specify how to reconcile them.\u001b[m\n",
      "\u001b[33mhint: You can do so by running one of the following commands sometime before\u001b[m\n",
      "\u001b[33mhint: your next pull:\u001b[m\n",
      "\u001b[33mhint: \u001b[m\n",
      "\u001b[33mhint:   git config pull.rebase false  # merge\u001b[m\n",
      "\u001b[33mhint:   git config pull.rebase true   # rebase\u001b[m\n",
      "\u001b[33mhint:   git config pull.ff only       # fast-forward only\u001b[m\n",
      "\u001b[33mhint: \u001b[m\n",
      "\u001b[33mhint: You can replace \"git config\" with \"git config --global\" to set a default\u001b[m\n",
      "\u001b[33mhint: preference for all repositories. You can also pass --rebase, --no-rebase,\u001b[m\n",
      "\u001b[33mhint: or --ff-only on the command line to override the configured default per\u001b[m\n",
      "\u001b[33mhint: invocation.\u001b[m\n",
      "fatal: Need to specify how to reconcile divergent branches.\n"
     ]
    }
   ],
   "source": [
    "!git pull origin main"
   ]
  }
 ],
 "metadata": {
  "kernelspec": {
   "display_name": "Python 3",
   "language": "python",
   "name": "python3"
  },
  "language_info": {
   "codemirror_mode": {
    "name": "ipython",
    "version": 3
   },
   "file_extension": ".py",
   "mimetype": "text/x-python",
   "name": "python",
   "nbconvert_exporter": "python",
   "pygments_lexer": "ipython3",
   "version": "3.10.8"
  }
 },
 "nbformat": 4,
 "nbformat_minor": 2
}