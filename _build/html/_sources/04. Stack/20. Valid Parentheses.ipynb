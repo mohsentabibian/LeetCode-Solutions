{
  "cells": [
    {
      "cell_type": "markdown",
      "id": "d6161252-e815-48d5-a2a3-5444c12e3b49",
      "metadata": {},
      "source": [
        "# 20. Valid Parentheses\n",
        "\n",
        "**Difficulty:** Easy\n",
        "\n",
        "**Link to Problem:** [To see the Valid Parentheses problem on LeetCode, click here!](https://leetcode.com/problems/valid-parentheses/)\n",
        "\n",
        "---\n",
        "\n",
        "Given a string s containing just the characters `'('`, `')'`, `'{'`, `'}'`, `'['` and `']'`, determine if the input string is valid.\n",
        "\n",
        "An input string is valid if:\n",
        "\n",
        "1. Open brackets must be closed by the same type of brackets.\n",
        "2. Open brackets must be closed in the correct order.\n",
        "3. Every close bracket has a corresponding open bracket of the same type.\n",
        "\n",
        "**Constraints:**\n",
        "\n",
        "- 1 <= `s.length` <= $10^4$\n",
        "- `s` consists of parentheses only `'()[]{}'`."
      ]
    },
    {
      "cell_type": "code",
      "execution_count": 49,
      "id": "aabf7095-07dc-4ab7-876c-ec7213ed0de5",
      "metadata": {
        "trusted": true
      },
      "outputs": [],
      "source": [
        "def isValid(s):\n",
        "    # Create an empty stack to store opening brackets\n",
        "    stack = []\n",
        "    \n",
        "    # Define a mapping for matching brackets\n",
        "    bracket_mapping = {')': '(', '}': '{', ']': '['}\n",
        "    \n",
        "    # Iterate through the characters in the input string\n",
        "    for char in s:\n",
        "        # If the character is an opening bracket, push it onto the stack\n",
        "        if char in bracket_mapping.values():\n",
        "            stack.append(char)\n",
        "        # If the character is a closing bracket\n",
        "        elif char in bracket_mapping.keys():\n",
        "            # Pop the top element from the stack if it exists, or use a dummy value '#'\n",
        "            top_element = stack.pop() if stack else '#'\n",
        "            # If the popped element does not match the corresponding opening bracket, return False\n",
        "            if bracket_mapping[char] != top_element:\n",
        "                return False\n",
        "        # If the character is not a bracket, ignore it\n",
        "        \n",
        "    # After processing the entire string, if there are any unmatched opening brackets left in the stack, return False\n",
        "    return len(stack) == 0"
      ]
    },
    {
      "cell_type": "markdown",
      "id": "ece39324-cd9e-47d7-8677-a001878494d9",
      "metadata": {},
      "source": [
        "## Explanation:\n",
        "\n",
        "1. We start by defining the `isValid` function that takes a single argument `s`, which is the input string containing parentheses and brackets.\n",
        "\n",
        "2. Inside the function, we create an empty stack, which is a list in Python, to store opening brackets as we encounter them in the input string. The stack will help us keep track of the brackets and their order.\n",
        "\n",
        "3. We define a `bracket_mapping` dictionary that maps each closing bracket to its corresponding opening bracket. This mapping will be used to check if a closing bracket matches the most recent opening bracket in the stack.\n",
        "\n",
        "4. We iterate through each character `char` in the input string `s` using a `for` loop.\n",
        "\n",
        "5. If the character `char` is an opening bracket (i.e., it exists in the `values()` of `bracket_mapping`), we push it onto the stack using the `append()` method.\n",
        "\n",
        "6. If the character `char` is a closing bracket (i.e., it exists in the `keys()` of `bracket_mapping`), we need to check if it matches the corresponding opening bracket. To do this, we pop the top element from the stack (if it exists) and store it in `top_element`. We use a dummy value `'#'` if the stack is empty to avoid errors.\n",
        "\n",
        "7. We then compare `top_element` with the corresponding opening bracket using `bracket_mapping[char]`. If they do not match, it means the string is not valid, and we return `False`.\n",
        "\n",
        "8. If the character `char` is not a bracket, we simply ignore it and continue the loop.\n",
        "\n",
        "9. After processing the entire string, we check if there are any unmatched opening brackets left in the stack. If the stack is empty, it means all opening brackets have been properly matched and closed, and we return `True`. Otherwise, we return `False`.\n",
        "\n",
        "10. Finally, we provide some test cases at the bottom of the code to demonstrate how the function works for different input strings."
      ]
    },
    {
      "cell_type": "markdown",
      "id": "a54ea5b7-c53f-46c0-a44f-ef769ac68244",
      "metadata": {},
      "source": [
        "## Test cases"
      ]
    },
    {
      "cell_type": "code",
      "execution_count": 50,
      "id": "355f5bfd-94e1-4c5b-9914-cc20775f4160",
      "metadata": {
        "trusted": true
      },
      "outputs": [
        {
          "name": "stdout",
          "output_type": "stream",
          "text": [
            "True\n"
          ]
        }
      ],
      "source": [
        "# Example 1:\n",
        "print(isValid(\"()\"))    "
      ]
    },
    {
      "cell_type": "code",
      "execution_count": 51,
      "id": "192912fb-9d12-4911-9a4f-bfd37043e11d",
      "metadata": {
        "trusted": true
      },
      "outputs": [
        {
          "name": "stdout",
          "output_type": "stream",
          "text": [
            "True\n"
          ]
        }
      ],
      "source": [
        "# Example 2:\n",
        "print(isValid(\"()[]{}\")) "
      ]
    },
    {
      "cell_type": "code",
      "execution_count": 52,
      "id": "6c69a707-02af-4212-b2e7-1881d62a62d2",
      "metadata": {
        "trusted": true
      },
      "outputs": [
        {
          "name": "stdout",
          "output_type": "stream",
          "text": [
            "False\n"
          ]
        }
      ],
      "source": [
        "# Example 3:\n",
        "print(isValid(\"(]\"))     "
      ]
    },
    {
      "cell_type": "markdown",
      "id": "7d9dd448-c5f5-4192-8aa5-7c70ec7f42e2",
      "metadata": {},
      "source": [
        "Let's analyze the time and space complexity of the `isValid` function:\n",
        "\n",
        "**Time Complexity:**\n",
        "- The function iterates through each character in the input string `s` once, performing constant-time operations for each character.\n",
        "- Pushing and popping elements from the stack (list) also takes constant time in most cases.\n",
        "- Therefore, the overall time complexity of the function is $O(n)$, where $n$ is the length of the input string `s`.\n",
        "\n",
        "**Space Complexity:**\n",
        "- The space complexity of the function is determined by the space used by the stack and the `bracket_mapping` dictionary.\n",
        "- In the worst case, if the input string `s` consists entirely of opening brackets, the stack can potentially contain all of these opening brackets, resulting in a space complexity of $O(n)$ in terms of the stack.\n",
        "- The `bracket_mapping` dictionary has a constant number of key-value pairs (3 pairs in this case).\n",
        "- Therefore, the overall space complexity of the function is $O(n)$, where $n$ is the length of the input string `s`, mainly due to the stack space.\n",
        "\n",
        "**In summary:**\n",
        "- The time complexity is $O(n)$ because we iterate through the string once.\n",
        "- The space complexity is $O(n)$ due to the stack used to keep track of opening brackets."
      ]
    },
    {
      "cell_type": "markdown",
      "id": "037b210a-555b-4da3-8130-b74d1e4f33f6",
      "metadata": {},
      "source": [
        "## Challenging Exercises:\n",
        "\n",
        "1. **Valid Expressions:** Modify the problem to validate not only brackets but also arithmetic expressions containing parentheses, such as \"$2 * (3 + 5) / (4 - 2)$\".\n",
        "2. **Valid Parentheses Combinations:**\n",
        "Write a function to generate all valid combinations of n pairs of parentheses, where $n$ is a positive integer. For example, for $n = 3$, the valid combinations are [\"((()))\", \"(()())\", \"(())()\", \"()(())\", \"()()()\"]."
      ]
    }
  ],
  "metadata": {
    "kernelspec": {
      "display_name": "Python (Pyodide)",
      "language": "python",
      "name": "python"
    },
    "language_info": {
      "codemirror_mode": {
        "name": "python",
        "version": 3
      },
      "file_extension": ".py",
      "mimetype": "text/x-python",
      "name": "python",
      "nbconvert_exporter": "python",
      "pygments_lexer": "ipython3",
      "version": "3.8"
    }
  },
  "nbformat": 4,
  "nbformat_minor": 5
}
