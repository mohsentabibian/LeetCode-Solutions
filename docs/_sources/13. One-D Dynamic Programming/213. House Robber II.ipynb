{
  "metadata": {
    "kernelspec": {
      "name": "python",
      "display_name": "Python (Pyodide)",
      "language": "python"
    },
    "language_info": {
      "codemirror_mode": {
        "name": "python",
        "version": 3
      },
      "file_extension": ".py",
      "mimetype": "text/x-python",
      "name": "python",
      "nbconvert_exporter": "python",
      "pygments_lexer": "ipython3",
      "version": "3.8"
    }
  },
  "nbformat_minor": 5,
  "nbformat": 4,
  "cells": [
    {
      "cell_type": "markdown",
      "source": "# House Robber II\n**Difficulty:** Medium\n\n---\nYou are a professional robber planning to rob houses along a street. Each house has a certain amount of money stashed. All houses at this place are **arranged in a circle**. That means the first house is the neighbor of the last one. Meanwhile, adjacent houses have a security system connected, and **it will automatically contact the police if two adjacent houses were broken into on the same night**.\n\nGiven an integer array `nums` representing the amount of money of each house, return *the maximum amount of money you can rob tonight without alerting the police*.\n\n**Constraints:**\n- `1 <= nums.length <= 100`\n- `0 <= nums[i] <= 1000`",
      "metadata": {},
      "id": "d6161252-e815-48d5-a2a3-5444c12e3b49"
    },
    {
      "cell_type": "markdown",
      "source": "## Probelm Explanation:\n\nCertainly! The problem statement describes a scenario where you are a professional robber planning to rob houses along a street. Each house has a certain amount of money stashed. However, there is a security system in place: adjacent houses have a security system connected, and it will automatically contact the police if two adjacent houses are broken into on the same night.\n\nThe twist in this problem is that the houses are arranged in a circle. That means the first house is the neighbor of the last one. So, robbing the first house has implications for the last house, and vice versa.\n\nThe goal is to find the maximum amount of money you can rob tonight without alerting the police. You need to implement a function that takes an integer array `nums` representing the amount of money in each house and returns the maximum amount of money that can be robbed without triggering the security system.\n\nHere are a few examples to illustrate the problem:\n\n1. **Example 1:**\n   ```python\n   Input: nums = [2, 3, 2]\n   Output: 3\n   Explanation: You cannot rob house 1 (money = 2) and then rob house 3 (money = 2) because they are adjacent houses. The optimal strategy is to rob house 2 (money = 3).\n   ```\n\n2. **Example 2:**\n   ```python\n   Input: nums = [1, 2, 3, 1]\n   Output: 4\n   Explanation: Robbing house 1 (money = 1) and then robbing house 3 (money = 3) results in a total amount of 4. Robbing house 2 is skipped to avoid alerting the police.\n   ```\n\n3. **Example 3:**\n   ```python\n   Input: nums = [1, 2, 3]\n   Output: 3\n   Explanation: Since the houses are in a circle, you can choose either house 1, 2, or 3. The optimal strategy is to rob house 3 for a total amount of 3.\n   ```\n\nThe constraints for the problem are that the length of the `nums` array is between 1 and 100, and the amount of money in each house (`nums[i]`) is between 0 and 1000.\n\n## Solution:\nHere's a Python function to implement this algorithm:",
      "metadata": {},
      "id": "fe9e71ae-2099-4eb9-b7a1-ec795ce92c76"
    },
    {
      "cell_type": "code",
      "source": "from typing import List\n\nclass Solution:\n    def rob(self, nums: List[int]) -> int:\n        def simple_rob(nums):\n            # Helper function for basic house robbery problem\n            prev, curr = 0, 0\n            for num in nums:\n                # Calculate the maximum amount of money that can be robbed\n                # without alerting the police for each house\n                prev, curr = curr, max(prev + num, curr)\n            return curr\n\n        # Check the base cases where the length of nums is 1 or 2\n        if len(nums) == 1:\n            return nums[0]\n        elif len(nums) == 2:\n            return max(nums[0], nums[1])\n\n        # Case 1: First house is robbed, last house is not\n        case1 = simple_rob(nums[:-1])\n\n        # Case 2: First house is not robbed, last house is\n        case2 = simple_rob(nums[1:])\n\n        # Maximum of the two cases\n        return max(case1, case2)",
      "metadata": {
        "trusted": true
      },
      "execution_count": 7,
      "outputs": [],
      "id": "aabf7095-07dc-4ab7-876c-ec7213ed0de5"
    },
    {
      "cell_type": "markdown",
      "source": "## Explanation:\n\nThe provided code defines a class `Solution` with a method `rob`, which aims to determine the maximum amount of money a professional robber can steal from houses arranged in a circle without alerting the police. Each house contains a certain amount of money, and adjacent houses have a security system that triggers if both are robbed on the same night.\n\nThe code uses dynamic programming to solve the problem efficiently. It contains a helper function `simple_rob` that computes the maximum amount of money that can be robbed from a linear arrangement of houses. The main method `rob` handles the circular arrangement by considering two cases: robbing the first house and not robbing the last, and not robbing the first house and robbing the last. The result is the maximum of these two cases.\n\nThe class is instantiated as `solution`, and the `rob` method is applied to three different scenarios (test cases) to demonstrate its functionality. The final output represents the maximum amount of money the robber can steal without triggering the security system.",
      "metadata": {},
      "id": "ece39324-cd9e-47d7-8677-a001878494d9"
    },
    {
      "cell_type": "markdown",
      "source": "## Test cases:\n\nHere's how you can use this solution:",
      "metadata": {},
      "id": "a54ea5b7-c53f-46c0-a44f-ef769ac68244"
    },
    {
      "cell_type": "code",
      "source": "# Example 1:\n\n# Create an instance of the Solution class\nsolution = Solution()\n\nnums1 = [2, 3, 2]\nprint(solution.rob(nums1))  # Output: 3",
      "metadata": {
        "trusted": true
      },
      "execution_count": 8,
      "outputs": [
        {
          "name": "stdout",
          "text": "3\n",
          "output_type": "stream"
        }
      ],
      "id": "f12c5a63-b811-4be7-83c2-34ee396b546c"
    },
    {
      "cell_type": "code",
      "source": "# Example 2:\nnums2 = [1, 2, 3, 1]\nprint(solution.rob(nums2))  # Output: 4",
      "metadata": {
        "trusted": true
      },
      "execution_count": 9,
      "outputs": [
        {
          "name": "stdout",
          "text": "4\n",
          "output_type": "stream"
        }
      ],
      "id": "364aa061-a452-45eb-96db-36f7dbdbdcb3"
    },
    {
      "cell_type": "code",
      "source": "# Example 2:\nnums3 = [1, 2, 3]\nprint(solution.rob(nums3))  # Output: 3",
      "metadata": {
        "trusted": true
      },
      "execution_count": 10,
      "outputs": [
        {
          "name": "stdout",
          "text": "3\n",
          "output_type": "stream"
        }
      ],
      "id": "e6e1554f-ae77-410c-8af2-e59e5428166c"
    },
    {
      "cell_type": "markdown",
      "source": "## Time and Space Complexity Analysis\n\nLet's analyze the time and space complexity of the provided code:\n\n### Time Complexity:\nThe time complexity is primarily determined by the `simple_rob` helper function, which has a time complexity of O(N), where N is the number of houses in the input array. The main `rob` function calls `simple_rob` twice, once for the case of robbing the first house and not robbing the last, and once for the case of not robbing the first house and robbing the last. Therefore, the overall time complexity is O(N).\n\n### Space Complexity:\nThe space complexity is O(1) because the space used by the algorithm is constant, regardless of the size of the input array. The only variables used are `prev` and `curr` in the `simple_rob` function, which represent the previous and current maximum amounts of money that can be robbed without alerting the police. These variables are updated iteratively, and no additional data structures are used that scale with the input size. Therefore, the space complexity is constant, or O(1).\n\nIn summary:\n- Time Complexity: O(N)\n- Space Complexity: O(1)",
      "metadata": {},
      "id": "7d9dd448-c5f5-4192-8aa5-7c70ec7f42e2"
    },
    {
      "cell_type": "markdown",
      "source": "## Challenging Exercises:\n\n1. **Optimization Challenge:** Optimize the space complexity of the solution. Can you solve the problem with O(1) space complexity without sacrificing the time complexity?\n\n2. **Circular Robbery Variations:** Consider variations of the circular house robbery problem, such as allowing the robber to skip a certain number of houses or restricting the number of consecutive houses that can be robbed. Modify the solution to accommodate these variations.\n\n**Link to Problem:** [To see the House Robber II problem on LeetCode, click here!](https://leetcode.com/problems/house-robber-ii/)",
      "metadata": {},
      "id": "037b210a-555b-4da3-8130-b74d1e4f33f6"
    }
  ]
}