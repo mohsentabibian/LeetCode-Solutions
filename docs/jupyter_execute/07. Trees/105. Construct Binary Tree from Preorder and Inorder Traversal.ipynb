{
 "cells": [
  {
   "cell_type": "markdown",
   "id": "d6161252-e815-48d5-a2a3-5444c12e3b49",
   "metadata": {},
   "source": [
    "# 105. Construct Binary Tree from Preorder and Inorder Traversal\n",
    "\n",
    "**Difficulty:** Medium\n",
    "\n",
    "**Link to Problem:** [To see the Construct Binary Tree from Preorder and Inorder Traversal problem on LeetCode, click here!](https://leetcode.com/problems/construct-binary-tree-from-preorder-and-inorder-traversal/)\n",
    "\n",
    "---\n",
    "Given two integer arrays `preorder` and `inorder` where `preorder` is the preorder traversal of a binary tree and `inorder` is the inorder traversal of the same tree, construct and return *the binary tree.*\n",
    "\n",
    "**Constraints:**\n",
    "- `1 <= preorder.length <= 3000`\n",
    "- `inorder.length == preorder.length`\n",
    "- `-3000 <= preorder[i], inorder[i] <= 3000`\n",
    "- `preorder` and `inorder` consist of **unique** values.\n",
    "- Each value of `inorder` also appears in `preorder`.\n",
    "- `preorder` is **guaranteed** to be the preorder traversal of the tree.\n",
    "- `inorder` is **guaranteed** to be the inorder traversal of the tree.\n",
    "\n",
    "## Solution:\n",
    "Here's a Python function to solve this problem:"
   ]
  },
  {
   "cell_type": "code",
   "execution_count": 1,
   "id": "aabf7095-07dc-4ab7-876c-ec7213ed0de5",
   "metadata": {},
   "outputs": [],
   "source": [
    "class TreeNode:\n",
    "    def __init__(self, val=0, left=None, right=None):\n",
    "        self.val = val\n",
    "        self.left = left\n",
    "        self.right = right\n",
    "\n",
    "def buildTree(preorder, inorder):\n",
    "    if not preorder:\n",
    "        return None\n",
    "\n",
    "    # The first element in the preorder traversal is the root of the current subtree\n",
    "    root_val = preorder[0]\n",
    "    root = TreeNode(root_val)\n",
    "\n",
    "    # Find the index of the root value in the inorder traversal\n",
    "    root_idx_inorder = inorder.index(root_val)\n",
    "\n",
    "    # Recursively build left and right subtrees\n",
    "    root.left = buildTree(preorder[1:1 + root_idx_inorder], inorder[:root_idx_inorder])\n",
    "    root.right = buildTree(preorder[1 + root_idx_inorder:], inorder[root_idx_inorder + 1:])\n",
    "\n",
    "    return root"
   ]
  },
  {
   "cell_type": "markdown",
   "id": "ece39324-cd9e-47d7-8677-a001878494d9",
   "metadata": {},
   "source": [
    "## Explanation:\n",
    "\n",
    "1. `class TreeNode:`: This is a class definition for a binary tree node. It has three attributes:\n",
    "   - `val`: The value of the node.\n",
    "   - `left`: A reference to the left child node.\n",
    "   - `right`: A reference to the right child node.\n",
    "\n",
    "   This class is used to create instances of binary tree nodes, which will be used to build the binary tree.\n",
    "\n",
    "2. `def buildTree(preorder, inorder):`: This is the main function that constructs a binary tree from its preorder and inorder traversals.\n",
    "\n",
    "   - `preorder`: A list representing the preorder traversal of the binary tree.\n",
    "   - `inorder`: A list representing the inorder traversal of the binary tree.\n",
    "\n",
    "3. `if not preorder: return None`: This line checks if the `preorder` list is empty. If it is, it means there are no nodes to construct, so the function returns `None`.\n",
    "\n",
    "4. `root_val = preorder[0]`: The value of the root node is extracted from the first element of the `preorder` list.\n",
    "\n",
    "5. `root = TreeNode(root_val)`: A new `TreeNode` object is created with the `root_val` as its value. This represents the root of the current subtree.\n",
    "\n",
    "6. `root_idx_inorder = inorder.index(root_val)`: The index of the `root_val` in the `inorder` list is found. This index indicates the position of the root node in the inorder traversal.\n",
    "\n",
    "7. `root.left`: The left subtree is constructed recursively by calling the `buildTree` function with the appropriate sublists of `preorder` and `inorder`. The left subtree's preorder and inorder traversals are the slices of `preorder` and `inorder` lists up to the `root_idx_inorder`.\n",
    "\n",
    "8. `root.right`: The right subtree is constructed recursively by calling the `buildTree` function with the appropriate sublists of `preorder` and `inorder`. The right subtree's preorder and inorder traversals are the slices of `preorder` and `inorder` lists starting from `root_idx_inorder + 1`.\n",
    "\n",
    "9. Finally, the function returns the `root` of the subtree it just constructed.\n",
    "\n",
    "The recursive approach used here divides the problem of constructing the entire binary tree into smaller subproblems, starting with the root node and then recursively building the left and right subtrees until the entire tree is constructed."
   ]
  },
  {
   "cell_type": "markdown",
   "id": "2d82857b-4fbe-474f-bf33-17b55c20147b",
   "metadata": {},
   "source": [
    "## Helper Function \n",
    "\n",
    "Here is a helper function to represent the binary tree elements."
   ]
  },
  {
   "cell_type": "code",
   "execution_count": 2,
   "id": "13e6f3e1-659d-479d-9521-75629b8c782f",
   "metadata": {},
   "outputs": [],
   "source": [
    "def treeToList(root):\n",
    "    # Initialize an empty list to store the elements of the binary tree\n",
    "    result = []\n",
    "    \n",
    "    # Initialize a queue for level-order traversal starting with the root\n",
    "    queue = [root]\n",
    "\n",
    "    while queue:\n",
    "        # Pop the front node from the queue\n",
    "        node = queue.pop(0)\n",
    "        \n",
    "        # If the node is not None (i.e., a valid node), add its value to the result list\n",
    "        if node:\n",
    "            result.append(node.val)\n",
    "            \n",
    "            # Add the left and right children of the node to the queue\n",
    "            queue.append(node.left)\n",
    "            queue.append(node.right)\n",
    "        else:\n",
    "            # If the node is None, add None to the result to represent an empty node\n",
    "            result.append(None)\n",
    "\n",
    "    # Remove any trailing None values from the result list\n",
    "    while result and result[-1] is None:\n",
    "        result.pop()\n",
    "\n",
    "    # Return the resulting list representing the binary tree elements\n",
    "    return result"
   ]
  },
  {
   "cell_type": "markdown",
   "id": "86cd4c9d-a120-4dd1-a1bd-530436012574",
   "metadata": {},
   "source": [
    "## Explanation:\n",
    "\n",
    "Let's break down the `treeToList` helper function step by step:\n",
    "\n",
    "1. `def treeToList(root):`: This function takes the root of a binary tree as input and converts it into a list.\n",
    "\n",
    "2. `result = []`: Initialize an empty list called `result` to store the elements of the binary tree in list format.\n",
    "\n",
    "3. `queue = [root]`: Initialize a queue data structure for a level-order traversal, starting with the root node.\n",
    "\n",
    "4. `while queue:`: This starts a loop that continues until the queue is empty, indicating that all nodes have been processed.\n",
    "\n",
    "5. `node = queue.pop(0)`: Dequeue the first node from the queue, effectively processing it.\n",
    "\n",
    "6. `if node:`: Check if the `node` is not None, which means it's a valid node in the binary tree.\n",
    "\n",
    "    a. `result.append(node.val)`: If the node is valid, append its value (`node.val`) to the `result` list. This represents the value of the current node in the binary tree.\n",
    "\n",
    "    b. `queue.append(node.left)`: Enqueue the left child of the current node if it exists. This adds the left child to the queue for processing in the next iteration.\n",
    "\n",
    "    c. `queue.append(node.right)`: Enqueue the right child of the current node if it exists. This adds the right child to the queue for processing in the next iteration.\n",
    "\n",
    "7. `else:`: If the `node` is None, it represents an empty node in the binary tree.\n",
    "\n",
    "    a. `result.append(None)`: Append `None` to the `result` list to indicate an empty node.\n",
    "\n",
    "8. `while result and result[-1] is None:`: After the traversal is complete, there might be trailing `None` values in the `result` list. This loop removes any such trailing `None` values to ensure a clean representation of the tree's elements.\n",
    "\n",
    "9. `return result`: Return the `result` list, which now contains the elements of the binary tree in a format where `None` represents empty nodes and the order of elements reflects a level-order traversal of the tree.\n",
    "\n",
    "In summary, the `treeToList` function performs a level-order traversal of the binary tree using a queue, constructing a list where each element corresponds to a node's value or represents an empty node with `None`. This list represents the binary tree's elements in a structured format."
   ]
  },
  {
   "cell_type": "markdown",
   "id": "a54ea5b7-c53f-46c0-a44f-ef769ac68244",
   "metadata": {},
   "source": [
    "## Test cases"
   ]
  },
  {
   "cell_type": "code",
   "execution_count": 3,
   "id": "355f5bfd-94e1-4c5b-9914-cc20775f4160",
   "metadata": {},
   "outputs": [
    {
     "name": "stdout",
     "output_type": "stream",
     "text": [
      "[3, 9, 20, None, None, 15, 7]\n"
     ]
    }
   ],
   "source": [
    "# Example 1: \n",
    "\n",
    "# Example usage:\n",
    "preorder = [3, 9, 20, 15, 7]\n",
    "inorder = [9, 3, 15, 20, 7]\n",
    "result = buildTree(preorder, inorder)\n",
    "\n",
    "print(treeToList(result))"
   ]
  },
  {
   "cell_type": "code",
   "execution_count": 4,
   "id": "192912fb-9d12-4911-9a4f-bfd37043e11d",
   "metadata": {},
   "outputs": [
    {
     "name": "stdout",
     "output_type": "stream",
     "text": [
      "[-1]\n"
     ]
    }
   ],
   "source": [
    "# Example 2:\n",
    "\n",
    "preorder = [-1]\n",
    "inorder = [-1]\n",
    "result = buildTree(preorder, inorder)\n",
    "\n",
    "print(treeToList(result))"
   ]
  },
  {
   "cell_type": "markdown",
   "id": "7d9dd448-c5f5-4192-8aa5-7c70ec7f42e2",
   "metadata": {},
   "source": [
    "## Time and Space Complexity Analysis\n",
    "\n",
    "Let's analyze the time and space complexity of the `buildTree` function:\n",
    "\n",
    "**Time Complexity:**\n",
    "The time complexity of the `buildTree` function can be analyzed in terms of the number of nodes in the binary tree. Let's assume there are `n` nodes in the binary tree.\n",
    "\n",
    "1. Finding the root value in the `preorder` traversal takes O(1) time as it's just extracting the first element from the list.\n",
    "2. Finding the index of the root value in the `inorder` traversal using `inorder.index(root_val)` takes O(n) time in the worst case because in the worst case, it might have to search through all `n` elements in the `inorder` list to find the index.\n",
    "3. The recursive calls to `buildTree` for the left and right subtrees are made once for each node in the tree. Therefore, the recursive calls have a combined time complexity of O(n) as they process each node once.\n",
    "\n",
    "The total time complexity of the `buildTree` function is O(n) due to the recursive calls and finding the root's index in the `inorder` list.\n",
    "\n",
    "**Space Complexity:**\n",
    "The space complexity is determined by the space used by the function's call stack during recursion and any additional data structures used. \n",
    "\n",
    "1. The space used by the function call stack during recursion depends on the height of the binary tree. In the worst case, where the tree is highly unbalanced (e.g., a skewed tree), the space complexity for the call stack is O(n) as it can go as deep as the number of nodes in the tree.\n",
    "\n",
    "2. Additionally, the function creates TreeNode objects for each node in the binary tree. Therefore, the space complexity for these objects is also O(n).\n",
    "\n",
    "Overall, the space complexity of the `buildTree` function is O(n) due to the space used by the call stack and the TreeNode objects.\n",
    "\n",
    "In summary, the time complexity of `buildTree` is O(n), and the space complexity is O(n), where 'n' is the number of nodes in the binary tree."
   ]
  },
  {
   "cell_type": "markdown",
   "id": "037b210a-555b-4da3-8130-b74d1e4f33f6",
   "metadata": {},
   "source": [
    "## Challenging Exercises:\n",
    "\n",
    "1. **Construct Binary Tree from Postorder and Inorder Traversal:**\n",
    "   Modify the problem to construct a binary tree from its postorder and inorder traversals. Implement a function similar to `buildTree` but for postorder and inorder traversals.\n",
    "\n",
    "2. **Reconstruct Binary Tree with Duplicate Values:**\n",
    "   Extend the problem to handle binary trees with duplicate values. Ensure that your solution correctly handles scenarios where there are duplicate values in the preorder and inorder traversals."
   ]
  }
 ],
 "metadata": {
  "kernelspec": {
   "display_name": "Python (Pyodide)",
   "language": "python",
   "name": "python"
  },
  "language_info": {
   "codemirror_mode": {
    "name": "ipython",
    "version": 3
   },
   "file_extension": ".py",
   "mimetype": "text/x-python",
   "name": "python",
   "nbconvert_exporter": "python",
   "pygments_lexer": "ipython3",
   "version": "3.10.8"
  }
 },
 "nbformat": 4,
 "nbformat_minor": 5
}