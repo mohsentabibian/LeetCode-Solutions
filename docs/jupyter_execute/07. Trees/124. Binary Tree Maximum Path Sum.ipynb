{
 "cells": [
  {
   "cell_type": "markdown",
   "id": "d6161252-e815-48d5-a2a3-5444c12e3b49",
   "metadata": {},
   "source": [
    "# 124. Binary Tree Maximum Path Sum\n",
    "\n",
    "**Difficulty:** Hard\n",
    "\n",
    "**Link to Problem:** [To see the Binary Tree Maximum Path Sum problem on LeetCode, click here!](https://leetcode.com/problems/binary-tree-maximum-path-sum/)\n",
    "\n",
    "---\n",
    "A **path** in a binary tree is a sequence of nodes where each pair of adjacent nodes in the sequence has an edge connecting them. A node can only appear in the sequence **at most once**. Note that the path does not need to pass through the root.\n",
    "\n",
    "The **path sum** of a path is the sum of the node's values in the path.\n",
    "\n",
    "Given the `root` of a binary tree, return *the maximum **path sum** of any **non-empty** path*.\n",
    "\n",
    "**Constraints:**\n",
    "- The number of nodes in the tree is in the range $[1, 3*10^4]$.\n",
    "- `-1000 <= Node.val <= 1000`"
   ]
  },
  {
   "cell_type": "markdown",
   "id": "fe9e71ae-2099-4eb9-b7a1-ec795ce92c76",
   "metadata": {},
   "source": [
    "## Probelm Explanation:\n",
    "\n",
    "The problem is to find the maximum path sum in a binary tree. A path in a binary tree is a sequence of nodes where each pair of adjacent nodes in the sequence has an edge connecting them. The path sum of a path is the sum of the node values in that path.\n",
    "\n",
    "In this problem, you are given the root of a binary tree, and you need to find the maximum path sum among all possible paths in the tree. Note that the path does not need to start at the root node or end at a leaf node; it can start and end at any nodes in the tree.\n",
    "\n",
    "To find the maximum path sum, you need to consider both left and right subtrees of each node while traversing the tree. At each node, you have two choices:\n",
    "\n",
    "1. Include the current node in the path: In this case, you add the value of the current node to the sum and continue exploring both the left and right subtrees for possible extensions of the path.\n",
    "\n",
    "2. Start a new path from the current node: In this case, you do not include the current node in the path sum, and you choose either the left subtree or the right subtree to start a new path.\n",
    "\n",
    "To solve this problem, you can use a recursive approach to traverse the binary tree. For each node, you calculate the maximum path sum that can pass through that node (option 1) and also return the maximum path sum that can be extended from that node (option 2). You keep track of the global maximum path sum encountered during the traversal.\n",
    "\n",
    "Ultimately, the maximum path sum among all paths in the tree will be the maximum of the global maximum path sum and the maximum path sum calculated for each node.\n",
    "\n",
    "The constraints for this problem include:\n",
    "\n",
    "- The number of nodes in the tree is in the range $[1, 3 * 10^4]$.\n",
    "- Node values are in the range [-1000, 1000].\n",
    "\n",
    "By considering all possible paths through the tree, the algorithm aims to find the most significant sum of node values in any path in the binary tree.\n",
    "\n",
    "## Solution:\n",
    "Here's a Python function to implement this algorithm:"
   ]
  },
  {
   "cell_type": "code",
   "execution_count": 1,
   "id": "aabf7095-07dc-4ab7-876c-ec7213ed0de5",
   "metadata": {},
   "outputs": [],
   "source": [
    "class TreeNode:\n",
    "    def __init__(self, val=0, left=None, right=None):\n",
    "        self.val = val\n",
    "        self.left = left\n",
    "        self.right = right\n",
    "\n",
    "class Solution:\n",
    "    def maxPathSum(self, root):\n",
    "        def max_path_sum_helper(node):\n",
    "            if not node:\n",
    "                return 0\n",
    "            \n",
    "            # Recursively calculate the maximum path sum for left and right subtrees\n",
    "            left_max = max(0, max_path_sum_helper(node.left))\n",
    "            right_max = max(0, max_path_sum_helper(node.right))\n",
    "            \n",
    "            # Update the global maximum path sum\n",
    "            self.max_sum = max(self.max_sum, left_max + right_max + node.val)\n",
    "            \n",
    "            # Return the maximum path sum starting from the current node\n",
    "            return max(left_max, right_max) + node.val\n",
    "        \n",
    "        self.max_sum = float('-inf')  # Initialize the global maximum to negative infinity\n",
    "        max_path_sum_helper(root)  # Start the recursive traversal from the root\n",
    "        return self.max_sum"
   ]
  },
  {
   "cell_type": "markdown",
   "id": "ece39324-cd9e-47d7-8677-a001878494d9",
   "metadata": {},
   "source": [
    "## Explanation:\n",
    "\n",
    "1. The code starts by defining a `TreeNode` class to represent nodes in the binary tree. Each `TreeNode` has a `val` attribute representing its value, a `left` attribute pointing to the left child, and a `right` attribute pointing to the right child.\n",
    "\n",
    "2. Next, a `Solution` class is defined to contain the `maxPathSum` method, which will be used to find the maximum path sum in the binary tree.\n",
    "\n",
    "3. Within the `maxPathSum` method, a helper function called `max_path_sum_helper` is defined. This recursive function takes a single argument, `node`, which is the current node being considered during traversal.\n",
    "\n",
    "4. Inside the `max_path_sum_helper` function:\n",
    "   - If `node` is `None` (i.e., the current node is a null node), it returns 0. This is the base case of the recursion.\n",
    "   - It calculates the maximum path sum starting from the left subtree (`left_max`) and the right subtree (`right_max`). Importantly, it uses `max(0, ...)` to ensure that negative values (which would make the path sum smaller) are not considered. If a subtree's path sum is negative, it's better to not include it in the path.\n",
    "   - The code then updates the global maximum path sum (`self.max_sum`) by checking if the sum of `left_max`, `right_max`, and the current node's value is greater than the current maximum.\n",
    "   - Finally, it returns the maximum path sum starting from the current node, which is the maximum of `left_max` and `right_max` plus the current node's value.\n",
    "\n",
    "5. Before calling the `max_path_sum_helper` function, the `max_sum` attribute of the `Solution` class is initialized to negative infinity (`float('-inf')`). This is done to ensure that any valid path sum encountered during traversal will be greater than the initial value of `max_sum`.\n",
    "\n",
    "6. The `max_path_sum_helper` function is called with the root of the binary tree, effectively starting the traversal from the root node.\n",
    "\n",
    "7. Once the traversal is complete, the method returns the value of `self.max_sum`, which contains the maximum path sum found in the binary tree.\n",
    "\n",
    "8. Example usage at the bottom of the code demonstrates how to create binary trees and use the `maxPathSum` method to find the maximum path sum for two different tree structures.\n",
    "\n",
    "In summary, the code uses a recursive approach to explore all possible paths in the binary tree, ensuring that negative path sums are not considered. It keeps track of the maximum path sum encountered and returns that maximum value as the result."
   ]
  },
  {
   "cell_type": "markdown",
   "id": "a54ea5b7-c53f-46c0-a44f-ef769ac68244",
   "metadata": {},
   "source": [
    "## Test cases:\n",
    "\n",
    "Here's how you can use this solution:"
   ]
  },
  {
   "cell_type": "code",
   "execution_count": 2,
   "id": "355f5bfd-94e1-4c5b-9914-cc20775f4160",
   "metadata": {},
   "outputs": [
    {
     "name": "stdout",
     "output_type": "stream",
     "text": [
      "6\n"
     ]
    }
   ],
   "source": [
    "# Example 1: \n",
    "\n",
    "# Example usage:\n",
    "root1 = TreeNode(1)\n",
    "root1.left = TreeNode(2)\n",
    "root1.right = TreeNode(3)\n",
    "solution = Solution()\n",
    "print(solution.maxPathSum(root1))"
   ]
  },
  {
   "cell_type": "code",
   "execution_count": 3,
   "id": "192912fb-9d12-4911-9a4f-bfd37043e11d",
   "metadata": {},
   "outputs": [
    {
     "name": "stdout",
     "output_type": "stream",
     "text": [
      "42\n"
     ]
    }
   ],
   "source": [
    "# Example 2:\n",
    "\n",
    "root2 = TreeNode(-10)\n",
    "root2.left = TreeNode(9)\n",
    "root2.right = TreeNode(20)\n",
    "root2.right.left = TreeNode(15)\n",
    "root2.right.right = TreeNode(7)\n",
    "print(solution.maxPathSum(root2))"
   ]
  },
  {
   "cell_type": "markdown",
   "id": "7d9dd448-c5f5-4192-8aa5-7c70ec7f42e2",
   "metadata": {},
   "source": [
    "## Time and Space Complexity Analysis\n",
    "\n",
    "Let's analyze the time and space complexity of the given code:\n",
    "\n",
    "Time Complexity:\n",
    "- The code uses a recursive depth-first traversal to explore each node in the binary tree exactly once.\n",
    "- During the traversal, for each node, we perform constant time operations, such as updating the `max_sum` variable and calculating the maximum path sum starting from that node.\n",
    "- Therefore, the time complexity of the code is O(N), where N is the number of nodes in the binary tree.\n",
    "\n",
    "Space Complexity:\n",
    "- The space complexity of the code is determined by the space used in the call stack during the recursive traversal.\n",
    "- In the worst case, the depth of the call stack can be equal to the height of the binary tree. In an unbalanced tree, this could be O(N), but in a balanced binary tree, the height is O(log N).\n",
    "- Additionally, the code uses a constant amount of space for variables like `left_max`, `right_max`, and `max_sum`.\n",
    "- Therefore, the overall space complexity is O(H), where H is the height of the binary tree. In the worst case, it's O(N), and in the best case (a balanced binary tree), it's O(log N).\n",
    "\n",
    "In summary:\n",
    "- Time Complexity: O(N)\n",
    "- Space Complexity: O(H), where H is the height of the binary tree, ranging from O(log N) to O(N) depending on the tree's balance."
   ]
  },
  {
   "cell_type": "markdown",
   "id": "037b210a-555b-4da3-8130-b74d1e4f33f6",
   "metadata": {},
   "source": [
    "## Challenging Exercises:\n",
    "\n",
    "1. **Print the Maximum Path:**\n",
    "   Modify the code to not only find the maximum path sum but also print the nodes involved in the maximum path. You can print the nodes in the correct order from the root to the leaf.\n",
    "\n",
    "2. **Path Sum Count:**\n",
    "   Instead of finding the maximum path sum, find the count of unique paths that sum to a given target value. Each path can start and end anywhere in the tree."
   ]
  }
 ],
 "metadata": {
  "kernelspec": {
   "display_name": "Python (Pyodide)",
   "language": "python",
   "name": "python"
  },
  "language_info": {
   "codemirror_mode": {
    "name": "ipython",
    "version": 3
   },
   "file_extension": ".py",
   "mimetype": "text/x-python",
   "name": "python",
   "nbconvert_exporter": "python",
   "pygments_lexer": "ipython3",
   "version": "3.10.8"
  }
 },
 "nbformat": 4,
 "nbformat_minor": 5
}