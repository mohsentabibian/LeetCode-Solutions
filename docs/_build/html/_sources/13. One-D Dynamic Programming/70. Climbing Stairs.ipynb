{
  "cells": [
    {
      "cell_type": "markdown",
      "id": "d6161252-e815-48d5-a2a3-5444c12e3b49",
      "metadata": {},
      "source": [
        "# 70. Climbing Stairs\n",
        "\n",
        "**Difficulty:** Easy\n",
        "\n",
        "**Link to Problem:** [To see the Climbing Stairs problem on LeetCode, click here!](https://leetcode.com/problems/climbing-stairs/)\n",
        "\n",
        "---\n",
        "You are climbing a staircase. It takes `n` steps to reach the top.\n",
        "\n",
        "Each time you can either climb `1` or `2` steps. In how many distinct ways can you climb to the top?\n",
        "\n",
        "**Constraints:**\n",
        "- `1 <= n <= 45`"
      ]
    },
    {
      "cell_type": "markdown",
      "id": "fe9e71ae-2099-4eb9-b7a1-ec795ce92c76",
      "metadata": {},
      "source": [
        "## Probelm Explanation:\n",
        "\n",
        "The \"Climbing Stairs\" problem is a classic algorithmic problem that asks you to find the number of distinct ways to climb a staircase with a given number of steps. Here's the problem statement:\n",
        "\n",
        "You are given a staircase with 'n' steps. Each time you can either climb 1 step or 2 steps. You need to find out how many distinct ways there are to reach the top of the staircase.\n",
        "\n",
        "For example, if 'n' is 2, there are two ways to climb to the top:\n",
        "\n",
        "1. Climbing two steps at once.\n",
        "2. Climbing one step, and then another step.\n",
        "\n",
        "If 'n' is 3, there are three ways:\n",
        "\n",
        "1. Climbing one step, then one step, and finally one step.\n",
        "2. Climbing one step, then two steps.\n",
        "3. Climbing two steps, then one step.\n",
        "\n",
        "The problem essentially asks you to find a solution that counts the possible combinations of 1-step and 2-step climbs that can be taken to reach the top of the staircase. It's a classic example of a dynamic programming problem where you can break it down into smaller subproblems and build a solution incrementally, as shown in the code I provided earlier.\n",
        "\n",
        "## Solution:\n",
        "Here's a Python function to implement this algorithm:"
      ]
    },
    {
      "cell_type": "code",
      "execution_count": 1,
      "id": "aabf7095-07dc-4ab7-876c-ec7213ed0de5",
      "metadata": {
        "trusted": true
      },
      "outputs": [],
      "source": [
        "class Solution:\n",
        "    def climbStairs(self, n: int) -> int:\n",
        "        # If there are 1 or 2 steps, there are exactly n ways to reach the top.\n",
        "        if n <= 2:\n",
        "            return n\n",
        "\n",
        "        # Create an array to store the number of ways to reach each step.\n",
        "        dp = [0] * (n + 1)\n",
        "\n",
        "        # There is one way to reach the first step (base case).\n",
        "        dp[1] = 1\n",
        "\n",
        "        # There are two ways to reach the second step (base case).\n",
        "        dp[2] = 2\n",
        "\n",
        "        # Calculate the number of ways to reach each step from the previous steps.\n",
        "        for i in range(3, n + 1):\n",
        "            # The number of ways to reach step 'i' is the sum of the ways to reach\n",
        "            # the previous two steps, as you can take 1 or 2 steps at a time.\n",
        "            dp[i] = dp[i - 1] + dp[i - 2]\n",
        "\n",
        "        # The result is the number of ways to reach the top, which is stored in dp[n].\n",
        "        return dp[n]"
      ]
    },
    {
      "cell_type": "markdown",
      "id": "ece39324-cd9e-47d7-8677-a001878494d9",
      "metadata": {},
      "source": [
        "## Explanation:\n",
        "\n",
        "The code defines a class `Solution` with a method `climbStairs` that takes an integer `n` as input and returns the number of distinct ways to climb a staircase with `n` steps.\n",
        "\n",
        "1. If `n` is 1 or 2, the function returns `n` directly because there are only 1 or 2 distinct ways to reach the top in those cases.\n",
        "\n",
        "2. For `n` greater than 2, the code uses dynamic programming to calculate the number of ways to reach each step. It creates an array `dp` of length `n + 1` to store these values.\n",
        "\n",
        "3. The `dp[1]` and `dp[2]` are initialized to 1 and 2, respectively. This is because there is only one way to reach the first step (by taking 1 step), and there are two ways to reach the second step (by taking 2 steps or two 1-step climbs).\n",
        "\n",
        "4. The code then uses a loop to fill in the `dp` array for steps 3 and above. For each step `i` from 3 to `n`, it calculates the number of ways to reach that step by adding the number of ways to reach the previous two steps, as you can either take 1 step or 2 steps at a time.\n",
        "\n",
        "5. Finally, the function returns the value stored in `dp[n]`, which represents the total number of distinct ways to climb the staircase with `n` steps."
      ]
    },
    {
      "cell_type": "markdown",
      "id": "a54ea5b7-c53f-46c0-a44f-ef769ac68244",
      "metadata": {},
      "source": [
        "## Test cases:\n",
        "\n",
        "Here's how you can use this solution:"
      ]
    },
    {
      "cell_type": "code",
      "execution_count": 2,
      "id": "f12c5a63-b811-4be7-83c2-34ee396b546c",
      "metadata": {
        "trusted": true
      },
      "outputs": [
        {
          "name": "stdout",
          "output_type": "stream",
          "text": [
            "Example 1 - Input: n = 2, Output: 2\n"
          ]
        }
      ],
      "source": [
        "# Example 1:\n",
        "n = 2\n",
        "solution = Solution()\n",
        "print(f\"Example 1 - Input: n = {n}, Output: {solution.climbStairs(n)}\")  # Output should be 2"
      ]
    },
    {
      "cell_type": "code",
      "execution_count": 5,
      "id": "364aa061-a452-45eb-96db-36f7dbdbdcb3",
      "metadata": {
        "trusted": true
      },
      "outputs": [
        {
          "name": "stdout",
          "output_type": "stream",
          "text": [
            "Example 2 - Input: n = 3, Output: 3\n"
          ]
        }
      ],
      "source": [
        "# Example 2:\n",
        "n = 3\n",
        "print(f\"Example 2 - Input: n = {n}, Output: {solution.climbStairs(n)}\")  # Output should be 3\n"
      ]
    },
    {
      "cell_type": "markdown",
      "id": "7d9dd448-c5f5-4192-8aa5-7c70ec7f42e2",
      "metadata": {},
      "source": [
        "## Time and Space Complexity Analysis\n",
        "\n",
        "Time Complexity:\n",
        "The time complexity of the solution is O(n) because we use a single for loop that iterates from 3 to n to fill the `dp` array. In each iteration, we perform constant time operations (addition and assignment). Therefore, the time complexity is linear with respect to the input value `n`.\n",
        "\n",
        "Space Complexity:\n",
        "The space complexity of the solution is O(n) as well. We use an array `dp` of length `n + 1` to store the number of ways to reach each step. The size of this array is directly proportional to the input value `n`, which makes the space complexity linear in terms of `n`. The rest of the variables used in the function (e.g., `i`) occupy constant space and do not contribute significantly to the overall space complexity.\n",
        "\n",
        "In summary, the time complexity is O(n), and the space complexity is O(n) for this dynamic programming solution to the \"Climbing Stairs\" problem."
      ]
    },
    {
      "cell_type": "markdown",
      "id": "037b210a-555b-4da3-8130-b74d1e4f33f6",
      "metadata": {},
      "source": [
        "## Challenging Exercises:\n",
        "\n",
        "1. **Generalized Step Sizes**: Instead of being limited to 1 step or 2 steps, consider a scenario where you can take steps of sizes `[1, 2, 3]`. Implement a function that calculates the number of ways to climb the staircase with these different step sizes.\n",
        "\n",
        "2. **Minimize Steps**: Given an integer `n`, find the minimum number of steps required to reach the top of the staircase. Return both the minimum number of steps and the specific sequence of steps taken."
      ]
    }
  ],
  "metadata": {
    "kernelspec": {
      "display_name": "Python (Pyodide)",
      "language": "python",
      "name": "python"
    },
    "language_info": {
      "codemirror_mode": {
        "name": "python",
        "version": 3
      },
      "file_extension": ".py",
      "mimetype": "text/x-python",
      "name": "python",
      "nbconvert_exporter": "python",
      "pygments_lexer": "ipython3",
      "version": "3.8"
    }
  },
  "nbformat": 4,
  "nbformat_minor": 5
}
