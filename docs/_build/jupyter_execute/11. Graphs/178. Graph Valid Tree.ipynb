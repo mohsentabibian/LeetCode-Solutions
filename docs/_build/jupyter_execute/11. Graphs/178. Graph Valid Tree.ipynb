{
 "cells": [
  {
   "cell_type": "markdown",
   "id": "d6161252-e815-48d5-a2a3-5444c12e3b49",
   "metadata": {
    "jp-MarkdownHeadingCollapsed": true
   },
   "source": [
    "# 178. Graph Valid Tree\n",
    "\n",
    "**Difficulty:** Medium\n",
    "\n",
    "**Link to Problem:** [To see the Graph Valid Tree problem on LintCode, click here!](https://www.lintcode.com/problem/178/)\n",
    "\n",
    "---\n",
    "Given `n` nodes labeled from `0` to `n - 1` and a list of `undirected` edges (each edge is a pair of nodes), write a function to check whether these edges make up a valid tree.\n",
    "\n",
    "**Constraints:**\n",
    "- You can assume that no duplicate edges will appear in edges. Since all edges are `undirected`, `[0, 1]` is the same as `[1, 0]` and thus will not appear together in edges."
   ]
  },
  {
   "cell_type": "markdown",
   "id": "fe9e71ae-2099-4eb9-b7a1-ec795ce92c76",
   "metadata": {},
   "source": [
    "## Probelm Explanation:\n",
    "\n",
    "The problem is to determine whether a given set of undirected edges can form a valid tree. In this context, a \"tree\" is a specific type of graph with the following properties:\n",
    "\n",
    "1. It is a connected graph, meaning there is a path between any pair of nodes in the graph.\n",
    "2. It has no cycles, which means there are no closed loops or circuits in the graph.\n",
    "3. It has exactly `n - 1` edges, where `n` is the number of nodes in the tree.\n",
    "\n",
    "The problem is typically given with two pieces of information:\n",
    "\n",
    "1. The number of nodes (`n`), which are usually labeled from 0 to `n-1`.\n",
    "2. A list of undirected edges, where each edge is represented as a pair of nodes.\n",
    "\n",
    "The task is to write a function or algorithm to determine whether the provided set of edges can be arranged to form a valid tree based on the properties mentioned above.\n",
    "\n",
    "To solve this problem, you need to check the following conditions:\n",
    "\n",
    "1. There should be exactly `n - 1` edges to ensure that the graph is connected and tree-like.\n",
    "2. There should be no cycles in the graph. If there are any cycles, the set of edges cannot form a tree.\n",
    "3. The graph should be connected, which means you can reach any node from any other node through a series of edges.\n",
    "\n",
    "The solution typically involves using graph traversal algorithms like Depth-First Search (DFS) or Breadth-First Search (BFS) to explore the graph and check these conditions. If all conditions are met, the given edges form a valid tree; otherwise, they do not.\n",
    "\n",
    "## Solution:\n",
    "Here's a Python function to implement this algorithm:"
   ]
  },
  {
   "cell_type": "code",
   "execution_count": 1,
   "id": "aabf7095-07dc-4ab7-876c-ec7213ed0de5",
   "metadata": {},
   "outputs": [],
   "source": [
    "def validTree(n, edges):\n",
    "    if len(edges) != n - 1:\n",
    "        return False  # A tree with n nodes must have n-1 edges.\n",
    "\n",
    "    # Create an adjacency list to represent the graph.\n",
    "    adj_list = {i: [] for i in range(n)}\n",
    "    for u, v in edges:\n",
    "        adj_list[u].append(v)\n",
    "        adj_list[v].append(u)\n",
    "\n",
    "    visited = set()\n",
    "\n",
    "    # Define a recursive DFS function.\n",
    "    def dfs(node, parent):\n",
    "        if node in visited:\n",
    "            return False  # If we encounter a visited node, there's a cycle.\n",
    "        visited.add(node)\n",
    "\n",
    "        for neighbor in adj_list[node]:\n",
    "            if neighbor != parent:\n",
    "                if not dfs(neighbor, node):\n",
    "                    return False\n",
    "\n",
    "        return True\n",
    "\n",
    "    # Start DFS from any node (e.g., node 0).\n",
    "    if not dfs(0, -1):\n",
    "        return False  # If there's a cycle, it's not a valid tree.\n",
    "\n",
    "    return len(visited) == n"
   ]
  },
  {
   "cell_type": "markdown",
   "id": "ece39324-cd9e-47d7-8677-a001878494d9",
   "metadata": {},
   "source": [
    "## Explanation:\n",
    "\n",
    "The `validTree` function checks if a given set of undirected edges forms a valid tree. A valid tree must satisfy these conditions:\n",
    "\n",
    "1. It has exactly `n - 1` edges, where `n` is the number of nodes.\n",
    "2. There are no cycles in the graph.\n",
    "3. The graph is connected, meaning all nodes are reachable from any starting node.\n",
    "\n",
    "The code accomplishes this as follows:\n",
    "\n",
    "- It first checks if the number of edges is equal to `n - 1`. If not, it immediately returns `False` since a tree with `n` nodes must have `n - 1` edges to be connected.\n",
    "\n",
    "- It then constructs an adjacency list (`adj_list`) to represent the graph efficiently. This data structure stores the neighbors of each node.\n",
    "\n",
    "- The code uses a `visited` set to keep track of nodes visited during depth-first search (DFS).\n",
    "\n",
    "- The `dfs` function is a recursive function that checks for cycles in the graph. It does this by visiting nodes and marking them as visited. If it encounters a node that has already been visited (indicating a cycle), it returns `False`.\n",
    "\n",
    "- The DFS function explores the neighbors of each node, avoiding revisiting the parent node to prevent cycles.\n",
    "\n",
    "- After the DFS is complete, the code checks if the number of visited nodes is equal to `n`, ensuring the graph is connected.\n",
    "\n",
    "- Finally, if all conditions are met, the code returns `True`, indicating that the given edges form a valid tree. Otherwise, it returns `False`.\n",
    "\n",
    "The code provides examples to demonstrate how to use the `validTree` function to check whether a set of edges forms a valid tree or not."
   ]
  },
  {
   "cell_type": "markdown",
   "id": "a54ea5b7-c53f-46c0-a44f-ef769ac68244",
   "metadata": {},
   "source": [
    "## Test cases:\n",
    "\n",
    "Here's how you can use this solution:"
   ]
  },
  {
   "cell_type": "code",
   "execution_count": 2,
   "id": "355f5bfd-94e1-4c5b-9914-cc20775f4160",
   "metadata": {},
   "outputs": [
    {
     "name": "stdout",
     "output_type": "stream",
     "text": [
      "True\n"
     ]
    }
   ],
   "source": [
    "# Example 1\n",
    "n1 = 5\n",
    "edges1 = [[0, 1], [0, 2], [0, 3], [1, 4]]\n",
    "print(validTree(n1, edges1))  # Output: true"
   ]
  },
  {
   "cell_type": "code",
   "execution_count": 3,
   "id": "364aa061-a452-45eb-96db-36f7dbdbdcb3",
   "metadata": {},
   "outputs": [
    {
     "name": "stdout",
     "output_type": "stream",
     "text": [
      "False\n"
     ]
    }
   ],
   "source": [
    "# Example 2\n",
    "n2 = 5\n",
    "edges2 = [[0, 1], [1, 2], [2, 3], [1, 3], [1, 4]]\n",
    "print(validTree(n2, edges2))  # Output: false"
   ]
  },
  {
   "cell_type": "markdown",
   "id": "7d9dd448-c5f5-4192-8aa5-7c70ec7f42e2",
   "metadata": {},
   "source": [
    "## Time and Space Complexity Analysis\n",
    "\n",
    "Let's analyze the time and space complexities of the `validTree` function:\n",
    "\n",
    "**Time Complexity:**\n",
    "1. Constructing the adjacency list (`adj_list`) takes O(E) time, where E is the number of edges in the input graph (|edges|).\n",
    "\n",
    "2. The DFS function, when considering all nodes, has a time complexity of O(V + E), where V is the number of nodes in the graph. This is because, in the worst case, the DFS function visits each node and each edge once.\n",
    "\n",
    "3. Checking if the number of visited nodes is equal to `n` takes O(1) time.\n",
    "\n",
    "Overall, the time complexity of the `validTree` function is O(E + V) in the worst case.\n",
    "\n",
    "**Space Complexity:**\n",
    "1. The adjacency list (`adj_list`) consumes additional space to store the graph structure, taking O(V + E) space. This is because it stores information about each node and its adjacent nodes.\n",
    "\n",
    "2. The `visited` set keeps track of visited nodes, and its space complexity is O(V) in the worst case, as there can be at most V unique nodes in the set.\n",
    "\n",
    "3. The depth of the function call stack during DFS can be at most V, which contributes O(V) space to the space complexity.\n",
    "\n",
    "Overall, the space complexity of the `validTree` function is O(V + E) due to the adjacency list and O(V) due to the `visited` set and DFS call stack.\n",
    "\n",
    "In summary, the time complexity is O(E + V), and the space complexity is O(V + E). These complexities are based on the worst-case scenario, where all nodes and edges are considered. In practical cases, the actual complexities may be smaller, depending on the specific structure of the graph."
   ]
  },
  {
   "cell_type": "markdown",
   "id": "037b210a-555b-4da3-8130-b74d1e4f33f6",
   "metadata": {},
   "source": [
    "## Challenging Exercises:\n",
    "\n",
    "1. **Minimum Spanning Tree (MST)**: Implement an algorithm to find the minimum spanning tree of a connected graph using either Kruskal's or Prim's algorithm. Compare the MST to the original graph to determine if the original graph is a tree. This exercise reinforces the concept of tree properties.\n",
    "\n",
    "2. **Detecting Cycles**: Modify the code to not only check if the input forms a tree but also to identify and print out any cycles present in the graph if it's not a tree. This exercise enhances your ability to detect and visualize cycles in a graph."
   ]
  }
 ],
 "metadata": {
  "kernelspec": {
   "display_name": "Python (Pyodide)",
   "language": "python",
   "name": "python"
  },
  "language_info": {
   "codemirror_mode": {
    "name": "ipython",
    "version": 3
   },
   "file_extension": ".py",
   "mimetype": "text/x-python",
   "name": "python",
   "nbconvert_exporter": "python",
   "pygments_lexer": "ipython3",
   "version": "3.10.8"
  }
 },
 "nbformat": 4,
 "nbformat_minor": 5
}