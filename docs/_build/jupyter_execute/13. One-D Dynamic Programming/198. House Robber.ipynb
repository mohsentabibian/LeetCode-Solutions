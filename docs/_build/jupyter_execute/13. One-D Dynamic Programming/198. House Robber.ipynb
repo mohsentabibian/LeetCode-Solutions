{
 "cells": [
  {
   "cell_type": "markdown",
   "id": "d6161252-e815-48d5-a2a3-5444c12e3b49",
   "metadata": {},
   "source": [
    "# House Robber\n",
    "**Difficulty:** Medium\n",
    "\n",
    "---\n",
    "You are a professional robber planning to rob houses along a street. Each house has a certain amount of money stashed, the only constraint stopping you from robbing each of them is that adjacent houses have security systems connected and **it will automatically contact the police if two adjacent houses were broken into on the same night.**\n",
    "\n",
    "Given an integer array `nums` representing the amount of money of each house, return *the maximum amount of money you can rob tonight **without alerting the police**.*\n",
    "\n",
    "**Constraints:**\n",
    "- `1 <= nums.length <= 100`\n",
    "- `0 <= nums[i] <= 400`"
   ]
  },
  {
   "cell_type": "markdown",
   "id": "fe9e71ae-2099-4eb9-b7a1-ec795ce92c76",
   "metadata": {},
   "source": [
    "## Probelm Explanation:\n",
    "\n",
    "The problem is a classic dynamic programming challenge known as the \"House Robber\" problem. The scenario is that you are a professional robber planning to rob houses along a street. Each house has a certain amount of money stashed, but the constraint is that adjacent houses have security systems connected. If two adjacent houses are broken into on the same night, the security systems will automatically contact the police.\n",
    "\n",
    "The goal is to determine the maximum amount of money you can rob tonight without alerting the police. You need to find a strategy to maximize your earnings while avoiding robbing two adjacent houses.\n",
    "\n",
    "The input to the problem is an array `nums`, where `nums[i]` represents the amount of money in the `i`-th house. The task is to return the maximum amount of money that can be robbed without triggering the security system.\n",
    "\n",
    "For example:\n",
    "```\n",
    "Input: nums = [1,2,3,1]\n",
    "Output: 4\n",
    "Explanation: Rob house 1 (money = 1) and then rob house 3 (money = 3).\n",
    "Total amount you can rob = 1 + 3 = 4.\n",
    "\n",
    "Input: nums = [2,7,9,3,1]\n",
    "Output: 12\n",
    "Explanation: Rob house 1 (money = 2), rob house 3 (money = 9), and rob house 5 (money = 1).\n",
    "Total amount you can rob = 2 + 9 + 1 = 12.\n",
    "```\n",
    "\n",
    "The challenge involves designing an algorithm to efficiently solve this problem and find the optimal strategy for robbing houses to maximize the stolen money while adhering to the constraint of not robbing adjacent houses. The provided solution utilizes dynamic programming to achieve this.\n",
    "\n",
    "## Solution:\n",
    "Here's a Python function to implement this algorithm:"
   ]
  },
  {
   "cell_type": "code",
   "execution_count": 1,
   "id": "aabf7095-07dc-4ab7-876c-ec7213ed0de5",
   "metadata": {},
   "outputs": [],
   "source": [
    "from typing import List\n",
    "\n",
    "class Solution:\n",
    "    def rob(self, nums: List[int]) -> int:\n",
    "        # Initialize variables to keep track of the maximum amount of money robbed at the previous and current houses\n",
    "        prev, curr = 0, 0\n",
    "\n",
    "        # Iterate through the houses\n",
    "        for n in nums:\n",
    "            # Calculate the maximum amount of money that can be robbed at the current house\n",
    "            # It is the maximum of either robbing the current house and the money robbed at the house before the previous one (prev),\n",
    "            # or skipping the current house and taking the maximum amount from the previous house (curr)\n",
    "            temp = max(n + prev, curr)\n",
    "\n",
    "            # Update the variables for the next iteration\n",
    "            prev, curr = curr, temp\n",
    "\n",
    "        # The final result is the maximum amount of money that can be robbed at the last house\n",
    "        return curr"
   ]
  },
  {
   "cell_type": "markdown",
   "id": "ece39324-cd9e-47d7-8677-a001878494d9",
   "metadata": {},
   "source": [
    "## Explanation:\n",
    "\n",
    "The provided code is a Python implementation of the \"House Robber\" problem using a dynamic programming approach. It's part of a class `Solution` and includes a method `rob` that takes a list of integers `nums` as input and returns the maximum amount of money that can be robbed without alerting the police.\n",
    "\n",
    "The key idea of the algorithm is to maintain two variables, `prev` and `curr`, which represent the maximum amount of money that can be robbed up to the previous house and the current house, respectively. The algorithm iterates through the houses, updating these variables based on the maximum amount that can be robbed at the current house, considering the constraint of not robbing adjacent houses.\n",
    "\n",
    "The loop calculates a temporary variable `temp` that represents the maximum amount of money that can be robbed at the current house. It considers two scenarios: either robbing the current house and adding the money robbed at the house before the previous one (`n + prev`), or skipping the current house and taking the maximum amount from the previous house (`curr`). The maximum of these two scenarios is assigned to `temp`.\n",
    "\n",
    "The `prev` and `curr` variables are then updated for the next iteration. `prev` is set to the previous value of `curr`, and `curr` is set to the calculated `temp`.\n",
    "\n",
    "The final result is the value stored in the `curr` variable, representing the maximum amount of money that can be robbed at the last house. This value is returned as the result of the `rob` method.\n",
    "\n",
    "The provided test cases at the end demonstrate the usage of the `rob` method with different input arrays."
   ]
  },
  {
   "cell_type": "markdown",
   "id": "a54ea5b7-c53f-46c0-a44f-ef769ac68244",
   "metadata": {},
   "source": [
    "## Test cases:\n",
    "\n",
    "Here's how you can use this solution:"
   ]
  },
  {
   "cell_type": "code",
   "execution_count": 2,
   "id": "f12c5a63-b811-4be7-83c2-34ee396b546c",
   "metadata": {},
   "outputs": [
    {
     "name": "stdout",
     "output_type": "stream",
     "text": [
      "4\n"
     ]
    }
   ],
   "source": [
    "# Example 1:\n",
    "sol = Solution()\n",
    "\n",
    "nums1 = [1, 2, 3, 1]\n",
    "print(sol.rob(nums1))  # Output: 4"
   ]
  },
  {
   "cell_type": "code",
   "execution_count": 3,
   "id": "364aa061-a452-45eb-96db-36f7dbdbdcb3",
   "metadata": {},
   "outputs": [
    {
     "name": "stdout",
     "output_type": "stream",
     "text": [
      "12\n"
     ]
    }
   ],
   "source": [
    "# Example 2:\n",
    "nums2 = [2, 7, 9, 3, 1]\n",
    "print(sol.rob(nums2))  # Output: 12"
   ]
  },
  {
   "cell_type": "markdown",
   "id": "7d9dd448-c5f5-4192-8aa5-7c70ec7f42e2",
   "metadata": {},
   "source": [
    "## Time and Space Complexity Analysis\n",
    "\n",
    "Let's analyze the time and space complexity of the provided code.\n",
    "\n",
    "### Time Complexity:\n",
    "\n",
    "The time complexity of the code is O(n), where n is the number of houses. The algorithm iterates through the array once, and in each iteration, it performs constant time operations. The loop runs for each house, and the number of operations inside the loop is independent of the input size. Therefore, the overall time complexity is linear, O(n).\n",
    "\n",
    "### Space Complexity:\n",
    "\n",
    "The space complexity is O(1), constant space. The algorithm uses only a constant amount of extra space regardless of the input size. The variables `prev`, `curr`, and `temp` are the only additional variables used, and they do not depend on the size of the input array. Thus, the space complexity is constant, O(1).\n",
    "\n",
    "In summary:\n",
    "- Time Complexity: O(n)\n",
    "- Space Complexity: O(1)"
   ]
  },
  {
   "cell_type": "markdown",
   "id": "037b210a-555b-4da3-8130-b74d1e4f33f6",
   "metadata": {},
   "source": [
    "## Challenging Exercises:\n",
    "\n",
    "1. **Variation with Maximum Number of Houses to Rob:** Modify the problem to include an additional constraint: you are allowed to rob at most 'k' houses without triggering the alarm. Find the maximum amount you can rob under this new constraint.\n",
    "\n",
    "2. **Robbing in a Circular Street:** Extend the problem to a circular street where the first and last houses are adjacent. You cannot rob both the first and last houses simultaneously. Find the maximum amount you can rob in this circular setting.\n",
    "\n",
    "\n",
    "**Link to Problem:** [To see the House Robber problem on LeetCode, click here!](https://leetcode.com/problems/house-robber/description/)\n"
   ]
  }
 ],
 "metadata": {
  "kernelspec": {
   "display_name": "Python (Pyodide)",
   "language": "python",
   "name": "python"
  },
  "language_info": {
   "codemirror_mode": {
    "name": "ipython",
    "version": 3
   },
   "file_extension": ".py",
   "mimetype": "text/x-python",
   "name": "python",
   "nbconvert_exporter": "python",
   "pygments_lexer": "ipython3",
   "version": "3.10.8"
  }
 },
 "nbformat": 4,
 "nbformat_minor": 5
}