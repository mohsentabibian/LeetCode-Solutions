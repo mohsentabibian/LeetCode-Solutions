{
 "cells": [
  {
   "cell_type": "markdown",
   "id": "d6161252-e815-48d5-a2a3-5444c12e3b49",
   "metadata": {},
   "source": [
    "# 424. Longest Repeating Character Replacement\n",
    "\n",
    "**Difficulty:** Medium\n",
    "\n",
    "**Link to Problem:** [To see the Longest Repeating Character Replacement problem on LeetCode, click here!](https://leetcode.com/problems/longest-repeating-character-replacement/)\n",
    "\n",
    "---\n",
    "You are given a string `s` and an integer `k`. You can choose any character of the string and change it to any other uppercase English character. You can perform this operation at most `k` times.\n",
    "\n",
    "*Return the length of the longest substring containing the same letter you can get after performing the above operations.*\n",
    "\n",
    "**Constraints:**\n",
    "\n",
    "- 1 <= `s.length` <= $10^5$\n",
    "- `s` consists of only uppercase English letters.\n",
    "- `0 <= k <= s.length`"
   ]
  },
  {
   "cell_type": "code",
   "execution_count": 1,
   "id": "aabf7095-07dc-4ab7-876c-ec7213ed0de5",
   "metadata": {},
   "outputs": [],
   "source": [
    "def characterReplacement(s, k):\n",
    "    max_length = 0  # Initialize the maximum length\n",
    "    max_count = 0   # Initialize the maximum count of repeating characters\n",
    "    start = 0       # Initialize the start of the sliding window\n",
    "    char_count = {} # Dictionary to store the count of each character\n",
    "\n",
    "    for end in range(len(s)):\n",
    "        # Update the count of the current character in the dictionary\n",
    "        char_count[s[end]] = char_count.get(s[end], 0) + 1\n",
    "        \n",
    "        # Update the maximum count of repeating characters\n",
    "        max_count = max(max_count, char_count[s[end]])\n",
    "        \n",
    "        # Check if the current window size is greater than k\n",
    "        if (end - start + 1) - max_count > k:\n",
    "            # Move the start of the window to the right\n",
    "            char_count[s[start]] -= 1\n",
    "            start += 1\n",
    "        \n",
    "        # Update the maximum length\n",
    "        max_length = max(max_length, end - start + 1)\n",
    "\n",
    "    return max_length"
   ]
  },
  {
   "cell_type": "markdown",
   "id": "ece39324-cd9e-47d7-8677-a001878494d9",
   "metadata": {},
   "source": [
    "## Explanation:\n",
    "\n",
    "1. We initialize some variables:\n",
    "   - `max_length` to keep track of the maximum length of the substring containing the same letter.\n",
    "   - `max_count` to keep track of the maximum count of repeating characters within the current window.\n",
    "   - `start` to represent the start index of the sliding window.\n",
    "   - `char_count` is a dictionary that will store the count of each character within the current window.\n",
    "\n",
    "2. We use a `for` loop to iterate through the characters of the string `s`.\n",
    "\n",
    "3. Inside the loop, we do the following for each character at position `end`:\n",
    "   - Update the count of the current character in the `char_count` dictionary.\n",
    "   - Update the `max_count` to be the maximum of the current `max_count` and the count of the current character. This keeps track of the maximum count of repeating characters within the current window.\n",
    "\n",
    "4. We check if the current window size (the difference between `end` and `start` plus one) minus the `max_count` is greater than `k`. This condition checks whether we have exceeded the allowed number of replacements (`k`) within the current window.\n",
    "\n",
    "   - If we have exceeded the allowed replacements, it means we need to shrink the window from the left side. We do this by moving the `start` of the window to the right and decrementing the count of the character at `s[start]` in the `char_count` dictionary. This effectively removes characters from the left side of the window until we have a valid window again.\n",
    "\n",
    "   - By doing this, we ensure that the difference between the current window size and the `max_count` is always less than or equal to `k`.\n",
    "\n",
    "5. After each character, we update the `max_length` to be the maximum of the current `max_length` and the size of the current window (`end - start + 1`).\n",
    "\n",
    "6. Finally, we return `max_length`, which holds the length of the longest substring containing the same letter with at most `k` replacements."
   ]
  },
  {
   "cell_type": "markdown",
   "id": "a54ea5b7-c53f-46c0-a44f-ef769ac68244",
   "metadata": {},
   "source": [
    "## Test cases"
   ]
  },
  {
   "cell_type": "code",
   "execution_count": 2,
   "id": "355f5bfd-94e1-4c5b-9914-cc20775f4160",
   "metadata": {},
   "outputs": [
    {
     "name": "stdout",
     "output_type": "stream",
     "text": [
      "4\n"
     ]
    }
   ],
   "source": [
    "# Example 1:\n",
    "s1 = \"ABAB\"\n",
    "k1 = 2\n",
    "print(characterReplacement(s1, k1))"
   ]
  },
  {
   "cell_type": "code",
   "execution_count": 3,
   "id": "192912fb-9d12-4911-9a4f-bfd37043e11d",
   "metadata": {},
   "outputs": [
    {
     "name": "stdout",
     "output_type": "stream",
     "text": [
      "4\n"
     ]
    }
   ],
   "source": [
    "# Example 2:\n",
    "s2 = \"AABABBA\"\n",
    "k2 = 1\n",
    "print(characterReplacement(s2, k2))"
   ]
  },
  {
   "cell_type": "markdown",
   "id": "7d9dd448-c5f5-4192-8aa5-7c70ec7f42e2",
   "metadata": {},
   "source": [
    "Let's analyze the time and space complexity of the provided code:\n",
    "\n",
    "**Time Complexity:**\n",
    "- The code uses a single `for` loop to iterate through the characters of the input string `s`. The loop runs from the beginning to the end of the string.\n",
    "- Inside the loop, we perform constant-time operations such as updating the `char_count` dictionary and updating variables like `max_count` and `max_length`.\n",
    "- The code's time complexity is primarily determined by the loop, which iterates through each character in the string once. Therefore, the time complexity is O(n), where n is the length of the input string `s`.\n",
    "\n",
    "**Space Complexity:**\n",
    "- The code uses several variables to store information, but the space they consume is constant and does not depend on the size of the input string. These variables include `max_length`, `max_count`, `start`, and `char_count`. Therefore, the space complexity is O(1) or constant space.\n",
    "\n",
    "**In summary**, the time complexity of the code is O(n), where n is the length of the input string, and the space complexity is O(1), as it uses a constant amount of additional space regardless of the input size. This algorithm efficiently solves the problem with a linear time complexity."
   ]
  },
  {
   "cell_type": "markdown",
   "id": "037b210a-555b-4da3-8130-b74d1e4f33f6",
   "metadata": {},
   "source": [
    "## Challenging Exercises:\n",
    "\n",
    "1. **Optimization Challenge:** Modify the code to find the longest substring containing the same letter with at most k replacements in O(n) time complexity and O(1) space complexity. Hint: You may need to update the approach to achieve this.\n",
    "2. **Variation with Lowercase Letters:** Extend the problem to include both uppercase and lowercase English letters in the input string s. Write a function that can handle this extended input and still find the longest substring with at most k replacements efficiently."
   ]
  }
 ],
 "metadata": {
  "kernelspec": {
   "display_name": "Python (Pyodide)",
   "language": "python",
   "name": "python"
  },
  "language_info": {
   "codemirror_mode": {
    "name": "ipython",
    "version": 3
   },
   "file_extension": ".py",
   "mimetype": "text/x-python",
   "name": "python",
   "nbconvert_exporter": "python",
   "pygments_lexer": "ipython3",
   "version": "3.10.8"
  }
 },
 "nbformat": 4,
 "nbformat_minor": 5
}