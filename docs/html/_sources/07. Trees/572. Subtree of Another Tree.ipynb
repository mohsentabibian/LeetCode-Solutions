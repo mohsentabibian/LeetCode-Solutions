{
  "cells": [
    {
      "cell_type": "markdown",
      "id": "d6161252-e815-48d5-a2a3-5444c12e3b49",
      "metadata": {},
      "source": [
        "# 572: Subtree of Another Tree\n",
        "\n",
        "**Difficulty:** Easy\n",
        "\n",
        "**Link to Problem:** [To see the Subtree of Another Tree problem on LeetCode, click here!](https://leetcode.com/problems/subtree-of-another-tree/)\n",
        "\n",
        "---\n",
        "\n",
        "**Problem Description:**\n",
        "\n",
        "Given the roots of two binary trees `root` and `subRoot`, return `True` if there is a subtree of `root` with the same structure and node values as `subRoot`, and `False` otherwise.\n",
        "\n",
        "A subtree of a binary tree `tree` is a tree that consists of a node in `tree` and all of this node's descendants. The tree `tree` could also be considered as a subtree of itself.\n",
        "\n",
        "**Constraints:**\n",
        "\n",
        "1. The number of nodes in the `root` tree is in the range $[1, 2000]$.\n",
        "2. The number of nodes in the `subRoot` tree is in the range $[1, 1000]$.\n",
        "3. $-10^4$ <= root.val <= $10^4$\n",
        "4. $-10^4$ <= subRoot.val <= $10^4$\n"
      ]
    },
    {
      "cell_type": "code",
      "execution_count": 17,
      "id": "aabf7095-07dc-4ab7-876c-ec7213ed0de5",
      "metadata": {
        "trusted": true
      },
      "outputs": [],
      "source": [
        "# Definition for a binary tree node.\n",
        "class TreeNode:\n",
        "    def __init__(self, val=0, left=None, right=None):\n",
        "        self.val = val\n",
        "        self.left = left\n",
        "        self.right = right\n",
        "\n",
        "class Solution:\n",
        "    def isSubtree(self, root, subRoot):\n",
        "        if not root:\n",
        "            return False\n",
        "        \n",
        "        # Check if the current subtree is equal to the subRoot\n",
        "        if self.isSameTree(root, subRoot):\n",
        "            return True\n",
        "        \n",
        "        # Recursively check the left and right subtrees\n",
        "        return self.isSubtree(root.left, subRoot) or self.isSubtree(root.right, subRoot)\n",
        "    \n",
        "    def isSameTree(self, tree1, tree2):\n",
        "        if not tree1 and not tree2:\n",
        "            return True\n",
        "        if not tree1 or not tree2:\n",
        "            return False\n",
        "        \n",
        "        return (\n",
        "            tree1.val == tree2.val and\n",
        "            self.isSameTree(tree1.left, tree2.left) and\n",
        "            self.isSameTree(tree1.right, tree2.right)\n",
        "        )"
      ]
    },
    {
      "cell_type": "markdown",
      "id": "ece39324-cd9e-47d7-8677-a001878494d9",
      "metadata": {},
      "source": [
        "This code defines a TreeNode class for the binary tree nodes and a Solution class with two methods:\n",
        "\n",
        "1. `isSubtree`: This method checks if there is a subtree of the `root` tree with the same structure and node values as the `subRoot` tree. It uses a helper function `isSameTree` to compare two trees for equality.\n",
        "\n",
        "2. `isSameTree`: This helper method recursively compares two trees to check if they are the same in structure and node values.\n",
        "\n",
        "### Here's a detailed explanation of the code:\n",
        "\n",
        "1. **TreeNode Class:**\n",
        "\n",
        "The `TreeNode` class is defined to represent nodes in a binary tree. Each node has a `val` (the node's value) and may have a `left` and `right` child.\n",
        "\n",
        "2. **Solution Class:**\n",
        "\n",
        "    + The `Solution` class contains the solution for the problem and defines two important methods:\n",
        "\n",
        "    + `isSubtree(self, root, subRoot)`:\n",
        "\n",
        "        - This method checks whether `subRoot` is a subtree of `root`. It takes two tree nodes, `root` and `subRoot`, as input arguments.\n",
        "        - If `root` is `None`, it returns `False` because there is no subtree to search.\n",
        "        - It then checks if the current subtree with `root` as its root is equal to `subRoot` using the `isSameTree` method. If they are the same, it returns `True`.\n",
        "        - If the current subtree is not the same as `subRoot`, it recursively checks the left and right subtrees of `root` to see if `subRoot` is a subtree of any of them.\n",
        "        - It returns `True` if `subRoot` is found in either the left or right subtree; otherwise, it returns `False`.\n",
        "\n",
        "    + `isSameTree(self, tree1, tree2)`:\n",
        "\n",
        "        - This method checks whether two trees, `tree1` and `tree2`, are the same.\n",
        "        - If both `tree1` and `tree2` are `None`, they are considered the same tree, so it returns `True`.\n",
        "        - If only one of them is `None` (but not both), they are different trees, so it returns `False`.\n",
        "        - If both `tree1` and `tree2` have values, it checks if their values are equal and recursively checks if their left and right subtrees are the same.\n",
        "        - It returns `True` if the trees are the same; otherwise, it returns `False`.\n",
        "\n",
        "The code effectively uses recursion to traverse the binary trees and check for subtree equality. The `isSubtree` method starts the recursive search, and the `isSameTree` method is used to compare individual subtrees. The approach is efficient and avoids unnecessary checks when possible.\n",
        "\n",
        "This solution allows you to determine if there exists a subtree within the `root` tree that matches the structure and node values of `subRoot`."
      ]
    },
    {
      "cell_type": "markdown",
      "id": "a54ea5b7-c53f-46c0-a44f-ef769ac68244",
      "metadata": {},
      "source": [
        "## Test cases"
      ]
    },
    {
      "cell_type": "code",
      "execution_count": 24,
      "id": "355f5bfd-94e1-4c5b-9914-cc20775f4160",
      "metadata": {
        "trusted": true
      },
      "outputs": [
        {
          "name": "stdout",
          "output_type": "stream",
          "text": [
            "Is subRoot a subtree of root? True\n"
          ]
        }
      ],
      "source": [
        "#root = [3,4,5,1,2]\n",
        "#subRoot = [4,1,2]\n",
        "\n",
        "# Example input\n",
        "root = TreeNode(3)\n",
        "root.left = TreeNode(4)\n",
        "root.right = TreeNode(5)\n",
        "root.left.left = TreeNode(1)\n",
        "root.left.right = TreeNode(2)\n",
        "\n",
        "subRoot = TreeNode(4)\n",
        "subRoot.left = TreeNode(1)\n",
        "subRoot.right = TreeNode(2)\n",
        "\n",
        "# Create an instance of the Solution class\n",
        "solution = Solution()\n",
        "\n",
        "# Test the isSubtree method\n",
        "result = solution.isSubtree(root, subRoot)\n",
        "print(\"Is subRoot a subtree of root?\", result)"
      ]
    },
    {
      "cell_type": "code",
      "execution_count": 25,
      "id": "192912fb-9d12-4911-9a4f-bfd37043e11d",
      "metadata": {
        "trusted": true
      },
      "outputs": [
        {
          "name": "stdout",
          "output_type": "stream",
          "text": [
            "Is subRoot a subtree of root? False\n"
          ]
        }
      ],
      "source": [
        "#root = [3,4,5,1,2,null,null,null,null,0] \n",
        "#subRoot = [4,1,2]\n",
        "\n",
        "\n",
        "# Example input\n",
        "root = TreeNode(3)\n",
        "root.left = TreeNode(4)\n",
        "root.right = TreeNode(5)\n",
        "root.left.left = TreeNode(1)\n",
        "root.left.right = TreeNode(2)\n",
        "root.left.right.left = TreeNode(0)\n",
        "\n",
        "subRoot = TreeNode(4)\n",
        "subRoot.left = TreeNode(1)\n",
        "subRoot.right = TreeNode(2)\n",
        "\n",
        "# Create an instance of the Solution class\n",
        "solution = Solution()\n",
        "\n",
        "# Test the isSubtree method\n",
        "result = solution.isSubtree(root, subRoot)\n",
        "print(\"Is subRoot a subtree of root?\", result)"
      ]
    },
    {
      "cell_type": "markdown",
      "id": "86a34f0d-0789-498c-818c-2d30f84754d0",
      "metadata": {},
      "source": [
        "Let's analyze the time and space complexity of the provided code for the \"Subtree of Another Tree\" problem:\n",
        "\n",
        "**Time Complexity**\n",
        "\n",
        "The time complexity of the code primarily depends on the recursive traversal of the binary tree. In both the `isSubtree` and `isSameTree` functions, we visit each node in the binary trees once. Let's break down the time complexity:\n",
        "\n",
        "1. The `isSubtree` function:\n",
        "   - In the worst case, we need to visit every node in the `root` tree.\n",
        "   - For each node in the `root` tree, we call the `isSameTree` function, which has its own traversal.\n",
        "   - So, the total time complexity is $O(n * m)$, where $n$ is the number of nodes in the `root` tree, and $m$ is the number of nodes in the `subRoot` tree.\n",
        "\n",
        "2. The `isSameTree` function:\n",
        "   - In the worst case, we visit every node in both `tree1` and `tree2`.\n",
        "   - The number of recursive calls made is proportional to the number of nodes in the trees.\n",
        "   - So, the time complexity of this function is $O(max(n, m))$, where $n$ and $m$ are the numbers of nodes in `tree1` and `tree2`, respectively.\n",
        "\n",
        "Overall, the time complexity of the entire code is $O(n * m)$, where $n$ is the number of nodes in the `root` tree, and $m$ is the number of nodes in the `subRoot` tree. In practice, it may be less than $O(n * m)$ if a subtree mismatch is detected early during the traversal.\n",
        "\n",
        "**Space Complexity**\n",
        "\n",
        "The space complexity of the code is determined by the function call stack during recursion and the space used by the recursive functions. Let's analyze the space complexity:\n",
        "\n",
        "1. The `isSubtree` function:\n",
        "   - It uses the call stack for recursion.\n",
        "   - The maximum depth of the recursion is equal to the height of the `root` tree, which can be $O(n)$ in the worst case (unbalanced tree).\n",
        "   - Additionally, the function doesn't use any significant extra space other than the recursion stack.\n",
        "\n",
        "2. The `isSameTree` function:\n",
        "   - It also uses the call stack for recursion.\n",
        "   - The maximum depth of the recursion is equal to the height of the `tree1` or `tree2`, whichever is greater.\n",
        "   - So, the maximum space used for the call stack is $O(max(n, m))$.\n",
        "\n",
        "In summary, the space complexity of the code is $O(max(n, m))$ due to the function call stack. It scales with the maximum height of the trees being compared.\n",
        "\n",
        "Overall, the code is efficient and works well for trees with moderate sizes. However, it's important to keep in mind that the worst-case time complexity is $O(n * m)$, so for very large trees, the performance may degrade."
      ]
    }
  ],
  "metadata": {
    "kernelspec": {
      "display_name": "Python (Pyodide)",
      "language": "python",
      "name": "python"
    },
    "language_info": {
      "codemirror_mode": {
        "name": "python",
        "version": 3
      },
      "file_extension": ".py",
      "mimetype": "text/x-python",
      "name": "python",
      "nbconvert_exporter": "python",
      "pygments_lexer": "ipython3",
      "version": "3.8"
    }
  },
  "nbformat": 4,
  "nbformat_minor": 5
}
