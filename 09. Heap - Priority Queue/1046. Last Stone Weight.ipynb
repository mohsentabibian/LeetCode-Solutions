{
  "cells": [
    {
      "cell_type": "markdown",
      "id": "d6161252-e815-48d5-a2a3-5444c12e3b49",
      "metadata": {
        "jp-MarkdownHeadingCollapsed": true
      },
      "source": [
        "## 1046. Last Stone Weight\n",
        "\n",
        "**Difficulty:** Easy\n",
        "\n",
        "**Link to Problem:** [To see the Last Stone Weight problem on LeetCode, click here!](https://leetcode.com/problems/last-stone-weight/)\n",
        "\n",
        "---\n",
        "You are given an array of integers `stones` where `stones[i]` is the weight of the `i`th stone.\n",
        "\n",
        "We are playing a game with the stones. On each turn, you choose the **heaviest two stones** and smash them together. Suppose the heaviest two stones have weights `x` and `y` with `x <= y`. The result of this smash is:\n",
        "\n",
        "1. If `x == y`, both stones are destroyed.\n",
        "2. If `x != y`, the stone of weight `x` is destroyed, and the stone of weight `y` has new weight `y - x`.\n",
        "\n",
        "At the end of the game, there is **at most one** stone left.\n",
        "\n",
        "Return *the weight of the last remaining stone*. If there are no stones left, return `0`.\n",
        "\n",
        "**Constraints:**\n",
        "- `1 <= stones.length <= 30`\n",
        "- `1 <= stones[i] <= 1000`"
      ]
    },
    {
      "cell_type": "markdown",
      "id": "fe9e71ae-2099-4eb9-b7a1-ec795ce92c76",
      "metadata": {},
      "source": [
        "## Probelm Explanation:\n",
        "\n",
        "The \"Last Stone Weight\" problem involves a game played with a collection of stones, each stone having a certain weight. The goal is to find the weight of the last remaining stone after applying a specific set of rules.\n",
        "\n",
        "Here's how the game works:\n",
        "\n",
        "1. You start with an array of stones, where each stone is represented by its weight. The weights of the stones are given in the input as an array.\n",
        "\n",
        "2. In each turn of the game, you select the two heaviest stones from the remaining stones. If there is only one stone left, you've found the answer.\n",
        "\n",
        "3. If there are two stones with weights `x` and `y`, where `x` is less than or equal to `y`, the following happens:\n",
        "   - If `x` is equal to `y`, both stones are completely destroyed, and they are removed from the array of stones.\n",
        "   - If `x` is not equal to `y`, the stone with weight `x` is destroyed, and the stone with weight `y` now has a new weight of `y - x`. The stone with weight `x` is removed from the array, and the modified stone with weight `y - x` remains in the array.\n",
        "\n",
        "4. The game continues with the modified array of stones until there is at most one stone left.\n",
        "\n",
        "5. The goal is to find the weight of the last remaining stone, or if there are no stones left, return `0`.\n",
        "\n",
        "## Solution:\n",
        "Here's a Python function to implement this algorithm:"
      ]
    },
    {
      "cell_type": "code",
      "execution_count": 14,
      "id": "aabf7095-07dc-4ab7-876c-ec7213ed0de5",
      "metadata": {
        "trusted": true
      },
      "outputs": [],
      "source": [
        "import heapq\n",
        "\n",
        "def lastStoneWeight(stones):\n",
        "    # Convert the input list to a max heap (negate the values to simulate a max heap)\n",
        "    max_heap = [-stone for stone in stones]\n",
        "    heapq.heapify(max_heap)\n",
        "\n",
        "    # Continue as long as there are more than 1 stone in the heap\n",
        "    while len(max_heap) > 1:\n",
        "        # Get the two heaviest stones\n",
        "        y = -heapq.heappop(max_heap)  # Get the heaviest stone and negate it back to positive\n",
        "        x = -heapq.heappop(max_heap)  # Get the second heaviest stone and negate it back to positive\n",
        "\n",
        "        # Calculate the new stone's weight after smashing\n",
        "        if x != y:\n",
        "            new_stone = y - x\n",
        "            heapq.heappush(max_heap, -new_stone)  # Negate the value and push it back to the heap\n",
        "\n",
        "    # If there is one stone left, return its weight (negate it back to positive)\n",
        "    if max_heap:\n",
        "        return -max_heap[0]\n",
        "    else:\n",
        "        return 0"
      ]
    },
    {
      "cell_type": "markdown",
      "id": "ece39324-cd9e-47d7-8677-a001878494d9",
      "metadata": {},
      "source": [
        "### Explanation:\n",
        "\n",
        "The code defines a Python function called `lastStoneWeight` that takes a list of stone weights as input. It aims to find the weight of the last remaining stone after playing the stone smashing game described in the problem statement.\n",
        "\n",
        "Here's a step-by-step explanation of the code:\n",
        "\n",
        "1. We import the `heapq` library, which allows us to create and manipulate a heap (priority queue).\n",
        "\n",
        "2. Inside the `lastStoneWeight` function:\n",
        "   - We create a max heap (negating stone weights to simulate a max heap) using the `heapq.heapify` function. This heap will keep track of the heaviest stones.\n",
        "   \n",
        "   - We enter a loop that continues as long as there are more than 1 stone in the heap.\n",
        "   \n",
        "   - Inside the loop, we:\n",
        "     - Retrieve and negate the heaviest stone (`y`) from the heap.\n",
        "     - Retrieve and negate the second heaviest stone (`x`) from the heap.\n",
        "   \n",
        "     - Calculate the new stone's weight after smashing (`y - x`), and negate it back to simulate a max heap.\n",
        "     - Add the new stone back to the heap using `heapq.heappush`.\n",
        "   \n",
        "3. After the loop, if there is one stone left in the heap, we retrieve and negate it to get its actual weight, and return it as the result.\n",
        "   \n",
        "4. If there are no stones left (the heap is empty), we return `0`, indicating that no stones remain.\n",
        "\n",
        "5. Finally, we provide two test cases to demonstrate the function's usage and correctness.\n",
        "\n",
        "In summary, the code efficiently implements the stone smashing game by maintaining a max heap, selecting the heaviest stones in each turn, smashing them, and updating the heap until there is at most one stone left. It then returns the weight of the last remaining stone or 0 if there are no stones left."
      ]
    },
    {
      "cell_type": "markdown",
      "id": "a54ea5b7-c53f-46c0-a44f-ef769ac68244",
      "metadata": {},
      "source": [
        "## Test cases:\n",
        "\n",
        "Here's how you can use this solution:"
      ]
    },
    {
      "cell_type": "code",
      "execution_count": 15,
      "id": "355f5bfd-94e1-4c5b-9914-cc20775f4160",
      "metadata": {
        "trusted": true
      },
      "outputs": [
        {
          "name": "stdout",
          "output_type": "stream",
          "text": [
            "1\n"
          ]
        }
      ],
      "source": [
        "# Example 1: \n",
        "\n",
        "stones1 = [2, 7, 4, 1, 8, 1]\n",
        "print(lastStoneWeight(stones1))  # Output: 1"
      ]
    },
    {
      "cell_type": "code",
      "execution_count": 16,
      "id": "b7e79514-4821-48d0-bb9d-0f2de8150945",
      "metadata": {
        "trusted": true
      },
      "outputs": [
        {
          "name": "stdout",
          "output_type": "stream",
          "text": [
            "1\n"
          ]
        }
      ],
      "source": [
        "# Example 2: \n",
        "\n",
        "stones2 = [1]\n",
        "print(lastStoneWeight(stones2))  # Output: 1"
      ]
    },
    {
      "cell_type": "markdown",
      "id": "7d9dd448-c5f5-4192-8aa5-7c70ec7f42e2",
      "metadata": {},
      "source": [
        "## Time and Space Complexity Analysis\n",
        "\n",
        "Let's analyze the time and space complexity of the provided Python code for the \"Last Stone Weight\" problem:\n",
        "\n",
        "**Time Complexity:**\n",
        "1. The `heapq.heapify` operation to create the max heap from the input stone weights has a time complexity of O(n), where n is the number of stones.\n",
        "\n",
        "2. The loop that continues until there are more than 1 stone in the heap performs the following operations in each iteration:\n",
        "   - Retrieving and negating the heaviest stone (`y`) from the heap, which takes O(log n) time.\n",
        "   - Retrieving and negating the second heaviest stone (`x`) from the heap, also taking O(log n) time.\n",
        "   - Calculating the new stone's weight and pushing it back into the heap using `heapq.heappush`, which takes O(log n) time.\n",
        "\n",
        "3. In the worst case, the loop runs until there is only one stone left, which requires approximately (n-1) iterations.\n",
        "\n",
        "Overall, the dominant time complexity is O(n) for the initial heap creation, and within the loop, each iteration takes O(log n) time. Therefore, the overall time complexity of the algorithm is O(n log n).\n",
        "\n",
        "**Space Complexity:**\n",
        "1. The space complexity is primarily determined by the space required for the max heap. In the worst case, this heap can contain all the stones, so the space complexity for the heap is O(n).\n",
        "\n",
        "2. The rest of the variables used in the function (e.g., `x`, `y`, `new_stone`) require only constant space, so they do not significantly contribute to the space complexity.\n",
        "\n",
        "Therefore, the overall space complexity of the algorithm is O(n) due to the space used for the max heap.\n",
        "\n",
        "In summary:\n",
        "- Time Complexity: $O(n\\ log\\ n)$\n",
        "- Space Complexity: $O(n)$\n",
        "\n",
        "The algorithm is efficient enough to handle the problem's constraints, as the worst-case time and space complexities are both linearithmic in terms of the number of stones."
      ]
    },
    {
      "cell_type": "markdown",
      "id": "037b210a-555b-4da3-8130-b74d1e4f33f6",
      "metadata": {},
      "source": [
        "### Challenging Exercises:\n",
        "\n",
        "1. **Kth Last Stone Weight**: Modify the problem to find the weight of the Kth last remaining stone, where K is an integer input. Your function should work efficiently for large values of K.\n",
        "\n",
        "\n",
        "2. **Multiple Stones Smash**: Modify the problem so that instead of smashing two stones at a time, you can smash up to K stones at each turn, where K is an integer input. Determine the weight of the last remaining stone in this variation."
      ]
    }
  ],
  "metadata": {
    "kernelspec": {
      "display_name": "Python (Pyodide)",
      "language": "python",
      "name": "python"
    },
    "language_info": {
      "codemirror_mode": {
        "name": "python",
        "version": 3
      },
      "file_extension": ".py",
      "mimetype": "text/x-python",
      "name": "python",
      "nbconvert_exporter": "python",
      "pygments_lexer": "ipython3",
      "version": "3.8"
    }
  },
  "nbformat": 4,
  "nbformat_minor": 5
}
