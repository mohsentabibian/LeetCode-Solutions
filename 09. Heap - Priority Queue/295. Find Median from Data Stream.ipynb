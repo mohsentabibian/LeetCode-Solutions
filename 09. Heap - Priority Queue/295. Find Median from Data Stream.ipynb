{
  "cells": [
    {
      "cell_type": "markdown",
      "id": "d6161252-e815-48d5-a2a3-5444c12e3b49",
      "metadata": {
        "jp-MarkdownHeadingCollapsed": true
      },
      "source": [
        "# 295. Find Median from Data Stream\n",
        "\n",
        "**Difficulty:** Hard\n",
        "\n",
        "**Link to Problem:** [To see the Find Median from Data Stream problem on LeetCode, click here!](https://leetcode.com/problems/find-median-from-data-stream/)\n",
        "\n",
        "---\n",
        "\n",
        "The **median** is the middle value in an ordered integer list. If the size of the list is even, there is no middle value, and the median is the mean of the two middle values.\n",
        "\n",
        "Implement the MedianFinder class:\n",
        "\n",
        "- `MedianFinder()` initializes the `MedianFinder` object.\n",
        "- `void addNum(int num)` adds the integer `num` from the data stream to the data structure.\n",
        "- `double findMedian()` returns the median of all elements so far. Answers within $10^{-5}$ of the actual answer will be accepted.\n",
        "\n",
        "**Constraints:**\n",
        "\n",
        "- $-10^{5}$ <= `num` <= $10^{5}$\n",
        "- There will be at least one element in the data structure before calling `findMedian`.\n",
        "- At most $5 * 10^4$ calls will be made to `addNum` and `findMedian`.\n",
        "\n",
        "**Follow-up:**\n",
        "\n",
        "1. If all integer numbers from the stream are in the range `[0, 100]`, how would you optimize your solution?\n",
        "2. If `99%` of all integer numbers from the stream are in the range `[0, 100]`, how would you optimize your solution?"
      ]
    },
    {
      "cell_type": "markdown",
      "id": "fe9e71ae-2099-4eb9-b7a1-ec795ce92c76",
      "metadata": {},
      "source": [
        "## Probelm Explanation:\n",
        "\n",
        "The problem, \"Find Median from Data Stream,\" deals with efficiently computing the median of a sequence of numbers as they are incrementally provided. The median is the middle value in an ordered list of numbers. When the list has an even number of elements, the median is the average of the two middle values.\n",
        "\n",
        "Here's a breakdown of the problem:\n",
        "\n",
        "1. **Initialization**: You are asked to implement a `MedianFinder` class that supports the following operations:\n",
        "\n",
        "    - `MedianFinder()`: Initializes the MedianFinder object.\n",
        "    - `addNum(int num)`: Adds an integer `num` from the data stream to the data structure.\n",
        "    - `findMedian()`: Returns the median of all elements added to the data structure.\n",
        "\n",
        "2. **Median Calculation**: The `findMedian` operation should efficiently compute the median, and the result should have a precision of at least $10^{-5}$ (i.e., answers within this range will be considered correct).\n",
        "\n",
        "3. **Examples**:\n",
        "   \n",
        "   - If you add numbers [1, 2], the median should be 1.5 because (1 + 2) / 2 = 1.5.\n",
        "   - If you add numbers [1, 2, 3], the median should be 2 because it's the middle value.\n",
        "   \n",
        "4. **Constraints**:\n",
        "\n",
        "   - The integers provided in the data stream are in the range from $-10^5$ to $10^5$.\n",
        "   - There will be at least one element in the data structure before calling `findMedian`.\n",
        "   - At most, $5 * 10^4$ calls will be made to `addNum` and `findMedian`.\n",
        "\n",
        "The problem can be solved by using two priority queues (heaps): one max-heap to store the smaller half of the numbers and one min-heap to store the larger half of the numbers. The max-heap ensures that the largest number in the smaller half is at the top, and the min-heap ensures that the smallest number in the larger half is at the top. These heaps are balanced to efficiently find the median when requested.\n",
        "\n",
        "## Solution:\n",
        "Here's a Python function to implement this algorithm:"
      ]
    },
    {
      "cell_type": "code",
      "execution_count": 1,
      "id": "aabf7095-07dc-4ab7-876c-ec7213ed0de5",
      "metadata": {
        "trusted": true
      },
      "outputs": [],
      "source": [
        "import heapq\n",
        "\n",
        "class MedianFinder:\n",
        "\n",
        "    def __init__(self):\n",
        "        # Initialize two heaps: a max-heap (small_half) for the smaller half of numbers,\n",
        "        # and a min-heap (large_half) for the larger half of numbers.\n",
        "        self.small_half = []  # Max-heap for the smaller half of the numbers\n",
        "        self.large_half = []  # Min-heap for the larger half of the numbers\n",
        "\n",
        "    def addNum(self, num: int) -> None:\n",
        "        # Add the number to the appropriate heap based on its value\n",
        "        if not self.small_half or num <= -self.small_half[0]:\n",
        "            # If the number is less than or equal to the current maximum in the smaller half,\n",
        "            # add it to the smaller half (max-heap)\n",
        "            heapq.heappush(self.small_half, -num)\n",
        "        else:\n",
        "            # Otherwise, add it to the larger half (min-heap)\n",
        "            heapq.heappush(self.large_half, num)\n",
        "\n",
        "        # Balance the heaps if necessary to ensure the size difference is at most 1\n",
        "        if len(self.small_half) > len(self.large_half) + 1:\n",
        "            # If the size of the smaller half is more than one greater than the size of the larger half,\n",
        "            # move the maximum from the smaller half to the larger half to balance them.\n",
        "            heapq.heappush(self.large_half, -heapq.heappop(self.small_half))\n",
        "        elif len(self.large_half) > len(self.small_half):\n",
        "            # If the size of the larger half is greater than the size of the smaller half,\n",
        "            # move the minimum from the larger half to the smaller half to balance them.\n",
        "            heapq.heappush(self.small_half, -heapq.heappop(self.large_half))\n",
        "\n",
        "    def findMedian(self) -> float:\n",
        "        if len(self.small_half) == len(self.large_half):\n",
        "            # If both halves have the same size, there's an even number of elements,\n",
        "            # so the median is the average of the top elements in both heaps.\n",
        "            return (-self.small_half[0] + self.large_half[0]) / 2.0\n",
        "        else:\n",
        "            # If the smaller half has more elements, it contains the median (odd number of elements).\n",
        "            return -self.small_half[0]"
      ]
    },
    {
      "cell_type": "markdown",
      "id": "ece39324-cd9e-47d7-8677-a001878494d9",
      "metadata": {},
      "source": [
        "## Explanation:\n",
        "\n",
        "The code defines a `MedianFinder` class for efficiently finding the median of a stream of numbers. It uses two heaps: a max-heap (`small_half`) to store the smaller half of the numbers and a min-heap (`large_half`) to store the larger half. Here's how the code works:\n",
        "\n",
        "1. The `__init__` method initializes the two heaps.\n",
        "\n",
        "2. The `addNum` method adds a number to the appropriate heap, ensuring that the heaps remain balanced. It does this by comparing the number to the current maximum in the smaller half and adding it to the appropriate heap. Then, it checks the sizes of the two heaps and rebalances them if necessary.\n",
        "\n",
        "3. The `findMedian` method calculates and returns the median. If both halves have the same size (even number of elements), it computes the average of the tops of both heaps. If the smaller half has more elements (odd number of elements), it returns the top of the max-heap, which is the median.\n",
        "\n",
        "In summary, this code efficiently maintains two heaps to divide the elements into smaller and larger halves, allowing for quick median retrieval. It offers a time complexity of O(log N) for adding elements and O(1) for finding the median, where N is the total number of elements processed. The space complexity is O(1) as the space used by the two heaps is independent of the input size."
      ]
    },
    {
      "cell_type": "markdown",
      "id": "a54ea5b7-c53f-46c0-a44f-ef769ac68244",
      "metadata": {},
      "source": [
        "## Test cases:\n",
        "\n",
        "Here's how you can use this solution:"
      ]
    },
    {
      "cell_type": "code",
      "execution_count": 2,
      "id": "355f5bfd-94e1-4c5b-9914-cc20775f4160",
      "metadata": {
        "trusted": true
      },
      "outputs": [
        {
          "name": "stdout",
          "output_type": "stream",
          "text": [
            "1.5\n",
            "2\n"
          ]
        }
      ],
      "source": [
        "# Example 1: \n",
        "\n",
        "# Example usage:\n",
        "medianFinder = MedianFinder()\n",
        "medianFinder.addNum(1)\n",
        "medianFinder.addNum(2)\n",
        "print(medianFinder.findMedian())  # Output: 1.5\n",
        "medianFinder.addNum(3)\n",
        "print(medianFinder.findMedian())  # Output: 2.0\n"
      ]
    },
    {
      "cell_type": "markdown",
      "id": "7d9dd448-c5f5-4192-8aa5-7c70ec7f42e2",
      "metadata": {},
      "source": [
        "## Time and Space Complexity Analysis\n",
        "\n",
        "Let's analyze the time and space complexity of the `MedianFinder` class:\n",
        "\n",
        "**Time Complexity:**\n",
        "\n",
        "1. `MedianFinder()` Initialization: This operation has a time complexity of O(1). It simply initializes the two heaps.\n",
        "\n",
        "2. `addNum(int num)`: The time complexity for adding a number is O(log N), where N is the total number of elements processed so far. This is because, in the worst case, you might need to perform logarithmic operations on the heaps to maintain their balance.\n",
        "\n",
        "3. `findMedian()`: Finding the median has a time complexity of O(1). It simply involves accessing the tops of the two heaps, which takes constant time.\n",
        "\n",
        "**Space Complexity:**\n",
        "\n",
        "1. `MedianFinder()` Initialization: The space complexity for initialization is O(1). It involves creating two empty heaps, which do not depend on the size of the data stream.\n",
        "\n",
        "2. `addNum(int num)`: The space complexity for adding a number is also O(1). It involves adding the number to one of the two heaps, which do not significantly affect the overall space complexity.\n",
        "\n",
        "3. `findMedian()`: The space complexity for finding the median is O(1). It doesn't require any additional data structures that grow with the input size.\n",
        "\n",
        "In summary, the time complexity of the `addNum` operation is O(log N), and the time complexity of the `findMedian` operation is O(1). The space complexity is O(1) as well, as the space used by the two heaps is independent of the size of the data stream. This solution efficiently maintains and retrieves the median, making it suitable for the given problem constraints."
      ]
    },
    {
      "cell_type": "markdown",
      "id": "037b210a-555b-4da3-8130-b74d1e4f33f6",
      "metadata": {},
      "source": [
        "## Challenging Exercises:\n",
        "\n",
        "1. **Generalized kth Element**: Extend the `MedianFinder` class to support finding the kth element in the data stream efficiently. This means finding the kth smallest or kth largest element in the stream.\n",
        "\n",
        "2. **Sliding Window Median**: Given an array and a sliding window size, find the median within the window as it slides over the array. This is an extension of the problem to a moving window scenario."
      ]
    }
  ],
  "metadata": {
    "kernelspec": {
      "display_name": "Python (Pyodide)",
      "language": "python",
      "name": "python"
    },
    "language_info": {
      "codemirror_mode": {
        "name": "python",
        "version": 3
      },
      "file_extension": ".py",
      "mimetype": "text/x-python",
      "name": "python",
      "nbconvert_exporter": "python",
      "pygments_lexer": "ipython3",
      "version": "3.8"
    }
  },
  "nbformat": 4,
  "nbformat_minor": 5
}
